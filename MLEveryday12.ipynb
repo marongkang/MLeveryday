{
  "nbformat": 4,
  "nbformat_minor": 0,
  "metadata": {
    "colab": {
      "name": "MLEveryday12.ipynb",
      "provenance": [],
      "collapsed_sections": [],
      "authorship_tag": "ABX9TyPZ9b4ptEEeXB02HFnOdLx2",
      "include_colab_link": true
    },
    "kernelspec": {
      "name": "python3",
      "display_name": "Python 3"
    },
    "language_info": {
      "name": "python"
    },
    "widgets": {
      "application/vnd.jupyter.widget-state+json": {
        "376f29d99f2647b88fc5783ab3274c9a": {
          "model_module": "@jupyter-widgets/controls",
          "model_name": "HBoxModel",
          "model_module_version": "1.5.0",
          "state": {
            "_view_name": "HBoxView",
            "_dom_classes": [],
            "_model_name": "HBoxModel",
            "_view_module": "@jupyter-widgets/controls",
            "_model_module_version": "1.5.0",
            "_view_count": null,
            "_view_module_version": "1.5.0",
            "box_style": "",
            "layout": "IPY_MODEL_dc95474e5b5b434e8e7a6c81aee43a17",
            "_model_module": "@jupyter-widgets/controls",
            "children": [
              "IPY_MODEL_cecd117230724043a961e359630f3574",
              "IPY_MODEL_12b78aed59714a009adf674fbc0922d5",
              "IPY_MODEL_f5b178ecc2834d2fba6407cf1f009712"
            ]
          }
        },
        "dc95474e5b5b434e8e7a6c81aee43a17": {
          "model_module": "@jupyter-widgets/base",
          "model_name": "LayoutModel",
          "model_module_version": "1.2.0",
          "state": {
            "_view_name": "LayoutView",
            "grid_template_rows": null,
            "right": null,
            "justify_content": null,
            "_view_module": "@jupyter-widgets/base",
            "overflow": null,
            "_model_module_version": "1.2.0",
            "_view_count": null,
            "flex_flow": null,
            "width": null,
            "min_width": null,
            "border": null,
            "align_items": null,
            "bottom": null,
            "_model_module": "@jupyter-widgets/base",
            "top": null,
            "grid_column": null,
            "overflow_y": null,
            "overflow_x": null,
            "grid_auto_flow": null,
            "grid_area": null,
            "grid_template_columns": null,
            "flex": null,
            "_model_name": "LayoutModel",
            "justify_items": null,
            "grid_row": null,
            "max_height": null,
            "align_content": null,
            "visibility": null,
            "align_self": null,
            "height": null,
            "min_height": null,
            "padding": null,
            "grid_auto_rows": null,
            "grid_gap": null,
            "max_width": null,
            "order": null,
            "_view_module_version": "1.2.0",
            "grid_template_areas": null,
            "object_position": null,
            "object_fit": null,
            "grid_auto_columns": null,
            "margin": null,
            "display": null,
            "left": null
          }
        },
        "cecd117230724043a961e359630f3574": {
          "model_module": "@jupyter-widgets/controls",
          "model_name": "HTMLModel",
          "model_module_version": "1.5.0",
          "state": {
            "_view_name": "HTMLView",
            "style": "IPY_MODEL_2e43d16ecd6e4aefbcfd7badace3280f",
            "_dom_classes": [],
            "description": "",
            "_model_name": "HTMLModel",
            "placeholder": "​",
            "_view_module": "@jupyter-widgets/controls",
            "_model_module_version": "1.5.0",
            "value": "",
            "_view_count": null,
            "_view_module_version": "1.5.0",
            "description_tooltip": null,
            "_model_module": "@jupyter-widgets/controls",
            "layout": "IPY_MODEL_d3b4c4eb2a3945608c038a1e188bc60f"
          }
        },
        "12b78aed59714a009adf674fbc0922d5": {
          "model_module": "@jupyter-widgets/controls",
          "model_name": "FloatProgressModel",
          "model_module_version": "1.5.0",
          "state": {
            "_view_name": "ProgressView",
            "style": "IPY_MODEL_fc6f218a97ff4c8b93e8dd3f94f90f68",
            "_dom_classes": [],
            "description": "",
            "_model_name": "FloatProgressModel",
            "bar_style": "success",
            "max": 26421880,
            "_view_module": "@jupyter-widgets/controls",
            "_model_module_version": "1.5.0",
            "value": 26421880,
            "_view_count": null,
            "_view_module_version": "1.5.0",
            "orientation": "horizontal",
            "min": 0,
            "description_tooltip": null,
            "_model_module": "@jupyter-widgets/controls",
            "layout": "IPY_MODEL_0b1548dfc39349c88eaa40b5afde9be2"
          }
        },
        "f5b178ecc2834d2fba6407cf1f009712": {
          "model_module": "@jupyter-widgets/controls",
          "model_name": "HTMLModel",
          "model_module_version": "1.5.0",
          "state": {
            "_view_name": "HTMLView",
            "style": "IPY_MODEL_5a930740db5540678e9206b1d5bf5ee2",
            "_dom_classes": [],
            "description": "",
            "_model_name": "HTMLModel",
            "placeholder": "​",
            "_view_module": "@jupyter-widgets/controls",
            "_model_module_version": "1.5.0",
            "value": " 26422272/? [00:01&lt;00:00, 28035646.59it/s]",
            "_view_count": null,
            "_view_module_version": "1.5.0",
            "description_tooltip": null,
            "_model_module": "@jupyter-widgets/controls",
            "layout": "IPY_MODEL_aff996d289754419aaf3f7dc6e9fcf5a"
          }
        },
        "2e43d16ecd6e4aefbcfd7badace3280f": {
          "model_module": "@jupyter-widgets/controls",
          "model_name": "DescriptionStyleModel",
          "model_module_version": "1.5.0",
          "state": {
            "_view_name": "StyleView",
            "_model_name": "DescriptionStyleModel",
            "description_width": "",
            "_view_module": "@jupyter-widgets/base",
            "_model_module_version": "1.5.0",
            "_view_count": null,
            "_view_module_version": "1.2.0",
            "_model_module": "@jupyter-widgets/controls"
          }
        },
        "d3b4c4eb2a3945608c038a1e188bc60f": {
          "model_module": "@jupyter-widgets/base",
          "model_name": "LayoutModel",
          "model_module_version": "1.2.0",
          "state": {
            "_view_name": "LayoutView",
            "grid_template_rows": null,
            "right": null,
            "justify_content": null,
            "_view_module": "@jupyter-widgets/base",
            "overflow": null,
            "_model_module_version": "1.2.0",
            "_view_count": null,
            "flex_flow": null,
            "width": null,
            "min_width": null,
            "border": null,
            "align_items": null,
            "bottom": null,
            "_model_module": "@jupyter-widgets/base",
            "top": null,
            "grid_column": null,
            "overflow_y": null,
            "overflow_x": null,
            "grid_auto_flow": null,
            "grid_area": null,
            "grid_template_columns": null,
            "flex": null,
            "_model_name": "LayoutModel",
            "justify_items": null,
            "grid_row": null,
            "max_height": null,
            "align_content": null,
            "visibility": null,
            "align_self": null,
            "height": null,
            "min_height": null,
            "padding": null,
            "grid_auto_rows": null,
            "grid_gap": null,
            "max_width": null,
            "order": null,
            "_view_module_version": "1.2.0",
            "grid_template_areas": null,
            "object_position": null,
            "object_fit": null,
            "grid_auto_columns": null,
            "margin": null,
            "display": null,
            "left": null
          }
        },
        "fc6f218a97ff4c8b93e8dd3f94f90f68": {
          "model_module": "@jupyter-widgets/controls",
          "model_name": "ProgressStyleModel",
          "model_module_version": "1.5.0",
          "state": {
            "_view_name": "StyleView",
            "_model_name": "ProgressStyleModel",
            "description_width": "",
            "_view_module": "@jupyter-widgets/base",
            "_model_module_version": "1.5.0",
            "_view_count": null,
            "_view_module_version": "1.2.0",
            "bar_color": null,
            "_model_module": "@jupyter-widgets/controls"
          }
        },
        "0b1548dfc39349c88eaa40b5afde9be2": {
          "model_module": "@jupyter-widgets/base",
          "model_name": "LayoutModel",
          "model_module_version": "1.2.0",
          "state": {
            "_view_name": "LayoutView",
            "grid_template_rows": null,
            "right": null,
            "justify_content": null,
            "_view_module": "@jupyter-widgets/base",
            "overflow": null,
            "_model_module_version": "1.2.0",
            "_view_count": null,
            "flex_flow": null,
            "width": null,
            "min_width": null,
            "border": null,
            "align_items": null,
            "bottom": null,
            "_model_module": "@jupyter-widgets/base",
            "top": null,
            "grid_column": null,
            "overflow_y": null,
            "overflow_x": null,
            "grid_auto_flow": null,
            "grid_area": null,
            "grid_template_columns": null,
            "flex": null,
            "_model_name": "LayoutModel",
            "justify_items": null,
            "grid_row": null,
            "max_height": null,
            "align_content": null,
            "visibility": null,
            "align_self": null,
            "height": null,
            "min_height": null,
            "padding": null,
            "grid_auto_rows": null,
            "grid_gap": null,
            "max_width": null,
            "order": null,
            "_view_module_version": "1.2.0",
            "grid_template_areas": null,
            "object_position": null,
            "object_fit": null,
            "grid_auto_columns": null,
            "margin": null,
            "display": null,
            "left": null
          }
        },
        "5a930740db5540678e9206b1d5bf5ee2": {
          "model_module": "@jupyter-widgets/controls",
          "model_name": "DescriptionStyleModel",
          "model_module_version": "1.5.0",
          "state": {
            "_view_name": "StyleView",
            "_model_name": "DescriptionStyleModel",
            "description_width": "",
            "_view_module": "@jupyter-widgets/base",
            "_model_module_version": "1.5.0",
            "_view_count": null,
            "_view_module_version": "1.2.0",
            "_model_module": "@jupyter-widgets/controls"
          }
        },
        "aff996d289754419aaf3f7dc6e9fcf5a": {
          "model_module": "@jupyter-widgets/base",
          "model_name": "LayoutModel",
          "model_module_version": "1.2.0",
          "state": {
            "_view_name": "LayoutView",
            "grid_template_rows": null,
            "right": null,
            "justify_content": null,
            "_view_module": "@jupyter-widgets/base",
            "overflow": null,
            "_model_module_version": "1.2.0",
            "_view_count": null,
            "flex_flow": null,
            "width": null,
            "min_width": null,
            "border": null,
            "align_items": null,
            "bottom": null,
            "_model_module": "@jupyter-widgets/base",
            "top": null,
            "grid_column": null,
            "overflow_y": null,
            "overflow_x": null,
            "grid_auto_flow": null,
            "grid_area": null,
            "grid_template_columns": null,
            "flex": null,
            "_model_name": "LayoutModel",
            "justify_items": null,
            "grid_row": null,
            "max_height": null,
            "align_content": null,
            "visibility": null,
            "align_self": null,
            "height": null,
            "min_height": null,
            "padding": null,
            "grid_auto_rows": null,
            "grid_gap": null,
            "max_width": null,
            "order": null,
            "_view_module_version": "1.2.0",
            "grid_template_areas": null,
            "object_position": null,
            "object_fit": null,
            "grid_auto_columns": null,
            "margin": null,
            "display": null,
            "left": null
          }
        },
        "ad7e8c111d3f46eb891b6ec76972acfd": {
          "model_module": "@jupyter-widgets/controls",
          "model_name": "HBoxModel",
          "model_module_version": "1.5.0",
          "state": {
            "_view_name": "HBoxView",
            "_dom_classes": [],
            "_model_name": "HBoxModel",
            "_view_module": "@jupyter-widgets/controls",
            "_model_module_version": "1.5.0",
            "_view_count": null,
            "_view_module_version": "1.5.0",
            "box_style": "",
            "layout": "IPY_MODEL_a52119c22ecc47bc92262b011cd3cfd6",
            "_model_module": "@jupyter-widgets/controls",
            "children": [
              "IPY_MODEL_2297f39aab1e4aa19c6b2ac81661328e",
              "IPY_MODEL_f303cb36e18848418ec054fbb19e31a9",
              "IPY_MODEL_0ca4e709cf0f44aea0a1eee6834547a1"
            ]
          }
        },
        "a52119c22ecc47bc92262b011cd3cfd6": {
          "model_module": "@jupyter-widgets/base",
          "model_name": "LayoutModel",
          "model_module_version": "1.2.0",
          "state": {
            "_view_name": "LayoutView",
            "grid_template_rows": null,
            "right": null,
            "justify_content": null,
            "_view_module": "@jupyter-widgets/base",
            "overflow": null,
            "_model_module_version": "1.2.0",
            "_view_count": null,
            "flex_flow": null,
            "width": null,
            "min_width": null,
            "border": null,
            "align_items": null,
            "bottom": null,
            "_model_module": "@jupyter-widgets/base",
            "top": null,
            "grid_column": null,
            "overflow_y": null,
            "overflow_x": null,
            "grid_auto_flow": null,
            "grid_area": null,
            "grid_template_columns": null,
            "flex": null,
            "_model_name": "LayoutModel",
            "justify_items": null,
            "grid_row": null,
            "max_height": null,
            "align_content": null,
            "visibility": null,
            "align_self": null,
            "height": null,
            "min_height": null,
            "padding": null,
            "grid_auto_rows": null,
            "grid_gap": null,
            "max_width": null,
            "order": null,
            "_view_module_version": "1.2.0",
            "grid_template_areas": null,
            "object_position": null,
            "object_fit": null,
            "grid_auto_columns": null,
            "margin": null,
            "display": null,
            "left": null
          }
        },
        "2297f39aab1e4aa19c6b2ac81661328e": {
          "model_module": "@jupyter-widgets/controls",
          "model_name": "HTMLModel",
          "model_module_version": "1.5.0",
          "state": {
            "_view_name": "HTMLView",
            "style": "IPY_MODEL_82bae738124144a8a223ccd04bd4b457",
            "_dom_classes": [],
            "description": "",
            "_model_name": "HTMLModel",
            "placeholder": "​",
            "_view_module": "@jupyter-widgets/controls",
            "_model_module_version": "1.5.0",
            "value": "",
            "_view_count": null,
            "_view_module_version": "1.5.0",
            "description_tooltip": null,
            "_model_module": "@jupyter-widgets/controls",
            "layout": "IPY_MODEL_2a7f51e616464aacb794af0de2bac40c"
          }
        },
        "f303cb36e18848418ec054fbb19e31a9": {
          "model_module": "@jupyter-widgets/controls",
          "model_name": "FloatProgressModel",
          "model_module_version": "1.5.0",
          "state": {
            "_view_name": "ProgressView",
            "style": "IPY_MODEL_8fccb025f119491c915c5247c3090a36",
            "_dom_classes": [],
            "description": "",
            "_model_name": "FloatProgressModel",
            "bar_style": "success",
            "max": 29515,
            "_view_module": "@jupyter-widgets/controls",
            "_model_module_version": "1.5.0",
            "value": 29515,
            "_view_count": null,
            "_view_module_version": "1.5.0",
            "orientation": "horizontal",
            "min": 0,
            "description_tooltip": null,
            "_model_module": "@jupyter-widgets/controls",
            "layout": "IPY_MODEL_be8454224af6460ab609b8351208643f"
          }
        },
        "0ca4e709cf0f44aea0a1eee6834547a1": {
          "model_module": "@jupyter-widgets/controls",
          "model_name": "HTMLModel",
          "model_module_version": "1.5.0",
          "state": {
            "_view_name": "HTMLView",
            "style": "IPY_MODEL_855c7944afea4195a78c7dec0aa4c98c",
            "_dom_classes": [],
            "description": "",
            "_model_name": "HTMLModel",
            "placeholder": "​",
            "_view_module": "@jupyter-widgets/controls",
            "_model_module_version": "1.5.0",
            "value": " 29696/? [00:00&lt;00:00, 338643.38it/s]",
            "_view_count": null,
            "_view_module_version": "1.5.0",
            "description_tooltip": null,
            "_model_module": "@jupyter-widgets/controls",
            "layout": "IPY_MODEL_3cbcc48b21384b558ea108b733953fb6"
          }
        },
        "82bae738124144a8a223ccd04bd4b457": {
          "model_module": "@jupyter-widgets/controls",
          "model_name": "DescriptionStyleModel",
          "model_module_version": "1.5.0",
          "state": {
            "_view_name": "StyleView",
            "_model_name": "DescriptionStyleModel",
            "description_width": "",
            "_view_module": "@jupyter-widgets/base",
            "_model_module_version": "1.5.0",
            "_view_count": null,
            "_view_module_version": "1.2.0",
            "_model_module": "@jupyter-widgets/controls"
          }
        },
        "2a7f51e616464aacb794af0de2bac40c": {
          "model_module": "@jupyter-widgets/base",
          "model_name": "LayoutModel",
          "model_module_version": "1.2.0",
          "state": {
            "_view_name": "LayoutView",
            "grid_template_rows": null,
            "right": null,
            "justify_content": null,
            "_view_module": "@jupyter-widgets/base",
            "overflow": null,
            "_model_module_version": "1.2.0",
            "_view_count": null,
            "flex_flow": null,
            "width": null,
            "min_width": null,
            "border": null,
            "align_items": null,
            "bottom": null,
            "_model_module": "@jupyter-widgets/base",
            "top": null,
            "grid_column": null,
            "overflow_y": null,
            "overflow_x": null,
            "grid_auto_flow": null,
            "grid_area": null,
            "grid_template_columns": null,
            "flex": null,
            "_model_name": "LayoutModel",
            "justify_items": null,
            "grid_row": null,
            "max_height": null,
            "align_content": null,
            "visibility": null,
            "align_self": null,
            "height": null,
            "min_height": null,
            "padding": null,
            "grid_auto_rows": null,
            "grid_gap": null,
            "max_width": null,
            "order": null,
            "_view_module_version": "1.2.0",
            "grid_template_areas": null,
            "object_position": null,
            "object_fit": null,
            "grid_auto_columns": null,
            "margin": null,
            "display": null,
            "left": null
          }
        },
        "8fccb025f119491c915c5247c3090a36": {
          "model_module": "@jupyter-widgets/controls",
          "model_name": "ProgressStyleModel",
          "model_module_version": "1.5.0",
          "state": {
            "_view_name": "StyleView",
            "_model_name": "ProgressStyleModel",
            "description_width": "",
            "_view_module": "@jupyter-widgets/base",
            "_model_module_version": "1.5.0",
            "_view_count": null,
            "_view_module_version": "1.2.0",
            "bar_color": null,
            "_model_module": "@jupyter-widgets/controls"
          }
        },
        "be8454224af6460ab609b8351208643f": {
          "model_module": "@jupyter-widgets/base",
          "model_name": "LayoutModel",
          "model_module_version": "1.2.0",
          "state": {
            "_view_name": "LayoutView",
            "grid_template_rows": null,
            "right": null,
            "justify_content": null,
            "_view_module": "@jupyter-widgets/base",
            "overflow": null,
            "_model_module_version": "1.2.0",
            "_view_count": null,
            "flex_flow": null,
            "width": null,
            "min_width": null,
            "border": null,
            "align_items": null,
            "bottom": null,
            "_model_module": "@jupyter-widgets/base",
            "top": null,
            "grid_column": null,
            "overflow_y": null,
            "overflow_x": null,
            "grid_auto_flow": null,
            "grid_area": null,
            "grid_template_columns": null,
            "flex": null,
            "_model_name": "LayoutModel",
            "justify_items": null,
            "grid_row": null,
            "max_height": null,
            "align_content": null,
            "visibility": null,
            "align_self": null,
            "height": null,
            "min_height": null,
            "padding": null,
            "grid_auto_rows": null,
            "grid_gap": null,
            "max_width": null,
            "order": null,
            "_view_module_version": "1.2.0",
            "grid_template_areas": null,
            "object_position": null,
            "object_fit": null,
            "grid_auto_columns": null,
            "margin": null,
            "display": null,
            "left": null
          }
        },
        "855c7944afea4195a78c7dec0aa4c98c": {
          "model_module": "@jupyter-widgets/controls",
          "model_name": "DescriptionStyleModel",
          "model_module_version": "1.5.0",
          "state": {
            "_view_name": "StyleView",
            "_model_name": "DescriptionStyleModel",
            "description_width": "",
            "_view_module": "@jupyter-widgets/base",
            "_model_module_version": "1.5.0",
            "_view_count": null,
            "_view_module_version": "1.2.0",
            "_model_module": "@jupyter-widgets/controls"
          }
        },
        "3cbcc48b21384b558ea108b733953fb6": {
          "model_module": "@jupyter-widgets/base",
          "model_name": "LayoutModel",
          "model_module_version": "1.2.0",
          "state": {
            "_view_name": "LayoutView",
            "grid_template_rows": null,
            "right": null,
            "justify_content": null,
            "_view_module": "@jupyter-widgets/base",
            "overflow": null,
            "_model_module_version": "1.2.0",
            "_view_count": null,
            "flex_flow": null,
            "width": null,
            "min_width": null,
            "border": null,
            "align_items": null,
            "bottom": null,
            "_model_module": "@jupyter-widgets/base",
            "top": null,
            "grid_column": null,
            "overflow_y": null,
            "overflow_x": null,
            "grid_auto_flow": null,
            "grid_area": null,
            "grid_template_columns": null,
            "flex": null,
            "_model_name": "LayoutModel",
            "justify_items": null,
            "grid_row": null,
            "max_height": null,
            "align_content": null,
            "visibility": null,
            "align_self": null,
            "height": null,
            "min_height": null,
            "padding": null,
            "grid_auto_rows": null,
            "grid_gap": null,
            "max_width": null,
            "order": null,
            "_view_module_version": "1.2.0",
            "grid_template_areas": null,
            "object_position": null,
            "object_fit": null,
            "grid_auto_columns": null,
            "margin": null,
            "display": null,
            "left": null
          }
        },
        "8f51fc8813ce43d08e5183336b65d685": {
          "model_module": "@jupyter-widgets/controls",
          "model_name": "HBoxModel",
          "model_module_version": "1.5.0",
          "state": {
            "_view_name": "HBoxView",
            "_dom_classes": [],
            "_model_name": "HBoxModel",
            "_view_module": "@jupyter-widgets/controls",
            "_model_module_version": "1.5.0",
            "_view_count": null,
            "_view_module_version": "1.5.0",
            "box_style": "",
            "layout": "IPY_MODEL_038cdfd4adb746e3af217e7a3b037bef",
            "_model_module": "@jupyter-widgets/controls",
            "children": [
              "IPY_MODEL_18f146ea272b471cac532d95d94f22d2",
              "IPY_MODEL_bf5e013ff08c49d1b1e3741573608625",
              "IPY_MODEL_1ce314d4e5524b2a966cfac80779bf60"
            ]
          }
        },
        "038cdfd4adb746e3af217e7a3b037bef": {
          "model_module": "@jupyter-widgets/base",
          "model_name": "LayoutModel",
          "model_module_version": "1.2.0",
          "state": {
            "_view_name": "LayoutView",
            "grid_template_rows": null,
            "right": null,
            "justify_content": null,
            "_view_module": "@jupyter-widgets/base",
            "overflow": null,
            "_model_module_version": "1.2.0",
            "_view_count": null,
            "flex_flow": null,
            "width": null,
            "min_width": null,
            "border": null,
            "align_items": null,
            "bottom": null,
            "_model_module": "@jupyter-widgets/base",
            "top": null,
            "grid_column": null,
            "overflow_y": null,
            "overflow_x": null,
            "grid_auto_flow": null,
            "grid_area": null,
            "grid_template_columns": null,
            "flex": null,
            "_model_name": "LayoutModel",
            "justify_items": null,
            "grid_row": null,
            "max_height": null,
            "align_content": null,
            "visibility": null,
            "align_self": null,
            "height": null,
            "min_height": null,
            "padding": null,
            "grid_auto_rows": null,
            "grid_gap": null,
            "max_width": null,
            "order": null,
            "_view_module_version": "1.2.0",
            "grid_template_areas": null,
            "object_position": null,
            "object_fit": null,
            "grid_auto_columns": null,
            "margin": null,
            "display": null,
            "left": null
          }
        },
        "18f146ea272b471cac532d95d94f22d2": {
          "model_module": "@jupyter-widgets/controls",
          "model_name": "HTMLModel",
          "model_module_version": "1.5.0",
          "state": {
            "_view_name": "HTMLView",
            "style": "IPY_MODEL_77e2351485d74e2cb1a4fbb3c130cc33",
            "_dom_classes": [],
            "description": "",
            "_model_name": "HTMLModel",
            "placeholder": "​",
            "_view_module": "@jupyter-widgets/controls",
            "_model_module_version": "1.5.0",
            "value": "",
            "_view_count": null,
            "_view_module_version": "1.5.0",
            "description_tooltip": null,
            "_model_module": "@jupyter-widgets/controls",
            "layout": "IPY_MODEL_267ddc5fb676418f8db7f9172e395d30"
          }
        },
        "bf5e013ff08c49d1b1e3741573608625": {
          "model_module": "@jupyter-widgets/controls",
          "model_name": "FloatProgressModel",
          "model_module_version": "1.5.0",
          "state": {
            "_view_name": "ProgressView",
            "style": "IPY_MODEL_716fd901ab1c4f92927f57e219e49a2b",
            "_dom_classes": [],
            "description": "",
            "_model_name": "FloatProgressModel",
            "bar_style": "success",
            "max": 4422102,
            "_view_module": "@jupyter-widgets/controls",
            "_model_module_version": "1.5.0",
            "value": 4422102,
            "_view_count": null,
            "_view_module_version": "1.5.0",
            "orientation": "horizontal",
            "min": 0,
            "description_tooltip": null,
            "_model_module": "@jupyter-widgets/controls",
            "layout": "IPY_MODEL_f9fc6b82b94a4bb1a719f64fe0b75563"
          }
        },
        "1ce314d4e5524b2a966cfac80779bf60": {
          "model_module": "@jupyter-widgets/controls",
          "model_name": "HTMLModel",
          "model_module_version": "1.5.0",
          "state": {
            "_view_name": "HTMLView",
            "style": "IPY_MODEL_67b7b13c93e04408b4ab87e45eec68fb",
            "_dom_classes": [],
            "description": "",
            "_model_name": "HTMLModel",
            "placeholder": "​",
            "_view_module": "@jupyter-widgets/controls",
            "_model_module_version": "1.5.0",
            "value": " 4422656/? [00:00&lt;00:00, 6447314.85it/s]",
            "_view_count": null,
            "_view_module_version": "1.5.0",
            "description_tooltip": null,
            "_model_module": "@jupyter-widgets/controls",
            "layout": "IPY_MODEL_d7d97027b3624f0b9b94a0dffeeb68fb"
          }
        },
        "77e2351485d74e2cb1a4fbb3c130cc33": {
          "model_module": "@jupyter-widgets/controls",
          "model_name": "DescriptionStyleModel",
          "model_module_version": "1.5.0",
          "state": {
            "_view_name": "StyleView",
            "_model_name": "DescriptionStyleModel",
            "description_width": "",
            "_view_module": "@jupyter-widgets/base",
            "_model_module_version": "1.5.0",
            "_view_count": null,
            "_view_module_version": "1.2.0",
            "_model_module": "@jupyter-widgets/controls"
          }
        },
        "267ddc5fb676418f8db7f9172e395d30": {
          "model_module": "@jupyter-widgets/base",
          "model_name": "LayoutModel",
          "model_module_version": "1.2.0",
          "state": {
            "_view_name": "LayoutView",
            "grid_template_rows": null,
            "right": null,
            "justify_content": null,
            "_view_module": "@jupyter-widgets/base",
            "overflow": null,
            "_model_module_version": "1.2.0",
            "_view_count": null,
            "flex_flow": null,
            "width": null,
            "min_width": null,
            "border": null,
            "align_items": null,
            "bottom": null,
            "_model_module": "@jupyter-widgets/base",
            "top": null,
            "grid_column": null,
            "overflow_y": null,
            "overflow_x": null,
            "grid_auto_flow": null,
            "grid_area": null,
            "grid_template_columns": null,
            "flex": null,
            "_model_name": "LayoutModel",
            "justify_items": null,
            "grid_row": null,
            "max_height": null,
            "align_content": null,
            "visibility": null,
            "align_self": null,
            "height": null,
            "min_height": null,
            "padding": null,
            "grid_auto_rows": null,
            "grid_gap": null,
            "max_width": null,
            "order": null,
            "_view_module_version": "1.2.0",
            "grid_template_areas": null,
            "object_position": null,
            "object_fit": null,
            "grid_auto_columns": null,
            "margin": null,
            "display": null,
            "left": null
          }
        },
        "716fd901ab1c4f92927f57e219e49a2b": {
          "model_module": "@jupyter-widgets/controls",
          "model_name": "ProgressStyleModel",
          "model_module_version": "1.5.0",
          "state": {
            "_view_name": "StyleView",
            "_model_name": "ProgressStyleModel",
            "description_width": "",
            "_view_module": "@jupyter-widgets/base",
            "_model_module_version": "1.5.0",
            "_view_count": null,
            "_view_module_version": "1.2.0",
            "bar_color": null,
            "_model_module": "@jupyter-widgets/controls"
          }
        },
        "f9fc6b82b94a4bb1a719f64fe0b75563": {
          "model_module": "@jupyter-widgets/base",
          "model_name": "LayoutModel",
          "model_module_version": "1.2.0",
          "state": {
            "_view_name": "LayoutView",
            "grid_template_rows": null,
            "right": null,
            "justify_content": null,
            "_view_module": "@jupyter-widgets/base",
            "overflow": null,
            "_model_module_version": "1.2.0",
            "_view_count": null,
            "flex_flow": null,
            "width": null,
            "min_width": null,
            "border": null,
            "align_items": null,
            "bottom": null,
            "_model_module": "@jupyter-widgets/base",
            "top": null,
            "grid_column": null,
            "overflow_y": null,
            "overflow_x": null,
            "grid_auto_flow": null,
            "grid_area": null,
            "grid_template_columns": null,
            "flex": null,
            "_model_name": "LayoutModel",
            "justify_items": null,
            "grid_row": null,
            "max_height": null,
            "align_content": null,
            "visibility": null,
            "align_self": null,
            "height": null,
            "min_height": null,
            "padding": null,
            "grid_auto_rows": null,
            "grid_gap": null,
            "max_width": null,
            "order": null,
            "_view_module_version": "1.2.0",
            "grid_template_areas": null,
            "object_position": null,
            "object_fit": null,
            "grid_auto_columns": null,
            "margin": null,
            "display": null,
            "left": null
          }
        },
        "67b7b13c93e04408b4ab87e45eec68fb": {
          "model_module": "@jupyter-widgets/controls",
          "model_name": "DescriptionStyleModel",
          "model_module_version": "1.5.0",
          "state": {
            "_view_name": "StyleView",
            "_model_name": "DescriptionStyleModel",
            "description_width": "",
            "_view_module": "@jupyter-widgets/base",
            "_model_module_version": "1.5.0",
            "_view_count": null,
            "_view_module_version": "1.2.0",
            "_model_module": "@jupyter-widgets/controls"
          }
        },
        "d7d97027b3624f0b9b94a0dffeeb68fb": {
          "model_module": "@jupyter-widgets/base",
          "model_name": "LayoutModel",
          "model_module_version": "1.2.0",
          "state": {
            "_view_name": "LayoutView",
            "grid_template_rows": null,
            "right": null,
            "justify_content": null,
            "_view_module": "@jupyter-widgets/base",
            "overflow": null,
            "_model_module_version": "1.2.0",
            "_view_count": null,
            "flex_flow": null,
            "width": null,
            "min_width": null,
            "border": null,
            "align_items": null,
            "bottom": null,
            "_model_module": "@jupyter-widgets/base",
            "top": null,
            "grid_column": null,
            "overflow_y": null,
            "overflow_x": null,
            "grid_auto_flow": null,
            "grid_area": null,
            "grid_template_columns": null,
            "flex": null,
            "_model_name": "LayoutModel",
            "justify_items": null,
            "grid_row": null,
            "max_height": null,
            "align_content": null,
            "visibility": null,
            "align_self": null,
            "height": null,
            "min_height": null,
            "padding": null,
            "grid_auto_rows": null,
            "grid_gap": null,
            "max_width": null,
            "order": null,
            "_view_module_version": "1.2.0",
            "grid_template_areas": null,
            "object_position": null,
            "object_fit": null,
            "grid_auto_columns": null,
            "margin": null,
            "display": null,
            "left": null
          }
        },
        "417343c8c09746e4a117e5df44700700": {
          "model_module": "@jupyter-widgets/controls",
          "model_name": "HBoxModel",
          "model_module_version": "1.5.0",
          "state": {
            "_view_name": "HBoxView",
            "_dom_classes": [],
            "_model_name": "HBoxModel",
            "_view_module": "@jupyter-widgets/controls",
            "_model_module_version": "1.5.0",
            "_view_count": null,
            "_view_module_version": "1.5.0",
            "box_style": "",
            "layout": "IPY_MODEL_c7a0d130407548c9af56f4b8906a2f79",
            "_model_module": "@jupyter-widgets/controls",
            "children": [
              "IPY_MODEL_e1617fe4112a4ddb99b16291051166f9",
              "IPY_MODEL_5db90c9980c942e19854ed78c665d7ed",
              "IPY_MODEL_02ea1742b6cf460eaab65ad1fa842ce7"
            ]
          }
        },
        "c7a0d130407548c9af56f4b8906a2f79": {
          "model_module": "@jupyter-widgets/base",
          "model_name": "LayoutModel",
          "model_module_version": "1.2.0",
          "state": {
            "_view_name": "LayoutView",
            "grid_template_rows": null,
            "right": null,
            "justify_content": null,
            "_view_module": "@jupyter-widgets/base",
            "overflow": null,
            "_model_module_version": "1.2.0",
            "_view_count": null,
            "flex_flow": null,
            "width": null,
            "min_width": null,
            "border": null,
            "align_items": null,
            "bottom": null,
            "_model_module": "@jupyter-widgets/base",
            "top": null,
            "grid_column": null,
            "overflow_y": null,
            "overflow_x": null,
            "grid_auto_flow": null,
            "grid_area": null,
            "grid_template_columns": null,
            "flex": null,
            "_model_name": "LayoutModel",
            "justify_items": null,
            "grid_row": null,
            "max_height": null,
            "align_content": null,
            "visibility": null,
            "align_self": null,
            "height": null,
            "min_height": null,
            "padding": null,
            "grid_auto_rows": null,
            "grid_gap": null,
            "max_width": null,
            "order": null,
            "_view_module_version": "1.2.0",
            "grid_template_areas": null,
            "object_position": null,
            "object_fit": null,
            "grid_auto_columns": null,
            "margin": null,
            "display": null,
            "left": null
          }
        },
        "e1617fe4112a4ddb99b16291051166f9": {
          "model_module": "@jupyter-widgets/controls",
          "model_name": "HTMLModel",
          "model_module_version": "1.5.0",
          "state": {
            "_view_name": "HTMLView",
            "style": "IPY_MODEL_6f2b7a39b684443dadd82c8ff20e7fae",
            "_dom_classes": [],
            "description": "",
            "_model_name": "HTMLModel",
            "placeholder": "​",
            "_view_module": "@jupyter-widgets/controls",
            "_model_module_version": "1.5.0",
            "value": "",
            "_view_count": null,
            "_view_module_version": "1.5.0",
            "description_tooltip": null,
            "_model_module": "@jupyter-widgets/controls",
            "layout": "IPY_MODEL_2f54d3c0c2fe48f59aeff18efa0aa869"
          }
        },
        "5db90c9980c942e19854ed78c665d7ed": {
          "model_module": "@jupyter-widgets/controls",
          "model_name": "FloatProgressModel",
          "model_module_version": "1.5.0",
          "state": {
            "_view_name": "ProgressView",
            "style": "IPY_MODEL_0bd26d169c8a48d28569da2903efb99e",
            "_dom_classes": [],
            "description": "",
            "_model_name": "FloatProgressModel",
            "bar_style": "success",
            "max": 5148,
            "_view_module": "@jupyter-widgets/controls",
            "_model_module_version": "1.5.0",
            "value": 5148,
            "_view_count": null,
            "_view_module_version": "1.5.0",
            "orientation": "horizontal",
            "min": 0,
            "description_tooltip": null,
            "_model_module": "@jupyter-widgets/controls",
            "layout": "IPY_MODEL_69e43e598a0b455a884a1fcbe196d9f9"
          }
        },
        "02ea1742b6cf460eaab65ad1fa842ce7": {
          "model_module": "@jupyter-widgets/controls",
          "model_name": "HTMLModel",
          "model_module_version": "1.5.0",
          "state": {
            "_view_name": "HTMLView",
            "style": "IPY_MODEL_84d69405c2b2460ca28eeee8070ea92f",
            "_dom_classes": [],
            "description": "",
            "_model_name": "HTMLModel",
            "placeholder": "​",
            "_view_module": "@jupyter-widgets/controls",
            "_model_module_version": "1.5.0",
            "value": " 6144/? [00:00&lt;00:00, 104848.21it/s]",
            "_view_count": null,
            "_view_module_version": "1.5.0",
            "description_tooltip": null,
            "_model_module": "@jupyter-widgets/controls",
            "layout": "IPY_MODEL_ae50f204689e4944a13b5dc0f6ed44a5"
          }
        },
        "6f2b7a39b684443dadd82c8ff20e7fae": {
          "model_module": "@jupyter-widgets/controls",
          "model_name": "DescriptionStyleModel",
          "model_module_version": "1.5.0",
          "state": {
            "_view_name": "StyleView",
            "_model_name": "DescriptionStyleModel",
            "description_width": "",
            "_view_module": "@jupyter-widgets/base",
            "_model_module_version": "1.5.0",
            "_view_count": null,
            "_view_module_version": "1.2.0",
            "_model_module": "@jupyter-widgets/controls"
          }
        },
        "2f54d3c0c2fe48f59aeff18efa0aa869": {
          "model_module": "@jupyter-widgets/base",
          "model_name": "LayoutModel",
          "model_module_version": "1.2.0",
          "state": {
            "_view_name": "LayoutView",
            "grid_template_rows": null,
            "right": null,
            "justify_content": null,
            "_view_module": "@jupyter-widgets/base",
            "overflow": null,
            "_model_module_version": "1.2.0",
            "_view_count": null,
            "flex_flow": null,
            "width": null,
            "min_width": null,
            "border": null,
            "align_items": null,
            "bottom": null,
            "_model_module": "@jupyter-widgets/base",
            "top": null,
            "grid_column": null,
            "overflow_y": null,
            "overflow_x": null,
            "grid_auto_flow": null,
            "grid_area": null,
            "grid_template_columns": null,
            "flex": null,
            "_model_name": "LayoutModel",
            "justify_items": null,
            "grid_row": null,
            "max_height": null,
            "align_content": null,
            "visibility": null,
            "align_self": null,
            "height": null,
            "min_height": null,
            "padding": null,
            "grid_auto_rows": null,
            "grid_gap": null,
            "max_width": null,
            "order": null,
            "_view_module_version": "1.2.0",
            "grid_template_areas": null,
            "object_position": null,
            "object_fit": null,
            "grid_auto_columns": null,
            "margin": null,
            "display": null,
            "left": null
          }
        },
        "0bd26d169c8a48d28569da2903efb99e": {
          "model_module": "@jupyter-widgets/controls",
          "model_name": "ProgressStyleModel",
          "model_module_version": "1.5.0",
          "state": {
            "_view_name": "StyleView",
            "_model_name": "ProgressStyleModel",
            "description_width": "",
            "_view_module": "@jupyter-widgets/base",
            "_model_module_version": "1.5.0",
            "_view_count": null,
            "_view_module_version": "1.2.0",
            "bar_color": null,
            "_model_module": "@jupyter-widgets/controls"
          }
        },
        "69e43e598a0b455a884a1fcbe196d9f9": {
          "model_module": "@jupyter-widgets/base",
          "model_name": "LayoutModel",
          "model_module_version": "1.2.0",
          "state": {
            "_view_name": "LayoutView",
            "grid_template_rows": null,
            "right": null,
            "justify_content": null,
            "_view_module": "@jupyter-widgets/base",
            "overflow": null,
            "_model_module_version": "1.2.0",
            "_view_count": null,
            "flex_flow": null,
            "width": null,
            "min_width": null,
            "border": null,
            "align_items": null,
            "bottom": null,
            "_model_module": "@jupyter-widgets/base",
            "top": null,
            "grid_column": null,
            "overflow_y": null,
            "overflow_x": null,
            "grid_auto_flow": null,
            "grid_area": null,
            "grid_template_columns": null,
            "flex": null,
            "_model_name": "LayoutModel",
            "justify_items": null,
            "grid_row": null,
            "max_height": null,
            "align_content": null,
            "visibility": null,
            "align_self": null,
            "height": null,
            "min_height": null,
            "padding": null,
            "grid_auto_rows": null,
            "grid_gap": null,
            "max_width": null,
            "order": null,
            "_view_module_version": "1.2.0",
            "grid_template_areas": null,
            "object_position": null,
            "object_fit": null,
            "grid_auto_columns": null,
            "margin": null,
            "display": null,
            "left": null
          }
        },
        "84d69405c2b2460ca28eeee8070ea92f": {
          "model_module": "@jupyter-widgets/controls",
          "model_name": "DescriptionStyleModel",
          "model_module_version": "1.5.0",
          "state": {
            "_view_name": "StyleView",
            "_model_name": "DescriptionStyleModel",
            "description_width": "",
            "_view_module": "@jupyter-widgets/base",
            "_model_module_version": "1.5.0",
            "_view_count": null,
            "_view_module_version": "1.2.0",
            "_model_module": "@jupyter-widgets/controls"
          }
        },
        "ae50f204689e4944a13b5dc0f6ed44a5": {
          "model_module": "@jupyter-widgets/base",
          "model_name": "LayoutModel",
          "model_module_version": "1.2.0",
          "state": {
            "_view_name": "LayoutView",
            "grid_template_rows": null,
            "right": null,
            "justify_content": null,
            "_view_module": "@jupyter-widgets/base",
            "overflow": null,
            "_model_module_version": "1.2.0",
            "_view_count": null,
            "flex_flow": null,
            "width": null,
            "min_width": null,
            "border": null,
            "align_items": null,
            "bottom": null,
            "_model_module": "@jupyter-widgets/base",
            "top": null,
            "grid_column": null,
            "overflow_y": null,
            "overflow_x": null,
            "grid_auto_flow": null,
            "grid_area": null,
            "grid_template_columns": null,
            "flex": null,
            "_model_name": "LayoutModel",
            "justify_items": null,
            "grid_row": null,
            "max_height": null,
            "align_content": null,
            "visibility": null,
            "align_self": null,
            "height": null,
            "min_height": null,
            "padding": null,
            "grid_auto_rows": null,
            "grid_gap": null,
            "max_width": null,
            "order": null,
            "_view_module_version": "1.2.0",
            "grid_template_areas": null,
            "object_position": null,
            "object_fit": null,
            "grid_auto_columns": null,
            "margin": null,
            "display": null,
            "left": null
          }
        }
      }
    }
  },
  "cells": [
    {
      "cell_type": "markdown",
      "metadata": {
        "id": "view-in-github",
        "colab_type": "text"
      },
      "source": [
        "<a href=\"https://colab.research.google.com/github/marongkang/MLeveryday/blob/main/MLEveryday12.ipynb\" target=\"_parent\"><img src=\"https://colab.research.google.com/assets/colab-badge.svg\" alt=\"Open In Colab\"/></a>"
      ]
    },
    {
      "cell_type": "markdown",
      "source": [
        "#Mnist数据集的读取"
      ],
      "metadata": {
        "id": "EWDd7aFiwHHH"
      }
    },
    {
      "cell_type": "code",
      "source": [
        "!pip install git+https://github.com/d2l-ai/d2l-zh@release  # installing d2l"
      ],
      "metadata": {
        "colab": {
          "base_uri": "https://localhost:8080/"
        },
        "id": "86cSDyWwdg03",
        "outputId": "5815ff9f-c991-4102-ff3c-4e5773e782c6"
      },
      "execution_count": 1,
      "outputs": [
        {
          "output_type": "stream",
          "name": "stdout",
          "text": [
            "Collecting git+https://github.com/d2l-ai/d2l-zh@release\n",
            "  Cloning https://github.com/d2l-ai/d2l-zh (to revision release) to /tmp/pip-req-build-moeyx61q\n",
            "  Running command git clone -q https://github.com/d2l-ai/d2l-zh /tmp/pip-req-build-moeyx61q\n",
            "  Running command git checkout -b release --track origin/release\n",
            "  Switched to a new branch 'release'\n",
            "  Branch 'release' set up to track remote branch 'release' from 'origin'.\n",
            "  Running command git submodule update --init --recursive -q\n",
            "Requirement already satisfied: jupyter in /usr/local/lib/python3.7/dist-packages (from d2l==2.0.0b0) (1.0.0)\n",
            "Requirement already satisfied: numpy in /usr/local/lib/python3.7/dist-packages (from d2l==2.0.0b0) (1.19.5)\n",
            "Requirement already satisfied: matplotlib in /usr/local/lib/python3.7/dist-packages (from d2l==2.0.0b0) (3.2.2)\n",
            "Requirement already satisfied: requests in /usr/local/lib/python3.7/dist-packages (from d2l==2.0.0b0) (2.23.0)\n",
            "Requirement already satisfied: pandas in /usr/local/lib/python3.7/dist-packages (from d2l==2.0.0b0) (1.1.5)\n",
            "Requirement already satisfied: qtconsole in /usr/local/lib/python3.7/dist-packages (from jupyter->d2l==2.0.0b0) (5.2.2)\n",
            "Requirement already satisfied: nbconvert in /usr/local/lib/python3.7/dist-packages (from jupyter->d2l==2.0.0b0) (5.6.1)\n",
            "Requirement already satisfied: ipywidgets in /usr/local/lib/python3.7/dist-packages (from jupyter->d2l==2.0.0b0) (7.6.5)\n",
            "Requirement already satisfied: ipykernel in /usr/local/lib/python3.7/dist-packages (from jupyter->d2l==2.0.0b0) (4.10.1)\n",
            "Requirement already satisfied: jupyter-console in /usr/local/lib/python3.7/dist-packages (from jupyter->d2l==2.0.0b0) (5.2.0)\n",
            "Requirement already satisfied: notebook in /usr/local/lib/python3.7/dist-packages (from jupyter->d2l==2.0.0b0) (5.3.1)\n",
            "Requirement already satisfied: traitlets>=4.1.0 in /usr/local/lib/python3.7/dist-packages (from ipykernel->jupyter->d2l==2.0.0b0) (5.1.1)\n",
            "Requirement already satisfied: ipython>=4.0.0 in /usr/local/lib/python3.7/dist-packages (from ipykernel->jupyter->d2l==2.0.0b0) (5.5.0)\n",
            "Requirement already satisfied: jupyter-client in /usr/local/lib/python3.7/dist-packages (from ipykernel->jupyter->d2l==2.0.0b0) (5.3.5)\n",
            "Requirement already satisfied: tornado>=4.0 in /usr/local/lib/python3.7/dist-packages (from ipykernel->jupyter->d2l==2.0.0b0) (5.1.1)\n",
            "Requirement already satisfied: decorator in /usr/local/lib/python3.7/dist-packages (from ipython>=4.0.0->ipykernel->jupyter->d2l==2.0.0b0) (4.4.2)\n",
            "Requirement already satisfied: pickleshare in /usr/local/lib/python3.7/dist-packages (from ipython>=4.0.0->ipykernel->jupyter->d2l==2.0.0b0) (0.7.5)\n",
            "Requirement already satisfied: simplegeneric>0.8 in /usr/local/lib/python3.7/dist-packages (from ipython>=4.0.0->ipykernel->jupyter->d2l==2.0.0b0) (0.8.1)\n",
            "Requirement already satisfied: prompt-toolkit<2.0.0,>=1.0.4 in /usr/local/lib/python3.7/dist-packages (from ipython>=4.0.0->ipykernel->jupyter->d2l==2.0.0b0) (1.0.18)\n",
            "Requirement already satisfied: setuptools>=18.5 in /usr/local/lib/python3.7/dist-packages (from ipython>=4.0.0->ipykernel->jupyter->d2l==2.0.0b0) (57.4.0)\n",
            "Requirement already satisfied: pexpect in /usr/local/lib/python3.7/dist-packages (from ipython>=4.0.0->ipykernel->jupyter->d2l==2.0.0b0) (4.8.0)\n",
            "Requirement already satisfied: pygments in /usr/local/lib/python3.7/dist-packages (from ipython>=4.0.0->ipykernel->jupyter->d2l==2.0.0b0) (2.6.1)\n",
            "Requirement already satisfied: wcwidth in /usr/local/lib/python3.7/dist-packages (from prompt-toolkit<2.0.0,>=1.0.4->ipython>=4.0.0->ipykernel->jupyter->d2l==2.0.0b0) (0.2.5)\n",
            "Requirement already satisfied: six>=1.9.0 in /usr/local/lib/python3.7/dist-packages (from prompt-toolkit<2.0.0,>=1.0.4->ipython>=4.0.0->ipykernel->jupyter->d2l==2.0.0b0) (1.15.0)\n",
            "Requirement already satisfied: widgetsnbextension~=3.5.0 in /usr/local/lib/python3.7/dist-packages (from ipywidgets->jupyter->d2l==2.0.0b0) (3.5.2)\n",
            "Requirement already satisfied: ipython-genutils~=0.2.0 in /usr/local/lib/python3.7/dist-packages (from ipywidgets->jupyter->d2l==2.0.0b0) (0.2.0)\n",
            "Requirement already satisfied: nbformat>=4.2.0 in /usr/local/lib/python3.7/dist-packages (from ipywidgets->jupyter->d2l==2.0.0b0) (5.1.3)\n",
            "Requirement already satisfied: jupyterlab-widgets>=1.0.0 in /usr/local/lib/python3.7/dist-packages (from ipywidgets->jupyter->d2l==2.0.0b0) (1.0.2)\n",
            "Requirement already satisfied: jupyter-core in /usr/local/lib/python3.7/dist-packages (from nbformat>=4.2.0->ipywidgets->jupyter->d2l==2.0.0b0) (4.9.1)\n",
            "Requirement already satisfied: jsonschema!=2.5.0,>=2.4 in /usr/local/lib/python3.7/dist-packages (from nbformat>=4.2.0->ipywidgets->jupyter->d2l==2.0.0b0) (4.3.3)\n",
            "Requirement already satisfied: attrs>=17.4.0 in /usr/local/lib/python3.7/dist-packages (from jsonschema!=2.5.0,>=2.4->nbformat>=4.2.0->ipywidgets->jupyter->d2l==2.0.0b0) (21.4.0)\n",
            "Requirement already satisfied: importlib-resources>=1.4.0 in /usr/local/lib/python3.7/dist-packages (from jsonschema!=2.5.0,>=2.4->nbformat>=4.2.0->ipywidgets->jupyter->d2l==2.0.0b0) (5.4.0)\n",
            "Requirement already satisfied: typing-extensions in /usr/local/lib/python3.7/dist-packages (from jsonschema!=2.5.0,>=2.4->nbformat>=4.2.0->ipywidgets->jupyter->d2l==2.0.0b0) (3.10.0.2)\n",
            "Requirement already satisfied: importlib-metadata in /usr/local/lib/python3.7/dist-packages (from jsonschema!=2.5.0,>=2.4->nbformat>=4.2.0->ipywidgets->jupyter->d2l==2.0.0b0) (4.10.0)\n",
            "Requirement already satisfied: pyrsistent!=0.17.0,!=0.17.1,!=0.17.2,>=0.14.0 in /usr/local/lib/python3.7/dist-packages (from jsonschema!=2.5.0,>=2.4->nbformat>=4.2.0->ipywidgets->jupyter->d2l==2.0.0b0) (0.18.0)\n",
            "Requirement already satisfied: zipp>=3.1.0 in /usr/local/lib/python3.7/dist-packages (from importlib-resources>=1.4.0->jsonschema!=2.5.0,>=2.4->nbformat>=4.2.0->ipywidgets->jupyter->d2l==2.0.0b0) (3.7.0)\n",
            "Requirement already satisfied: terminado>=0.8.1 in /usr/local/lib/python3.7/dist-packages (from notebook->jupyter->d2l==2.0.0b0) (0.12.1)\n",
            "Requirement already satisfied: Send2Trash in /usr/local/lib/python3.7/dist-packages (from notebook->jupyter->d2l==2.0.0b0) (1.8.0)\n",
            "Requirement already satisfied: jinja2 in /usr/local/lib/python3.7/dist-packages (from notebook->jupyter->d2l==2.0.0b0) (2.11.3)\n",
            "Requirement already satisfied: pyzmq>=13 in /usr/local/lib/python3.7/dist-packages (from jupyter-client->ipykernel->jupyter->d2l==2.0.0b0) (22.3.0)\n",
            "Requirement already satisfied: python-dateutil>=2.1 in /usr/local/lib/python3.7/dist-packages (from jupyter-client->ipykernel->jupyter->d2l==2.0.0b0) (2.8.2)\n",
            "Requirement already satisfied: ptyprocess in /usr/local/lib/python3.7/dist-packages (from terminado>=0.8.1->notebook->jupyter->d2l==2.0.0b0) (0.7.0)\n",
            "Requirement already satisfied: MarkupSafe>=0.23 in /usr/local/lib/python3.7/dist-packages (from jinja2->notebook->jupyter->d2l==2.0.0b0) (2.0.1)\n",
            "Requirement already satisfied: kiwisolver>=1.0.1 in /usr/local/lib/python3.7/dist-packages (from matplotlib->d2l==2.0.0b0) (1.3.2)\n",
            "Requirement already satisfied: cycler>=0.10 in /usr/local/lib/python3.7/dist-packages (from matplotlib->d2l==2.0.0b0) (0.11.0)\n",
            "Requirement already satisfied: pyparsing!=2.0.4,!=2.1.2,!=2.1.6,>=2.0.1 in /usr/local/lib/python3.7/dist-packages (from matplotlib->d2l==2.0.0b0) (3.0.6)\n",
            "Requirement already satisfied: defusedxml in /usr/local/lib/python3.7/dist-packages (from nbconvert->jupyter->d2l==2.0.0b0) (0.7.1)\n",
            "Requirement already satisfied: pandocfilters>=1.4.1 in /usr/local/lib/python3.7/dist-packages (from nbconvert->jupyter->d2l==2.0.0b0) (1.5.0)\n",
            "Requirement already satisfied: entrypoints>=0.2.2 in /usr/local/lib/python3.7/dist-packages (from nbconvert->jupyter->d2l==2.0.0b0) (0.3)\n",
            "Requirement already satisfied: mistune<2,>=0.8.1 in /usr/local/lib/python3.7/dist-packages (from nbconvert->jupyter->d2l==2.0.0b0) (0.8.4)\n",
            "Requirement already satisfied: bleach in /usr/local/lib/python3.7/dist-packages (from nbconvert->jupyter->d2l==2.0.0b0) (4.1.0)\n",
            "Requirement already satisfied: testpath in /usr/local/lib/python3.7/dist-packages (from nbconvert->jupyter->d2l==2.0.0b0) (0.5.0)\n",
            "Requirement already satisfied: packaging in /usr/local/lib/python3.7/dist-packages (from bleach->nbconvert->jupyter->d2l==2.0.0b0) (21.3)\n",
            "Requirement already satisfied: webencodings in /usr/local/lib/python3.7/dist-packages (from bleach->nbconvert->jupyter->d2l==2.0.0b0) (0.5.1)\n",
            "Requirement already satisfied: pytz>=2017.2 in /usr/local/lib/python3.7/dist-packages (from pandas->d2l==2.0.0b0) (2018.9)\n",
            "Requirement already satisfied: qtpy in /usr/local/lib/python3.7/dist-packages (from qtconsole->jupyter->d2l==2.0.0b0) (2.0.0)\n",
            "Requirement already satisfied: certifi>=2017.4.17 in /usr/local/lib/python3.7/dist-packages (from requests->d2l==2.0.0b0) (2021.10.8)\n",
            "Requirement already satisfied: idna<3,>=2.5 in /usr/local/lib/python3.7/dist-packages (from requests->d2l==2.0.0b0) (2.10)\n",
            "Requirement already satisfied: urllib3!=1.25.0,!=1.25.1,<1.26,>=1.21.1 in /usr/local/lib/python3.7/dist-packages (from requests->d2l==2.0.0b0) (1.24.3)\n",
            "Requirement already satisfied: chardet<4,>=3.0.2 in /usr/local/lib/python3.7/dist-packages (from requests->d2l==2.0.0b0) (3.0.4)\n",
            "Building wheels for collected packages: d2l\n",
            "  Building wheel for d2l (setup.py) ... \u001b[?25l\u001b[?25hdone\n",
            "  Created wheel for d2l: filename=d2l-2.0.0b0-py3-none-any.whl size=80071 sha256=c11c2e2514281303baee8acc30c6528b4f34d4e7a277bc64a99846bdc738f43e\n",
            "  Stored in directory: /tmp/pip-ephem-wheel-cache-34i3muj1/wheels/73/f4/42/d2b85ca46d85a241d6aa57c1c24027de2d2258202bb67945f9\n",
            "Successfully built d2l\n",
            "Installing collected packages: d2l\n",
            "Successfully installed d2l-2.0.0b0\n"
          ]
        }
      ]
    },
    {
      "cell_type": "code",
      "source": [
        "%matplotlib inline\n",
        "import torch\n",
        "import torchvision\n",
        "from torch.utils import data\n",
        "from torchvision import transforms\n",
        "from d2l import torch as d2l\n",
        "\n",
        "d2l.use_svg_display()"
      ],
      "metadata": {
        "id": "vgbMDTlIeyBP"
      },
      "execution_count": 2,
      "outputs": []
    },
    {
      "cell_type": "code",
      "source": [
        "trans = transforms.ToTensor()\n",
        "mnist_train = torchvision.datasets.FashionMNIST(\n",
        "    root=\"../data\", train=True, transform=trans, download=True)\n",
        "mnist_test = torchvision.datasets.FashionMNIST(\n",
        "    root=\"../data\", train=False, transform=trans, download=True)"
      ],
      "metadata": {
        "id": "YJLQqNumdhjK",
        "colab": {
          "base_uri": "https://localhost:8080/",
          "height": 431,
          "referenced_widgets": [
            "376f29d99f2647b88fc5783ab3274c9a",
            "dc95474e5b5b434e8e7a6c81aee43a17",
            "cecd117230724043a961e359630f3574",
            "12b78aed59714a009adf674fbc0922d5",
            "f5b178ecc2834d2fba6407cf1f009712",
            "2e43d16ecd6e4aefbcfd7badace3280f",
            "d3b4c4eb2a3945608c038a1e188bc60f",
            "fc6f218a97ff4c8b93e8dd3f94f90f68",
            "0b1548dfc39349c88eaa40b5afde9be2",
            "5a930740db5540678e9206b1d5bf5ee2",
            "aff996d289754419aaf3f7dc6e9fcf5a",
            "ad7e8c111d3f46eb891b6ec76972acfd",
            "a52119c22ecc47bc92262b011cd3cfd6",
            "2297f39aab1e4aa19c6b2ac81661328e",
            "f303cb36e18848418ec054fbb19e31a9",
            "0ca4e709cf0f44aea0a1eee6834547a1",
            "82bae738124144a8a223ccd04bd4b457",
            "2a7f51e616464aacb794af0de2bac40c",
            "8fccb025f119491c915c5247c3090a36",
            "be8454224af6460ab609b8351208643f",
            "855c7944afea4195a78c7dec0aa4c98c",
            "3cbcc48b21384b558ea108b733953fb6",
            "8f51fc8813ce43d08e5183336b65d685",
            "038cdfd4adb746e3af217e7a3b037bef",
            "18f146ea272b471cac532d95d94f22d2",
            "bf5e013ff08c49d1b1e3741573608625",
            "1ce314d4e5524b2a966cfac80779bf60",
            "77e2351485d74e2cb1a4fbb3c130cc33",
            "267ddc5fb676418f8db7f9172e395d30",
            "716fd901ab1c4f92927f57e219e49a2b",
            "f9fc6b82b94a4bb1a719f64fe0b75563",
            "67b7b13c93e04408b4ab87e45eec68fb",
            "d7d97027b3624f0b9b94a0dffeeb68fb",
            "417343c8c09746e4a117e5df44700700",
            "c7a0d130407548c9af56f4b8906a2f79",
            "e1617fe4112a4ddb99b16291051166f9",
            "5db90c9980c942e19854ed78c665d7ed",
            "02ea1742b6cf460eaab65ad1fa842ce7",
            "6f2b7a39b684443dadd82c8ff20e7fae",
            "2f54d3c0c2fe48f59aeff18efa0aa869",
            "0bd26d169c8a48d28569da2903efb99e",
            "69e43e598a0b455a884a1fcbe196d9f9",
            "84d69405c2b2460ca28eeee8070ea92f",
            "ae50f204689e4944a13b5dc0f6ed44a5"
          ]
        },
        "outputId": "ca116d97-528f-4fd6-b69d-b60f1021ba01"
      },
      "execution_count": 3,
      "outputs": [
        {
          "output_type": "stream",
          "name": "stdout",
          "text": [
            "Downloading http://fashion-mnist.s3-website.eu-central-1.amazonaws.com/train-images-idx3-ubyte.gz\n",
            "Downloading http://fashion-mnist.s3-website.eu-central-1.amazonaws.com/train-images-idx3-ubyte.gz to ../data/FashionMNIST/raw/train-images-idx3-ubyte.gz\n"
          ]
        },
        {
          "output_type": "display_data",
          "data": {
            "application/vnd.jupyter.widget-view+json": {
              "model_id": "376f29d99f2647b88fc5783ab3274c9a",
              "version_minor": 0,
              "version_major": 2
            },
            "text/plain": [
              "  0%|          | 0/26421880 [00:00<?, ?it/s]"
            ]
          },
          "metadata": {}
        },
        {
          "output_type": "stream",
          "name": "stdout",
          "text": [
            "Extracting ../data/FashionMNIST/raw/train-images-idx3-ubyte.gz to ../data/FashionMNIST/raw\n",
            "\n",
            "Downloading http://fashion-mnist.s3-website.eu-central-1.amazonaws.com/train-labels-idx1-ubyte.gz\n",
            "Downloading http://fashion-mnist.s3-website.eu-central-1.amazonaws.com/train-labels-idx1-ubyte.gz to ../data/FashionMNIST/raw/train-labels-idx1-ubyte.gz\n"
          ]
        },
        {
          "output_type": "display_data",
          "data": {
            "application/vnd.jupyter.widget-view+json": {
              "model_id": "ad7e8c111d3f46eb891b6ec76972acfd",
              "version_minor": 0,
              "version_major": 2
            },
            "text/plain": [
              "  0%|          | 0/29515 [00:00<?, ?it/s]"
            ]
          },
          "metadata": {}
        },
        {
          "output_type": "stream",
          "name": "stdout",
          "text": [
            "Extracting ../data/FashionMNIST/raw/train-labels-idx1-ubyte.gz to ../data/FashionMNIST/raw\n",
            "\n",
            "Downloading http://fashion-mnist.s3-website.eu-central-1.amazonaws.com/t10k-images-idx3-ubyte.gz\n",
            "Downloading http://fashion-mnist.s3-website.eu-central-1.amazonaws.com/t10k-images-idx3-ubyte.gz to ../data/FashionMNIST/raw/t10k-images-idx3-ubyte.gz\n"
          ]
        },
        {
          "output_type": "display_data",
          "data": {
            "application/vnd.jupyter.widget-view+json": {
              "model_id": "8f51fc8813ce43d08e5183336b65d685",
              "version_minor": 0,
              "version_major": 2
            },
            "text/plain": [
              "  0%|          | 0/4422102 [00:00<?, ?it/s]"
            ]
          },
          "metadata": {}
        },
        {
          "output_type": "stream",
          "name": "stdout",
          "text": [
            "Extracting ../data/FashionMNIST/raw/t10k-images-idx3-ubyte.gz to ../data/FashionMNIST/raw\n",
            "\n",
            "Downloading http://fashion-mnist.s3-website.eu-central-1.amazonaws.com/t10k-labels-idx1-ubyte.gz\n",
            "Downloading http://fashion-mnist.s3-website.eu-central-1.amazonaws.com/t10k-labels-idx1-ubyte.gz to ../data/FashionMNIST/raw/t10k-labels-idx1-ubyte.gz\n"
          ]
        },
        {
          "output_type": "display_data",
          "data": {
            "application/vnd.jupyter.widget-view+json": {
              "model_id": "417343c8c09746e4a117e5df44700700",
              "version_minor": 0,
              "version_major": 2
            },
            "text/plain": [
              "  0%|          | 0/5148 [00:00<?, ?it/s]"
            ]
          },
          "metadata": {}
        },
        {
          "output_type": "stream",
          "name": "stdout",
          "text": [
            "Extracting ../data/FashionMNIST/raw/t10k-labels-idx1-ubyte.gz to ../data/FashionMNIST/raw\n",
            "\n"
          ]
        }
      ]
    },
    {
      "cell_type": "code",
      "source": [
        "def get_fashion_mnist_labels(labels):  \n",
        "    text_labels = ['t-shirt', 'trouser', 'pullover', 'dress', 'coat',\n",
        "                   'sandal', 'shirt', 'sneaker', 'bag', 'ankle boot']\n",
        "    return [text_labels[int(i)] for i in labels]"
      ],
      "metadata": {
        "id": "pYuHJrnAekJI"
      },
      "execution_count": 4,
      "outputs": []
    },
    {
      "cell_type": "code",
      "source": [
        "def show_images(imgs, num_rows, num_cols, titles=None, scale=1.5):  \n",
        "    figsize = (num_cols * scale, num_rows * scale)\n",
        "    _, axes = d2l.plt.subplots(num_rows, num_cols, figsize=figsize)\n",
        "    axes = axes.flatten()\n",
        "    for i, (ax, img) in enumerate(zip(axes, imgs)):\n",
        "        if torch.is_tensor(img):\n",
        "            # 图片张量\n",
        "            ax.imshow(img.numpy())\n",
        "        else:\n",
        "            # PIL图片\n",
        "            ax.imshow(img)\n",
        "        ax.axes.get_xaxis().set_visible(False)\n",
        "        ax.axes.get_yaxis().set_visible(False)\n",
        "        if titles:\n",
        "            ax.set_title(titles[i])\n",
        "    return axes"
      ],
      "metadata": {
        "id": "hihxQKqZenrw"
      },
      "execution_count": 5,
      "outputs": []
    },
    {
      "cell_type": "code",
      "source": [
        "X, y = next(iter(data.DataLoader(mnist_train, batch_size=18)))\n",
        "show_images(X.reshape(18, 28, 28), 2, 9, titles=get_fashion_mnist_labels(y));"
      ],
      "metadata": {
        "colab": {
          "base_uri": "https://localhost:8080/",
          "height": 277
        },
        "id": "PqvY4V4zeqq8",
        "outputId": "8bae5830-53d9-40cc-ffc2-874fdea36023"
      },
      "execution_count": 6,
      "outputs": [
        {
          "output_type": "display_data",
          "data": {
            "text/plain": [
              "<Figure size 972x216 with 18 Axes>"
            ],
            "image/svg+xml": "<?xml version=\"1.0\" encoding=\"utf-8\" standalone=\"no\"?>\n<!DOCTYPE svg PUBLIC \"-//W3C//DTD SVG 1.1//EN\"\n  \"http://www.w3.org/Graphics/SVG/1.1/DTD/svg11.dtd\">\n<!-- Created with matplotlib (https://matplotlib.org/) -->\n<svg height=\"193.03689pt\" version=\"1.1\" viewBox=\"0 0 771.2 193.03689\" width=\"771.2pt\" xmlns=\"http://www.w3.org/2000/svg\" xmlns:xlink=\"http://www.w3.org/1999/xlink\">\n <defs>\n  <style type=\"text/css\">\n*{stroke-linecap:butt;stroke-linejoin:round;}\n  </style>\n </defs>\n <g id=\"figure_1\">\n  <g id=\"patch_1\">\n   <path d=\"M 0 193.03689 \nL 771.2 193.03689 \nL 771.2 -0 \nL 0 -0 \nz\n\" style=\"fill:none;\"/>\n  </g>\n  <g id=\"axes_1\">\n   <g id=\"patch_2\">\n    <path d=\"M 10.7 93.384163 \nL 81.766038 93.384163 \nL 81.766038 22.318125 \nL 10.7 22.318125 \nz\n\" style=\"fill:#ffffff;\"/>\n   </g>\n   <g clip-path=\"url(#p507042947e)\">\n    <image height=\"72\" id=\"image150abaa5b8\" transform=\"scale(1 -1)translate(0 -72)\" width=\"72\" x=\"10.7\" xlink:href=\"data:image/png;base64,\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\" y=\"-21.384163\"/>\n   </g>\n   <g id=\"patch_3\">\n    <path d=\"M 10.7 93.384163 \nL 10.7 22.318125 \n\" style=\"fill:none;stroke:#000000;stroke-linecap:square;stroke-linejoin:miter;stroke-width:0.8;\"/>\n   </g>\n   <g id=\"patch_4\">\n    <path d=\"M 81.766038 93.384163 \nL 81.766038 22.318125 \n\" style=\"fill:none;stroke:#000000;stroke-linecap:square;stroke-linejoin:miter;stroke-width:0.8;\"/>\n   </g>\n   <g id=\"patch_5\">\n    <path d=\"M 10.7 93.384163 \nL 81.766038 93.384163 \n\" style=\"fill:none;stroke:#000000;stroke-linecap:square;stroke-linejoin:miter;stroke-width:0.8;\"/>\n   </g>\n   <g id=\"patch_6\">\n    <path d=\"M 10.7 22.318125 \nL 81.766038 22.318125 \n\" style=\"fill:none;stroke:#000000;stroke-linecap:square;stroke-linejoin:miter;stroke-width:0.8;\"/>\n   </g>\n   <g id=\"text_1\">\n    <!-- ankle boot -->\n    <defs>\n     <path d=\"M 34.28125 27.484375 \nQ 23.390625 27.484375 19.1875 25 \nQ 14.984375 22.515625 14.984375 16.5 \nQ 14.984375 11.71875 18.140625 8.90625 \nQ 21.296875 6.109375 26.703125 6.109375 \nQ 34.1875 6.109375 38.703125 11.40625 \nQ 43.21875 16.703125 43.21875 25.484375 \nL 43.21875 27.484375 \nz\nM 52.203125 31.203125 \nL 52.203125 0 \nL 43.21875 0 \nL 43.21875 8.296875 \nQ 40.140625 3.328125 35.546875 0.953125 \nQ 30.953125 -1.421875 24.3125 -1.421875 \nQ 15.921875 -1.421875 10.953125 3.296875 \nQ 6 8.015625 6 15.921875 \nQ 6 25.140625 12.171875 29.828125 \nQ 18.359375 34.515625 30.609375 34.515625 \nL 43.21875 34.515625 \nL 43.21875 35.40625 \nQ 43.21875 41.609375 39.140625 45 \nQ 35.0625 48.390625 27.6875 48.390625 \nQ 23 48.390625 18.546875 47.265625 \nQ 14.109375 46.140625 10.015625 43.890625 \nL 10.015625 52.203125 \nQ 14.9375 54.109375 19.578125 55.046875 \nQ 24.21875 56 28.609375 56 \nQ 40.484375 56 46.34375 49.84375 \nQ 52.203125 43.703125 52.203125 31.203125 \nz\n\" id=\"DejaVuSans-97\"/>\n     <path d=\"M 54.890625 33.015625 \nL 54.890625 0 \nL 45.90625 0 \nL 45.90625 32.71875 \nQ 45.90625 40.484375 42.875 44.328125 \nQ 39.84375 48.1875 33.796875 48.1875 \nQ 26.515625 48.1875 22.3125 43.546875 \nQ 18.109375 38.921875 18.109375 30.90625 \nL 18.109375 0 \nL 9.078125 0 \nL 9.078125 54.6875 \nL 18.109375 54.6875 \nL 18.109375 46.1875 \nQ 21.34375 51.125 25.703125 53.5625 \nQ 30.078125 56 35.796875 56 \nQ 45.21875 56 50.046875 50.171875 \nQ 54.890625 44.34375 54.890625 33.015625 \nz\n\" id=\"DejaVuSans-110\"/>\n     <path d=\"M 9.078125 75.984375 \nL 18.109375 75.984375 \nL 18.109375 31.109375 \nL 44.921875 54.6875 \nL 56.390625 54.6875 \nL 27.390625 29.109375 \nL 57.625 0 \nL 45.90625 0 \nL 18.109375 26.703125 \nL 18.109375 0 \nL 9.078125 0 \nz\n\" id=\"DejaVuSans-107\"/>\n     <path d=\"M 9.421875 75.984375 \nL 18.40625 75.984375 \nL 18.40625 0 \nL 9.421875 0 \nz\n\" id=\"DejaVuSans-108\"/>\n     <path d=\"M 56.203125 29.59375 \nL 56.203125 25.203125 \nL 14.890625 25.203125 \nQ 15.484375 15.921875 20.484375 11.0625 \nQ 25.484375 6.203125 34.421875 6.203125 \nQ 39.59375 6.203125 44.453125 7.46875 \nQ 49.3125 8.734375 54.109375 11.28125 \nL 54.109375 2.78125 \nQ 49.265625 0.734375 44.1875 -0.34375 \nQ 39.109375 -1.421875 33.890625 -1.421875 \nQ 20.796875 -1.421875 13.15625 6.1875 \nQ 5.515625 13.8125 5.515625 26.8125 \nQ 5.515625 40.234375 12.765625 48.109375 \nQ 20.015625 56 32.328125 56 \nQ 43.359375 56 49.78125 48.890625 \nQ 56.203125 41.796875 56.203125 29.59375 \nz\nM 47.21875 32.234375 \nQ 47.125 39.59375 43.09375 43.984375 \nQ 39.0625 48.390625 32.421875 48.390625 \nQ 24.90625 48.390625 20.390625 44.140625 \nQ 15.875 39.890625 15.1875 32.171875 \nz\n\" id=\"DejaVuSans-101\"/>\n     <path id=\"DejaVuSans-32\"/>\n     <path d=\"M 48.6875 27.296875 \nQ 48.6875 37.203125 44.609375 42.84375 \nQ 40.53125 48.484375 33.40625 48.484375 \nQ 26.265625 48.484375 22.1875 42.84375 \nQ 18.109375 37.203125 18.109375 27.296875 \nQ 18.109375 17.390625 22.1875 11.75 \nQ 26.265625 6.109375 33.40625 6.109375 \nQ 40.53125 6.109375 44.609375 11.75 \nQ 48.6875 17.390625 48.6875 27.296875 \nz\nM 18.109375 46.390625 \nQ 20.953125 51.265625 25.265625 53.625 \nQ 29.59375 56 35.59375 56 \nQ 45.5625 56 51.78125 48.09375 \nQ 58.015625 40.1875 58.015625 27.296875 \nQ 58.015625 14.40625 51.78125 6.484375 \nQ 45.5625 -1.421875 35.59375 -1.421875 \nQ 29.59375 -1.421875 25.265625 0.953125 \nQ 20.953125 3.328125 18.109375 8.203125 \nL 18.109375 0 \nL 9.078125 0 \nL 9.078125 75.984375 \nL 18.109375 75.984375 \nz\n\" id=\"DejaVuSans-98\"/>\n     <path d=\"M 30.609375 48.390625 \nQ 23.390625 48.390625 19.1875 42.75 \nQ 14.984375 37.109375 14.984375 27.296875 \nQ 14.984375 17.484375 19.15625 11.84375 \nQ 23.34375 6.203125 30.609375 6.203125 \nQ 37.796875 6.203125 41.984375 11.859375 \nQ 46.1875 17.53125 46.1875 27.296875 \nQ 46.1875 37.015625 41.984375 42.703125 \nQ 37.796875 48.390625 30.609375 48.390625 \nz\nM 30.609375 56 \nQ 42.328125 56 49.015625 48.375 \nQ 55.71875 40.765625 55.71875 27.296875 \nQ 55.71875 13.875 49.015625 6.21875 \nQ 42.328125 -1.421875 30.609375 -1.421875 \nQ 18.84375 -1.421875 12.171875 6.21875 \nQ 5.515625 13.875 5.515625 27.296875 \nQ 5.515625 40.765625 12.171875 48.375 \nQ 18.84375 56 30.609375 56 \nz\n\" id=\"DejaVuSans-111\"/>\n     <path d=\"M 18.3125 70.21875 \nL 18.3125 54.6875 \nL 36.8125 54.6875 \nL 36.8125 47.703125 \nL 18.3125 47.703125 \nL 18.3125 18.015625 \nQ 18.3125 11.328125 20.140625 9.421875 \nQ 21.96875 7.515625 27.59375 7.515625 \nL 36.8125 7.515625 \nL 36.8125 0 \nL 27.59375 0 \nQ 17.1875 0 13.234375 3.875 \nQ 9.28125 7.765625 9.28125 18.015625 \nL 9.28125 47.703125 \nL 2.6875 47.703125 \nL 2.6875 54.6875 \nL 9.28125 54.6875 \nL 9.28125 70.21875 \nz\n\" id=\"DejaVuSans-116\"/>\n    </defs>\n    <g transform=\"translate(14.509894 16.318125)scale(0.12 -0.12)\">\n     <use xlink:href=\"#DejaVuSans-97\"/>\n     <use x=\"61.279297\" xlink:href=\"#DejaVuSans-110\"/>\n     <use x=\"124.658203\" xlink:href=\"#DejaVuSans-107\"/>\n     <use x=\"182.568359\" xlink:href=\"#DejaVuSans-108\"/>\n     <use x=\"210.351562\" xlink:href=\"#DejaVuSans-101\"/>\n     <use x=\"271.875\" xlink:href=\"#DejaVuSans-32\"/>\n     <use x=\"303.662109\" xlink:href=\"#DejaVuSans-98\"/>\n     <use x=\"367.138672\" xlink:href=\"#DejaVuSans-111\"/>\n     <use x=\"428.320312\" xlink:href=\"#DejaVuSans-111\"/>\n     <use x=\"489.501953\" xlink:href=\"#DejaVuSans-116\"/>\n    </g>\n   </g>\n  </g>\n  <g id=\"axes_2\">\n   <g id=\"patch_7\">\n    <path d=\"M 95.979245 93.384163 \nL 167.045283 93.384163 \nL 167.045283 22.318125 \nL 95.979245 22.318125 \nz\n\" style=\"fill:#ffffff;\"/>\n   </g>\n   <g clip-path=\"url(#p24f5b63697)\">\n    <image height=\"72\" id=\"imagece39df0b9e\" transform=\"scale(1 -1)translate(0 -72)\" width=\"72\" x=\"95.979245\" xlink:href=\"data:image/png;base64,\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\" y=\"-21.384163\"/>\n   </g>\n   <g id=\"patch_8\">\n    <path d=\"M 95.979245 93.384163 \nL 95.979245 22.318125 \n\" style=\"fill:none;stroke:#000000;stroke-linecap:square;stroke-linejoin:miter;stroke-width:0.8;\"/>\n   </g>\n   <g id=\"patch_9\">\n    <path d=\"M 167.045283 93.384163 \nL 167.045283 22.318125 \n\" style=\"fill:none;stroke:#000000;stroke-linecap:square;stroke-linejoin:miter;stroke-width:0.8;\"/>\n   </g>\n   <g id=\"patch_10\">\n    <path d=\"M 95.979245 93.384163 \nL 167.045283 93.384163 \n\" style=\"fill:none;stroke:#000000;stroke-linecap:square;stroke-linejoin:miter;stroke-width:0.8;\"/>\n   </g>\n   <g id=\"patch_11\">\n    <path d=\"M 95.979245 22.318125 \nL 167.045283 22.318125 \n\" style=\"fill:none;stroke:#000000;stroke-linecap:square;stroke-linejoin:miter;stroke-width:0.8;\"/>\n   </g>\n   <g id=\"text_2\">\n    <!-- t-shirt -->\n    <defs>\n     <path d=\"M 4.890625 31.390625 \nL 31.203125 31.390625 \nL 31.203125 23.390625 \nL 4.890625 23.390625 \nz\n\" id=\"DejaVuSans-45\"/>\n     <path d=\"M 44.28125 53.078125 \nL 44.28125 44.578125 \nQ 40.484375 46.53125 36.375 47.5 \nQ 32.28125 48.484375 27.875 48.484375 \nQ 21.1875 48.484375 17.84375 46.4375 \nQ 14.5 44.390625 14.5 40.28125 \nQ 14.5 37.15625 16.890625 35.375 \nQ 19.28125 33.59375 26.515625 31.984375 \nL 29.59375 31.296875 \nQ 39.15625 29.25 43.1875 25.515625 \nQ 47.21875 21.78125 47.21875 15.09375 \nQ 47.21875 7.46875 41.1875 3.015625 \nQ 35.15625 -1.421875 24.609375 -1.421875 \nQ 20.21875 -1.421875 15.453125 -0.5625 \nQ 10.6875 0.296875 5.421875 2 \nL 5.421875 11.28125 \nQ 10.40625 8.6875 15.234375 7.390625 \nQ 20.0625 6.109375 24.8125 6.109375 \nQ 31.15625 6.109375 34.5625 8.28125 \nQ 37.984375 10.453125 37.984375 14.40625 \nQ 37.984375 18.0625 35.515625 20.015625 \nQ 33.0625 21.96875 24.703125 23.78125 \nL 21.578125 24.515625 \nQ 13.234375 26.265625 9.515625 29.90625 \nQ 5.8125 33.546875 5.8125 39.890625 \nQ 5.8125 47.609375 11.28125 51.796875 \nQ 16.75 56 26.8125 56 \nQ 31.78125 56 36.171875 55.265625 \nQ 40.578125 54.546875 44.28125 53.078125 \nz\n\" id=\"DejaVuSans-115\"/>\n     <path d=\"M 54.890625 33.015625 \nL 54.890625 0 \nL 45.90625 0 \nL 45.90625 32.71875 \nQ 45.90625 40.484375 42.875 44.328125 \nQ 39.84375 48.1875 33.796875 48.1875 \nQ 26.515625 48.1875 22.3125 43.546875 \nQ 18.109375 38.921875 18.109375 30.90625 \nL 18.109375 0 \nL 9.078125 0 \nL 9.078125 75.984375 \nL 18.109375 75.984375 \nL 18.109375 46.1875 \nQ 21.34375 51.125 25.703125 53.5625 \nQ 30.078125 56 35.796875 56 \nQ 45.21875 56 50.046875 50.171875 \nQ 54.890625 44.34375 54.890625 33.015625 \nz\n\" id=\"DejaVuSans-104\"/>\n     <path d=\"M 9.421875 54.6875 \nL 18.40625 54.6875 \nL 18.40625 0 \nL 9.421875 0 \nz\nM 9.421875 75.984375 \nL 18.40625 75.984375 \nL 18.40625 64.59375 \nL 9.421875 64.59375 \nz\n\" id=\"DejaVuSans-105\"/>\n     <path d=\"M 41.109375 46.296875 \nQ 39.59375 47.171875 37.8125 47.578125 \nQ 36.03125 48 33.890625 48 \nQ 26.265625 48 22.1875 43.046875 \nQ 18.109375 38.09375 18.109375 28.8125 \nL 18.109375 0 \nL 9.078125 0 \nL 9.078125 54.6875 \nL 18.109375 54.6875 \nL 18.109375 46.1875 \nQ 20.953125 51.171875 25.484375 53.578125 \nQ 30.03125 56 36.53125 56 \nQ 37.453125 56 38.578125 55.875 \nQ 39.703125 55.765625 41.0625 55.515625 \nz\n\" id=\"DejaVuSans-114\"/>\n    </defs>\n    <g transform=\"translate(113.581639 16.318125)scale(0.12 -0.12)\">\n     <use xlink:href=\"#DejaVuSans-116\"/>\n     <use x=\"39.208984\" xlink:href=\"#DejaVuSans-45\"/>\n     <use x=\"75.292969\" xlink:href=\"#DejaVuSans-115\"/>\n     <use x=\"127.392578\" xlink:href=\"#DejaVuSans-104\"/>\n     <use x=\"190.771484\" xlink:href=\"#DejaVuSans-105\"/>\n     <use x=\"218.554688\" xlink:href=\"#DejaVuSans-114\"/>\n     <use x=\"259.667969\" xlink:href=\"#DejaVuSans-116\"/>\n    </g>\n   </g>\n  </g>\n  <g id=\"axes_3\">\n   <g id=\"patch_12\">\n    <path d=\"M 181.258491 93.384163 \nL 252.324528 93.384163 \nL 252.324528 22.318125 \nL 181.258491 22.318125 \nz\n\" style=\"fill:#ffffff;\"/>\n   </g>\n   <g clip-path=\"url(#pfa71aeef13)\">\n    <image height=\"72\" id=\"image9d94effdc9\" transform=\"scale(1 -1)translate(0 -72)\" width=\"72\" x=\"181.258491\" xlink:href=\"data:image/png;base64,\niVBORw0KGgoAAAANSUhEUgAAAEgAAABICAYAAABV7bNHAAAABHNCSVQICAgIfAhkiAAACxNJREFUeJzVnMuO3MYVhr9TRTa7p3sumpFkSZEDQ3CQRZxkkVcI4BfIe2aZRZBlllkZcKAsgjhwLFsayXPp6QtZVSeL4q05PaPRDGmPDkD0hWR18+c5f51bUf4of1J+BpEsw+ztIaMU3Z/hZxmaWtw0IVhByn9likB6ssKsHHKxRN+doM4RVmsIfvD/aQb/hUpENjYRAdP6zggqzeHVe5V4rraOQwSxNn4eWJLBRhYBMYgRzME+PDpErUUzGzUlMfidqC1+YvCjCFBIBDXUGiRBWT9IMB7sehe7fIgEJZnnmJXDLFaEH96geYF637tWDQcQIGkS7/TjI85//QCfCcWO4LMIRBiBmmYTBQmXRqm1SYJFAoiH0WlGulTGxwWT5Yowv4DVGv0oABJBkjRyzDjD7Y1xY8GPBD+CkEYtUVuZUOf8NitK86otQvBZ/DKZWfTBHmaUoqdn+DMPGkD7odbeAZIkQZIEc7DP4vefsnyY4DPBTaS+QAmAglkTAajMSZt9UL62wWvxkp8IbgrFLGF5eIRdKwf/OsC+/KZXEu9fg8RAmsJkzOJxysWzckYqN1NEExGNr9DsE9UaINmiAFppkRH8uNSiMRS7gnHC5DhjkmWIEVite7mc3gEyezM4eoDf3yGkDRDiiQB5oOKZmlv0kllpR7PaIqqYXBoNkzh+GBk43EdWa2S5Qtf3TYNE4PCA5YtD3I6Jd7gEyK4UUTam8tp8KtOSDidVwIQOSArJSmEZecyP4gnFjiF/tkdytsb8eIpf312L+jexxOIzwaeCGmnMp7pI0wLpCg2ppaVFG1+3uUqamU8NhNSgqY3+Uh+X08sobTEm+jKWBphKO2CTX9qOYdtl7YCiZvOrSsukPNYUWo8ZUiEkBiv9+MC9A6QiqK2cPUWCbGhI+339dptZtUXiuKItrqooSEFcc15IBU3M/dUg8R67DoDZdPqumJlq3imPuXLcrl+zxVcKieBHJpJ1T2FIvwCpIss12bsCN01Y75bDV+C0/JrKTG4CzlX7atIvx/BZ1CCbG7D2rlcDDMFBPiCu3AbKE3THrUOREnCtguEepH+AQkB8wPg28ZQk/L5Z6z1ypYmayE92BaOLwOjUoUVxux/pyGAA1c5fdVdLgKTFs3qbm7wNZAOqQrLyZD8WJOc5FO5Ol9EaegAJNN4yXA5Gr/ruFqIt5zLOaIq4gN7XYFVDQAoftaj7H1vRwa20p/073Si/9LnM2iG5Q8OlvMmtpH8NCtr4K22fp0WadwXnkrRiNwkK/h6nO9BQ81D8TPPH7zp0a0qvtFNNKwMp9AZMJcMkzEJ0/aVFqJUfpIbrE2TXSe1DSQ1ElXgjDKCZDGFiqq2t99E3THXz+/JNoFctGmCaV8T50lGMsViTEOtgdofr0DLWqjVSwXjF5A4p7jNJV/ngtgZdEazeWbaZaogc2JcM4we1VLxNrBtxl7LBU++VmpyvPsE4RVY55AXq+wFp0LIPQrwFFUhdTdLmsLZfs03qdAcRpA0uKoE2haKLJeRF1OQeZDgNal3E3Z3CGwygQNC4eY/24FbAQCQdt8ocPgCdKw7tmlWc5qt9NOYaAOd6CzNgAA3SUnuu44qtckMcu6ZVJ/yrG6IBfH/V1WFJ+o7pjVtJZVr3moPgEkjdZP0lXurEbu8TKbW0Ww5S1Y9gmu/xD/7cMkDK1aPOQ+GuTI22KxNdqWtcV+SQLhM2reqqQlGgzt3faF69R4occX4jo7itCNgF4UrfqD6BzVpad/pXRZ2LfUI9yUAmdoe79yFeQRXRD9hoNkjCbBtRXirzbJGNLGHLdLYfzIapVpVZ9f6eR/NQg7PBQXKzSepW2nAdkHeUYQAyLcUcqjZWNkO0y0lDyLBdrtrq6ujjIqQhZgmxJt9HKvc66R8gU1Y1u4FqHybQwUK6HGQFeurqqKR3gEQERimaJoQENIFwkzL5NgC7geiWfQj4UazL+8xixhmSjnprXhhAg8rGAWPqikNtGu/7z9fNWFQJNm29j+NqfSMErEVsf5fVfzTvPSxXSF5s9B7KliT+jTOKW1wENaVmCrEH0sWcdO1J9yT9e9LrNT7PsZMxxtF0mHVEOn7MtWNu2a+tTKW4MqOYB0Je9NptP8w0rzGrN0iao03M1dvyJojX3tIclQybk+byFH+t5nRM7spYrZy1qinfrsA4MEX/q38G9oO2FA/fA8L78kJ1hVaaRlGba2wzdv2nWYZfDlXfcamLfW2QarA+pAQEjRYNfAXDrvapp2LQFKpOe6nq6HL5uKsHY0Oz1MapHQ/0N2ldkp9wQR2XpuquFn0oqQ+Z5qhkOA0qF6ZI7AhueLnyjuMhdTN43TVfnU6Hw6sUd7cFpuVt9936AkPPYkrstqjMYwthV68bjQ3S+XzN+O3WmiFkWA4KivFKoNXk1AZjSxp24/wr9im0tKbljA5QKxgOoKCYXLFrkCQajKjGsKDSKqh5aesqn22iMQ6VsomkSnsYp0gIvSvSgHWx2Apce7llXHZp3Ub13U0Id5s5tTXoY+OgbdzQ1pZqFjLlYpR2QNvOBFRB6XW/8/GZWCnxomXTpEx7fzSPaklTtQ4sJNos/q28ZqhnwGosoNTUW/QD3EAGB6grEsplmZW0NYYmIViDWDqX7Wv/KfyfSgYFSI0QrGxcrF1rXE5J4z27seCmUUvcOB6fLJV0ETksWYS4JjUVXNag0zyd4QbJuFvKsAB1altSaoPNteYcFSnX1EcAihmlSyAky3iMXUcT9Cr41DRLPWEDmBs1Wn2gDPhoCoNaIZS/YPIIUEggnxmKqbB8JIQMiqnipx6sIhOPGGV5kWDPLaYQRicJyTIuDB6dK7ZQvIcQZGMS+Lg4yAghFXwm2HU0F4BiJz6SYv4pPPnDK57PTniYzTlKL0jFs2tXGAkcF7u8yXd5l+/w1eunnJ2PSf+bcfQV2EIpJlK7D1J11Q4gwzdxQuM9C/EpDFNwM8/z2Qkvpsd8kp7xKDkjFc/UrDEEjuycw+SC49GMN6sZr0WZT0e4sTSp1nY6d6AnwQweaki5sC7YCM7ZrwKj5xf8cv+cL3a/45P0lE/TtzxJzkkJTE3AAMd+zqGd8yydkD1yvD2Y8vfRC97wkGQhTH4QspM4thohJIraj4mDQhNWiILaSMT26YIvX/yTh+mcz8ffMzVrfpGc8cwqqRgmMsaKYSoLMjml4JwjO+dCRwD8NU+Zn00YnYxJlgG1cWYLVjZL3j3JAM/uKB9+NErLNexCvgduBm6iHO0tSMVTqOW74gFjKbgIGd/bORYlFQcELsI+C83wargIIwpNMKI83T3n2HrOjzIWFxbjFXFg+1mBeUkGePpLiowzZFI+EmcCF595vvjtNzzK5hykCzLjmLuMb5cPKNQQSkcpqJCXZdixdUxsgZFAKgEjgZld8+UnX/POTflz/jtOd2ak54adV4KEj8XEjMTKZtXLrKBp4LPpWx6Pzjl1E06KHc5cxuvlLkWwFN5SBIOqkLsIUJY6dtKCRAJZ4kjE82g852E6JxVPljoW40BYGii9c/HaezTff+GwcARWGHvO7n8OyE5HQMpfdn+DTTzFt1OydwabQzIv0xStzKAtXwsLJ2X8VcVjL/fhb0cBNWBXQlYI42M4fLkmPcsxb04I935BXfDo2hO8J/n3K9LJGDVPKHZ3AHj+D8f05WtkuSYcv/2gMrF9+oT8s0f4iWXxOGG9J8xeecZf/4/w4wku75+IhvWDgpa56SYXJOV6Mi1r6B9UR3eufGiBKWfH6CRqCL2t7unK/wEFZ9PulgKVuAAAAABJRU5ErkJggg==\" y=\"-21.384163\"/>\n   </g>\n   <g id=\"patch_13\">\n    <path d=\"M 181.258491 93.384163 \nL 181.258491 22.318125 \n\" style=\"fill:none;stroke:#000000;stroke-linecap:square;stroke-linejoin:miter;stroke-width:0.8;\"/>\n   </g>\n   <g id=\"patch_14\">\n    <path d=\"M 252.324528 93.384163 \nL 252.324528 22.318125 \n\" style=\"fill:none;stroke:#000000;stroke-linecap:square;stroke-linejoin:miter;stroke-width:0.8;\"/>\n   </g>\n   <g id=\"patch_15\">\n    <path d=\"M 181.258491 93.384163 \nL 252.324528 93.384163 \n\" style=\"fill:none;stroke:#000000;stroke-linecap:square;stroke-linejoin:miter;stroke-width:0.8;\"/>\n   </g>\n   <g id=\"patch_16\">\n    <path d=\"M 181.258491 22.318125 \nL 252.324528 22.318125 \n\" style=\"fill:none;stroke:#000000;stroke-linecap:square;stroke-linejoin:miter;stroke-width:0.8;\"/>\n   </g>\n   <g id=\"text_3\">\n    <!-- t-shirt -->\n    <g transform=\"translate(198.860884 16.318125)scale(0.12 -0.12)\">\n     <use xlink:href=\"#DejaVuSans-116\"/>\n     <use x=\"39.208984\" xlink:href=\"#DejaVuSans-45\"/>\n     <use x=\"75.292969\" xlink:href=\"#DejaVuSans-115\"/>\n     <use x=\"127.392578\" xlink:href=\"#DejaVuSans-104\"/>\n     <use x=\"190.771484\" xlink:href=\"#DejaVuSans-105\"/>\n     <use x=\"218.554688\" xlink:href=\"#DejaVuSans-114\"/>\n     <use x=\"259.667969\" xlink:href=\"#DejaVuSans-116\"/>\n    </g>\n   </g>\n  </g>\n  <g id=\"axes_4\">\n   <g id=\"patch_17\">\n    <path d=\"M 266.537736 93.384163 \nL 337.603774 93.384163 \nL 337.603774 22.318125 \nL 266.537736 22.318125 \nz\n\" style=\"fill:#ffffff;\"/>\n   </g>\n   <g clip-path=\"url(#p199cd2222b)\">\n    <image height=\"72\" id=\"imageef93d57b76\" transform=\"scale(1 -1)translate(0 -72)\" width=\"72\" x=\"266.537736\" xlink:href=\"data:image/png;base64,\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\" y=\"-21.384163\"/>\n   </g>\n   <g id=\"patch_18\">\n    <path d=\"M 266.537736 93.384163 \nL 266.537736 22.318125 \n\" style=\"fill:none;stroke:#000000;stroke-linecap:square;stroke-linejoin:miter;stroke-width:0.8;\"/>\n   </g>\n   <g id=\"patch_19\">\n    <path d=\"M 337.603774 93.384163 \nL 337.603774 22.318125 \n\" style=\"fill:none;stroke:#000000;stroke-linecap:square;stroke-linejoin:miter;stroke-width:0.8;\"/>\n   </g>\n   <g id=\"patch_20\">\n    <path d=\"M 266.537736 93.384163 \nL 337.603774 93.384163 \n\" style=\"fill:none;stroke:#000000;stroke-linecap:square;stroke-linejoin:miter;stroke-width:0.8;\"/>\n   </g>\n   <g id=\"patch_21\">\n    <path d=\"M 266.537736 22.318125 \nL 337.603774 22.318125 \n\" style=\"fill:none;stroke:#000000;stroke-linecap:square;stroke-linejoin:miter;stroke-width:0.8;\"/>\n   </g>\n   <g id=\"text_4\">\n    <!-- dress -->\n    <defs>\n     <path d=\"M 45.40625 46.390625 \nL 45.40625 75.984375 \nL 54.390625 75.984375 \nL 54.390625 0 \nL 45.40625 0 \nL 45.40625 8.203125 \nQ 42.578125 3.328125 38.25 0.953125 \nQ 33.9375 -1.421875 27.875 -1.421875 \nQ 17.96875 -1.421875 11.734375 6.484375 \nQ 5.515625 14.40625 5.515625 27.296875 \nQ 5.515625 40.1875 11.734375 48.09375 \nQ 17.96875 56 27.875 56 \nQ 33.9375 56 38.25 53.625 \nQ 42.578125 51.265625 45.40625 46.390625 \nz\nM 14.796875 27.296875 \nQ 14.796875 17.390625 18.875 11.75 \nQ 22.953125 6.109375 30.078125 6.109375 \nQ 37.203125 6.109375 41.296875 11.75 \nQ 45.40625 17.390625 45.40625 27.296875 \nQ 45.40625 37.203125 41.296875 42.84375 \nQ 37.203125 48.484375 30.078125 48.484375 \nQ 22.953125 48.484375 18.875 42.84375 \nQ 14.796875 37.203125 14.796875 27.296875 \nz\n\" id=\"DejaVuSans-100\"/>\n    </defs>\n    <g transform=\"translate(285.987005 16.318125)scale(0.12 -0.12)\">\n     <use xlink:href=\"#DejaVuSans-100\"/>\n     <use x=\"63.476562\" xlink:href=\"#DejaVuSans-114\"/>\n     <use x=\"102.339844\" xlink:href=\"#DejaVuSans-101\"/>\n     <use x=\"163.863281\" xlink:href=\"#DejaVuSans-115\"/>\n     <use x=\"215.962891\" xlink:href=\"#DejaVuSans-115\"/>\n    </g>\n   </g>\n  </g>\n  <g id=\"axes_5\">\n   <g id=\"patch_22\">\n    <path d=\"M 351.816981 93.384163 \nL 422.883019 93.384163 \nL 422.883019 22.318125 \nL 351.816981 22.318125 \nz\n\" style=\"fill:#ffffff;\"/>\n   </g>\n   <g clip-path=\"url(#p7d3d8c33b7)\">\n    <image height=\"72\" id=\"image2ecd2208bd\" transform=\"scale(1 -1)translate(0 -72)\" width=\"72\" x=\"351.816981\" xlink:href=\"data:image/png;base64,\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\" y=\"-21.384163\"/>\n   </g>\n   <g id=\"patch_23\">\n    <path d=\"M 351.816981 93.384163 \nL 351.816981 22.318125 \n\" style=\"fill:none;stroke:#000000;stroke-linecap:square;stroke-linejoin:miter;stroke-width:0.8;\"/>\n   </g>\n   <g id=\"patch_24\">\n    <path d=\"M 422.883019 93.384163 \nL 422.883019 22.318125 \n\" style=\"fill:none;stroke:#000000;stroke-linecap:square;stroke-linejoin:miter;stroke-width:0.8;\"/>\n   </g>\n   <g id=\"patch_25\">\n    <path d=\"M 351.816981 93.384163 \nL 422.883019 93.384163 \n\" style=\"fill:none;stroke:#000000;stroke-linecap:square;stroke-linejoin:miter;stroke-width:0.8;\"/>\n   </g>\n   <g id=\"patch_26\">\n    <path d=\"M 351.816981 22.318125 \nL 422.883019 22.318125 \n\" style=\"fill:none;stroke:#000000;stroke-linecap:square;stroke-linejoin:miter;stroke-width:0.8;\"/>\n   </g>\n   <g id=\"text_5\">\n    <!-- t-shirt -->\n    <g transform=\"translate(369.419375 16.318125)scale(0.12 -0.12)\">\n     <use xlink:href=\"#DejaVuSans-116\"/>\n     <use x=\"39.208984\" xlink:href=\"#DejaVuSans-45\"/>\n     <use x=\"75.292969\" xlink:href=\"#DejaVuSans-115\"/>\n     <use x=\"127.392578\" xlink:href=\"#DejaVuSans-104\"/>\n     <use x=\"190.771484\" xlink:href=\"#DejaVuSans-105\"/>\n     <use x=\"218.554688\" xlink:href=\"#DejaVuSans-114\"/>\n     <use x=\"259.667969\" xlink:href=\"#DejaVuSans-116\"/>\n    </g>\n   </g>\n  </g>\n  <g id=\"axes_6\">\n   <g id=\"patch_27\">\n    <path d=\"M 437.096226 93.384163 \nL 508.162264 93.384163 \nL 508.162264 22.318125 \nL 437.096226 22.318125 \nz\n\" style=\"fill:#ffffff;\"/>\n   </g>\n   <g clip-path=\"url(#p24ac278ba1)\">\n    <image height=\"72\" id=\"imagee074749ae6\" transform=\"scale(1 -1)translate(0 -72)\" width=\"72\" x=\"437.096226\" xlink:href=\"data:image/png;base64,\niVBORw0KGgoAAAANSUhEUgAAAEgAAABICAYAAABV7bNHAAAABHNCSVQICAgIfAhkiAAAGO9JREFUeJzNnFmTbMt1138rM/dQ1VVdPdxzzp2vdCVZkg0WtiEECiYHhiBCr36AJ74AfA4+A6+88wREAA+Ew9iEQbIwgSVLlu+oe3XuGXuqYQ+ZuXjIvXft6tPndJ9zWwEZUdHVVXvI/O81/NeQJb8nv69cM+zxEff/2bc4/RstWMXkAQ1C8UHJ/sfK5Iln+j8/Jjx6tD1JZPter73Fr2YYS/X93+Gz3zXEaaQ83jAta04+OuT4zwzFWWT/fz8k/NVHz72Ee+mbSrdYSS8V0DEY/fh/BcqloQYwbOcNw7y5YtqXxwsBEueQPEdmezT7MDnckLnAYlIRVPjl8jVs5UAssyL/Ugv5VQwxwubIcvC1J8yLhsJ6rImcLGZUd0rUGebT4oXXuB6gvT10NqVdKO8dnrHIN7w3fQrAf9mUrJt9JBq0/P8PIMSwuSv8i6/+KQu74YPqLhe+5MHhjNO7OTEzhL3ihYJ0YxVTwErEmfQCMKLPiKqZTpH5DBFJdsgYiBGN8dUWec0QEXBpGVpVaN1ACMTNJn1mYG4q9kxNaVpWFJgbqFY/XgiQhojUNTQtEkFViN0LoGkddiOYGiREEEF//X0efWdOzCDmghowLdhKER3pvu6aheGel23D5cXo6FyFUEC7nw6afxqZ/aLCLmvMh5+hVT2cZkkPKCI03mJrwdZgfORF1vLFEqQRDQETIqLp4j04UYUQBOPBeJJRFkP92oSLr0LMIZQBdYqpDG4tCWQzAuiSUA3gyOj/MUgjUCWkA8JE8UdNd0yOrQuKzJDn2QCQ6U4Kaoa5iwfxwDWSfb2KqYImVepVrL/hZeclRqgXluatBpsnUEUh5pY2t6CgmYLRThJ6JLrX8zzLZVFTQYJAAJ0GZsdrRJTqKGNzbICMIsuGwy0RI5FMAgZFRIe5XTderGJRIYROOiC3gdx4MglELi2uG5s7hu/+2kdMbMuny0NWTU7dOqomTXg2qZlkbZJAFVSFEA2xu8ZV9kG6lfQPJqqwaTLa1rK/V/GtowdkEvmDi5LVZoJaw37vVQUy8eQSugccBpBfqFs3AWiLVALIdFe0EgGDXDbSYogWFtmGiW0p7JzaOIKNWBsRUZwNZDYQVTAxiXwwkdC9lyse6yCx3fuogrfp+NJ5Zq7BoBirqNWO+5ir0d5ZF3CN77geoP7RdjZo52QXqXOIWTchjUiETUjS0kZLEyyNt3ifFnQWJlyYcuCRqkKMSZIgAfSM6g4qvVXt/vwmWM7bEiMRv3GUS8FtuuPyHBWoNCePgVYtPlpiNEhINlBUv5yRBrsF6dKwJhIzJTpBu6clCj5avETaYPHBJBUKBlXBq6TL7tymo7aigzTKJebbA9PfxNqIMUqIhiZaojpoDG4NtlYQQZwDgVYtjVraaGnVEKMkgALXMv6XDzXYeoPcBeIkEnOTJIi0TmcCzgRK19LmBmdjArOzOarPhmpjCRpweY6GiCime02yltwklUVBQkcnigyZTlC7e67tpVCT9Fw3bgZQJx29DYoqGFH2y4rT/YZ2bsFZEIMaKExgZmuOijWl9Tv0oLcnBsVIHGxK7EDfvW3HXXr3PLqOj0ki53nFUb5iE3JEE7eRCGFeYjJLKHV0PR3WMNCMX4UE9SMzgSz3NI6dx206OlBYj7+08H6SSQIiVpRwU4BUhus1wRERchPIJOA779QvWp1Bc8cVl0VVbhKnAi8DkGwnHDAYAvt5xeFszf3pHuq2M4lqdiQmquDjFUCN1KmXyvGI6obvdj9PdqeNFieBQHdtL9haMQHCxBFKR8w7qWcrhbBl4teNV5agqMLc1dyZrPjl5GgAqF/jeFHpydudzy6DAVsVhmdZew9gf14dHG2wTJwdOJXx4GpFghJKk5xHpkQ1hNFDe5nxSgBFFaxAYT2zrMZkofO9cfj+qvE8UPqnGpEdkHrpG+zWiChevq4VhShISFQjFIaQCeq2Un/1Yl681hcDJFuypaMJtp1rOMpW3Mkv+LO9t1Bn0zIVWjXDMYO9uUKetzbGDkD0YPXHD6DKVqrMyIsZNIUSKBLAVpGYGaoDg58KMm0IyM58+gXdJNR4DqyXgRqry1ZUMwks7IbMhquzileAcdX/Y+/4vHONxCtBTt+PmLbvAtMc/ASMi92cb7bUy+N6ohgC+PCM1Y8qlKZlYdcUmQdTpkn2RFEt4YoFjz3TmJlfpX7be+0e2wMpsqUKRmLnuhW14PeEdgZ57gkIppfM7v4SgXg9F7oGIEW9TyDBMJGoBiQwNQ3Hbskka7epCWXwMJcXdnn0nu2yR3vmuCsM7JYqjM7rATIJnHYRWeQtbXSDrmSypQM34UE3k7suXnEdb4Gt0TOXrZxu+cpNjPWreJarrnN5RKfEPOJs7GzXpaXeRrpjGCKoUw7yzY4dCEgyj6NFSlTWPie34ZnLbNWhUwm2ccBgh0YerR89axbRbbq3ywjkHUGMatKCI0nFZopdtMyLegiN0hw0hTq3yoOMQS1MTENgVzLCpScjmqJ4H82VbvlFT70fY9c+cCEEe4kCXKmamlQsFpFpmSoZEeEZSj2AdBsq9hJDIrTB0kT3DLmDLemLN1DB3s7078ffGxQnYWv06SP07rhJ4HBvw35eJZI4GOlROuVXyaSfO2LK0TTBkhu/SwTV0DOziOyo5uUx8KAOpMhIalBy63ESySQOTFqCYBqPCkz3K7558JA9V3cPIslCn7y/CThwmxIkkoglDGmN6095cbhx3bjSi3XpDmcje64evNZV0np76Y7RhNBI7IxrVENAsCYSJpZsf4Y6CFG6JJZcit63htsRiGbMjEfeUM1OKsSIGY5LaqUpijcjFdMuS9imHPokbznOVkSENu4mhWIcVWPCi2ONW5EgI0rMBJlMiLZPio0M89iWjMOEkcqMpWHX2+3anr5w2TPrnnZETWUlWo/EVGBYuDWFeGA3FtNe0m6NB10aYwNrUaxEQtGVn01yyz7ejN4/Iz03GD0wz3gwAazZcVgR2QFnCEtu4MHgFYx0wHTEK4mtlUhuAyd7hng4I2bgvaX27koWHS9J1uXPt8kxBtbe8yBIZHUc/I6DWrWgmUXt9lrjNEdmlExC8mI3zCi+kgRdjrGcBNRCzNLTSyXq66/zPMm5EtiduO3q85KzMqhczbfs6LybFg5fCqBxXb4HyZBsQihSFk8NBG9oQ2+k4zPnXpkXGtuaHc6Trp+ZMBho2KY+2k5CogoxU/y8oJ0KpWuZdg0LRnTwZlYiMRhMA7aOiH+W8b88QDFFyr0uj22LlUhuAiEXQpkkKARDCB3veE6S68rJjOzRWErcqKvEjOLBtktjDPPKoJ05wkSYuoapqSlMm0rOI7VUwLaKafVaL/ZKRNF0BC2TgO2qE2ohOkndW1GIsXPNQ66nB3UsUWYUBlxKg4wewpZojkOcno3H7ecmdZREt5vc24Qs/d9dUoNgWsU08RaaF7rR53mMRCY2PZXCtBgihQmpm6NI+q+twbstD+oXmQATjCZ27TsQnYlDvuZycn9nstKDspsCKbQrLWVKu2fwE4YgdhlKHtT7GIkc5WsK44mVozgLZKcVWtfPvd9LAdQv0tB3S6SF2y7bFy3E/mpRXsiHe7DGSfmd769MtOmOaveVEieR0DdCWCV0jiKFJ4Y2WqrgMKI00aVQIwi29kjd3pKKqWI3wqerQ3LjmbqWwnhK0wJw0kyT/k+FUIJkqVkht4ntTmy7s9DefV8FxFUerFdTN7pWEW3iOCqctROWbYHEpF4YqILjIkx40u7xcD0HYNkWyZadW+z5ClluiE3z5QHSEHEr4fOzRWriLCsyk1pg1iHnpJ4Sc6WdCaFQTBZxLrXKOAkYq8PCepa8A8qlwuGz1Y30lLOxF+vAPW2nPKwnLJsCYjLUaqEKGU/9Ho+qGU9XU2IUTl2JAPmpYE+X6Nk52mwf3isDhEaMh02dpcUU2xgrk0BhPaFISXIMhMbQSMZJPcWZiI+GptO/sat+XhlnC8zz6UCvosu24LSasO76j0IphFKZZTULl0rf1kSsgVlZk5nI/ckBmmeQZ3ArNihE8jNl9WhKu99wd75k6hruFed8rXzIOub89K17bKYF0gjZg5xo4cPlPT4qX0Mri1nZnRa8ROo0vbfadZfpqNeofzj9q2tO8F3CPmwboHrhE4HVOxFer/nHRz/he5MPsaQMZ+la/uHhz3g/f8i/OvnnVO8dUBQO87kSXgDSjSXI1mCXBl/YlI/pGhSO3ZK72QX7sw1nUdAnBe4iufs2OGJuydZCfpYSWgNAZvs+OlDXNWNd4cT6fkTT9RWKMvT3RJf6IaODdj8SFp7D+ZpvFF/w9azg5/kj7pRvc5Ct+d70A34zL3n7+JR6/w3csiAbteq9OkDOUR0L+s6a/WnNPK8ojOdhO6fW93jUzJnkLe1eTWWUzcwhLrI4WDMva1ZNxmpTEOOuKvWZPWMUa2JKKXUq1LfJ9O8hpSnG1+jP75uu+k7tIvP84fJbfNw85j89+ev88Bfv4Fzkg+VrvDk556OfvcHX79e4x0u0qr48QJJlrN+M/KOv/yxF0V2W8LP1Af+nfhMjyjyvmec1B3c3HOVrjrIVvzf/Me9n5wRNNDBVOA2tGhoMlWZDTulybrvF0qrDELESEyElUpoWS2RuGvbEcxEzHoYZay3444tv8OOzN2ij5T9+/hv4YHn86QGzDx2i8NPJPj/J4N5PI+5nvyCeXaD+Now0Sec3IRtoPsDa56zbjMxEDsoNpW3Zsw258ViJNGpZxd2Qw6AUXbcppK6LgBBkNz1iiUOSvgcpk0ApbUqxjLxcS+ogg209f13nNK3DVAbbeXLTaZPxCk2bwLmN/iDdbDj6c/iT8Bv4PcXeqXBZwHRqMZ9UvD97zN3sgh+evsuffP4ebWv5t6u/A60Bq0gWERsppw1l3mKNktln06FGdLDP2/7mkVp1/58upzS1Q71BqwSO22/Yn6+J0VA3jhjSLp/NPSHkYN9dcbS/4qm9x8GfHmGBuKnQ9vlc6GYAVTWLv1qTbUrWrxnO25JqGmESyEpPKAxvFSe8lz/mD/3X2dyf4ZaG4w+gfBoJucGXjphBdTxhOdPEvAvd9VYCOvZshi7PLEMXhsTUBF4+MhycKtK1vKgRTr49Yfl+180RTPJ8WaQ5BJkG/sF7H/LdxYf868++T5xPkFWJNA36Ai27mYpZS7ufsX7N0O4nSi8qsHT4C8ejVca/k99iUVT8/LO7FI8sEmB9D9b3bMpT56k9N8wCWsTkisbxa5BdFy9bgFKT5wjAKKxzpXrNYFpwq1Q0FK/ET/ZAwfp0bl4JtoJQOP5r/W3+2+J9Zj/PMBcbtK7R2wg1JM9ZvpVx9mtdH3IWkSiUX1imDxUVQ53d5YGB46VSnAeqI8Pqnyz5u+9+uJOiqIOjjo4qOM6aCW2wrJqcqnXPtARfHlnmmeYtuQ28Oz/hjfKMB/Wcj8+POd2U6A8OeeO/t5g2plxPiNh1i6w6T+UsGIOcPyU8fIS2HuKL80E33+1ju20EJLImITVMurV2mbkuXtoo2SrQTg1Z5nlv8mS4RlDDiZ9ifDGkQsaln77b9Sq7OXbpRpSDbMMb+RkAp+WUNhrOI2RLj/iIqTwSI7KqkOU6SUrboCESm+baKH647022ZJqyJP7mN1i/NSU6CIUQreCnidqnRFXKCc8+gcO/rIm54ewrGc3iUleGp2s76XPCdGXgjv/0DVu2e/WpoT6Xc0m4TMvQOF4dC81hHB6mimIag6lTxcPWiawe/UVg/p9/Qry4uBagG0lQrCr4wZ8z/aHBzvaQ146I05Knv33I6i3FTxW5V5Plnmo5x7SR7Omaez96RDw9u/Ka4hxSFmAtkmWQZakikfd/XXpZIXaJeNNGTO2RNiBfPCE+PR3a/sxin4/+5bf4p3//f3Env+Cb5X3mdsMqFlyECZVm3G8OWIaC/7D/t1j80fT2AEIEu9hHJhP0aMHyqwvamWH5ttC85pEysJivmeQtX9zb4+SbE9ymZHJ3D7fyqW8wxCQ5bUD6LF6nN9EZ1BgwoDa1/ak1xMykUMRK+swI6gTxDvv6MWYxh8wR9nLqeU59HJjYZsg/QypLlaZNkb4KTXTPbMP60gCZosD/+ldYvT3h/CsG+d4Jb+6f83ZeschS2LHvNmQm8MvDB3z+nQVttFzUxbDTp14XaGsw5w63EUwjZMsUW5m+6UDT+74kY3w3gU4FVdIGPbXQLKb4CdSHSvaVJbPJBX/z4AmZBGp1/KI9IvOpyauUhnUs+Hh9zP31Pm4l13qvlwIoufmczZGwfj3y++/9Bb81/YRKM6qY6Gn/1L5aPMIsIhHDRZjQquVBu88n6yOWbcGnpwesVyXNxtKeZKkE3AjGJ65j/BYc09CBpqAdOC7ZvM09pV0EJnfWfP/9H/NWccIylFQxI6hhHYohRCltauRc+oJVk2NaeGbDyJcCKASys4bpY8P6jZQEb9Ty1M84CxOAocRbmpbCtEQ1VOpooyOTwN3igkW2wUnkYlZQecf5cUkIaXOJj4J2BULVlFjXPjDt/3b8SKyyN684LmvuTFfMbL19SCYl6peh6MpClkodZ37Kqk17125dxTRE3JMlU4HinT02IadVx1O/x/1qgRGlMB4jkZmthwm3mtKipWlZlGsA3iufDi2549EX9fqg1V7qarUSd/p8sq43qI/JohoySdsS1jFnFQo2IWMTc9Y259yXrNuMpnVk/RbS2wIITQU20wRMm/aDVZpRx0T6xrWscRaw70YrOmMy7hUaVzl3Wl5G6dVebfu/4Ypew/6zMXjrkCdCGhxOIq1JDV2rOqfeZBQvTkPvjJtJUFSoG8yqxq2V++t9Pizu8KiZsWyv3phvupq9k74q+mxBcLxJpV9cX+8qjKewKac9sS2laQmjBnUftwVD3yXwNyFjEzJ8NFTdX9+10jyp91h+vk/xwLL3Rbg2F/1SAAGoT2US2yirJufcT6hCRhW6PevdIn1MG+isiUxc2svVl48TQNsKpx8B5Lsenr7eVdqW0nqcCamBwZhBImOXU/KjykZUw7ItWPl8ABDSriAfLRuf4c4N5RPIL+LQ2nw7AGmETYVGxW2U06rgST0FoOy2PNXB7fQ99wtvogUsdPMZfxei2QG1r3VFFTIbkgSayDKrKK3fmdIY3B60ZtQotX0gkVYN6zajfCzsf+opHq3R2wVICRcXsFyRn73LelnwcDrnoNywn1U00bJqc9pgcSbtLgSGzq7Q9QtBt4+2A6f1dnjfe7N+66YxEdNtBp4WE3LnsaLDtV/ULWtEk1p3x/pouagK9j8JzH70GbreEK6ph70cQB1IaMDWEV1lnKwmFM5zp1wSSeXjEM0QTMJuR0cPTP/rDSHK0PfTg6N9zlm3+7tUhcamhTq77fgPXd/0GJRefcdzqELGqi2oNjlH64heLNGmuWUvNhr55yfc+6PXqY4WfPK3c757/PFgOCuf7dTc+wgzklKuAvgOMB8sbWtTv6BJm3TVCGJSozd9G18EHzq7RNoGnmr5WyD6/91IapqQ9ot88PA1wi+mFE8M5f2zlEG8oXq9EkD6+ClHP8rwh1POv1lyNz+njhmrULA0OVXIaHDJRkQGkLRbTNCOEALB206dfAJIJe0u76UqpAKa9zbtcLap6Dj+BQgnYfCWhUlG3UdL1AIfLM1JydHPheI0Yk8u8C9Ir94OQN5jlhucMex9vMe/+cnfI8s8e0VDYQPTrGGW1UMJpvdQvXcqbN/CJ8S9NUaUvaxh6prh+D6obILttpKbYdvBxLU7FGLY5KuG02rOqs1Z1gVPHs/RjWX2kWPvC09+7tHNi0s8twJQ3GzQLx4iTxzv/PtA+4M563t7PPxtwR97Du+d8zv3zpjYpmPXSh0dqy5JVtjUXH4nv+A700+Zmw3HZs3c7PKSStMe95VmfNDc5Szs8dTv8aDZJ6gwszWF8axjzuN6RhMsHz05Yv1oj/yx5e0fBCb3N9jTNTw5gdYT1+tfPUCoom2Dtg32/kPy8yWmvsvZ+zM0syznBWdtSR0tM9fgJFBHN7jlnvgduRVvuhMOTMNclLnZTiWgRFVaPKvYsnJn5JJ+OeERcwLCJuadauecNhM2PmOzLHCnluJEmH66wnz2EF2viavVSy/z1QEajVjXiCrusye8/j8c7cxRL6b8/OCbRAthArHbedMuAhSRd95+wrcPv2ATMu43KY572u5x2kwGAw+Jx+TGU5jAm+UpM1vxl6vX+cnJPc43JZsP9pk8MCnqr1Ot6/VzJb/wZOce+8UT4mqV8s5fYnwpgLSu0bomXlxgP/8lVgwlICb9LIQ5PoIip373iNNvFNQLx/3JgjdnZ1Q+46wpqbzj0cmccJp3JZ3OzRcR8oidev7aW/f52uwRny4P+eLRAj3NeecPInt//DPU+/Q7QRpTSASgEX9LPzL3cgCNf1Xk8uh4EmxTLdq0iLMpGdbt8OvPjiSCqJr4j0SBIF2jQqqFac+NumbwYQNMt7tZvYf2ZhXSVx3/F4594xAC/5t0AAAAAElFTkSuQmCC\" y=\"-21.384163\"/>\n   </g>\n   <g id=\"patch_28\">\n    <path d=\"M 437.096226 93.384163 \nL 437.096226 22.318125 \n\" style=\"fill:none;stroke:#000000;stroke-linecap:square;stroke-linejoin:miter;stroke-width:0.8;\"/>\n   </g>\n   <g id=\"patch_29\">\n    <path d=\"M 508.162264 93.384163 \nL 508.162264 22.318125 \n\" style=\"fill:none;stroke:#000000;stroke-linecap:square;stroke-linejoin:miter;stroke-width:0.8;\"/>\n   </g>\n   <g id=\"patch_30\">\n    <path d=\"M 437.096226 93.384163 \nL 508.162264 93.384163 \n\" style=\"fill:none;stroke:#000000;stroke-linecap:square;stroke-linejoin:miter;stroke-width:0.8;\"/>\n   </g>\n   <g id=\"patch_31\">\n    <path d=\"M 437.096226 22.318125 \nL 508.162264 22.318125 \n\" style=\"fill:none;stroke:#000000;stroke-linecap:square;stroke-linejoin:miter;stroke-width:0.8;\"/>\n   </g>\n   <g id=\"text_6\">\n    <!-- pullover -->\n    <defs>\n     <path d=\"M 18.109375 8.203125 \nL 18.109375 -20.796875 \nL 9.078125 -20.796875 \nL 9.078125 54.6875 \nL 18.109375 54.6875 \nL 18.109375 46.390625 \nQ 20.953125 51.265625 25.265625 53.625 \nQ 29.59375 56 35.59375 56 \nQ 45.5625 56 51.78125 48.09375 \nQ 58.015625 40.1875 58.015625 27.296875 \nQ 58.015625 14.40625 51.78125 6.484375 \nQ 45.5625 -1.421875 35.59375 -1.421875 \nQ 29.59375 -1.421875 25.265625 0.953125 \nQ 20.953125 3.328125 18.109375 8.203125 \nz\nM 48.6875 27.296875 \nQ 48.6875 37.203125 44.609375 42.84375 \nQ 40.53125 48.484375 33.40625 48.484375 \nQ 26.265625 48.484375 22.1875 42.84375 \nQ 18.109375 37.203125 18.109375 27.296875 \nQ 18.109375 17.390625 22.1875 11.75 \nQ 26.265625 6.109375 33.40625 6.109375 \nQ 40.53125 6.109375 44.609375 11.75 \nQ 48.6875 17.390625 48.6875 27.296875 \nz\n\" id=\"DejaVuSans-112\"/>\n     <path d=\"M 8.5 21.578125 \nL 8.5 54.6875 \nL 17.484375 54.6875 \nL 17.484375 21.921875 \nQ 17.484375 14.15625 20.5 10.265625 \nQ 23.53125 6.390625 29.59375 6.390625 \nQ 36.859375 6.390625 41.078125 11.03125 \nQ 45.3125 15.671875 45.3125 23.6875 \nL 45.3125 54.6875 \nL 54.296875 54.6875 \nL 54.296875 0 \nL 45.3125 0 \nL 45.3125 8.40625 \nQ 42.046875 3.421875 37.71875 1 \nQ 33.40625 -1.421875 27.6875 -1.421875 \nQ 18.265625 -1.421875 13.375 4.4375 \nQ 8.5 10.296875 8.5 21.578125 \nz\nM 31.109375 56 \nz\n\" id=\"DejaVuSans-117\"/>\n     <path d=\"M 2.984375 54.6875 \nL 12.5 54.6875 \nL 29.59375 8.796875 \nL 46.6875 54.6875 \nL 56.203125 54.6875 \nL 35.6875 0 \nL 23.484375 0 \nz\n\" id=\"DejaVuSans-118\"/>\n    </defs>\n    <g transform=\"translate(448.302995 16.318125)scale(0.12 -0.12)\">\n     <use xlink:href=\"#DejaVuSans-112\"/>\n     <use x=\"63.476562\" xlink:href=\"#DejaVuSans-117\"/>\n     <use x=\"126.855469\" xlink:href=\"#DejaVuSans-108\"/>\n     <use x=\"154.638672\" xlink:href=\"#DejaVuSans-108\"/>\n     <use x=\"182.421875\" xlink:href=\"#DejaVuSans-111\"/>\n     <use x=\"243.603516\" xlink:href=\"#DejaVuSans-118\"/>\n     <use x=\"302.783203\" xlink:href=\"#DejaVuSans-101\"/>\n     <use x=\"364.306641\" xlink:href=\"#DejaVuSans-114\"/>\n    </g>\n   </g>\n  </g>\n  <g id=\"axes_7\">\n   <g id=\"patch_32\">\n    <path d=\"M 522.375472 93.384163 \nL 593.441509 93.384163 \nL 593.441509 22.318125 \nL 522.375472 22.318125 \nz\n\" style=\"fill:#ffffff;\"/>\n   </g>\n   <g clip-path=\"url(#pa942563d3c)\">\n    <image height=\"72\" id=\"imageb23385ed94\" transform=\"scale(1 -1)translate(0 -72)\" width=\"72\" x=\"522.375472\" xlink:href=\"data:image/png;base64,\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\" y=\"-21.384163\"/>\n   </g>\n   <g id=\"patch_33\">\n    <path d=\"M 522.375472 93.384163 \nL 522.375472 22.318125 \n\" style=\"fill:none;stroke:#000000;stroke-linecap:square;stroke-linejoin:miter;stroke-width:0.8;\"/>\n   </g>\n   <g id=\"patch_34\">\n    <path d=\"M 593.441509 93.384163 \nL 593.441509 22.318125 \n\" style=\"fill:none;stroke:#000000;stroke-linecap:square;stroke-linejoin:miter;stroke-width:0.8;\"/>\n   </g>\n   <g id=\"patch_35\">\n    <path d=\"M 522.375472 93.384163 \nL 593.441509 93.384163 \n\" style=\"fill:none;stroke:#000000;stroke-linecap:square;stroke-linejoin:miter;stroke-width:0.8;\"/>\n   </g>\n   <g id=\"patch_36\">\n    <path d=\"M 522.375472 22.318125 \nL 593.441509 22.318125 \n\" style=\"fill:none;stroke:#000000;stroke-linecap:square;stroke-linejoin:miter;stroke-width:0.8;\"/>\n   </g>\n   <g id=\"text_7\">\n    <!-- sneaker -->\n    <g transform=\"translate(534.196303 16.318125)scale(0.12 -0.12)\">\n     <use xlink:href=\"#DejaVuSans-115\"/>\n     <use x=\"52.099609\" xlink:href=\"#DejaVuSans-110\"/>\n     <use x=\"115.478516\" xlink:href=\"#DejaVuSans-101\"/>\n     <use x=\"177.001953\" xlink:href=\"#DejaVuSans-97\"/>\n     <use x=\"238.28125\" xlink:href=\"#DejaVuSans-107\"/>\n     <use x=\"292.566406\" xlink:href=\"#DejaVuSans-101\"/>\n     <use x=\"354.089844\" xlink:href=\"#DejaVuSans-114\"/>\n    </g>\n   </g>\n  </g>\n  <g id=\"axes_8\">\n   <g id=\"patch_37\">\n    <path d=\"M 607.654717 93.384163 \nL 678.720755 93.384163 \nL 678.720755 22.318125 \nL 607.654717 22.318125 \nz\n\" style=\"fill:#ffffff;\"/>\n   </g>\n   <g clip-path=\"url(#p17571a724e)\">\n    <image height=\"72\" id=\"image5d0961afb1\" transform=\"scale(1 -1)translate(0 -72)\" width=\"72\" x=\"607.654717\" xlink:href=\"data:image/png;base64,\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\" y=\"-21.384163\"/>\n   </g>\n   <g id=\"patch_38\">\n    <path d=\"M 607.654717 93.384163 \nL 607.654717 22.318125 \n\" style=\"fill:none;stroke:#000000;stroke-linecap:square;stroke-linejoin:miter;stroke-width:0.8;\"/>\n   </g>\n   <g id=\"patch_39\">\n    <path d=\"M 678.720755 93.384163 \nL 678.720755 22.318125 \n\" style=\"fill:none;stroke:#000000;stroke-linecap:square;stroke-linejoin:miter;stroke-width:0.8;\"/>\n   </g>\n   <g id=\"patch_40\">\n    <path d=\"M 607.654717 93.384163 \nL 678.720755 93.384163 \n\" style=\"fill:none;stroke:#000000;stroke-linecap:square;stroke-linejoin:miter;stroke-width:0.8;\"/>\n   </g>\n   <g id=\"patch_41\">\n    <path d=\"M 607.654717 22.318125 \nL 678.720755 22.318125 \n\" style=\"fill:none;stroke:#000000;stroke-linecap:square;stroke-linejoin:miter;stroke-width:0.8;\"/>\n   </g>\n   <g id=\"text_8\">\n    <!-- pullover -->\n    <g transform=\"translate(618.861486 16.318125)scale(0.12 -0.12)\">\n     <use xlink:href=\"#DejaVuSans-112\"/>\n     <use x=\"63.476562\" xlink:href=\"#DejaVuSans-117\"/>\n     <use x=\"126.855469\" xlink:href=\"#DejaVuSans-108\"/>\n     <use x=\"154.638672\" xlink:href=\"#DejaVuSans-108\"/>\n     <use x=\"182.421875\" xlink:href=\"#DejaVuSans-111\"/>\n     <use x=\"243.603516\" xlink:href=\"#DejaVuSans-118\"/>\n     <use x=\"302.783203\" xlink:href=\"#DejaVuSans-101\"/>\n     <use x=\"364.306641\" xlink:href=\"#DejaVuSans-114\"/>\n    </g>\n   </g>\n  </g>\n  <g id=\"axes_9\">\n   <g id=\"patch_42\">\n    <path d=\"M 692.933962 93.384163 \nL 764 93.384163 \nL 764 22.318125 \nL 692.933962 22.318125 \nz\n\" style=\"fill:#ffffff;\"/>\n   </g>\n   <g clip-path=\"url(#pd19a59c0e6)\">\n    <image height=\"72\" id=\"imagedb620c2009\" transform=\"scale(1 -1)translate(0 -72)\" width=\"72\" x=\"692.933962\" xlink:href=\"data:image/png;base64,\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\" y=\"-21.384163\"/>\n   </g>\n   <g id=\"patch_43\">\n    <path d=\"M 692.933962 93.384163 \nL 692.933962 22.318125 \n\" style=\"fill:none;stroke:#000000;stroke-linecap:square;stroke-linejoin:miter;stroke-width:0.8;\"/>\n   </g>\n   <g id=\"patch_44\">\n    <path d=\"M 764 93.384163 \nL 764 22.318125 \n\" style=\"fill:none;stroke:#000000;stroke-linecap:square;stroke-linejoin:miter;stroke-width:0.8;\"/>\n   </g>\n   <g id=\"patch_45\">\n    <path d=\"M 692.933962 93.384163 \nL 764 93.384163 \n\" style=\"fill:none;stroke:#000000;stroke-linecap:square;stroke-linejoin:miter;stroke-width:0.8;\"/>\n   </g>\n   <g id=\"patch_46\">\n    <path d=\"M 692.933962 22.318125 \nL 764 22.318125 \n\" style=\"fill:none;stroke:#000000;stroke-linecap:square;stroke-linejoin:miter;stroke-width:0.8;\"/>\n   </g>\n   <g id=\"text_9\">\n    <!-- sandal -->\n    <g transform=\"translate(708.709169 16.318125)scale(0.12 -0.12)\">\n     <use xlink:href=\"#DejaVuSans-115\"/>\n     <use x=\"52.099609\" xlink:href=\"#DejaVuSans-97\"/>\n     <use x=\"113.378906\" xlink:href=\"#DejaVuSans-110\"/>\n     <use x=\"176.757812\" xlink:href=\"#DejaVuSans-100\"/>\n     <use x=\"240.234375\" xlink:href=\"#DejaVuSans-97\"/>\n     <use x=\"301.513672\" xlink:href=\"#DejaVuSans-108\"/>\n    </g>\n   </g>\n  </g>\n  <g id=\"axes_10\">\n   <g id=\"patch_47\">\n    <path d=\"M 10.7 182.33689 \nL 81.766038 182.33689 \nL 81.766038 111.270852 \nL 10.7 111.270852 \nz\n\" style=\"fill:#ffffff;\"/>\n   </g>\n   <g clip-path=\"url(#p4986884825)\">\n    <image height=\"72\" id=\"image9fcc22c1b5\" transform=\"scale(1 -1)translate(0 -72)\" width=\"72\" x=\"10.7\" xlink:href=\"data:image/png;base64,\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\" y=\"-110.33689\"/>\n   </g>\n   <g id=\"patch_48\">\n    <path d=\"M 10.7 182.33689 \nL 10.7 111.270852 \n\" style=\"fill:none;stroke:#000000;stroke-linecap:square;stroke-linejoin:miter;stroke-width:0.8;\"/>\n   </g>\n   <g id=\"patch_49\">\n    <path d=\"M 81.766038 182.33689 \nL 81.766038 111.270852 \n\" style=\"fill:none;stroke:#000000;stroke-linecap:square;stroke-linejoin:miter;stroke-width:0.8;\"/>\n   </g>\n   <g id=\"patch_50\">\n    <path d=\"M 10.7 182.33689 \nL 81.766038 182.33689 \n\" style=\"fill:none;stroke:#000000;stroke-linecap:square;stroke-linejoin:miter;stroke-width:0.8;\"/>\n   </g>\n   <g id=\"patch_51\">\n    <path d=\"M 10.7 111.270852 \nL 81.766038 111.270852 \n\" style=\"fill:none;stroke:#000000;stroke-linecap:square;stroke-linejoin:miter;stroke-width:0.8;\"/>\n   </g>\n   <g id=\"text_10\">\n    <!-- sandal -->\n    <g transform=\"translate(26.475206 105.270852)scale(0.12 -0.12)\">\n     <use xlink:href=\"#DejaVuSans-115\"/>\n     <use x=\"52.099609\" xlink:href=\"#DejaVuSans-97\"/>\n     <use x=\"113.378906\" xlink:href=\"#DejaVuSans-110\"/>\n     <use x=\"176.757812\" xlink:href=\"#DejaVuSans-100\"/>\n     <use x=\"240.234375\" xlink:href=\"#DejaVuSans-97\"/>\n     <use x=\"301.513672\" xlink:href=\"#DejaVuSans-108\"/>\n    </g>\n   </g>\n  </g>\n  <g id=\"axes_11\">\n   <g id=\"patch_52\">\n    <path d=\"M 95.979245 182.33689 \nL 167.045283 182.33689 \nL 167.045283 111.270852 \nL 95.979245 111.270852 \nz\n\" style=\"fill:#ffffff;\"/>\n   </g>\n   <g clip-path=\"url(#p904afd8136)\">\n    <image height=\"72\" id=\"image83d104d53f\" transform=\"scale(1 -1)translate(0 -72)\" width=\"72\" x=\"95.979245\" xlink:href=\"data:image/png;base64,\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\" y=\"-110.33689\"/>\n   </g>\n   <g id=\"patch_53\">\n    <path d=\"M 95.979245 182.33689 \nL 95.979245 111.270852 \n\" style=\"fill:none;stroke:#000000;stroke-linecap:square;stroke-linejoin:miter;stroke-width:0.8;\"/>\n   </g>\n   <g id=\"patch_54\">\n    <path d=\"M 167.045283 182.33689 \nL 167.045283 111.270852 \n\" style=\"fill:none;stroke:#000000;stroke-linecap:square;stroke-linejoin:miter;stroke-width:0.8;\"/>\n   </g>\n   <g id=\"patch_55\">\n    <path d=\"M 95.979245 182.33689 \nL 167.045283 182.33689 \n\" style=\"fill:none;stroke:#000000;stroke-linecap:square;stroke-linejoin:miter;stroke-width:0.8;\"/>\n   </g>\n   <g id=\"patch_56\">\n    <path d=\"M 95.979245 111.270852 \nL 167.045283 111.270852 \n\" style=\"fill:none;stroke:#000000;stroke-linecap:square;stroke-linejoin:miter;stroke-width:0.8;\"/>\n   </g>\n   <g id=\"text_11\">\n    <!-- t-shirt -->\n    <g transform=\"translate(113.581639 105.270852)scale(0.12 -0.12)\">\n     <use xlink:href=\"#DejaVuSans-116\"/>\n     <use x=\"39.208984\" xlink:href=\"#DejaVuSans-45\"/>\n     <use x=\"75.292969\" xlink:href=\"#DejaVuSans-115\"/>\n     <use x=\"127.392578\" xlink:href=\"#DejaVuSans-104\"/>\n     <use x=\"190.771484\" xlink:href=\"#DejaVuSans-105\"/>\n     <use x=\"218.554688\" xlink:href=\"#DejaVuSans-114\"/>\n     <use x=\"259.667969\" xlink:href=\"#DejaVuSans-116\"/>\n    </g>\n   </g>\n  </g>\n  <g id=\"axes_12\">\n   <g id=\"patch_57\">\n    <path d=\"M 181.258491 182.33689 \nL 252.324528 182.33689 \nL 252.324528 111.270852 \nL 181.258491 111.270852 \nz\n\" style=\"fill:#ffffff;\"/>\n   </g>\n   <g clip-path=\"url(#pa671de78c2)\">\n    <image height=\"72\" id=\"image4558c59590\" transform=\"scale(1 -1)translate(0 -72)\" width=\"72\" x=\"181.258491\" xlink:href=\"data:image/png;base64,\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\" y=\"-110.33689\"/>\n   </g>\n   <g id=\"patch_58\">\n    <path d=\"M 181.258491 182.33689 \nL 181.258491 111.270852 \n\" style=\"fill:none;stroke:#000000;stroke-linecap:square;stroke-linejoin:miter;stroke-width:0.8;\"/>\n   </g>\n   <g id=\"patch_59\">\n    <path d=\"M 252.324528 182.33689 \nL 252.324528 111.270852 \n\" style=\"fill:none;stroke:#000000;stroke-linecap:square;stroke-linejoin:miter;stroke-width:0.8;\"/>\n   </g>\n   <g id=\"patch_60\">\n    <path d=\"M 181.258491 182.33689 \nL 252.324528 182.33689 \n\" style=\"fill:none;stroke:#000000;stroke-linecap:square;stroke-linejoin:miter;stroke-width:0.8;\"/>\n   </g>\n   <g id=\"patch_61\">\n    <path d=\"M 181.258491 111.270852 \nL 252.324528 111.270852 \n\" style=\"fill:none;stroke:#000000;stroke-linecap:square;stroke-linejoin:miter;stroke-width:0.8;\"/>\n   </g>\n   <g id=\"text_12\">\n    <!-- ankle boot -->\n    <g transform=\"translate(185.068384 105.270852)scale(0.12 -0.12)\">\n     <use xlink:href=\"#DejaVuSans-97\"/>\n     <use x=\"61.279297\" xlink:href=\"#DejaVuSans-110\"/>\n     <use x=\"124.658203\" xlink:href=\"#DejaVuSans-107\"/>\n     <use x=\"182.568359\" xlink:href=\"#DejaVuSans-108\"/>\n     <use x=\"210.351562\" xlink:href=\"#DejaVuSans-101\"/>\n     <use x=\"271.875\" xlink:href=\"#DejaVuSans-32\"/>\n     <use x=\"303.662109\" xlink:href=\"#DejaVuSans-98\"/>\n     <use x=\"367.138672\" xlink:href=\"#DejaVuSans-111\"/>\n     <use x=\"428.320312\" xlink:href=\"#DejaVuSans-111\"/>\n     <use x=\"489.501953\" xlink:href=\"#DejaVuSans-116\"/>\n    </g>\n   </g>\n  </g>\n  <g id=\"axes_13\">\n   <g id=\"patch_62\">\n    <path d=\"M 266.537736 182.33689 \nL 337.603774 182.33689 \nL 337.603774 111.270852 \nL 266.537736 111.270852 \nz\n\" style=\"fill:#ffffff;\"/>\n   </g>\n   <g clip-path=\"url(#p65f8532790)\">\n    <image height=\"72\" id=\"image3d07056a67\" transform=\"scale(1 -1)translate(0 -72)\" width=\"72\" x=\"266.537736\" xlink:href=\"data:image/png;base64,\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\" y=\"-110.33689\"/>\n   </g>\n   <g id=\"patch_63\">\n    <path d=\"M 266.537736 182.33689 \nL 266.537736 111.270852 \n\" style=\"fill:none;stroke:#000000;stroke-linecap:square;stroke-linejoin:miter;stroke-width:0.8;\"/>\n   </g>\n   <g id=\"patch_64\">\n    <path d=\"M 337.603774 182.33689 \nL 337.603774 111.270852 \n\" style=\"fill:none;stroke:#000000;stroke-linecap:square;stroke-linejoin:miter;stroke-width:0.8;\"/>\n   </g>\n   <g id=\"patch_65\">\n    <path d=\"M 266.537736 182.33689 \nL 337.603774 182.33689 \n\" style=\"fill:none;stroke:#000000;stroke-linecap:square;stroke-linejoin:miter;stroke-width:0.8;\"/>\n   </g>\n   <g id=\"patch_66\">\n    <path d=\"M 266.537736 111.270852 \nL 337.603774 111.270852 \n\" style=\"fill:none;stroke:#000000;stroke-linecap:square;stroke-linejoin:miter;stroke-width:0.8;\"/>\n   </g>\n   <g id=\"text_13\">\n    <!-- sandal -->\n    <g transform=\"translate(282.312942 105.270852)scale(0.12 -0.12)\">\n     <use xlink:href=\"#DejaVuSans-115\"/>\n     <use x=\"52.099609\" xlink:href=\"#DejaVuSans-97\"/>\n     <use x=\"113.378906\" xlink:href=\"#DejaVuSans-110\"/>\n     <use x=\"176.757812\" xlink:href=\"#DejaVuSans-100\"/>\n     <use x=\"240.234375\" xlink:href=\"#DejaVuSans-97\"/>\n     <use x=\"301.513672\" xlink:href=\"#DejaVuSans-108\"/>\n    </g>\n   </g>\n  </g>\n  <g id=\"axes_14\">\n   <g id=\"patch_67\">\n    <path d=\"M 351.816981 182.33689 \nL 422.883019 182.33689 \nL 422.883019 111.270852 \nL 351.816981 111.270852 \nz\n\" style=\"fill:#ffffff;\"/>\n   </g>\n   <g clip-path=\"url(#pf032b25adb)\">\n    <image height=\"72\" id=\"image4c48e1360b\" transform=\"scale(1 -1)translate(0 -72)\" width=\"72\" x=\"351.816981\" xlink:href=\"data:image/png;base64,\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\" y=\"-110.33689\"/>\n   </g>\n   <g id=\"patch_68\">\n    <path d=\"M 351.816981 182.33689 \nL 351.816981 111.270852 \n\" style=\"fill:none;stroke:#000000;stroke-linecap:square;stroke-linejoin:miter;stroke-width:0.8;\"/>\n   </g>\n   <g id=\"patch_69\">\n    <path d=\"M 422.883019 182.33689 \nL 422.883019 111.270852 \n\" style=\"fill:none;stroke:#000000;stroke-linecap:square;stroke-linejoin:miter;stroke-width:0.8;\"/>\n   </g>\n   <g id=\"patch_70\">\n    <path d=\"M 351.816981 182.33689 \nL 422.883019 182.33689 \n\" style=\"fill:none;stroke:#000000;stroke-linecap:square;stroke-linejoin:miter;stroke-width:0.8;\"/>\n   </g>\n   <g id=\"patch_71\">\n    <path d=\"M 351.816981 111.270852 \nL 422.883019 111.270852 \n\" style=\"fill:none;stroke:#000000;stroke-linecap:square;stroke-linejoin:miter;stroke-width:0.8;\"/>\n   </g>\n   <g id=\"text_14\">\n    <!-- sandal -->\n    <g transform=\"translate(367.592188 105.270852)scale(0.12 -0.12)\">\n     <use xlink:href=\"#DejaVuSans-115\"/>\n     <use x=\"52.099609\" xlink:href=\"#DejaVuSans-97\"/>\n     <use x=\"113.378906\" xlink:href=\"#DejaVuSans-110\"/>\n     <use x=\"176.757812\" xlink:href=\"#DejaVuSans-100\"/>\n     <use x=\"240.234375\" xlink:href=\"#DejaVuSans-97\"/>\n     <use x=\"301.513672\" xlink:href=\"#DejaVuSans-108\"/>\n    </g>\n   </g>\n  </g>\n  <g id=\"axes_15\">\n   <g id=\"patch_72\">\n    <path d=\"M 437.096226 182.33689 \nL 508.162264 182.33689 \nL 508.162264 111.270852 \nL 437.096226 111.270852 \nz\n\" style=\"fill:#ffffff;\"/>\n   </g>\n   <g clip-path=\"url(#p480b92de8a)\">\n    <image height=\"72\" id=\"imageba04a5d16d\" transform=\"scale(1 -1)translate(0 -72)\" width=\"72\" x=\"437.096226\" xlink:href=\"data:image/png;base64,\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\" y=\"-110.33689\"/>\n   </g>\n   <g id=\"patch_73\">\n    <path d=\"M 437.096226 182.33689 \nL 437.096226 111.270852 \n\" style=\"fill:none;stroke:#000000;stroke-linecap:square;stroke-linejoin:miter;stroke-width:0.8;\"/>\n   </g>\n   <g id=\"patch_74\">\n    <path d=\"M 508.162264 182.33689 \nL 508.162264 111.270852 \n\" style=\"fill:none;stroke:#000000;stroke-linecap:square;stroke-linejoin:miter;stroke-width:0.8;\"/>\n   </g>\n   <g id=\"patch_75\">\n    <path d=\"M 437.096226 182.33689 \nL 508.162264 182.33689 \n\" style=\"fill:none;stroke:#000000;stroke-linecap:square;stroke-linejoin:miter;stroke-width:0.8;\"/>\n   </g>\n   <g id=\"patch_76\">\n    <path d=\"M 437.096226 111.270852 \nL 508.162264 111.270852 \n\" style=\"fill:none;stroke:#000000;stroke-linecap:square;stroke-linejoin:miter;stroke-width:0.8;\"/>\n   </g>\n   <g id=\"text_15\">\n    <!-- sneaker -->\n    <g transform=\"translate(448.917058 105.270852)scale(0.12 -0.12)\">\n     <use xlink:href=\"#DejaVuSans-115\"/>\n     <use x=\"52.099609\" xlink:href=\"#DejaVuSans-110\"/>\n     <use x=\"115.478516\" xlink:href=\"#DejaVuSans-101\"/>\n     <use x=\"177.001953\" xlink:href=\"#DejaVuSans-97\"/>\n     <use x=\"238.28125\" xlink:href=\"#DejaVuSans-107\"/>\n     <use x=\"292.566406\" xlink:href=\"#DejaVuSans-101\"/>\n     <use x=\"354.089844\" xlink:href=\"#DejaVuSans-114\"/>\n    </g>\n   </g>\n  </g>\n  <g id=\"axes_16\">\n   <g id=\"patch_77\">\n    <path d=\"M 522.375472 182.33689 \nL 593.441509 182.33689 \nL 593.441509 111.270852 \nL 522.375472 111.270852 \nz\n\" style=\"fill:#ffffff;\"/>\n   </g>\n   <g clip-path=\"url(#pc32d5dfd0e)\">\n    <image height=\"72\" id=\"imagec2422eb343\" transform=\"scale(1 -1)translate(0 -72)\" width=\"72\" x=\"522.375472\" xlink:href=\"data:image/png;base64,\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\" y=\"-110.33689\"/>\n   </g>\n   <g id=\"patch_78\">\n    <path d=\"M 522.375472 182.33689 \nL 522.375472 111.270852 \n\" style=\"fill:none;stroke:#000000;stroke-linecap:square;stroke-linejoin:miter;stroke-width:0.8;\"/>\n   </g>\n   <g id=\"patch_79\">\n    <path d=\"M 593.441509 182.33689 \nL 593.441509 111.270852 \n\" style=\"fill:none;stroke:#000000;stroke-linecap:square;stroke-linejoin:miter;stroke-width:0.8;\"/>\n   </g>\n   <g id=\"patch_80\">\n    <path d=\"M 522.375472 182.33689 \nL 593.441509 182.33689 \n\" style=\"fill:none;stroke:#000000;stroke-linecap:square;stroke-linejoin:miter;stroke-width:0.8;\"/>\n   </g>\n   <g id=\"patch_81\">\n    <path d=\"M 522.375472 111.270852 \nL 593.441509 111.270852 \n\" style=\"fill:none;stroke:#000000;stroke-linecap:square;stroke-linejoin:miter;stroke-width:0.8;\"/>\n   </g>\n   <g id=\"text_16\">\n    <!-- ankle boot -->\n    <g transform=\"translate(526.185366 105.270852)scale(0.12 -0.12)\">\n     <use xlink:href=\"#DejaVuSans-97\"/>\n     <use x=\"61.279297\" xlink:href=\"#DejaVuSans-110\"/>\n     <use x=\"124.658203\" xlink:href=\"#DejaVuSans-107\"/>\n     <use x=\"182.568359\" xlink:href=\"#DejaVuSans-108\"/>\n     <use x=\"210.351562\" xlink:href=\"#DejaVuSans-101\"/>\n     <use x=\"271.875\" xlink:href=\"#DejaVuSans-32\"/>\n     <use x=\"303.662109\" xlink:href=\"#DejaVuSans-98\"/>\n     <use x=\"367.138672\" xlink:href=\"#DejaVuSans-111\"/>\n     <use x=\"428.320312\" xlink:href=\"#DejaVuSans-111\"/>\n     <use x=\"489.501953\" xlink:href=\"#DejaVuSans-116\"/>\n    </g>\n   </g>\n  </g>\n  <g id=\"axes_17\">\n   <g id=\"patch_82\">\n    <path d=\"M 607.654717 182.33689 \nL 678.720755 182.33689 \nL 678.720755 111.270852 \nL 607.654717 111.270852 \nz\n\" style=\"fill:#ffffff;\"/>\n   </g>\n   <g clip-path=\"url(#p625028465b)\">\n    <image height=\"72\" id=\"imagee8558fb902\" transform=\"scale(1 -1)translate(0 -72)\" width=\"72\" x=\"607.654717\" xlink:href=\"data:image/png;base64,\niVBORw0KGgoAAAANSUhEUgAAAEgAAABICAYAAABV7bNHAAAABHNCSVQICAgIfAhkiAAAEUJJREFUeJzVnEuPI8lxx38RmVlVJJvDee2OtLJegA3DkA8CfPPBJ9s3n+xP60/gi6GbYQmCBFsr78PaeXXzUZWZET5kkc2Z2REWXlKYDaBBNpudrIyKxz/+EUn5e/kX54ISf/xDph89ZdokvvpZZHzsuALqWAQeTSxvRna/v+HpvyvDi8rNfz6n/vLXbQEN7dEN3EEE6TokRu7+8a/59J8qw3rkZjGySJk+Fh71O4opv/j1j1n8tmP5ufPsXz+l/NfvvvV+9Fuv8LaIzI/txxUQx6U9yvyDML/2TZaUt36/v6fK2f2Vi95rAOJFVxPBVwv2H3ccHiq7H1S6ZzusKmaKivPx49d8tNjyyxLYfrKmLCKLz5dNse6INmW4KXgFUWS1RIaBaa0sN3c8udmRQiWKsUojT/st1YXFemR8nAh7xdNltnZZBQF13bP7WDk8Fh7++CV/8+xTXuWBF+MSxfnLzRf8cHiOivGLHy4o68D4254ezqxPgdqehoDcrPDVgnEjfPLwNd9fvmKyyFQDj7o9n/QvAXi2ueW/94lpO8CFFHR5FwPOrV7FUHEUJ6iRpJKk0oUK0bDwDa5CBFcFaS4V3uNKOrvuN3HbbyoXtyA9FNIW6gB324HP9hvGEtnmjqjGXe25qwPFFILj0XGVZjVWcXNErQVpABVQhai4wGSBfU0cSqK4sq+JXe1QcXY5YWNAJwG7TDy6uIIwI0yOTkLJgW3uyDVQrIXTySLZA+aCqONhznJn4m9tzlXw2f2qKcWU4vePFaV6+xtVkErLgBeQ67gYNHeIxipN9LEcX6LTwlInhlDQ6BB40yWOlnNcRgS6hC0iliCoEbW5LXB6PD0Pjgfu49m3lKsqqOsKT/oti5hPqbnXwibsWKcDIdbZgs42436PgQBCwJYd5SZhHXTaspfibygn0BQn0fDgzTUvIJdXkN3DEREnihGl3n+gtI2FIx7SGSOdi7/rYhYE17ZmC/w2b8BJUk/rnvDVheTiMUjcEfOmKIGk9Y07bS7YvIMYjTFZy1DvE1U8Kh4Fj9CFSq+VgxrRjT4UNnFHksoyTYRoeORiLnb5IO2O2KwocaK8qSCAip7SvrztYl+3pAoWBde2Xjpzs04Laz2QpLa4FgwTPmAFQcNBs06OynEXKlA8kL3VW12saLR3sti5iAielNoLFnlH2XCv8GvI5RVUDS2zFUmLDwC5Kiow1shoCYBVN7EfEhYX718vBMoyMN0I1nvLYHOAVjHMdYYNiiGnOu9ScjULkq+xIMPJrtTZZFKoBP3jFoQKlgRLMBveO2KuMAdtuTCSvkIWmy2oQlRjE/YMIQNNSZNF7moPwKbbsx7GRoO89woD00oZHwo2GObCaBFzecfdolRUDVc/ActvKxdXkFRDiiEGMRjrcKDX5mbuwlQDd7XHEDbpwMNh37LO+9YLSl4Jee3I0NYpZyZ3TPftuaN6WRe7HlA8foC8iYyLB8rsK1ErnZaGb8J7/EcED829JDQEHY8YaLagijQ3o8W9DxoHncuxelexlsVcGEvkdR5YhMzDtGPqIrUTJEVww0t5a5FA7YW6qnR9YREyvRZKUKjt8kdLKI65ENXabb/Qrb+qBak4gXsLaoFaKK6YS6M9tLSrCKFV9F8TOzyARycEa/jnrVKjzhns9P7vigWZCxWlWCDXQK3KPid2saPTgorTa8ESyHKBiFDvamMSjxKU2oEsCkOXTy67r4m70lNcWYRMwJgs4i4XZV6vqiCfy4rsSs4Bq8pYIvuSWMZIkkqvhZpAVo12lf0BtzMFiVAH6JeZVZdPZNmudLweB6Ya6LQQxNmX1MqY74qCjmKuuMmssDf/puKg4DEgMb5bhYvg0elSIaiRLVBFONTIWANBjWIB5kyp3wmg+JZMFig54FUwezfsWXJsPaC0bHauQ4+BsnR+sr4lhcqLaUGxwPP9krt9TxkCm25PN2slhoaDLiV/IgsSvArU+0reziKpB7Auoim+G6RF8M7Z9HuKKbvSkS1wyJE8RcZYKR6IfkTSR176Ay1WXeXkJtWUnfXc5R4OAalCLo1+PSLiYi0ITw+7dkFvdyNE8Ghs0oFXeWCcImOJmGnrsZ299esK2W8rV7Egn0mrqQRu68CrcSC+DojDNEVyDUwWGY/89NLYfxRBIabuzcVUkN74qLtlWzq2U8eYI2YCM0l2nvIvHYOu11mlJZPRItW0pV4DXHDuIQCAB6f2UDtFgr67njY4oOJUU+rsniL3XVa7JPg5k6vFIDE4HBKfjZt2x6Mj1jaRazhZEYAMlcOTiGaFlN5aSAjReBy3DRKYnNwrhBZ3DjU2ADq77iXT/NWQtDjUHHg1DVTTFojjjHxNmCy0lO1C6Cp57eSVwNsWBIRYWYc9fShU0+ZegGpjLasrUw3tc44KulDb5zqU68woujV6Q6Q1CPHmEjZvpPHTgRArpQPraE1CaKAxBDwFVB2dS5a296M7Oe5yRqA1GrfhhQ80i4k5UhwtjhdlX5rL+GDgLYgWU7K1rqiK03eFcVPIrxMeW1UvXYf2PXWIhFDopLaCdLagtn/BoxDU6LSSQ20NygvioMu7mHsj7B2we9xDaC2e9hZprjKnm6CGdIYlP7mYiECKeNATvXr2EWdWdL6Z+9bPB2tB7eo5BUr3VmJggAllCrjLXCIoMRhPVjtEnBevHuPp3oJksaAOrZz42o85ayEd5dJY6LIKmgOjnMWh08smYIJnpZiQu0CxgMaJJ8OWdTrw/MH6pCBSxBc9tVfCmcu0AawW3+A9Ces7UYvNlmQnC7pPv0frP7pNFEODI+qnP0rXUR8sKEslhnq2rLyToKop9jVWdgm5josd28/WOOhSFKnNzTw16jTM9GkSQ7WxjiHZEf3hjzfc/fSGu08Cz7pxbu+0AO0zDgIwUyYLUBpXLR+0i70tswVxjEEOyJE4vC8PWqe0ImonNtCGyHSj5FVrD51Q9/wGdzkp48hUXkOuTtoDZ+CtlQ2qRhA/kWmdFh6lHV1XW6ErSl12HB4L+YGzjBPQWMRpjJRDxGZmQMS56UYe9Tv6UP74hfw/5LoWJGdZ5UiFqhOioTPRZa70Wnga7+hTxjUiQFlFxidOflRZxxGAQ03YPkIWDNC57/+43/Igjo0hqJfd0p/EghpH46exX1VDpcWMY48rSXkjW1kUagekFquOU2ltQRBtPbAYaotjYt8RumPOQkdlRDU0WCs1cGI0uliRcw55CQ/Drg12zv+fV0p9kllu9qgYL+uyUavRACUtMqvFyINhPCnGZgB6SbmOix1roeOEq/rJVjUYcc5gud43C5NU4hykVVsvPi0nVsNEEGe01IYT5rnGlCrLLrOI952O0+zRB1/NGyfQ+HVmf8w+db7jo0W21pGPvBFQO2G9OrAZDtyVjt+PD9mXhARHotHFQh9LaxTSGgPnU2aXkuvgoKPIEfm+iYRPDb/ZHbal51VdcciR1fz/ZRB+unnBpjvwahp4Pq64mzpCbKBx0WVWaToNRpzXdZeU6wbpOYu9r248csrFlZ11lBruy5MAy5hZzAooszJTqqRUCTPVepR6XpNdMFhfLUgjAsHpQ+tnId7o1jlOpFBZpkwQY1s6frV9xnY7oKWAKB7haX/HTRhPtMgQCk8Wu1M2myygYuxrOuGqKDYPcn6o1Ty0RqC0kmII+R2zdxcE6EOh08KhJnalo+4DlAYKLcAm7tmEPS/DkupCr60TawhfHm64y32bFrFAocWhD3/CzB1qq+ZFnS7UN/CNe6Ncq8spi3VaiMGQZBCOlSwsdWKpI71mksxHD/KC4srtNLDNHYuUuYn3qb66wgXD0HVmFKeKVEeCs44jXSztrno75lRMkRK4k45Uje+tRr43vCYNBY+KaBvYfJZesdYDX8QN2QNfjmv+527DVAO7KVFK4GYx8mTYniwr1zCjdr9Itr8Oo2jzECetEH3jpAFzcTl3IGzmlJNUYqzURUQfPMA6GCQz6ESYcU6xRs5PJVBKYwmqtf+PZ1jogx5e8Cmju4kwtsnVTmescuLZhVr1NG2fZq7HXPjpk+f8xz//iPgPf87jn3/J43BHJvD5uOG/d4/Y5u4EDUIwRJwhFR52exY6cRt7tqH7wGNQnpD9SBgNp53NOGUxGtll1pqHKdTTJH5F+dnmM/72737DoJk/677iSdjyeX3AH6YVn9+tT9MhIm0c2EQYYmEdDyx14nnIzZIuOMR5eQuqhuTSYhCthEhakej4sXUzp/tqStVWsE7W5oUGzSx1pJPK0TnXcWQzHFoff3bN1gcTktbTIb1rDJNfwcUm/PUtYfcYUeFx3PK439GvJnIOCGBVqbXFE2jDUPGtadXJA7c2APBXq8941r9uU2W1Z7LI/x5u2OaOB92BdWgWdE+tcLEgfYUsVvFpauPAEug104dCjLW5V9V7npoWe04H41w4D+nHgfNNaIdVdqEjFmu1W2kH9bqTBZU2eX9hZvEKLjYfxs2VWjpelSXQaqeoRp0z2M0w8qMHL1jHkXU6sIn7dmJHJwJG9sittUA/aD5lshwCSRKbdEDFedrf8Ul6QZLaBqt2C+QQwC4Dhq4CFL0UNFfqpLyqbZPrfqQmPR3N/Gix5ecPPmUTd6x1z0onKsLOeqorB0tkCSjGoJmVjihGpU3HWicswsQP+hf8MH1FwDGE2+1A3AtSPlQFnYu1ISloZUUVpQ+t8r5JI8swstLxNJhp8zmO42mgihIwBvIbyx7Zw14LSSoBP9VkZYqkzAc8vHCUapCVP4w3qBjfX7w+barXzKO046N4yyCZWxt4Xm6aBc3HFBRn0HyKL0Edm3FtwFnqdHJJgOyBz7cP0C87+heCjPmPXd03lqtakNQ2jbqME+vUDr1t4p6lTtyEw8ltJo/c1gFD2NWOijJoBoOqwhqlvhV8kxaCG520TkZF2U4dcavEnX/AMego7sgk3E4DNlfiR8xylE7K6fd1OHDwyK52jVt2xaSdwThYQjG21jNaIntoMcpblpxo3ZGpBHQCzTQLvoBcb8KsGmEUnu+XjDWi4nTzLPNokUNIp4C71IlN2JKs5wUrsgeS11Oa31lP9sjOOm7rQPbAbRnY18SgmeyhDVHlSDpAHL8rFlThkCMxVA61zQntazqNqYyWMNF2ZkP01D0F3nouMB/lzN6mZMca2zcwWCLP56lqUYYRwsR3QEGlkl4Ld18t2S/bZGoXK5v+wCqNDKEw9q28eKULklayhUa9WmhYSAJGK26DGLd14GVeMFnkq3HFNneswsR21VMR8ouezW8y3YsJ3+8vso3rKciMuAO9jdQq3IkTU211lAUWMRO1HfFWsXe+sKRypEPCqXG4r4nbPDBZ4Hbq2U4dt0NP9sDkgfg6sPj9S/R2jx3Gi2zjqgoSo32PhsCwmOhj46H7UFjGicfdjl7LKZ0rzjKMnB9GqMj9oV0X9rEjWmAXG/XRaRtsyB7RDLI9wP6Af+hBGkCzo1mo0fnkwWtu0j01+rTf8heLL1jrngfh0NC0THwS9wwivDR4XgcOnviq3rC1rmEfrRzmU9OdVh6kA9kDO+tJW8E/+xIbx1PJ8633cJFVvk7mIC0F8NaCPmYxm08ftqPc9+BPxRhE6EVJZ1bUgnN8AwsFcaI2qzuib6ng49hOLX7oSNrHiZvPC0jklsRvHz6mT4UxR0oJhGD8W/zJ3Jo2wkzwP11sGWLmUNJ85Cny1XbJNEX6rrAeRqIa4ewbYH4Vv8fLvCBcJuy8IddT0DQxfLFH80DtOl5+vGTfG74L6KTUAiVLO+4+E44W4bPl/Uw1gGShe6XEEfYPndfPJkJnLJYjq37CXPidPuJ1Hgijv/PdQ99Wrjxh5mBtLJh5tlDOhqlOyrH2XNTnaVhOB0+PgV7q/evn3mPzdNm1zmr8Hz91zwJmNaxPAAAAAElFTkSuQmCC\" y=\"-110.33689\"/>\n   </g>\n   <g id=\"patch_83\">\n    <path d=\"M 607.654717 182.33689 \nL 607.654717 111.270852 \n\" style=\"fill:none;stroke:#000000;stroke-linecap:square;stroke-linejoin:miter;stroke-width:0.8;\"/>\n   </g>\n   <g id=\"patch_84\">\n    <path d=\"M 678.720755 182.33689 \nL 678.720755 111.270852 \n\" style=\"fill:none;stroke:#000000;stroke-linecap:square;stroke-linejoin:miter;stroke-width:0.8;\"/>\n   </g>\n   <g id=\"patch_85\">\n    <path d=\"M 607.654717 182.33689 \nL 678.720755 182.33689 \n\" style=\"fill:none;stroke:#000000;stroke-linecap:square;stroke-linejoin:miter;stroke-width:0.8;\"/>\n   </g>\n   <g id=\"patch_86\">\n    <path d=\"M 607.654717 111.270852 \nL 678.720755 111.270852 \n\" style=\"fill:none;stroke:#000000;stroke-linecap:square;stroke-linejoin:miter;stroke-width:0.8;\"/>\n   </g>\n   <g id=\"text_17\">\n    <!-- trouser -->\n    <g transform=\"translate(621.746173 105.270852)scale(0.12 -0.12)\">\n     <use xlink:href=\"#DejaVuSans-116\"/>\n     <use x=\"39.208984\" xlink:href=\"#DejaVuSans-114\"/>\n     <use x=\"78.072266\" xlink:href=\"#DejaVuSans-111\"/>\n     <use x=\"139.253906\" xlink:href=\"#DejaVuSans-117\"/>\n     <use x=\"202.632812\" xlink:href=\"#DejaVuSans-115\"/>\n     <use x=\"254.732422\" xlink:href=\"#DejaVuSans-101\"/>\n     <use x=\"316.255859\" xlink:href=\"#DejaVuSans-114\"/>\n    </g>\n   </g>\n  </g>\n  <g id=\"axes_18\">\n   <g id=\"patch_87\">\n    <path d=\"M 692.933962 182.33689 \nL 764 182.33689 \nL 764 111.270852 \nL 692.933962 111.270852 \nz\n\" style=\"fill:#ffffff;\"/>\n   </g>\n   <g clip-path=\"url(#pcf5db3fb78)\">\n    <image height=\"72\" id=\"image39173affb9\" transform=\"scale(1 -1)translate(0 -72)\" width=\"72\" x=\"692.933962\" xlink:href=\"data:image/png;base64,\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\" y=\"-110.33689\"/>\n   </g>\n   <g id=\"patch_88\">\n    <path d=\"M 692.933962 182.33689 \nL 692.933962 111.270852 \n\" style=\"fill:none;stroke:#000000;stroke-linecap:square;stroke-linejoin:miter;stroke-width:0.8;\"/>\n   </g>\n   <g id=\"patch_89\">\n    <path d=\"M 764 182.33689 \nL 764 111.270852 \n\" style=\"fill:none;stroke:#000000;stroke-linecap:square;stroke-linejoin:miter;stroke-width:0.8;\"/>\n   </g>\n   <g id=\"patch_90\">\n    <path d=\"M 692.933962 182.33689 \nL 764 182.33689 \n\" style=\"fill:none;stroke:#000000;stroke-linecap:square;stroke-linejoin:miter;stroke-width:0.8;\"/>\n   </g>\n   <g id=\"patch_91\">\n    <path d=\"M 692.933962 111.270852 \nL 764 111.270852 \n\" style=\"fill:none;stroke:#000000;stroke-linecap:square;stroke-linejoin:miter;stroke-width:0.8;\"/>\n   </g>\n   <g id=\"text_18\">\n    <!-- t-shirt -->\n    <g transform=\"translate(710.536356 105.270852)scale(0.12 -0.12)\">\n     <use xlink:href=\"#DejaVuSans-116\"/>\n     <use x=\"39.208984\" xlink:href=\"#DejaVuSans-45\"/>\n     <use x=\"75.292969\" xlink:href=\"#DejaVuSans-115\"/>\n     <use x=\"127.392578\" xlink:href=\"#DejaVuSans-104\"/>\n     <use x=\"190.771484\" xlink:href=\"#DejaVuSans-105\"/>\n     <use x=\"218.554688\" xlink:href=\"#DejaVuSans-114\"/>\n     <use x=\"259.667969\" xlink:href=\"#DejaVuSans-116\"/>\n    </g>\n   </g>\n  </g>\n </g>\n <defs>\n  <clipPath id=\"p507042947e\">\n   <rect height=\"71.066038\" width=\"71.066038\" x=\"10.7\" y=\"22.318125\"/>\n  </clipPath>\n  <clipPath id=\"p24f5b63697\">\n   <rect height=\"71.066038\" width=\"71.066038\" x=\"95.979245\" y=\"22.318125\"/>\n  </clipPath>\n  <clipPath id=\"pfa71aeef13\">\n   <rect height=\"71.066038\" width=\"71.066038\" x=\"181.258491\" y=\"22.318125\"/>\n  </clipPath>\n  <clipPath id=\"p199cd2222b\">\n   <rect height=\"71.066038\" width=\"71.066038\" x=\"266.537736\" y=\"22.318125\"/>\n  </clipPath>\n  <clipPath id=\"p7d3d8c33b7\">\n   <rect height=\"71.066038\" width=\"71.066038\" x=\"351.816981\" y=\"22.318125\"/>\n  </clipPath>\n  <clipPath id=\"p24ac278ba1\">\n   <rect height=\"71.066038\" width=\"71.066038\" x=\"437.096226\" y=\"22.318125\"/>\n  </clipPath>\n  <clipPath id=\"pa942563d3c\">\n   <rect height=\"71.066038\" width=\"71.066038\" x=\"522.375472\" y=\"22.318125\"/>\n  </clipPath>\n  <clipPath id=\"p17571a724e\">\n   <rect height=\"71.066038\" width=\"71.066038\" x=\"607.654717\" y=\"22.318125\"/>\n  </clipPath>\n  <clipPath id=\"pd19a59c0e6\">\n   <rect height=\"71.066038\" width=\"71.066038\" x=\"692.933962\" y=\"22.318125\"/>\n  </clipPath>\n  <clipPath id=\"p4986884825\">\n   <rect height=\"71.066038\" width=\"71.066038\" x=\"10.7\" y=\"111.270852\"/>\n  </clipPath>\n  <clipPath id=\"p904afd8136\">\n   <rect height=\"71.066038\" width=\"71.066038\" x=\"95.979245\" y=\"111.270852\"/>\n  </clipPath>\n  <clipPath id=\"pa671de78c2\">\n   <rect height=\"71.066038\" width=\"71.066038\" x=\"181.258491\" y=\"111.270852\"/>\n  </clipPath>\n  <clipPath id=\"p65f8532790\">\n   <rect height=\"71.066038\" width=\"71.066038\" x=\"266.537736\" y=\"111.270852\"/>\n  </clipPath>\n  <clipPath id=\"pf032b25adb\">\n   <rect height=\"71.066038\" width=\"71.066038\" x=\"351.816981\" y=\"111.270852\"/>\n  </clipPath>\n  <clipPath id=\"p480b92de8a\">\n   <rect height=\"71.066038\" width=\"71.066038\" x=\"437.096226\" y=\"111.270852\"/>\n  </clipPath>\n  <clipPath id=\"pc32d5dfd0e\">\n   <rect height=\"71.066038\" width=\"71.066038\" x=\"522.375472\" y=\"111.270852\"/>\n  </clipPath>\n  <clipPath id=\"p625028465b\">\n   <rect height=\"71.066038\" width=\"71.066038\" x=\"607.654717\" y=\"111.270852\"/>\n  </clipPath>\n  <clipPath id=\"pcf5db3fb78\">\n   <rect height=\"71.066038\" width=\"71.066038\" x=\"692.933962\" y=\"111.270852\"/>\n  </clipPath>\n </defs>\n</svg>\n"
          },
          "metadata": {
            "needs_background": "light"
          }
        }
      ]
    },
    {
      "cell_type": "code",
      "source": [
        "batch_size=256\n",
        "def get_dataloader_works():\n",
        "  return 2\n",
        "\n",
        "train_iter=data.DataLoader(mnist_train,batch_size,shuffle=True,num_workers=get_dataloader_works())\n",
        "timer=d2l.Timer()\n",
        "for X,y in train_iter:\n",
        "  continue\n",
        "f'{timer.stop():.2f} sec' #f-string,{}内为可替换的内容"
      ],
      "metadata": {
        "id": "fnt1ANMlet8P",
        "colab": {
          "base_uri": "https://localhost:8080/",
          "height": 35
        },
        "outputId": "e997c37f-ee24-4cfd-f311-f84fd2456bb9"
      },
      "execution_count": 7,
      "outputs": [
        {
          "output_type": "execute_result",
          "data": {
            "application/vnd.google.colaboratory.intrinsic+json": {
              "type": "string"
            },
            "text/plain": [
              "'5.22 sec'"
            ]
          },
          "metadata": {},
          "execution_count": 7
        }
      ]
    },
    {
      "cell_type": "markdown",
      "source": [
        "#对以上操作进行整合"
      ],
      "metadata": {
        "id": "TrBa2hnJwEb7"
      }
    },
    {
      "cell_type": "code",
      "source": [
        "def load_data_fashion_mnist(batch_size,resize=None):\n",
        "  trans=[transforms.ToTensor()]\n",
        "  if resize:\n",
        "    trans.insert(0,transforms.Resize(resize))\n",
        "  trans=transforms.Compose(trans)\n",
        "  mnist_train = torchvision.datasets.FashionMNIST(\n",
        "    root=\"../data\", train=True, transform=trans, download=True)\n",
        "  mnist_test = torchvision.datasets.FashionMNIST(\n",
        "    root=\"../data\", train=False, transform=trans, download=True)\n",
        "  return (data.DataLoader(mnist_train,batch_size,shuffle=True,\n",
        "              num_workers=get_dataloader_works()),\n",
        "      data.DataLoader(mnist_test,batch_size,shuffle=True,\n",
        "              num_workers=get_dataloader_works()))"
      ],
      "metadata": {
        "id": "VrVwwhaethdZ"
      },
      "execution_count": 8,
      "outputs": []
    },
    {
      "cell_type": "code",
      "source": [
        "import torch\n",
        "from IPython import display\n",
        "from d2l import torch as d2l"
      ],
      "metadata": {
        "id": "wPNg1WkMx8HW"
      },
      "execution_count": 9,
      "outputs": []
    },
    {
      "cell_type": "code",
      "source": [
        "batch_size=256\n",
        "train_iter,test_iter=d2l.load_data_fashion_mnist(batch_size)"
      ],
      "metadata": {
        "colab": {
          "base_uri": "https://localhost:8080/"
        },
        "id": "LcGeTlfDyst-",
        "outputId": "8d53841d-69eb-401c-bb39-b276aee27ea3"
      },
      "execution_count": 10,
      "outputs": [
        {
          "output_type": "stream",
          "name": "stderr",
          "text": [
            "/usr/local/lib/python3.7/dist-packages/torch/utils/data/dataloader.py:481: UserWarning: This DataLoader will create 4 worker processes in total. Our suggested max number of worker in current system is 2, which is smaller than what this DataLoader is going to create. Please be aware that excessive worker creation might get DataLoader running slow or even freeze, lower the worker number to avoid potential slowness/freeze if necessary.\n",
            "  cpuset_checked))\n"
          ]
        }
      ]
    },
    {
      "cell_type": "code",
      "source": [
        "num_inputs=784\n",
        "num_outputs=10\n",
        "\n",
        "W=torch.normal(0,0.01,size=(num_inputs,num_outputs),requires_grad=True)\n",
        "b=torch.zeros(num_outputs,requires_grad=True)"
      ],
      "metadata": {
        "id": "fJ0vG6sKzDHK"
      },
      "execution_count": 11,
      "outputs": []
    },
    {
      "cell_type": "markdown",
      "source": [
        "#softmax的三个步骤\n",
        "1. 对每一项求幂(exp)\n",
        "2. 对每一行求和(每个batch是一行),得到规范化常数\n",
        "3. 每一项除以规范化常数(和的结果为1)\n",
        "\n",
        "$softmax(X)_{ij}=\\frac{e^{X_{ij}}}{∑_ke^{X_{ik}}} $"
      ],
      "metadata": {
        "id": "FfpdMuOK02y3"
      }
    },
    {
      "cell_type": "code",
      "source": [
        "#定义softmax函数\n",
        "def softmax(X):\n",
        "  X_exp=torch.exp(X)\n",
        "  partition=X_exp.sum(1,keepdims=True)\n",
        "  return X_exp/partition"
      ],
      "metadata": {
        "id": "UqW64oro0JTT"
      },
      "execution_count": 12,
      "outputs": []
    },
    {
      "cell_type": "code",
      "source": [
        "#测试一下\n",
        "x=torch.normal(0,1,(2,6))\n",
        "x_prob=softmax(x)\n",
        "print(x_prob,\"\\n\",x_prob.sum(1))"
      ],
      "metadata": {
        "colab": {
          "base_uri": "https://localhost:8080/"
        },
        "id": "lhaWIJ0i2w0p",
        "outputId": "adbae812-4ff0-44d6-b34e-8f156d8d71cc"
      },
      "execution_count": 13,
      "outputs": [
        {
          "output_type": "stream",
          "name": "stdout",
          "text": [
            "tensor([[0.2198, 0.2886, 0.0512, 0.2438, 0.0850, 0.1116],\n",
            "        [0.0682, 0.0888, 0.4506, 0.0956, 0.0692, 0.2275]]) \n",
            " tensor([1.0000, 1.0000])\n"
          ]
        }
      ]
    },
    {
      "cell_type": "markdown",
      "source": [
        "#定义模型\n",
        "实现softmax回归模型"
      ],
      "metadata": {
        "id": "Cmy_rxmX4OYc"
      }
    },
    {
      "cell_type": "code",
      "source": [
        "#使用reshape函数将图片展开为向量(一维)\n",
        "def net(X):\n",
        "  return softmax(torch.matmul(X.reshape((-1,W.shape[0])),W)+b)"
      ],
      "metadata": {
        "id": "QMyM8UEK3Vs1"
      },
      "execution_count": 14,
      "outputs": []
    },
    {
      "cell_type": "markdown",
      "source": [
        "#损失函数\n",
        "这里使用**交叉熵**损失函数"
      ],
      "metadata": {
        "id": "PUY_DFPa6BzI"
      }
    },
    {
      "cell_type": "markdown",
      "source": [
        "**交叉熵**  \n",
        "$$ L=\\frac{1}{N}∑L_i=-\\frac{1}{N}\\sum_{i}\\sum_{c=1}^{M}y_{ic}log(p_{ic}) $$\n",
        "where:\n",
        "* $M:类别数量$\n",
        "* $y_{ic}:符号函数,如果样本i的真实值等于类别c取1,否则取0$\n",
        "* $p_{ic}:样本i属于类别c的概率$\n"
      ],
      "metadata": {
        "id": "Iec7FKdu8jI9"
      }
    },
    {
      "cell_type": "code",
      "source": [
        "y = torch.tensor([0, 2])\n",
        "y_hat = torch.tensor([[0.1, 0.3, 0.6], [0.3, 0.2, 0.5]])\n",
        "y_hat[[0, 1], y]\n",
        "#取y_hat中的[0][0]和[1][2]"
      ],
      "metadata": {
        "colab": {
          "base_uri": "https://localhost:8080/"
        },
        "id": "MPJqQDlH579i",
        "outputId": "ea1e3ca3-c93a-42a6-8255-d678edbc1709"
      },
      "execution_count": 15,
      "outputs": [
        {
          "output_type": "execute_result",
          "data": {
            "text/plain": [
              "tensor([0.1000, 0.5000])"
            ]
          },
          "metadata": {},
          "execution_count": 15
        }
      ]
    },
    {
      "cell_type": "code",
      "source": [
        "def cross_entropy(y_hat,y):\n",
        "  return -torch.log(y_hat[range(len(y_hat)),y])\n",
        "\n",
        "cross_entropy(y_hat,y)"
      ],
      "metadata": {
        "colab": {
          "base_uri": "https://localhost:8080/"
        },
        "id": "-8rxD2oWACiv",
        "outputId": "94620067-cdca-472f-91d0-815a9528d9ff"
      },
      "execution_count": 16,
      "outputs": [
        {
          "output_type": "execute_result",
          "data": {
            "text/plain": [
              "tensor([2.3026, 0.6931])"
            ]
          },
          "metadata": {},
          "execution_count": 16
        }
      ]
    },
    {
      "cell_type": "markdown",
      "source": [
        "#分类精度\n"
      ],
      "metadata": {
        "id": "Z8QfNkDRCkr0"
      }
    },
    {
      "cell_type": "code",
      "source": [
        "def accuracy(y_hat,y):\n",
        "  if len(y_hat.shape)>1 and y_hat.shape[1]>1:\n",
        "    y_hat=y_hat.argmax(axis=1)\n",
        "  cmp=y_hat.type(y.dtype)==y\n",
        "  return float(cmp.type(y.dtype).sum())"
      ],
      "metadata": {
        "id": "MdYQoUvIALfu"
      },
      "execution_count": 17,
      "outputs": []
    },
    {
      "cell_type": "code",
      "source": [
        "accuracy(y_hat,y)/len(y)"
      ],
      "metadata": {
        "colab": {
          "base_uri": "https://localhost:8080/"
        },
        "id": "Xfy_5Gc5DplW",
        "outputId": "c21e7f3a-a9e4-46c1-bf8e-1508bbddc01c"
      },
      "execution_count": 18,
      "outputs": [
        {
          "output_type": "execute_result",
          "data": {
            "text/plain": [
              "0.5"
            ]
          },
          "metadata": {},
          "execution_count": 18
        }
      ]
    },
    {
      "cell_type": "code",
      "source": [
        "def evaluate_accuracy(net,data_iter):\n",
        "  if isinstance(net,torch.nn.Module):\n",
        "    net.eval()\n",
        "  metric=Accumulator(2)\n",
        "  for X,y in data_iter:\n",
        "    metric.add(accuracy(net(X),y),y.numel())\n",
        "  return metric[0]/metric[1]"
      ],
      "metadata": {
        "id": "QLXQDRXFDz0r"
      },
      "execution_count": 19,
      "outputs": []
    },
    {
      "cell_type": "code",
      "source": [
        "class Accumulator: \n",
        "  def __init__(self, n):\n",
        "    self.data = [0.0] * n\n",
        "\n",
        "  def add(self, *args):\n",
        "    self.data = [a + float(b) for a, b in zip(self.data, args)]\n",
        "\n",
        "  def reset(self):\n",
        "    self.data = [0.0] * len(self.data)\n",
        "\n",
        "  def __getitem__(self, idx):\n",
        "    return self.data[idx]"
      ],
      "metadata": {
        "id": "lWJtM0aeLqAM"
      },
      "execution_count": 20,
      "outputs": []
    },
    {
      "cell_type": "code",
      "source": [
        "evaluate_accuracy(net,test_iter)"
      ],
      "metadata": {
        "colab": {
          "base_uri": "https://localhost:8080/"
        },
        "id": "DUT-5apGLzMA",
        "outputId": "b2ee5162-3343-428c-bb02-0f198c49736f"
      },
      "execution_count": 21,
      "outputs": [
        {
          "output_type": "stream",
          "name": "stderr",
          "text": [
            "/usr/local/lib/python3.7/dist-packages/torch/utils/data/dataloader.py:481: UserWarning: This DataLoader will create 4 worker processes in total. Our suggested max number of worker in current system is 2, which is smaller than what this DataLoader is going to create. Please be aware that excessive worker creation might get DataLoader running slow or even freeze, lower the worker number to avoid potential slowness/freeze if necessary.\n",
            "  cpuset_checked))\n"
          ]
        },
        {
          "output_type": "execute_result",
          "data": {
            "text/plain": [
              "0.0675"
            ]
          },
          "metadata": {},
          "execution_count": 21
        }
      ]
    },
    {
      "cell_type": "markdown",
      "source": [
        "训练一个周期的函数"
      ],
      "metadata": {
        "id": "aipNjfRQPPYv"
      }
    },
    {
      "cell_type": "code",
      "source": [
        "def train_epoch(net,train_iter,loss,updater): \n",
        "#train_iter 训练数据集迭代器,loss 损失函数,updater 对W和b进行更新的函数\n",
        "  if isinstance(net,torch.nn.Module):\n",
        "    net.train()\n",
        "  metric=Accumulator(3)\n",
        "  for X,y in train_iter:\n",
        "    y_hat=net(X)\n",
        "    l=loss(y_hat,y)\n",
        "    if isinstance(updater,torch.optim.Optimizer):\n",
        "      updater.zero_grad()\n",
        "      l.mean().backward()\n",
        "      updater.step()\n",
        "    else:\n",
        "      l.sum().backward()\n",
        "      updater(X.shape[0])\n",
        "    metric.add(float(l.sum()),accuracy(y_hat,y),y.numel())\n",
        "  return metric[0]/metric[2],metric[1]/metric[2]"
      ],
      "metadata": {
        "id": "pLqdFXKcMxAK"
      },
      "execution_count": 22,
      "outputs": []
    },
    {
      "cell_type": "code",
      "source": [
        "def train_epoch_ch3(net, train_iter, loss, updater):  #ave\n",
        "    \"\"\"训练模型一个迭代周期（定义见第3章）\"\"\"\n",
        "    # 将模型设置为训练模式\n",
        "    if isinstance(net, torch.nn.Module):\n",
        "        net.train()\n",
        "    # 训练损失总和、训练准确度总和、样本数\n",
        "    metric = Accumulator(3)\n",
        "    for X, y in train_iter:\n",
        "        # 计算梯度并更新参数\n",
        "        y_hat = net(X)\n",
        "        l = loss(y_hat, y)\n",
        "        if isinstance(updater, torch.optim.Optimizer):\n",
        "            # 使用PyTorch内置的优化器和损失函数\n",
        "            updater.zero_grad()\n",
        "            l.mean().backward()\n",
        "            updater.step()\n",
        "        else:\n",
        "            # 使用定制的优化器和损失函数\n",
        "            l.sum().backward()\n",
        "            updater(X.shape[0])\n",
        "        metric.add(float(l.sum()), accuracy(y_hat, y), y.numel())\n",
        "    # 返回训练损失和训练精度\n",
        "    return metric[0] / metric[2], metric[1] / metric[2]"
      ],
      "metadata": {
        "id": "Jueg2B-Ub0Fm"
      },
      "execution_count": 23,
      "outputs": []
    },
    {
      "cell_type": "markdown",
      "source": [
        "#Animator\n",
        "绘制数据,展示迭代成功"
      ],
      "metadata": {
        "id": "U3T7e3CpSh-N"
      }
    },
    {
      "cell_type": "code",
      "source": [
        "class Animator:\n",
        "  def __init__(self, xlabel=None, ylabel=None, legend=None, xlim=None,\n",
        "            ylim=None, xscale='linear', yscale='linear',\n",
        "            fmts=('-', 'm--', 'g-.', 'r:'), nrows=1, ncols=1,\n",
        "            figsize=(3.5, 2.5)):\n",
        "    if legend is None:\n",
        "      legend=[]\n",
        "    d2l.use_svg_display()\n",
        "    self.fig, self.axes = d2l.plt.subplots(nrows, ncols, figsize=figsize)\n",
        "    if nrows * ncols == 1:\n",
        "      self.axes = [self.axes, ]\n",
        "    self.config_axes = lambda: d2l.set_axes(\n",
        "      self.axes[0], xlabel, ylabel, xlim, ylim, xscale, yscale, legend)\n",
        "    self.X, self.Y, self.fmts = None, None, fmts\n",
        "  \n",
        "  def add(self, x, y):\n",
        "    # 向图表中添加多个数据点\n",
        "    if not hasattr(y, \"__len__\"):\n",
        "      y = [y]\n",
        "    n = len(y)\n",
        "    if not hasattr(x, \"__len__\"):\n",
        "      x = [x] * n\n",
        "    if not self.X:\n",
        "      self.X = [[] for _ in range(n)]\n",
        "    if not self.Y:\n",
        "      self.Y = [[] for _ in range(n)]\n",
        "    for i, (a, b) in enumerate(zip(x, y)):\n",
        "      if a is not None and b is not None:\n",
        "        self.X[i].append(a)\n",
        "        self.Y[i].append(b)\n",
        "    self.axes[0].cla()\n",
        "    for x, y, fmt in zip(self.X, self.Y, self.fmts):\n",
        "      self.axes[0].plot(x, y, fmt)\n",
        "    self.config_axes()\n",
        "    display.display(self.fig)\n",
        "    display.clear_output(wait=True)"
      ],
      "metadata": {
        "id": "xN5D821SS5Wi"
      },
      "execution_count": 24,
      "outputs": []
    },
    {
      "cell_type": "markdown",
      "source": [
        "#开始训练"
      ],
      "metadata": {
        "id": "iShumFeeVTD6"
      }
    },
    {
      "cell_type": "code",
      "source": [
        "def train(net,train_iter,test_iter,loss,num_epochs,updater):\n",
        "  animator=Animator(xlabel='epoch', xlim=[1, num_epochs], ylim=[0.3, 0.9],\n",
        "            legend=['train loss', 'train acc', 'test acc'])\n",
        "  for epoch in range(num_epochs):\n",
        "    train_metrics=train_epoch_ch3(net,train_iter,loss,updater)\n",
        "    test_acc=evaluate_accuracy(net,test_iter)\n",
        "    animator.add(epoch+1,train_metrics+(test_acc,))\n",
        "    train_loss,train_acc=train_metrics\n",
        "    \n",
        "    #assert train_loss<0.5, train_loss #这里会报错,不太懂 train_loss 要控制在0.5一下的原因\n",
        "    assert train_acc<=1 and train_acc>0.7, train_acc\n",
        "    assert test_acc<=1 and test_acc>0.7, test_acc\n"
      ],
      "metadata": {
        "id": "yNHhJaoCU4J3"
      },
      "execution_count": 28,
      "outputs": []
    },
    {
      "cell_type": "code",
      "source": [
        "lr=0.1#learning rate 学习率\n",
        "def updater(batch_size):\n",
        "  return d2l.sgd([W,b],lr,batch_size)"
      ],
      "metadata": {
        "id": "Aejnjr7wYB4M"
      },
      "execution_count": 29,
      "outputs": []
    },
    {
      "cell_type": "code",
      "source": [
        "num_epochs=10\n",
        "train(net,train_iter,test_iter,cross_entropy,num_epochs,updater)"
      ],
      "metadata": {
        "colab": {
          "base_uri": "https://localhost:8080/",
          "height": 261
        },
        "id": "6DgG2zv-YW2w",
        "outputId": "b8e684f0-c031-4daf-b8a3-52f60e438d80"
      },
      "execution_count": 30,
      "outputs": [
        {
          "output_type": "display_data",
          "data": {
            "text/plain": [
              "<Figure size 252x180 with 1 Axes>"
            ],
            "image/svg+xml": "<?xml version=\"1.0\" encoding=\"utf-8\" standalone=\"no\"?>\n<!DOCTYPE svg PUBLIC \"-//W3C//DTD SVG 1.1//EN\"\n  \"http://www.w3.org/Graphics/SVG/1.1/DTD/svg11.dtd\">\n<!-- Created with matplotlib (https://matplotlib.org/) -->\n<svg height=\"180.65625pt\" version=\"1.1\" viewBox=\"0 0 238.965625 180.65625\" width=\"238.965625pt\" xmlns=\"http://www.w3.org/2000/svg\" xmlns:xlink=\"http://www.w3.org/1999/xlink\">\n <defs>\n  <style type=\"text/css\">\n*{stroke-linecap:butt;stroke-linejoin:round;}\n  </style>\n </defs>\n <g id=\"figure_1\">\n  <g id=\"patch_1\">\n   <path d=\"M 0 180.65625 \nL 238.965625 180.65625 \nL 238.965625 0 \nL 0 0 \nz\n\" style=\"fill:none;\"/>\n  </g>\n  <g id=\"axes_1\">\n   <g id=\"patch_2\">\n    <path d=\"M 30.103125 143.1 \nL 225.403125 143.1 \nL 225.403125 7.2 \nL 30.103125 7.2 \nz\n\" style=\"fill:#ffffff;\"/>\n   </g>\n   <g id=\"matplotlib.axis_1\">\n    <g id=\"xtick_1\">\n     <g id=\"line2d_1\">\n      <path clip-path=\"url(#pf865d1136e)\" d=\"M 51.803125 143.1 \nL 51.803125 7.2 \n\" style=\"fill:none;stroke:#b0b0b0;stroke-linecap:square;stroke-width:0.8;\"/>\n     </g>\n     <g id=\"line2d_2\">\n      <defs>\n       <path d=\"M 0 0 \nL 0 3.5 \n\" id=\"m2dad7f607e\" style=\"stroke:#000000;stroke-width:0.8;\"/>\n      </defs>\n      <g>\n       <use style=\"stroke:#000000;stroke-width:0.8;\" x=\"51.803125\" xlink:href=\"#m2dad7f607e\" y=\"143.1\"/>\n      </g>\n     </g>\n     <g id=\"text_1\">\n      <!-- 2 -->\n      <defs>\n       <path d=\"M 19.1875 8.296875 \nL 53.609375 8.296875 \nL 53.609375 0 \nL 7.328125 0 \nL 7.328125 8.296875 \nQ 12.9375 14.109375 22.625 23.890625 \nQ 32.328125 33.6875 34.8125 36.53125 \nQ 39.546875 41.84375 41.421875 45.53125 \nQ 43.3125 49.21875 43.3125 52.78125 \nQ 43.3125 58.59375 39.234375 62.25 \nQ 35.15625 65.921875 28.609375 65.921875 \nQ 23.96875 65.921875 18.8125 64.3125 \nQ 13.671875 62.703125 7.8125 59.421875 \nL 7.8125 69.390625 \nQ 13.765625 71.78125 18.9375 73 \nQ 24.125 74.21875 28.421875 74.21875 \nQ 39.75 74.21875 46.484375 68.546875 \nQ 53.21875 62.890625 53.21875 53.421875 \nQ 53.21875 48.921875 51.53125 44.890625 \nQ 49.859375 40.875 45.40625 35.40625 \nQ 44.1875 33.984375 37.640625 27.21875 \nQ 31.109375 20.453125 19.1875 8.296875 \nz\n\" id=\"DejaVuSans-50\"/>\n      </defs>\n      <g transform=\"translate(48.621875 157.698438)scale(0.1 -0.1)\">\n       <use xlink:href=\"#DejaVuSans-50\"/>\n      </g>\n     </g>\n    </g>\n    <g id=\"xtick_2\">\n     <g id=\"line2d_3\">\n      <path clip-path=\"url(#pf865d1136e)\" d=\"M 95.203125 143.1 \nL 95.203125 7.2 \n\" style=\"fill:none;stroke:#b0b0b0;stroke-linecap:square;stroke-width:0.8;\"/>\n     </g>\n     <g id=\"line2d_4\">\n      <g>\n       <use style=\"stroke:#000000;stroke-width:0.8;\" x=\"95.203125\" xlink:href=\"#m2dad7f607e\" y=\"143.1\"/>\n      </g>\n     </g>\n     <g id=\"text_2\">\n      <!-- 4 -->\n      <defs>\n       <path d=\"M 37.796875 64.3125 \nL 12.890625 25.390625 \nL 37.796875 25.390625 \nz\nM 35.203125 72.90625 \nL 47.609375 72.90625 \nL 47.609375 25.390625 \nL 58.015625 25.390625 \nL 58.015625 17.1875 \nL 47.609375 17.1875 \nL 47.609375 0 \nL 37.796875 0 \nL 37.796875 17.1875 \nL 4.890625 17.1875 \nL 4.890625 26.703125 \nz\n\" id=\"DejaVuSans-52\"/>\n      </defs>\n      <g transform=\"translate(92.021875 157.698438)scale(0.1 -0.1)\">\n       <use xlink:href=\"#DejaVuSans-52\"/>\n      </g>\n     </g>\n    </g>\n    <g id=\"xtick_3\">\n     <g id=\"line2d_5\">\n      <path clip-path=\"url(#pf865d1136e)\" d=\"M 138.603125 143.1 \nL 138.603125 7.2 \n\" style=\"fill:none;stroke:#b0b0b0;stroke-linecap:square;stroke-width:0.8;\"/>\n     </g>\n     <g id=\"line2d_6\">\n      <g>\n       <use style=\"stroke:#000000;stroke-width:0.8;\" x=\"138.603125\" xlink:href=\"#m2dad7f607e\" y=\"143.1\"/>\n      </g>\n     </g>\n     <g id=\"text_3\">\n      <!-- 6 -->\n      <defs>\n       <path d=\"M 33.015625 40.375 \nQ 26.375 40.375 22.484375 35.828125 \nQ 18.609375 31.296875 18.609375 23.390625 \nQ 18.609375 15.53125 22.484375 10.953125 \nQ 26.375 6.390625 33.015625 6.390625 \nQ 39.65625 6.390625 43.53125 10.953125 \nQ 47.40625 15.53125 47.40625 23.390625 \nQ 47.40625 31.296875 43.53125 35.828125 \nQ 39.65625 40.375 33.015625 40.375 \nz\nM 52.59375 71.296875 \nL 52.59375 62.3125 \nQ 48.875 64.0625 45.09375 64.984375 \nQ 41.3125 65.921875 37.59375 65.921875 \nQ 27.828125 65.921875 22.671875 59.328125 \nQ 17.53125 52.734375 16.796875 39.40625 \nQ 19.671875 43.65625 24.015625 45.921875 \nQ 28.375 48.1875 33.59375 48.1875 \nQ 44.578125 48.1875 50.953125 41.515625 \nQ 57.328125 34.859375 57.328125 23.390625 \nQ 57.328125 12.15625 50.6875 5.359375 \nQ 44.046875 -1.421875 33.015625 -1.421875 \nQ 20.359375 -1.421875 13.671875 8.265625 \nQ 6.984375 17.96875 6.984375 36.375 \nQ 6.984375 53.65625 15.1875 63.9375 \nQ 23.390625 74.21875 37.203125 74.21875 \nQ 40.921875 74.21875 44.703125 73.484375 \nQ 48.484375 72.75 52.59375 71.296875 \nz\n\" id=\"DejaVuSans-54\"/>\n      </defs>\n      <g transform=\"translate(135.421875 157.698438)scale(0.1 -0.1)\">\n       <use xlink:href=\"#DejaVuSans-54\"/>\n      </g>\n     </g>\n    </g>\n    <g id=\"xtick_4\">\n     <g id=\"line2d_7\">\n      <path clip-path=\"url(#pf865d1136e)\" d=\"M 182.003125 143.1 \nL 182.003125 7.2 \n\" style=\"fill:none;stroke:#b0b0b0;stroke-linecap:square;stroke-width:0.8;\"/>\n     </g>\n     <g id=\"line2d_8\">\n      <g>\n       <use style=\"stroke:#000000;stroke-width:0.8;\" x=\"182.003125\" xlink:href=\"#m2dad7f607e\" y=\"143.1\"/>\n      </g>\n     </g>\n     <g id=\"text_4\">\n      <!-- 8 -->\n      <defs>\n       <path d=\"M 31.78125 34.625 \nQ 24.75 34.625 20.71875 30.859375 \nQ 16.703125 27.09375 16.703125 20.515625 \nQ 16.703125 13.921875 20.71875 10.15625 \nQ 24.75 6.390625 31.78125 6.390625 \nQ 38.8125 6.390625 42.859375 10.171875 \nQ 46.921875 13.96875 46.921875 20.515625 \nQ 46.921875 27.09375 42.890625 30.859375 \nQ 38.875 34.625 31.78125 34.625 \nz\nM 21.921875 38.8125 \nQ 15.578125 40.375 12.03125 44.71875 \nQ 8.5 49.078125 8.5 55.328125 \nQ 8.5 64.0625 14.71875 69.140625 \nQ 20.953125 74.21875 31.78125 74.21875 \nQ 42.671875 74.21875 48.875 69.140625 \nQ 55.078125 64.0625 55.078125 55.328125 \nQ 55.078125 49.078125 51.53125 44.71875 \nQ 48 40.375 41.703125 38.8125 \nQ 48.828125 37.15625 52.796875 32.3125 \nQ 56.78125 27.484375 56.78125 20.515625 \nQ 56.78125 9.90625 50.3125 4.234375 \nQ 43.84375 -1.421875 31.78125 -1.421875 \nQ 19.734375 -1.421875 13.25 4.234375 \nQ 6.78125 9.90625 6.78125 20.515625 \nQ 6.78125 27.484375 10.78125 32.3125 \nQ 14.796875 37.15625 21.921875 38.8125 \nz\nM 18.3125 54.390625 \nQ 18.3125 48.734375 21.84375 45.5625 \nQ 25.390625 42.390625 31.78125 42.390625 \nQ 38.140625 42.390625 41.71875 45.5625 \nQ 45.3125 48.734375 45.3125 54.390625 \nQ 45.3125 60.0625 41.71875 63.234375 \nQ 38.140625 66.40625 31.78125 66.40625 \nQ 25.390625 66.40625 21.84375 63.234375 \nQ 18.3125 60.0625 18.3125 54.390625 \nz\n\" id=\"DejaVuSans-56\"/>\n      </defs>\n      <g transform=\"translate(178.821875 157.698438)scale(0.1 -0.1)\">\n       <use xlink:href=\"#DejaVuSans-56\"/>\n      </g>\n     </g>\n    </g>\n    <g id=\"xtick_5\">\n     <g id=\"line2d_9\">\n      <path clip-path=\"url(#pf865d1136e)\" d=\"M 225.403125 143.1 \nL 225.403125 7.2 \n\" style=\"fill:none;stroke:#b0b0b0;stroke-linecap:square;stroke-width:0.8;\"/>\n     </g>\n     <g id=\"line2d_10\">\n      <g>\n       <use style=\"stroke:#000000;stroke-width:0.8;\" x=\"225.403125\" xlink:href=\"#m2dad7f607e\" y=\"143.1\"/>\n      </g>\n     </g>\n     <g id=\"text_5\">\n      <!-- 10 -->\n      <defs>\n       <path d=\"M 12.40625 8.296875 \nL 28.515625 8.296875 \nL 28.515625 63.921875 \nL 10.984375 60.40625 \nL 10.984375 69.390625 \nL 28.421875 72.90625 \nL 38.28125 72.90625 \nL 38.28125 8.296875 \nL 54.390625 8.296875 \nL 54.390625 0 \nL 12.40625 0 \nz\n\" id=\"DejaVuSans-49\"/>\n       <path d=\"M 31.78125 66.40625 \nQ 24.171875 66.40625 20.328125 58.90625 \nQ 16.5 51.421875 16.5 36.375 \nQ 16.5 21.390625 20.328125 13.890625 \nQ 24.171875 6.390625 31.78125 6.390625 \nQ 39.453125 6.390625 43.28125 13.890625 \nQ 47.125 21.390625 47.125 36.375 \nQ 47.125 51.421875 43.28125 58.90625 \nQ 39.453125 66.40625 31.78125 66.40625 \nz\nM 31.78125 74.21875 \nQ 44.046875 74.21875 50.515625 64.515625 \nQ 56.984375 54.828125 56.984375 36.375 \nQ 56.984375 17.96875 50.515625 8.265625 \nQ 44.046875 -1.421875 31.78125 -1.421875 \nQ 19.53125 -1.421875 13.0625 8.265625 \nQ 6.59375 17.96875 6.59375 36.375 \nQ 6.59375 54.828125 13.0625 64.515625 \nQ 19.53125 74.21875 31.78125 74.21875 \nz\n\" id=\"DejaVuSans-48\"/>\n      </defs>\n      <g transform=\"translate(219.040625 157.698438)scale(0.1 -0.1)\">\n       <use xlink:href=\"#DejaVuSans-49\"/>\n       <use x=\"63.623047\" xlink:href=\"#DejaVuSans-48\"/>\n      </g>\n     </g>\n    </g>\n    <g id=\"text_6\">\n     <!-- epoch -->\n     <defs>\n      <path d=\"M 56.203125 29.59375 \nL 56.203125 25.203125 \nL 14.890625 25.203125 \nQ 15.484375 15.921875 20.484375 11.0625 \nQ 25.484375 6.203125 34.421875 6.203125 \nQ 39.59375 6.203125 44.453125 7.46875 \nQ 49.3125 8.734375 54.109375 11.28125 \nL 54.109375 2.78125 \nQ 49.265625 0.734375 44.1875 -0.34375 \nQ 39.109375 -1.421875 33.890625 -1.421875 \nQ 20.796875 -1.421875 13.15625 6.1875 \nQ 5.515625 13.8125 5.515625 26.8125 \nQ 5.515625 40.234375 12.765625 48.109375 \nQ 20.015625 56 32.328125 56 \nQ 43.359375 56 49.78125 48.890625 \nQ 56.203125 41.796875 56.203125 29.59375 \nz\nM 47.21875 32.234375 \nQ 47.125 39.59375 43.09375 43.984375 \nQ 39.0625 48.390625 32.421875 48.390625 \nQ 24.90625 48.390625 20.390625 44.140625 \nQ 15.875 39.890625 15.1875 32.171875 \nz\n\" id=\"DejaVuSans-101\"/>\n      <path d=\"M 18.109375 8.203125 \nL 18.109375 -20.796875 \nL 9.078125 -20.796875 \nL 9.078125 54.6875 \nL 18.109375 54.6875 \nL 18.109375 46.390625 \nQ 20.953125 51.265625 25.265625 53.625 \nQ 29.59375 56 35.59375 56 \nQ 45.5625 56 51.78125 48.09375 \nQ 58.015625 40.1875 58.015625 27.296875 \nQ 58.015625 14.40625 51.78125 6.484375 \nQ 45.5625 -1.421875 35.59375 -1.421875 \nQ 29.59375 -1.421875 25.265625 0.953125 \nQ 20.953125 3.328125 18.109375 8.203125 \nz\nM 48.6875 27.296875 \nQ 48.6875 37.203125 44.609375 42.84375 \nQ 40.53125 48.484375 33.40625 48.484375 \nQ 26.265625 48.484375 22.1875 42.84375 \nQ 18.109375 37.203125 18.109375 27.296875 \nQ 18.109375 17.390625 22.1875 11.75 \nQ 26.265625 6.109375 33.40625 6.109375 \nQ 40.53125 6.109375 44.609375 11.75 \nQ 48.6875 17.390625 48.6875 27.296875 \nz\n\" id=\"DejaVuSans-112\"/>\n      <path d=\"M 30.609375 48.390625 \nQ 23.390625 48.390625 19.1875 42.75 \nQ 14.984375 37.109375 14.984375 27.296875 \nQ 14.984375 17.484375 19.15625 11.84375 \nQ 23.34375 6.203125 30.609375 6.203125 \nQ 37.796875 6.203125 41.984375 11.859375 \nQ 46.1875 17.53125 46.1875 27.296875 \nQ 46.1875 37.015625 41.984375 42.703125 \nQ 37.796875 48.390625 30.609375 48.390625 \nz\nM 30.609375 56 \nQ 42.328125 56 49.015625 48.375 \nQ 55.71875 40.765625 55.71875 27.296875 \nQ 55.71875 13.875 49.015625 6.21875 \nQ 42.328125 -1.421875 30.609375 -1.421875 \nQ 18.84375 -1.421875 12.171875 6.21875 \nQ 5.515625 13.875 5.515625 27.296875 \nQ 5.515625 40.765625 12.171875 48.375 \nQ 18.84375 56 30.609375 56 \nz\n\" id=\"DejaVuSans-111\"/>\n      <path d=\"M 48.78125 52.59375 \nL 48.78125 44.1875 \nQ 44.96875 46.296875 41.140625 47.34375 \nQ 37.3125 48.390625 33.40625 48.390625 \nQ 24.65625 48.390625 19.8125 42.84375 \nQ 14.984375 37.3125 14.984375 27.296875 \nQ 14.984375 17.28125 19.8125 11.734375 \nQ 24.65625 6.203125 33.40625 6.203125 \nQ 37.3125 6.203125 41.140625 7.25 \nQ 44.96875 8.296875 48.78125 10.40625 \nL 48.78125 2.09375 \nQ 45.015625 0.34375 40.984375 -0.53125 \nQ 36.96875 -1.421875 32.421875 -1.421875 \nQ 20.0625 -1.421875 12.78125 6.34375 \nQ 5.515625 14.109375 5.515625 27.296875 \nQ 5.515625 40.671875 12.859375 48.328125 \nQ 20.21875 56 33.015625 56 \nQ 37.15625 56 41.109375 55.140625 \nQ 45.0625 54.296875 48.78125 52.59375 \nz\n\" id=\"DejaVuSans-99\"/>\n      <path d=\"M 54.890625 33.015625 \nL 54.890625 0 \nL 45.90625 0 \nL 45.90625 32.71875 \nQ 45.90625 40.484375 42.875 44.328125 \nQ 39.84375 48.1875 33.796875 48.1875 \nQ 26.515625 48.1875 22.3125 43.546875 \nQ 18.109375 38.921875 18.109375 30.90625 \nL 18.109375 0 \nL 9.078125 0 \nL 9.078125 75.984375 \nL 18.109375 75.984375 \nL 18.109375 46.1875 \nQ 21.34375 51.125 25.703125 53.5625 \nQ 30.078125 56 35.796875 56 \nQ 45.21875 56 50.046875 50.171875 \nQ 54.890625 44.34375 54.890625 33.015625 \nz\n\" id=\"DejaVuSans-104\"/>\n     </defs>\n     <g transform=\"translate(112.525 171.376563)scale(0.1 -0.1)\">\n      <use xlink:href=\"#DejaVuSans-101\"/>\n      <use x=\"61.523438\" xlink:href=\"#DejaVuSans-112\"/>\n      <use x=\"125\" xlink:href=\"#DejaVuSans-111\"/>\n      <use x=\"186.181641\" xlink:href=\"#DejaVuSans-99\"/>\n      <use x=\"241.162109\" xlink:href=\"#DejaVuSans-104\"/>\n     </g>\n    </g>\n   </g>\n   <g id=\"matplotlib.axis_2\">\n    <g id=\"ytick_1\">\n     <g id=\"line2d_11\">\n      <path clip-path=\"url(#pf865d1136e)\" d=\"M 30.103125 120.45 \nL 225.403125 120.45 \n\" style=\"fill:none;stroke:#b0b0b0;stroke-linecap:square;stroke-width:0.8;\"/>\n     </g>\n     <g id=\"line2d_12\">\n      <defs>\n       <path d=\"M 0 0 \nL -3.5 0 \n\" id=\"m77f1931775\" style=\"stroke:#000000;stroke-width:0.8;\"/>\n      </defs>\n      <g>\n       <use style=\"stroke:#000000;stroke-width:0.8;\" x=\"30.103125\" xlink:href=\"#m77f1931775\" y=\"120.45\"/>\n      </g>\n     </g>\n     <g id=\"text_7\">\n      <!-- 0.4 -->\n      <defs>\n       <path d=\"M 10.6875 12.40625 \nL 21 12.40625 \nL 21 0 \nL 10.6875 0 \nz\n\" id=\"DejaVuSans-46\"/>\n      </defs>\n      <g transform=\"translate(7.2 124.249219)scale(0.1 -0.1)\">\n       <use xlink:href=\"#DejaVuSans-48\"/>\n       <use x=\"63.623047\" xlink:href=\"#DejaVuSans-46\"/>\n       <use x=\"95.410156\" xlink:href=\"#DejaVuSans-52\"/>\n      </g>\n     </g>\n    </g>\n    <g id=\"ytick_2\">\n     <g id=\"line2d_13\">\n      <path clip-path=\"url(#pf865d1136e)\" d=\"M 30.103125 75.15 \nL 225.403125 75.15 \n\" style=\"fill:none;stroke:#b0b0b0;stroke-linecap:square;stroke-width:0.8;\"/>\n     </g>\n     <g id=\"line2d_14\">\n      <g>\n       <use style=\"stroke:#000000;stroke-width:0.8;\" x=\"30.103125\" xlink:href=\"#m77f1931775\" y=\"75.15\"/>\n      </g>\n     </g>\n     <g id=\"text_8\">\n      <!-- 0.6 -->\n      <g transform=\"translate(7.2 78.949219)scale(0.1 -0.1)\">\n       <use xlink:href=\"#DejaVuSans-48\"/>\n       <use x=\"63.623047\" xlink:href=\"#DejaVuSans-46\"/>\n       <use x=\"95.410156\" xlink:href=\"#DejaVuSans-54\"/>\n      </g>\n     </g>\n    </g>\n    <g id=\"ytick_3\">\n     <g id=\"line2d_15\">\n      <path clip-path=\"url(#pf865d1136e)\" d=\"M 30.103125 29.85 \nL 225.403125 29.85 \n\" style=\"fill:none;stroke:#b0b0b0;stroke-linecap:square;stroke-width:0.8;\"/>\n     </g>\n     <g id=\"line2d_16\">\n      <g>\n       <use style=\"stroke:#000000;stroke-width:0.8;\" x=\"30.103125\" xlink:href=\"#m77f1931775\" y=\"29.85\"/>\n      </g>\n     </g>\n     <g id=\"text_9\">\n      <!-- 0.8 -->\n      <g transform=\"translate(7.2 33.649219)scale(0.1 -0.1)\">\n       <use xlink:href=\"#DejaVuSans-48\"/>\n       <use x=\"63.623047\" xlink:href=\"#DejaVuSans-46\"/>\n       <use x=\"95.410156\" xlink:href=\"#DejaVuSans-56\"/>\n      </g>\n     </g>\n    </g>\n   </g>\n   <g id=\"line2d_17\">\n    <path clip-path=\"url(#pf865d1136e)\" d=\"M 30.103125 81.870548 \nL 51.803125 92.231673 \nL 73.503125 97.405037 \nL 95.203125 101.189741 \nL 116.903125 103.888013 \nL 138.603125 105.72579 \nL 160.303125 107.170468 \nL 182.003125 108.680909 \nL 203.703125 109.54102 \nL 225.403125 110.588958 \n\" style=\"fill:none;stroke:#1f77b4;stroke-linecap:square;stroke-width:1.5;\"/>\n   </g>\n   <g id=\"line2d_18\">\n    <path clip-path=\"url(#pf865d1136e)\" d=\"M 30.103125 26.871525 \nL 51.803125 23.9157 \nL 73.503125 22.57935 \nL 95.203125 21.6054 \nL 116.903125 20.79 \nL 138.603125 20.14825 \nL 160.303125 19.638625 \nL 182.003125 19.223375 \nL 203.703125 19.110125 \nL 225.403125 18.672225 \n\" style=\"fill:none;stroke:#bf00bf;stroke-dasharray:5.55,2.4;stroke-dashoffset:0;stroke-width:1.5;\"/>\n   </g>\n   <g id=\"line2d_19\">\n    <path clip-path=\"url(#pf865d1136e)\" d=\"M 30.103125 30.5748 \nL 51.803125 29.4876 \nL 73.503125 25.0029 \nL 95.203125 23.7345 \nL 116.903125 23.98365 \nL 138.603125 23.93835 \nL 160.303125 23.75715 \nL 182.003125 22.0131 \nL 203.703125 21.9678 \nL 225.403125 21.76395 \n\" style=\"fill:none;stroke:#008000;stroke-dasharray:9.6,2.4,1.5,2.4;stroke-dashoffset:0;stroke-width:1.5;\"/>\n   </g>\n   <g id=\"patch_3\">\n    <path d=\"M 30.103125 143.1 \nL 30.103125 7.2 \n\" style=\"fill:none;stroke:#000000;stroke-linecap:square;stroke-linejoin:miter;stroke-width:0.8;\"/>\n   </g>\n   <g id=\"patch_4\">\n    <path d=\"M 225.403125 143.1 \nL 225.403125 7.2 \n\" style=\"fill:none;stroke:#000000;stroke-linecap:square;stroke-linejoin:miter;stroke-width:0.8;\"/>\n   </g>\n   <g id=\"patch_5\">\n    <path d=\"M 30.103125 143.1 \nL 225.403125 143.1 \n\" style=\"fill:none;stroke:#000000;stroke-linecap:square;stroke-linejoin:miter;stroke-width:0.8;\"/>\n   </g>\n   <g id=\"patch_6\">\n    <path d=\"M 30.103125 7.2 \nL 225.403125 7.2 \n\" style=\"fill:none;stroke:#000000;stroke-linecap:square;stroke-linejoin:miter;stroke-width:0.8;\"/>\n   </g>\n   <g id=\"legend_1\">\n    <g id=\"patch_7\">\n     <path d=\"M 140.634375 98.667187 \nL 218.403125 98.667187 \nQ 220.403125 98.667187 220.403125 96.667187 \nL 220.403125 53.632812 \nQ 220.403125 51.632812 218.403125 51.632812 \nL 140.634375 51.632812 \nQ 138.634375 51.632812 138.634375 53.632812 \nL 138.634375 96.667187 \nQ 138.634375 98.667187 140.634375 98.667187 \nz\n\" style=\"fill:#ffffff;opacity:0.8;stroke:#cccccc;stroke-linejoin:miter;\"/>\n    </g>\n    <g id=\"line2d_20\">\n     <path d=\"M 142.634375 59.73125 \nL 162.634375 59.73125 \n\" style=\"fill:none;stroke:#1f77b4;stroke-linecap:square;stroke-width:1.5;\"/>\n    </g>\n    <g id=\"line2d_21\"/>\n    <g id=\"text_10\">\n     <!-- train loss -->\n     <defs>\n      <path d=\"M 18.3125 70.21875 \nL 18.3125 54.6875 \nL 36.8125 54.6875 \nL 36.8125 47.703125 \nL 18.3125 47.703125 \nL 18.3125 18.015625 \nQ 18.3125 11.328125 20.140625 9.421875 \nQ 21.96875 7.515625 27.59375 7.515625 \nL 36.8125 7.515625 \nL 36.8125 0 \nL 27.59375 0 \nQ 17.1875 0 13.234375 3.875 \nQ 9.28125 7.765625 9.28125 18.015625 \nL 9.28125 47.703125 \nL 2.6875 47.703125 \nL 2.6875 54.6875 \nL 9.28125 54.6875 \nL 9.28125 70.21875 \nz\n\" id=\"DejaVuSans-116\"/>\n      <path d=\"M 41.109375 46.296875 \nQ 39.59375 47.171875 37.8125 47.578125 \nQ 36.03125 48 33.890625 48 \nQ 26.265625 48 22.1875 43.046875 \nQ 18.109375 38.09375 18.109375 28.8125 \nL 18.109375 0 \nL 9.078125 0 \nL 9.078125 54.6875 \nL 18.109375 54.6875 \nL 18.109375 46.1875 \nQ 20.953125 51.171875 25.484375 53.578125 \nQ 30.03125 56 36.53125 56 \nQ 37.453125 56 38.578125 55.875 \nQ 39.703125 55.765625 41.0625 55.515625 \nz\n\" id=\"DejaVuSans-114\"/>\n      <path d=\"M 34.28125 27.484375 \nQ 23.390625 27.484375 19.1875 25 \nQ 14.984375 22.515625 14.984375 16.5 \nQ 14.984375 11.71875 18.140625 8.90625 \nQ 21.296875 6.109375 26.703125 6.109375 \nQ 34.1875 6.109375 38.703125 11.40625 \nQ 43.21875 16.703125 43.21875 25.484375 \nL 43.21875 27.484375 \nz\nM 52.203125 31.203125 \nL 52.203125 0 \nL 43.21875 0 \nL 43.21875 8.296875 \nQ 40.140625 3.328125 35.546875 0.953125 \nQ 30.953125 -1.421875 24.3125 -1.421875 \nQ 15.921875 -1.421875 10.953125 3.296875 \nQ 6 8.015625 6 15.921875 \nQ 6 25.140625 12.171875 29.828125 \nQ 18.359375 34.515625 30.609375 34.515625 \nL 43.21875 34.515625 \nL 43.21875 35.40625 \nQ 43.21875 41.609375 39.140625 45 \nQ 35.0625 48.390625 27.6875 48.390625 \nQ 23 48.390625 18.546875 47.265625 \nQ 14.109375 46.140625 10.015625 43.890625 \nL 10.015625 52.203125 \nQ 14.9375 54.109375 19.578125 55.046875 \nQ 24.21875 56 28.609375 56 \nQ 40.484375 56 46.34375 49.84375 \nQ 52.203125 43.703125 52.203125 31.203125 \nz\n\" id=\"DejaVuSans-97\"/>\n      <path d=\"M 9.421875 54.6875 \nL 18.40625 54.6875 \nL 18.40625 0 \nL 9.421875 0 \nz\nM 9.421875 75.984375 \nL 18.40625 75.984375 \nL 18.40625 64.59375 \nL 9.421875 64.59375 \nz\n\" id=\"DejaVuSans-105\"/>\n      <path d=\"M 54.890625 33.015625 \nL 54.890625 0 \nL 45.90625 0 \nL 45.90625 32.71875 \nQ 45.90625 40.484375 42.875 44.328125 \nQ 39.84375 48.1875 33.796875 48.1875 \nQ 26.515625 48.1875 22.3125 43.546875 \nQ 18.109375 38.921875 18.109375 30.90625 \nL 18.109375 0 \nL 9.078125 0 \nL 9.078125 54.6875 \nL 18.109375 54.6875 \nL 18.109375 46.1875 \nQ 21.34375 51.125 25.703125 53.5625 \nQ 30.078125 56 35.796875 56 \nQ 45.21875 56 50.046875 50.171875 \nQ 54.890625 44.34375 54.890625 33.015625 \nz\n\" id=\"DejaVuSans-110\"/>\n      <path id=\"DejaVuSans-32\"/>\n      <path d=\"M 9.421875 75.984375 \nL 18.40625 75.984375 \nL 18.40625 0 \nL 9.421875 0 \nz\n\" id=\"DejaVuSans-108\"/>\n      <path d=\"M 44.28125 53.078125 \nL 44.28125 44.578125 \nQ 40.484375 46.53125 36.375 47.5 \nQ 32.28125 48.484375 27.875 48.484375 \nQ 21.1875 48.484375 17.84375 46.4375 \nQ 14.5 44.390625 14.5 40.28125 \nQ 14.5 37.15625 16.890625 35.375 \nQ 19.28125 33.59375 26.515625 31.984375 \nL 29.59375 31.296875 \nQ 39.15625 29.25 43.1875 25.515625 \nQ 47.21875 21.78125 47.21875 15.09375 \nQ 47.21875 7.46875 41.1875 3.015625 \nQ 35.15625 -1.421875 24.609375 -1.421875 \nQ 20.21875 -1.421875 15.453125 -0.5625 \nQ 10.6875 0.296875 5.421875 2 \nL 5.421875 11.28125 \nQ 10.40625 8.6875 15.234375 7.390625 \nQ 20.0625 6.109375 24.8125 6.109375 \nQ 31.15625 6.109375 34.5625 8.28125 \nQ 37.984375 10.453125 37.984375 14.40625 \nQ 37.984375 18.0625 35.515625 20.015625 \nQ 33.0625 21.96875 24.703125 23.78125 \nL 21.578125 24.515625 \nQ 13.234375 26.265625 9.515625 29.90625 \nQ 5.8125 33.546875 5.8125 39.890625 \nQ 5.8125 47.609375 11.28125 51.796875 \nQ 16.75 56 26.8125 56 \nQ 31.78125 56 36.171875 55.265625 \nQ 40.578125 54.546875 44.28125 53.078125 \nz\n\" id=\"DejaVuSans-115\"/>\n     </defs>\n     <g transform=\"translate(170.634375 63.23125)scale(0.1 -0.1)\">\n      <use xlink:href=\"#DejaVuSans-116\"/>\n      <use x=\"39.208984\" xlink:href=\"#DejaVuSans-114\"/>\n      <use x=\"80.322266\" xlink:href=\"#DejaVuSans-97\"/>\n      <use x=\"141.601562\" xlink:href=\"#DejaVuSans-105\"/>\n      <use x=\"169.384766\" xlink:href=\"#DejaVuSans-110\"/>\n      <use x=\"232.763672\" xlink:href=\"#DejaVuSans-32\"/>\n      <use x=\"264.550781\" xlink:href=\"#DejaVuSans-108\"/>\n      <use x=\"292.333984\" xlink:href=\"#DejaVuSans-111\"/>\n      <use x=\"353.515625\" xlink:href=\"#DejaVuSans-115\"/>\n      <use x=\"405.615234\" xlink:href=\"#DejaVuSans-115\"/>\n     </g>\n    </g>\n    <g id=\"line2d_22\">\n     <path d=\"M 142.634375 74.409375 \nL 162.634375 74.409375 \n\" style=\"fill:none;stroke:#bf00bf;stroke-dasharray:5.55,2.4;stroke-dashoffset:0;stroke-width:1.5;\"/>\n    </g>\n    <g id=\"line2d_23\"/>\n    <g id=\"text_11\">\n     <!-- train acc -->\n     <g transform=\"translate(170.634375 77.909375)scale(0.1 -0.1)\">\n      <use xlink:href=\"#DejaVuSans-116\"/>\n      <use x=\"39.208984\" xlink:href=\"#DejaVuSans-114\"/>\n      <use x=\"80.322266\" xlink:href=\"#DejaVuSans-97\"/>\n      <use x=\"141.601562\" xlink:href=\"#DejaVuSans-105\"/>\n      <use x=\"169.384766\" xlink:href=\"#DejaVuSans-110\"/>\n      <use x=\"232.763672\" xlink:href=\"#DejaVuSans-32\"/>\n      <use x=\"264.550781\" xlink:href=\"#DejaVuSans-97\"/>\n      <use x=\"325.830078\" xlink:href=\"#DejaVuSans-99\"/>\n      <use x=\"380.810547\" xlink:href=\"#DejaVuSans-99\"/>\n     </g>\n    </g>\n    <g id=\"line2d_24\">\n     <path d=\"M 142.634375 89.0875 \nL 162.634375 89.0875 \n\" style=\"fill:none;stroke:#008000;stroke-dasharray:9.6,2.4,1.5,2.4;stroke-dashoffset:0;stroke-width:1.5;\"/>\n    </g>\n    <g id=\"line2d_25\"/>\n    <g id=\"text_12\">\n     <!-- test acc -->\n     <g transform=\"translate(170.634375 92.5875)scale(0.1 -0.1)\">\n      <use xlink:href=\"#DejaVuSans-116\"/>\n      <use x=\"39.208984\" xlink:href=\"#DejaVuSans-101\"/>\n      <use x=\"100.732422\" xlink:href=\"#DejaVuSans-115\"/>\n      <use x=\"152.832031\" xlink:href=\"#DejaVuSans-116\"/>\n      <use x=\"192.041016\" xlink:href=\"#DejaVuSans-32\"/>\n      <use x=\"223.828125\" xlink:href=\"#DejaVuSans-97\"/>\n      <use x=\"285.107422\" xlink:href=\"#DejaVuSans-99\"/>\n      <use x=\"340.087891\" xlink:href=\"#DejaVuSans-99\"/>\n     </g>\n    </g>\n   </g>\n  </g>\n </g>\n <defs>\n  <clipPath id=\"pf865d1136e\">\n   <rect height=\"135.9\" width=\"195.3\" x=\"30.103125\" y=\"7.2\"/>\n  </clipPath>\n </defs>\n</svg>\n"
          },
          "metadata": {
            "needs_background": "light"
          }
        }
      ]
    },
    {
      "cell_type": "code",
      "source": [
        "def predict_ch3(net, test_iter, n=6): \n",
        "  for X, y in test_iter:\n",
        "    break\n",
        "  trues = d2l.get_fashion_mnist_labels(y)\n",
        "  preds = d2l.get_fashion_mnist_labels(net(X).argmax(axis=1))\n",
        "  titles = [true +'\\n' + pred for true, pred in zip(trues, preds)]\n",
        "  d2l.show_images(X[0:n].reshape((n, 28, 28)), 1, n, titles=titles[0:n])\n",
        "\n",
        "predict_ch3(net, test_iter,n=10)"
      ],
      "metadata": {
        "colab": {
          "base_uri": "https://localhost:8080/",
          "height": 232
        },
        "id": "pvP3TjU3YoYc",
        "outputId": "9009d9fe-f9c2-4e4e-e2a7-9a19dde081d2"
      },
      "execution_count": 31,
      "outputs": [
        {
          "output_type": "stream",
          "name": "stderr",
          "text": [
            "/usr/local/lib/python3.7/dist-packages/torch/utils/data/dataloader.py:481: UserWarning: This DataLoader will create 4 worker processes in total. Our suggested max number of worker in current system is 2, which is smaller than what this DataLoader is going to create. Please be aware that excessive worker creation might get DataLoader running slow or even freeze, lower the worker number to avoid potential slowness/freeze if necessary.\n",
            "  cpuset_checked))\n"
          ]
        },
        {
          "output_type": "display_data",
          "data": {
            "text/plain": [
              "<Figure size 1080x108 with 10 Axes>"
            ],
            "image/svg+xml": "<?xml version=\"1.0\" encoding=\"utf-8\" standalone=\"no\"?>\n<!DOCTYPE svg PUBLIC \"-//W3C//DTD SVG 1.1//EN\"\n  \"http://www.w3.org/Graphics/SVG/1.1/DTD/svg11.dtd\">\n<!-- Created with matplotlib (https://matplotlib.org/) -->\n<svg height=\"117.387703pt\" version=\"1.1\" viewBox=\"0 0 854.9 117.387703\" width=\"854.9pt\" xmlns=\"http://www.w3.org/2000/svg\" xmlns:xlink=\"http://www.w3.org/1999/xlink\">\n <defs>\n  <style type=\"text/css\">\n*{stroke-linecap:butt;stroke-linejoin:round;}\n  </style>\n </defs>\n <g id=\"figure_1\">\n  <g id=\"patch_1\">\n   <path d=\"M 0 117.387703 \nL 854.9 117.387703 \nL 854.9 -0 \nL 0 -0 \nz\n\" style=\"fill:none;\"/>\n  </g>\n  <g id=\"axes_1\">\n   <g id=\"patch_2\">\n    <path d=\"M 10.7 106.687703 \nL 81.632203 106.687703 \nL 81.632203 35.7555 \nL 10.7 35.7555 \nz\n\" style=\"fill:#ffffff;\"/>\n   </g>\n   <g clip-path=\"url(#p42a643c4e6)\">\n    <image height=\"71\" id=\"image5cfab52a3a\" transform=\"scale(1 -1)translate(0 -71)\" width=\"71\" x=\"10.7\" xlink:href=\"data:image/png;base64,\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\" y=\"-35.687703\"/>\n   </g>\n   <g id=\"patch_3\">\n    <path d=\"M 10.7 106.687703 \nL 10.7 35.7555 \n\" style=\"fill:none;stroke:#000000;stroke-linecap:square;stroke-linejoin:miter;stroke-width:0.8;\"/>\n   </g>\n   <g id=\"patch_4\">\n    <path d=\"M 81.632203 106.687703 \nL 81.632203 35.7555 \n\" style=\"fill:none;stroke:#000000;stroke-linecap:square;stroke-linejoin:miter;stroke-width:0.8;\"/>\n   </g>\n   <g id=\"patch_5\">\n    <path d=\"M 10.7 106.687703 \nL 81.632203 106.687703 \n\" style=\"fill:none;stroke:#000000;stroke-linecap:square;stroke-linejoin:miter;stroke-width:0.8;\"/>\n   </g>\n   <g id=\"patch_6\">\n    <path d=\"M 10.7 35.7555 \nL 81.632203 35.7555 \n\" style=\"fill:none;stroke:#000000;stroke-linecap:square;stroke-linejoin:miter;stroke-width:0.8;\"/>\n   </g>\n   <g id=\"text_1\">\n    <!-- ankle boot -->\n    <defs>\n     <path d=\"M 34.28125 27.484375 \nQ 23.390625 27.484375 19.1875 25 \nQ 14.984375 22.515625 14.984375 16.5 \nQ 14.984375 11.71875 18.140625 8.90625 \nQ 21.296875 6.109375 26.703125 6.109375 \nQ 34.1875 6.109375 38.703125 11.40625 \nQ 43.21875 16.703125 43.21875 25.484375 \nL 43.21875 27.484375 \nz\nM 52.203125 31.203125 \nL 52.203125 0 \nL 43.21875 0 \nL 43.21875 8.296875 \nQ 40.140625 3.328125 35.546875 0.953125 \nQ 30.953125 -1.421875 24.3125 -1.421875 \nQ 15.921875 -1.421875 10.953125 3.296875 \nQ 6 8.015625 6 15.921875 \nQ 6 25.140625 12.171875 29.828125 \nQ 18.359375 34.515625 30.609375 34.515625 \nL 43.21875 34.515625 \nL 43.21875 35.40625 \nQ 43.21875 41.609375 39.140625 45 \nQ 35.0625 48.390625 27.6875 48.390625 \nQ 23 48.390625 18.546875 47.265625 \nQ 14.109375 46.140625 10.015625 43.890625 \nL 10.015625 52.203125 \nQ 14.9375 54.109375 19.578125 55.046875 \nQ 24.21875 56 28.609375 56 \nQ 40.484375 56 46.34375 49.84375 \nQ 52.203125 43.703125 52.203125 31.203125 \nz\n\" id=\"DejaVuSans-97\"/>\n     <path d=\"M 54.890625 33.015625 \nL 54.890625 0 \nL 45.90625 0 \nL 45.90625 32.71875 \nQ 45.90625 40.484375 42.875 44.328125 \nQ 39.84375 48.1875 33.796875 48.1875 \nQ 26.515625 48.1875 22.3125 43.546875 \nQ 18.109375 38.921875 18.109375 30.90625 \nL 18.109375 0 \nL 9.078125 0 \nL 9.078125 54.6875 \nL 18.109375 54.6875 \nL 18.109375 46.1875 \nQ 21.34375 51.125 25.703125 53.5625 \nQ 30.078125 56 35.796875 56 \nQ 45.21875 56 50.046875 50.171875 \nQ 54.890625 44.34375 54.890625 33.015625 \nz\n\" id=\"DejaVuSans-110\"/>\n     <path d=\"M 9.078125 75.984375 \nL 18.109375 75.984375 \nL 18.109375 31.109375 \nL 44.921875 54.6875 \nL 56.390625 54.6875 \nL 27.390625 29.109375 \nL 57.625 0 \nL 45.90625 0 \nL 18.109375 26.703125 \nL 18.109375 0 \nL 9.078125 0 \nz\n\" id=\"DejaVuSans-107\"/>\n     <path d=\"M 9.421875 75.984375 \nL 18.40625 75.984375 \nL 18.40625 0 \nL 9.421875 0 \nz\n\" id=\"DejaVuSans-108\"/>\n     <path d=\"M 56.203125 29.59375 \nL 56.203125 25.203125 \nL 14.890625 25.203125 \nQ 15.484375 15.921875 20.484375 11.0625 \nQ 25.484375 6.203125 34.421875 6.203125 \nQ 39.59375 6.203125 44.453125 7.46875 \nQ 49.3125 8.734375 54.109375 11.28125 \nL 54.109375 2.78125 \nQ 49.265625 0.734375 44.1875 -0.34375 \nQ 39.109375 -1.421875 33.890625 -1.421875 \nQ 20.796875 -1.421875 13.15625 6.1875 \nQ 5.515625 13.8125 5.515625 26.8125 \nQ 5.515625 40.234375 12.765625 48.109375 \nQ 20.015625 56 32.328125 56 \nQ 43.359375 56 49.78125 48.890625 \nQ 56.203125 41.796875 56.203125 29.59375 \nz\nM 47.21875 32.234375 \nQ 47.125 39.59375 43.09375 43.984375 \nQ 39.0625 48.390625 32.421875 48.390625 \nQ 24.90625 48.390625 20.390625 44.140625 \nQ 15.875 39.890625 15.1875 32.171875 \nz\n\" id=\"DejaVuSans-101\"/>\n     <path id=\"DejaVuSans-32\"/>\n     <path d=\"M 48.6875 27.296875 \nQ 48.6875 37.203125 44.609375 42.84375 \nQ 40.53125 48.484375 33.40625 48.484375 \nQ 26.265625 48.484375 22.1875 42.84375 \nQ 18.109375 37.203125 18.109375 27.296875 \nQ 18.109375 17.390625 22.1875 11.75 \nQ 26.265625 6.109375 33.40625 6.109375 \nQ 40.53125 6.109375 44.609375 11.75 \nQ 48.6875 17.390625 48.6875 27.296875 \nz\nM 18.109375 46.390625 \nQ 20.953125 51.265625 25.265625 53.625 \nQ 29.59375 56 35.59375 56 \nQ 45.5625 56 51.78125 48.09375 \nQ 58.015625 40.1875 58.015625 27.296875 \nQ 58.015625 14.40625 51.78125 6.484375 \nQ 45.5625 -1.421875 35.59375 -1.421875 \nQ 29.59375 -1.421875 25.265625 0.953125 \nQ 20.953125 3.328125 18.109375 8.203125 \nL 18.109375 0 \nL 9.078125 0 \nL 9.078125 75.984375 \nL 18.109375 75.984375 \nz\n\" id=\"DejaVuSans-98\"/>\n     <path d=\"M 30.609375 48.390625 \nQ 23.390625 48.390625 19.1875 42.75 \nQ 14.984375 37.109375 14.984375 27.296875 \nQ 14.984375 17.484375 19.15625 11.84375 \nQ 23.34375 6.203125 30.609375 6.203125 \nQ 37.796875 6.203125 41.984375 11.859375 \nQ 46.1875 17.53125 46.1875 27.296875 \nQ 46.1875 37.015625 41.984375 42.703125 \nQ 37.796875 48.390625 30.609375 48.390625 \nz\nM 30.609375 56 \nQ 42.328125 56 49.015625 48.375 \nQ 55.71875 40.765625 55.71875 27.296875 \nQ 55.71875 13.875 49.015625 6.21875 \nQ 42.328125 -1.421875 30.609375 -1.421875 \nQ 18.84375 -1.421875 12.171875 6.21875 \nQ 5.515625 13.875 5.515625 27.296875 \nQ 5.515625 40.765625 12.171875 48.375 \nQ 18.84375 56 30.609375 56 \nz\n\" id=\"DejaVuSans-111\"/>\n     <path d=\"M 18.3125 70.21875 \nL 18.3125 54.6875 \nL 36.8125 54.6875 \nL 36.8125 47.703125 \nL 18.3125 47.703125 \nL 18.3125 18.015625 \nQ 18.3125 11.328125 20.140625 9.421875 \nQ 21.96875 7.515625 27.59375 7.515625 \nL 36.8125 7.515625 \nL 36.8125 0 \nL 27.59375 0 \nQ 17.1875 0 13.234375 3.875 \nQ 9.28125 7.765625 9.28125 18.015625 \nL 9.28125 47.703125 \nL 2.6875 47.703125 \nL 2.6875 54.6875 \nL 9.28125 54.6875 \nL 9.28125 70.21875 \nz\n\" id=\"DejaVuSans-116\"/>\n    </defs>\n    <g transform=\"translate(14.442977 16.318125)scale(0.12 -0.12)\">\n     <use xlink:href=\"#DejaVuSans-97\"/>\n     <use x=\"61.279297\" xlink:href=\"#DejaVuSans-110\"/>\n     <use x=\"124.658203\" xlink:href=\"#DejaVuSans-107\"/>\n     <use x=\"182.568359\" xlink:href=\"#DejaVuSans-108\"/>\n     <use x=\"210.351562\" xlink:href=\"#DejaVuSans-101\"/>\n     <use x=\"271.875\" xlink:href=\"#DejaVuSans-32\"/>\n     <use x=\"303.662109\" xlink:href=\"#DejaVuSans-98\"/>\n     <use x=\"367.138672\" xlink:href=\"#DejaVuSans-111\"/>\n     <use x=\"428.320312\" xlink:href=\"#DejaVuSans-111\"/>\n     <use x=\"489.501953\" xlink:href=\"#DejaVuSans-116\"/>\n    </g>\n    <!-- ankle boot -->\n    <g transform=\"translate(14.442977 29.7555)scale(0.12 -0.12)\">\n     <use xlink:href=\"#DejaVuSans-97\"/>\n     <use x=\"61.279297\" xlink:href=\"#DejaVuSans-110\"/>\n     <use x=\"124.658203\" xlink:href=\"#DejaVuSans-107\"/>\n     <use x=\"182.568359\" xlink:href=\"#DejaVuSans-108\"/>\n     <use x=\"210.351562\" xlink:href=\"#DejaVuSans-101\"/>\n     <use x=\"271.875\" xlink:href=\"#DejaVuSans-32\"/>\n     <use x=\"303.662109\" xlink:href=\"#DejaVuSans-98\"/>\n     <use x=\"367.138672\" xlink:href=\"#DejaVuSans-111\"/>\n     <use x=\"428.320312\" xlink:href=\"#DejaVuSans-111\"/>\n     <use x=\"489.501953\" xlink:href=\"#DejaVuSans-116\"/>\n    </g>\n   </g>\n  </g>\n  <g id=\"axes_2\">\n   <g id=\"patch_7\">\n    <path d=\"M 95.818644 106.687703 \nL 166.750847 106.687703 \nL 166.750847 35.7555 \nL 95.818644 35.7555 \nz\n\" style=\"fill:#ffffff;\"/>\n   </g>\n   <g clip-path=\"url(#pb7d58f434b)\">\n    <image height=\"71\" id=\"imagec82e6a49eb\" transform=\"scale(1 -1)translate(0 -71)\" width=\"71\" x=\"95.818644\" xlink:href=\"data:image/png;base64,\niVBORw0KGgoAAAANSUhEUgAAAEcAAABHCAYAAABVsFofAAAABHNCSVQICAgIfAhkiAAAGX9JREFUeJzFnFmMnNl133/n3m+r6qpe2c2dwxnOpmU8I2mk2NIgkhArVmxkURIYCCDnKbCQ5wAB8hgEeUyeguQhbwESBHEQKwEUw7CgOJFhWYu1jWbnzJBDzpDdzV5r+7Z7Tx7uV9XVzW6ySLWSA8yQrKrvq+/+71n/59yS35S/rzxETLsNzzxBtdTiwy9mvPLbP+Nsus/IxRQ+5n9+7yWe/zf34O4mfjhE6xpEEGsBUK+g/uCGYh72lY8kYgR1DrRZSvPd+W99io9+r+DC8j7zaU4nKvjRB1eY/06b9qaj8/oW7u13T7xv9GhPEf4w4rHiMaIY8eF1kfGTPvw+00D9MtJ8l3o9/nURjFGs8UTiMKIgikp4b/LMJ8hs4FiLm0so5yPKRc/nuu9zOd5iqCmlWr61+Ek0i5EkhqII16iG3RQTwNCpBTzkoWaW40A2Fru0gGQZg7OWT1+8zacWPmDBjpgzBftVxjvnn0KtYe5W9sDbzwSOWEPdiSm7Bl2q+FL7OleiFkPdp1LP4uIA124RpykyHDGBQRXUHbOoh1ryY4sYQea7uMUOw3PC7679kFeyddoSE4tld/U1Xr1wGbUR1XxKJHLi88ymOWJwqaGaE0ziGBuORfAIZqwIM6jq/xMRAQMIGDyxGKwIBiEWB5HiI9CHeIDZNCdNGJy19K/A0vyQXA19X5CrxwHOy2G/8/9bvEdqjzgY+pSedxTiMUClFok9PlE0ejA6M/ucak6ouo5OWlBhyLWmApyCaqMxRsCY+53zaTng4+Tod4hpzFkRBYfBA2VjOl4NYhS1p6Q5RJZyEaK1ERfn9gBwQAxkRphLS8rFLrDC/isXyVcMPoY6AwRsAaacXtCMCz9JQtBBDdQt0AiSPZi767GFJ9sssPsFKjBnCtoi5KoUCm1TsLLUZ0uhbiekD1r2TM+SxBSrjpcu3OH5zl0AKg3AZGJZzEZsnIkoFixbv5Pz9U/8gEvJNp9t3SDG82p5nuv5OQBiUz/wuyz3O0cjHq8G16Ba+YhKLV2b83L7PS7aPv9h96/wn177LG4n5dx3Wyy+moPAohmyYDJyN2KgEV074hMrd3k/XmHYOc/cLwsOAAKR8Ziph7cIBkPU5DreCq12wXPZHS7EOzwRKZnEDHVzsmgrvlH0A/GNiz/6+vjzY3GNHVQawGmbgmeiPuejDtfSdTpzObuFxSUJagU1AVgzpapeDU4Fr8Ix+/AY4KhCLfSrlEIjLEosEIshlQgjHvEgXmknFZfjLbqmpOcdQxyZWC5GOwEAuR8A/xDjH18zBtghVGrJpCZrfM6cKVmeGzIqYqq5hHo+w6VKggMEC8R4Bj7lVn+Jjb0Oy8WD0ZlZc8RD5S1ODQYNXyYWO3GIzQ2NZ9EUGIKNA8Ti6R5yOkdvzsRkvErIZI9I2JAAklPBS00sHiMGp55YaubikjSpcangU4tOrc42QaJSS79IKfMYU58SOEhQ8cxUZOLJxGAac7jWucdrzz6NqPC5hXu0xeGBXENt5R7ggb0evDf+nFO5z/d4Dn9ufN3QOzAFcybmqc49AN48t8j+fkK1XJNJTQgdkDQlj1fAn5ZZAWqUxDpSU9E1QtvEE1v+bOc9/uzlp1AVXlm8TtcIPa/kaqnUhlrsyJMcB9i0ebnmmunPuQaQaRB3vZKrY05KPt99h4vpDm89ucauzLF0fp+uqYAYA5PktXYWdcIxFv544IRsU7HoxBGPTSqTinZc4VXIpJy41eMAeJAWPUwcBxrl1XB0dbmPqXyEMUqdKEl0ULpYBNuYq07+92CZsXwQ1CqJrYnF4VA8Pqi/GHKN6RUpzgvbrkPPK+WUFtgG1PHiphc5LVbc5L2xf7EqJwJqURaNp2siXq/m+PbOx1kfzlMMEow/MFk7xRR4FeraQm2Qo9X8Y4EDIZSLPzbaVBpRVBFehaFLydVOFjT9+aNmMn7tuEUfhH7FTPmYo9e3jaVjMgY+5cb+CjvDFloYGGfuR8RhcM4gThB3iuAEZ2aoVKnUYcRggZ7LGAwy1MOea1E1WpM0BuY4vPvHAXL/Ig60zB+7SCEGfFMWDH3K3iijyGMk9TgDy60hBnBNaTHWH1U4JqW6T2Y2K4DYBBseKlh1xGIBy726i99KEC9sFF1yjYjF0ZaQDRdqyZu4GssxFMbUgsd/mgcAGDYoakAO37Fdd+jttdDCkiwUzC0XXO1uYQVq3KFrvTfgBfEPRuiR+EozlYS5KQ6kUovUglTCyMWUBLOyoiRyoD2PKsddc5LW5T5GRxFSGIxROmlJxxaHFmjHf9GHRyp4FHCMEjWaU6lpKvIGLDUhQ3awX2bcqlbo+YxMlK4JSZ3DPBSgiZ85AYBAy4b3SrXNJoR/vzNco3M9ovuuxTnh6vwWF9Nd7NRzAuQa4XKLzeW0k8DAGQfNOXjLqyA+7MaojtmuO3TNiEyEVAwWbUIvJ0aqh8nRrNljDuVF66MunQ9DGTPwhkvZLmei/UlmfPCsBiqDKQU5FXBEwCiJCaHcotip75x+8H6R8kGxTNsUwCYWgcaxPk7PYeyMvcokvJumeJ2OhIWLiIdNjQecifvM2zxc23jfeAxUo+XS8D4nyey1lVXapiSTklg8MRzaFQ34sddr8dOdS8GU5q6TmhhDgdOgQbO4HsfJqf04EU3EYadCTq9IWdwoQECM8lS6wardx6mS47AIcZPvSGUwFaekOQCNvVvR+8zCiketokZwztAvE0YubhbT7DwGN0v8bGT2fCh8TlUwtUdtaMcEsw5xyjLljMNSEOWhRP/stZUPNIHTYB7TWrMUDfBLFX5kES/s9NpszHepmvcrDKXaY/maWX1QMMsm40WJpT6UFqRRTbnQRSPDyvwWz8V7eGgKYA0MbkN1mFIwJQ/NkGd3AyrUPnzcCsRNfQWwaIe0ugXSqUGhGCTsFi2cgh/XQsFL3Lfg8Z9HE8XjPjf997HvM80mteKKqhtRdg2rrQGXog7LJqJSyFUm21KpRRzBrE4PHCaLPCqZVMxlJUlWoc5AbhlWybFG9DBi60EynSlP118QTNvHgo9lknKMxelBXlZ5i6nAVIrUp5UEKo1ZmfsuWo32eWZpk/NL+1ALyZZlq9+e8DmHHvSIlsyaHI6vqdRgRGlLTdaYlVNPZmvKjlB2hMzWzTWhAPbIJEcufEQ0FOIBSPlgPnt2mlTl0K6bKZ+TSUU3ztmNWuAFmwtVZQ8tfNrfeDWHwvCjAHS4IG3u17ymNvw3fW8/tRFe9cCsaj2lwrPhkLfLNkOfkomQSTRxkLE4OrYgsxV2YMi2lJ1eqM5Ns6BE3LEOeRYS7LjPWhQPDU89YlTHB+8dQ7N6giaNXEI0gnjooTolzZHSsF9lTVFpSOXgYRI8naggsQ6bC9m2YvqBBYSQmxj8oU7Co8hRTZsGqecNFYbChaXoMV1XryGj9wKFt9hciUYeeQg4M/sccaE0qPwBnk49VTMo0LE5c7acqLYaDplA0kSXaTmqCSc+5AOKV99QGqmtqeaEeg5atjpyfdMtmWIDeUikgll75c5jS2F3lLHnWuFB1TPSklwdRiwX4l36rYy67anaBk1dsyhLjJJJdeL9Z621vAbDjJu+tycUwQONWcqGvHtR0Vi5kO7ed/9MhHmTBeBONQlURRxUzk5yHYBKPVXzBXOmoGNzNFF8DNjZFvyoReiE/JKDfzsMLVvhOg6aMmcsBsUjDYdsDniiU+OQVTGlUBQxfZcG9k0gV0+vaaNcjbaIpebslW026hXOXtzBouz7nGFDL0y3dGMcCW7SZThY+GFqY5zsHYTyiFIcw4aKHWjC0KdczHY5d3WL1DqeTu+euJTCR0S5Eg2rU3LIXjEVFEXEoA6td48yVNj1CV2puBTVLJh7/OaFt/h+epVPLN7BovTUM9CU3Mf4poyAEP69GAx+YnKVWtwRN2hVsTLmkaJJtzNvABv6lIFPuZJu8dULb9C2BdfiLaB1AjiWKFdMv0TLk019dnAIXRCtDfV0b6nZaWuUWAyZOM4nu1ztbHM+2WsWFKLZvMknJjCOPhZ/n1O2HM5up6PUGMQxBesRKjMilhrb3C80HR2Vugm/PC21t9hCkaKE+lQ0x2NHIH0baqZjok4mEZmN+OrcG3wmuzEhxQYaccZWdE1Y5PiBe+rp+WAauQaTazcLm5ZcLUMfE4vjXBQItBghlQiP5xIFXnMq9in1bvM8sOPzZiYn+Jlx0jqsE9LtAr27iebF6YBjajCVUPkDFmV61w2GWCznrbJsCgbqWXcJlRoSETrSTMJIMMnK5+TiD00QBZAPA1+pTjoNmQgdiSeMgMXSwh7iiDzKns8Zqk7YyhC+w4dqNZhRjR8MHzpUNdt8jvfYXLFDYVjFhzhZIwelqFMfmn0NaG2pGWrEN/vP8Nbw3IQDjsVxKdnmcrLFnJRciHrEKJs+5d1iJfTkpSIWx7wUXLBDAAYeepT823t/lW++/iLGKl955k1+vXuda8kGL6eOqGFuAiNwv3gVRBU9OuH6uODglXikxAPDoEgOgOFAewIVaY6Ed0/hlG/efYk33r4YNs8qYpVnr9zly6tvcynZ5uNJjyXT4r084QeDa8TiWI4GpKbipewml6IWlTqu155t1+a//eTTfOxf7eHnUv746y/xzgurfHH1HT6Z/ISO2AmPc2Ip8hB69NHAUT/hQJwzh1zmJAyrggStGb8fE7LT9X6H9G4oN9QqGsH1ZBUjytXONueiXc7ZPv+n/2v8r7vPANCJS2LrKFZjnopeZ6jKq8UT3CzOYHcjpDfEeMWOumwPW+xU7UmK4fT+zupYvMrMTaLZwHGeeOiJ+8KoiA98jhyQ6x6PV5puKGQCCyZh2zv23lzh6W/uBXUWASsML7XZWH2CG2tX+d7nrnK22+O9v7jChe/WiFcKI+RW+Ne/c5mFLw9Yrxf497/4AvV6m+U3BCILkSXZFbY/WuCt7lmqtXG+FDLn6cZgpZ5CK5waohnnoGfXnFoxJXh3ElsX+FzHga2nEmGoSbcF/enrqOrkXEJ38zztM/P0r3b46MICvaWM5bcg+87P0TJkuBLFdD72Mh984Qy38iX87TbzHxjaWzUYg1rB5mAGlv0iO+QLJ736idnThPfZm4sz+5xo5EgGFl9aHkSDZHLAuWz5Eeuui3GAGOwzV7n719aousLiO47u27u01gtW/rJF1WlTdWH9H30GteAy8BHwmT2uJPfYqdrYkZDsKfuXIzZ/7QIuU6q1kqRbcnV+iwroa0GlwdwNoeNqgF0vbKmnV6SszEgOzBatnCPqlySpQXJ7KAp4FfzUZmRiyQR6vuZWHXOjOhP4WiP0PnmGr/z+9/jr86/yj//g95n/WUGy22P1tREkMe9/42n+1tf+nEvJDp9uvc+yyakwVGp4v1gjHgjtzYp7n7b8i6/+AYt2wA8G1/goX+QTnQ/JVTDeUTVak4gnbZ5tvc7YcF36o5Qz/gEjeI8KDhr4VlOdEB+nZEyiOmCgCT3XAh9OtrhYuJZt8PF4j7rt0SxBnMMPhzCEaATb5RyZqbhVrTCwfTbdPJt1l5/sXibuQTyoiYYRt8tltk2Hd/pr3BnOs5wMwuSXHE1Qw7PkGjP0Kc6Zmc9ezKw5ZpATRwaTJ/dFAodQqG8y1zBhWmjJe+Ua7+ar2EKD35oMUAqyXLL/8SWyex2S/T5ub59zPxjxw/xFNII/NKFRGKZUIe4pZ3+8h71zjytykf986ytgwutRofyXL53lH/zW97lsDJWryScsZTj4seU6XC/OUo1icIPTAwevSFVjRhXmhAkS14TRtgRqoFTDdt1hu2xzdC7bIrTaJaOVDHExSRSBepK373B+b7lhHmtwPrSirYGyQu9sUA8GJMMRF24sho0b5VDX7F99HofQkhgrNb45j2EJZj/wCfeqDlqdsuagHh2FvZDqYHARQih3KlSiIb9oQCrUsl7Ns13M3QdOKhFfuPQef/L5jzF8P6P7iy5sbePXlth/dh5UsaViaiUaOKK9AokMcuEsUVWjkUWTOIAoAt7j45O5IafKer3A7eEiMjKIm80jz2xWurePDkdEo0uTsdfpDDlveJ1x036gMbeGS6z3u0Tl4Yy0bRL+5flv80/Ofpt/evXvMvyT85j3heGVLpsvCUjoYEgNnQ8jFt4Pvq4+30EjwY480bBCnCJpAMllet8kxlgq4Fa+zHs7K8Q9A+7kAapHBgdVtK4DJM33myN5hGvYuXFdtevb3O4vsrM3x7ljJsXP2DmWjOdqZ4sfn3mC7vlz1JkwLsrFBV/jEsiXE9RA2QkHTlrbARwA14rByAM1B2BQp4yKBFPKTPwxPEqvvEFb/EGCZQkVb6WGXC0xHt9Uun+8+wJ7f3Sesx865n+xxdG92vMjet7x8fZH/I+vvYj9jcssvAtXvp0jtSLOoyKsf26Oj/5eSdYqubS4x0I64qfffZZr/7FEVNl/YYnhmoFLw2Y4PFTjB21jg/OeG/1lijtt5nd4KI/zyOBMtOcE0KvJtHqA4e39Nc7+cEj01i20f390KNSz5y1X4i2+9sJPuHltmXfuPIv989fQKuQhJorwX/gc//CF7/Ncdocvtm6xZts8/8HlQFYBoxXD4JKytrxPPBVEx7TqOLXYHWUku4a4r2h9mmY1LRrqlvEQokUn0xTTIf5ie4+fPX+FbudJWrd72I1tqrZg8Tj1lBom3GOpea59l5V4wF++eJXk9z6DqcBWYRf6z1acT3bp2hFDhR0/4rkL69z8O0+CQv/pmnR5xBPdHbZ9hGfEcKoN7fFUCL1BRmtbSPcd+F8hOLlGDH1+yFSOTm59fuE6f/qlZ9jZTFn5+TJLb6bkK0JmKmocQxV6PqNrcn577m0yEV750lu8/usX2XNtbuYrjFzM73Zv8VJ2kwTPrk/Y9fDPrnyL3jdaOIStukOuCZmUvFedIZaarsknlKpDGfqIeqvF4rs16b3ioQzgY4MjOia69b5kedxXcupZtENWlvtsCYxWW2Q7GeU8xFJTqQuTD42mdY2lLQkvxEMu27foacR72Rn2XcZa1JtQp6UaKrWcs0NeTgNPfL3aY8u3yTVm4FOcGuakbKgLwatSYpBSiIY1dlSdcp4zDY6DDddl2/cm01Jj4twBd52l54eci+AbT32XPdfmR08+wQe9JX5jcZMr0TbbvqbQOJikWm7Wjpiwm1aEGM/VaIuyOaDa8wcEm8Ow5VPypq1SYies4Zw0vko8ucYkeAZa0fMZUV9INgeY/SHuIS2ZXwqcnmtNWjLJ9ESDGnZ9xi6waoZ8ff5W6KkvvwdA3+esu3pCrBvxVBpxt2n3zJucrgkzh2dNhRVh0xnu+nA4fhyqe5qxq+NDaAWxODLqCZc80KRp30QMtabnW0RDwWz30DyfRN5TByfZV/5w/VO8vXCOvzH/c56L9ycRagyQEU+hlm1XHGoD5+opm6bdoXF/8bjm9WrS1HNYDWnCGJRJm2bqxIwjnHMYf4tFmZMSK8pAY94sV3l9dJFoBJrnUFYzn1Z+ZHAWbuRc/99P8trZy5x9ZZ8vZO9gfc62c4T8KviFXW2xr+mhic8wphb+XU1FlDC666g0Yr9Z7LTEctgMwjnR8XlPS66Bgq2wxDiuxTucsZYfFTHf2nmRN3bO0dr0+N295kdHfkU+x/ZLWhst1FjulAsMtSTX8eS5x2Mm7dvST8/MhAZextEJiCOHYXVMeRzM/hz7HPhD3dGj43gWYdfNcaO3wsZeh9VRyNMeRR4dnA/vsfZDQ362xX+98Bk+fH6R5zrrfLn7OvNS0LYjYpRq0qwTSsxEU8rGjSc4MikPzfYdUJoH5lU1ffYxIBAAG08cxlMnlsfZ+jvVCn+Rd/h373+R3h+dY2nD033j/iz91MGp767D+gads2vMP3WN71XPcPvJRb7YeZOurVg2hrZJyLWm5+tm+soyYGxyzTHpprsZiydrRthCOSI49eQaGL2h10l/fSwWJRVHIp6uCR1QI0JMxJ4v+dNyjZ/3L/HR26t87L/fpr556xC//CsDBwilRFEyd9dTtyNuV2v8c/M3WckGvLRwmyfTTbpmxJrtNSf7ggZYtBn7PziLBaGFE0sYEzEizYyfJ0bB1Dh//3kt37SaN6uYXGM2XJeb5RnuVV2+8+GzbG116Ny0ge95zF9dkVl+eelYMRa7uoK0W/i5FvViRtWN2Xg5ZvRkydKZHn/7iVc5n+yyYvt0Tfj9mgt2SCxQaOiDZ+I4bxNSObxP4yHIoZYMvaMiHPioGt/iVdj1Lb619yLvD1b4+YcXsG90iHuw/GZF63Yv5DS3P3pkXzOWx9McAO9w6xsToKIsJZnv0l19CpfG7GiXd1fPUPiIYZKwbPss2iGLpiDDsesTej6jbQpSKU6c/Br/BkWphp7GVGrDjI5aNt087/bPcGN3mXq9zeINJdt1zL2+Tn3jg0c4THC8PD4406IeLUt8r8/Sa/u0NtuUCxE/e/WT/DgFn4BLFNdW/GqJiTx+KyXeDceMfMSJ04mu7dG2C+G9CmczzUhCUlcJyS5EI+XitmfuZg8zqtDdvVNZ1imBE8Kk1jX8+HVSMWRGmBcDRjDtNpIm6Moi/acXcIkw/9YevH0jNPpOEBFBrlykuBz4YpuXYT7xXg/9aB0dlwHqUR+GA1zzPKchpwPOtDQ/RTWdhGrzq2+UFaYKp2ukcrg8f/CtgKisMM0YvlQOqcKIrMuLmamHx5X/CwbQlBHryLIgAAAAAElFTkSuQmCC\" y=\"-35.687703\"/>\n   </g>\n   <g id=\"patch_8\">\n    <path d=\"M 95.818644 106.687703 \nL 95.818644 35.7555 \n\" style=\"fill:none;stroke:#000000;stroke-linecap:square;stroke-linejoin:miter;stroke-width:0.8;\"/>\n   </g>\n   <g id=\"patch_9\">\n    <path d=\"M 166.750847 106.687703 \nL 166.750847 35.7555 \n\" style=\"fill:none;stroke:#000000;stroke-linecap:square;stroke-linejoin:miter;stroke-width:0.8;\"/>\n   </g>\n   <g id=\"patch_10\">\n    <path d=\"M 95.818644 106.687703 \nL 166.750847 106.687703 \n\" style=\"fill:none;stroke:#000000;stroke-linecap:square;stroke-linejoin:miter;stroke-width:0.8;\"/>\n   </g>\n   <g id=\"patch_11\">\n    <path d=\"M 95.818644 35.7555 \nL 166.750847 35.7555 \n\" style=\"fill:none;stroke:#000000;stroke-linecap:square;stroke-linejoin:miter;stroke-width:0.8;\"/>\n   </g>\n   <g id=\"text_2\">\n    <!-- pullover -->\n    <defs>\n     <path d=\"M 18.109375 8.203125 \nL 18.109375 -20.796875 \nL 9.078125 -20.796875 \nL 9.078125 54.6875 \nL 18.109375 54.6875 \nL 18.109375 46.390625 \nQ 20.953125 51.265625 25.265625 53.625 \nQ 29.59375 56 35.59375 56 \nQ 45.5625 56 51.78125 48.09375 \nQ 58.015625 40.1875 58.015625 27.296875 \nQ 58.015625 14.40625 51.78125 6.484375 \nQ 45.5625 -1.421875 35.59375 -1.421875 \nQ 29.59375 -1.421875 25.265625 0.953125 \nQ 20.953125 3.328125 18.109375 8.203125 \nz\nM 48.6875 27.296875 \nQ 48.6875 37.203125 44.609375 42.84375 \nQ 40.53125 48.484375 33.40625 48.484375 \nQ 26.265625 48.484375 22.1875 42.84375 \nQ 18.109375 37.203125 18.109375 27.296875 \nQ 18.109375 17.390625 22.1875 11.75 \nQ 26.265625 6.109375 33.40625 6.109375 \nQ 40.53125 6.109375 44.609375 11.75 \nQ 48.6875 17.390625 48.6875 27.296875 \nz\n\" id=\"DejaVuSans-112\"/>\n     <path d=\"M 8.5 21.578125 \nL 8.5 54.6875 \nL 17.484375 54.6875 \nL 17.484375 21.921875 \nQ 17.484375 14.15625 20.5 10.265625 \nQ 23.53125 6.390625 29.59375 6.390625 \nQ 36.859375 6.390625 41.078125 11.03125 \nQ 45.3125 15.671875 45.3125 23.6875 \nL 45.3125 54.6875 \nL 54.296875 54.6875 \nL 54.296875 0 \nL 45.3125 0 \nL 45.3125 8.40625 \nQ 42.046875 3.421875 37.71875 1 \nQ 33.40625 -1.421875 27.6875 -1.421875 \nQ 18.265625 -1.421875 13.375 4.4375 \nQ 8.5 10.296875 8.5 21.578125 \nz\nM 31.109375 56 \nz\n\" id=\"DejaVuSans-117\"/>\n     <path d=\"M 2.984375 54.6875 \nL 12.5 54.6875 \nL 29.59375 8.796875 \nL 46.6875 54.6875 \nL 56.203125 54.6875 \nL 35.6875 0 \nL 23.484375 0 \nz\n\" id=\"DejaVuSans-118\"/>\n     <path d=\"M 41.109375 46.296875 \nQ 39.59375 47.171875 37.8125 47.578125 \nQ 36.03125 48 33.890625 48 \nQ 26.265625 48 22.1875 43.046875 \nQ 18.109375 38.09375 18.109375 28.8125 \nL 18.109375 0 \nL 9.078125 0 \nL 9.078125 54.6875 \nL 18.109375 54.6875 \nL 18.109375 46.1875 \nQ 20.953125 51.171875 25.484375 53.578125 \nQ 30.03125 56 36.53125 56 \nQ 37.453125 56 38.578125 55.875 \nQ 39.703125 55.765625 41.0625 55.515625 \nz\n\" id=\"DejaVuSans-114\"/>\n    </defs>\n    <g transform=\"translate(106.958496 16.318125)scale(0.12 -0.12)\">\n     <use xlink:href=\"#DejaVuSans-112\"/>\n     <use x=\"63.476562\" xlink:href=\"#DejaVuSans-117\"/>\n     <use x=\"126.855469\" xlink:href=\"#DejaVuSans-108\"/>\n     <use x=\"154.638672\" xlink:href=\"#DejaVuSans-108\"/>\n     <use x=\"182.421875\" xlink:href=\"#DejaVuSans-111\"/>\n     <use x=\"243.603516\" xlink:href=\"#DejaVuSans-118\"/>\n     <use x=\"302.783203\" xlink:href=\"#DejaVuSans-101\"/>\n     <use x=\"364.306641\" xlink:href=\"#DejaVuSans-114\"/>\n    </g>\n    <!-- pullover -->\n    <g transform=\"translate(106.958496 29.7555)scale(0.12 -0.12)\">\n     <use xlink:href=\"#DejaVuSans-112\"/>\n     <use x=\"63.476562\" xlink:href=\"#DejaVuSans-117\"/>\n     <use x=\"126.855469\" xlink:href=\"#DejaVuSans-108\"/>\n     <use x=\"154.638672\" xlink:href=\"#DejaVuSans-108\"/>\n     <use x=\"182.421875\" xlink:href=\"#DejaVuSans-111\"/>\n     <use x=\"243.603516\" xlink:href=\"#DejaVuSans-118\"/>\n     <use x=\"302.783203\" xlink:href=\"#DejaVuSans-101\"/>\n     <use x=\"364.306641\" xlink:href=\"#DejaVuSans-114\"/>\n    </g>\n   </g>\n  </g>\n  <g id=\"axes_3\">\n   <g id=\"patch_12\">\n    <path d=\"M 180.937288 106.687703 \nL 251.869492 106.687703 \nL 251.869492 35.7555 \nL 180.937288 35.7555 \nz\n\" style=\"fill:#ffffff;\"/>\n   </g>\n   <g clip-path=\"url(#p364d027e2f)\">\n    <image height=\"71\" id=\"image7d223f133b\" transform=\"scale(1 -1)translate(0 -71)\" width=\"71\" x=\"180.937288\" xlink:href=\"data:image/png;base64,\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\" y=\"-35.687703\"/>\n   </g>\n   <g id=\"patch_13\">\n    <path d=\"M 180.937288 106.687703 \nL 180.937288 35.7555 \n\" style=\"fill:none;stroke:#000000;stroke-linecap:square;stroke-linejoin:miter;stroke-width:0.8;\"/>\n   </g>\n   <g id=\"patch_14\">\n    <path d=\"M 251.869492 106.687703 \nL 251.869492 35.7555 \n\" style=\"fill:none;stroke:#000000;stroke-linecap:square;stroke-linejoin:miter;stroke-width:0.8;\"/>\n   </g>\n   <g id=\"patch_15\">\n    <path d=\"M 180.937288 106.687703 \nL 251.869492 106.687703 \n\" style=\"fill:none;stroke:#000000;stroke-linecap:square;stroke-linejoin:miter;stroke-width:0.8;\"/>\n   </g>\n   <g id=\"patch_16\">\n    <path d=\"M 180.937288 35.7555 \nL 251.869492 35.7555 \n\" style=\"fill:none;stroke:#000000;stroke-linecap:square;stroke-linejoin:miter;stroke-width:0.8;\"/>\n   </g>\n   <g id=\"text_3\">\n    <!-- trouser -->\n    <defs>\n     <path d=\"M 44.28125 53.078125 \nL 44.28125 44.578125 \nQ 40.484375 46.53125 36.375 47.5 \nQ 32.28125 48.484375 27.875 48.484375 \nQ 21.1875 48.484375 17.84375 46.4375 \nQ 14.5 44.390625 14.5 40.28125 \nQ 14.5 37.15625 16.890625 35.375 \nQ 19.28125 33.59375 26.515625 31.984375 \nL 29.59375 31.296875 \nQ 39.15625 29.25 43.1875 25.515625 \nQ 47.21875 21.78125 47.21875 15.09375 \nQ 47.21875 7.46875 41.1875 3.015625 \nQ 35.15625 -1.421875 24.609375 -1.421875 \nQ 20.21875 -1.421875 15.453125 -0.5625 \nQ 10.6875 0.296875 5.421875 2 \nL 5.421875 11.28125 \nQ 10.40625 8.6875 15.234375 7.390625 \nQ 20.0625 6.109375 24.8125 6.109375 \nQ 31.15625 6.109375 34.5625 8.28125 \nQ 37.984375 10.453125 37.984375 14.40625 \nQ 37.984375 18.0625 35.515625 20.015625 \nQ 33.0625 21.96875 24.703125 23.78125 \nL 21.578125 24.515625 \nQ 13.234375 26.265625 9.515625 29.90625 \nQ 5.8125 33.546875 5.8125 39.890625 \nQ 5.8125 47.609375 11.28125 51.796875 \nQ 16.75 56 26.8125 56 \nQ 31.78125 56 36.171875 55.265625 \nQ 40.578125 54.546875 44.28125 53.078125 \nz\n\" id=\"DejaVuSans-115\"/>\n    </defs>\n    <g transform=\"translate(194.961827 16.318125)scale(0.12 -0.12)\">\n     <use xlink:href=\"#DejaVuSans-116\"/>\n     <use x=\"39.208984\" xlink:href=\"#DejaVuSans-114\"/>\n     <use x=\"78.072266\" xlink:href=\"#DejaVuSans-111\"/>\n     <use x=\"139.253906\" xlink:href=\"#DejaVuSans-117\"/>\n     <use x=\"202.632812\" xlink:href=\"#DejaVuSans-115\"/>\n     <use x=\"254.732422\" xlink:href=\"#DejaVuSans-101\"/>\n     <use x=\"316.255859\" xlink:href=\"#DejaVuSans-114\"/>\n    </g>\n    <!-- trouser -->\n    <g transform=\"translate(194.961827 29.7555)scale(0.12 -0.12)\">\n     <use xlink:href=\"#DejaVuSans-116\"/>\n     <use x=\"39.208984\" xlink:href=\"#DejaVuSans-114\"/>\n     <use x=\"78.072266\" xlink:href=\"#DejaVuSans-111\"/>\n     <use x=\"139.253906\" xlink:href=\"#DejaVuSans-117\"/>\n     <use x=\"202.632812\" xlink:href=\"#DejaVuSans-115\"/>\n     <use x=\"254.732422\" xlink:href=\"#DejaVuSans-101\"/>\n     <use x=\"316.255859\" xlink:href=\"#DejaVuSans-114\"/>\n    </g>\n   </g>\n  </g>\n  <g id=\"axes_4\">\n   <g id=\"patch_17\">\n    <path d=\"M 266.055932 106.687703 \nL 336.988136 106.687703 \nL 336.988136 35.7555 \nL 266.055932 35.7555 \nz\n\" style=\"fill:#ffffff;\"/>\n   </g>\n   <g clip-path=\"url(#pd830556bca)\">\n    <image height=\"71\" id=\"image46c258639f\" transform=\"scale(1 -1)translate(0 -71)\" width=\"71\" x=\"266.055932\" xlink:href=\"data:image/png;base64,\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\" y=\"-35.687703\"/>\n   </g>\n   <g id=\"patch_18\">\n    <path d=\"M 266.055932 106.687703 \nL 266.055932 35.7555 \n\" style=\"fill:none;stroke:#000000;stroke-linecap:square;stroke-linejoin:miter;stroke-width:0.8;\"/>\n   </g>\n   <g id=\"patch_19\">\n    <path d=\"M 336.988136 106.687703 \nL 336.988136 35.7555 \n\" style=\"fill:none;stroke:#000000;stroke-linecap:square;stroke-linejoin:miter;stroke-width:0.8;\"/>\n   </g>\n   <g id=\"patch_20\">\n    <path d=\"M 266.055932 106.687703 \nL 336.988136 106.687703 \n\" style=\"fill:none;stroke:#000000;stroke-linecap:square;stroke-linejoin:miter;stroke-width:0.8;\"/>\n   </g>\n   <g id=\"patch_21\">\n    <path d=\"M 266.055932 35.7555 \nL 336.988136 35.7555 \n\" style=\"fill:none;stroke:#000000;stroke-linecap:square;stroke-linejoin:miter;stroke-width:0.8;\"/>\n   </g>\n   <g id=\"text_4\">\n    <!-- trouser -->\n    <g transform=\"translate(280.080471 16.318125)scale(0.12 -0.12)\">\n     <use xlink:href=\"#DejaVuSans-116\"/>\n     <use x=\"39.208984\" xlink:href=\"#DejaVuSans-114\"/>\n     <use x=\"78.072266\" xlink:href=\"#DejaVuSans-111\"/>\n     <use x=\"139.253906\" xlink:href=\"#DejaVuSans-117\"/>\n     <use x=\"202.632812\" xlink:href=\"#DejaVuSans-115\"/>\n     <use x=\"254.732422\" xlink:href=\"#DejaVuSans-101\"/>\n     <use x=\"316.255859\" xlink:href=\"#DejaVuSans-114\"/>\n    </g>\n    <!-- trouser -->\n    <g transform=\"translate(280.080471 29.7555)scale(0.12 -0.12)\">\n     <use xlink:href=\"#DejaVuSans-116\"/>\n     <use x=\"39.208984\" xlink:href=\"#DejaVuSans-114\"/>\n     <use x=\"78.072266\" xlink:href=\"#DejaVuSans-111\"/>\n     <use x=\"139.253906\" xlink:href=\"#DejaVuSans-117\"/>\n     <use x=\"202.632812\" xlink:href=\"#DejaVuSans-115\"/>\n     <use x=\"254.732422\" xlink:href=\"#DejaVuSans-101\"/>\n     <use x=\"316.255859\" xlink:href=\"#DejaVuSans-114\"/>\n    </g>\n   </g>\n  </g>\n  <g id=\"axes_5\">\n   <g id=\"patch_22\">\n    <path d=\"M 351.174576 106.687703 \nL 422.10678 106.687703 \nL 422.10678 35.7555 \nL 351.174576 35.7555 \nz\n\" style=\"fill:#ffffff;\"/>\n   </g>\n   <g clip-path=\"url(#p53b3bbe709)\">\n    <image height=\"71\" id=\"image3d8d782ffc\" transform=\"scale(1 -1)translate(0 -71)\" width=\"71\" x=\"351.174576\" xlink:href=\"data:image/png;base64,\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\" y=\"-35.687703\"/>\n   </g>\n   <g id=\"patch_23\">\n    <path d=\"M 351.174576 106.687703 \nL 351.174576 35.7555 \n\" style=\"fill:none;stroke:#000000;stroke-linecap:square;stroke-linejoin:miter;stroke-width:0.8;\"/>\n   </g>\n   <g id=\"patch_24\">\n    <path d=\"M 422.10678 106.687703 \nL 422.10678 35.7555 \n\" style=\"fill:none;stroke:#000000;stroke-linecap:square;stroke-linejoin:miter;stroke-width:0.8;\"/>\n   </g>\n   <g id=\"patch_25\">\n    <path d=\"M 351.174576 106.687703 \nL 422.10678 106.687703 \n\" style=\"fill:none;stroke:#000000;stroke-linecap:square;stroke-linejoin:miter;stroke-width:0.8;\"/>\n   </g>\n   <g id=\"patch_26\">\n    <path d=\"M 351.174576 35.7555 \nL 422.10678 35.7555 \n\" style=\"fill:none;stroke:#000000;stroke-linecap:square;stroke-linejoin:miter;stroke-width:0.8;\"/>\n   </g>\n   <g id=\"text_5\">\n    <!-- shirt -->\n    <defs>\n     <path d=\"M 54.890625 33.015625 \nL 54.890625 0 \nL 45.90625 0 \nL 45.90625 32.71875 \nQ 45.90625 40.484375 42.875 44.328125 \nQ 39.84375 48.1875 33.796875 48.1875 \nQ 26.515625 48.1875 22.3125 43.546875 \nQ 18.109375 38.921875 18.109375 30.90625 \nL 18.109375 0 \nL 9.078125 0 \nL 9.078125 75.984375 \nL 18.109375 75.984375 \nL 18.109375 46.1875 \nQ 21.34375 51.125 25.703125 53.5625 \nQ 30.078125 56 35.796875 56 \nQ 45.21875 56 50.046875 50.171875 \nQ 54.890625 44.34375 54.890625 33.015625 \nz\n\" id=\"DejaVuSans-104\"/>\n     <path d=\"M 9.421875 54.6875 \nL 18.40625 54.6875 \nL 18.40625 0 \nL 9.421875 0 \nz\nM 9.421875 75.984375 \nL 18.40625 75.984375 \nL 18.40625 64.59375 \nL 9.421875 64.59375 \nz\n\" id=\"DejaVuSans-105\"/>\n    </defs>\n    <g transform=\"translate(373.226928 16.318125)scale(0.12 -0.12)\">\n     <use xlink:href=\"#DejaVuSans-115\"/>\n     <use x=\"52.099609\" xlink:href=\"#DejaVuSans-104\"/>\n     <use x=\"115.478516\" xlink:href=\"#DejaVuSans-105\"/>\n     <use x=\"143.261719\" xlink:href=\"#DejaVuSans-114\"/>\n     <use x=\"184.375\" xlink:href=\"#DejaVuSans-116\"/>\n    </g>\n    <!-- shirt -->\n    <g transform=\"translate(373.226928 29.7555)scale(0.12 -0.12)\">\n     <use xlink:href=\"#DejaVuSans-115\"/>\n     <use x=\"52.099609\" xlink:href=\"#DejaVuSans-104\"/>\n     <use x=\"115.478516\" xlink:href=\"#DejaVuSans-105\"/>\n     <use x=\"143.261719\" xlink:href=\"#DejaVuSans-114\"/>\n     <use x=\"184.375\" xlink:href=\"#DejaVuSans-116\"/>\n    </g>\n   </g>\n  </g>\n  <g id=\"axes_6\">\n   <g id=\"patch_27\">\n    <path d=\"M 436.29322 106.687703 \nL 507.225424 106.687703 \nL 507.225424 35.7555 \nL 436.29322 35.7555 \nz\n\" style=\"fill:#ffffff;\"/>\n   </g>\n   <g clip-path=\"url(#p2324e37d4a)\">\n    <image height=\"71\" id=\"imagebef09cbc53\" transform=\"scale(1 -1)translate(0 -71)\" width=\"71\" x=\"436.29322\" xlink:href=\"data:image/png;base64,\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\" y=\"-35.687703\"/>\n   </g>\n   <g id=\"patch_28\">\n    <path d=\"M 436.29322 106.687703 \nL 436.29322 35.7555 \n\" style=\"fill:none;stroke:#000000;stroke-linecap:square;stroke-linejoin:miter;stroke-width:0.8;\"/>\n   </g>\n   <g id=\"patch_29\">\n    <path d=\"M 507.225424 106.687703 \nL 507.225424 35.7555 \n\" style=\"fill:none;stroke:#000000;stroke-linecap:square;stroke-linejoin:miter;stroke-width:0.8;\"/>\n   </g>\n   <g id=\"patch_30\">\n    <path d=\"M 436.29322 106.687703 \nL 507.225424 106.687703 \n\" style=\"fill:none;stroke:#000000;stroke-linecap:square;stroke-linejoin:miter;stroke-width:0.8;\"/>\n   </g>\n   <g id=\"patch_31\">\n    <path d=\"M 436.29322 35.7555 \nL 507.225424 35.7555 \n\" style=\"fill:none;stroke:#000000;stroke-linecap:square;stroke-linejoin:miter;stroke-width:0.8;\"/>\n   </g>\n   <g id=\"text_6\">\n    <!-- trouser -->\n    <g transform=\"translate(450.31776 16.318125)scale(0.12 -0.12)\">\n     <use xlink:href=\"#DejaVuSans-116\"/>\n     <use x=\"39.208984\" xlink:href=\"#DejaVuSans-114\"/>\n     <use x=\"78.072266\" xlink:href=\"#DejaVuSans-111\"/>\n     <use x=\"139.253906\" xlink:href=\"#DejaVuSans-117\"/>\n     <use x=\"202.632812\" xlink:href=\"#DejaVuSans-115\"/>\n     <use x=\"254.732422\" xlink:href=\"#DejaVuSans-101\"/>\n     <use x=\"316.255859\" xlink:href=\"#DejaVuSans-114\"/>\n    </g>\n    <!-- trouser -->\n    <g transform=\"translate(450.31776 29.7555)scale(0.12 -0.12)\">\n     <use xlink:href=\"#DejaVuSans-116\"/>\n     <use x=\"39.208984\" xlink:href=\"#DejaVuSans-114\"/>\n     <use x=\"78.072266\" xlink:href=\"#DejaVuSans-111\"/>\n     <use x=\"139.253906\" xlink:href=\"#DejaVuSans-117\"/>\n     <use x=\"202.632812\" xlink:href=\"#DejaVuSans-115\"/>\n     <use x=\"254.732422\" xlink:href=\"#DejaVuSans-101\"/>\n     <use x=\"316.255859\" xlink:href=\"#DejaVuSans-114\"/>\n    </g>\n   </g>\n  </g>\n  <g id=\"axes_7\">\n   <g id=\"patch_32\">\n    <path d=\"M 521.411864 106.687703 \nL 592.344068 106.687703 \nL 592.344068 35.7555 \nL 521.411864 35.7555 \nz\n\" style=\"fill:#ffffff;\"/>\n   </g>\n   <g clip-path=\"url(#p2adb426ec8)\">\n    <image height=\"71\" id=\"imageab653bb9fc\" transform=\"scale(1 -1)translate(0 -71)\" width=\"71\" x=\"521.411864\" xlink:href=\"data:image/png;base64,\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\" y=\"-35.687703\"/>\n   </g>\n   <g id=\"patch_33\">\n    <path d=\"M 521.411864 106.687703 \nL 521.411864 35.7555 \n\" style=\"fill:none;stroke:#000000;stroke-linecap:square;stroke-linejoin:miter;stroke-width:0.8;\"/>\n   </g>\n   <g id=\"patch_34\">\n    <path d=\"M 592.344068 106.687703 \nL 592.344068 35.7555 \n\" style=\"fill:none;stroke:#000000;stroke-linecap:square;stroke-linejoin:miter;stroke-width:0.8;\"/>\n   </g>\n   <g id=\"patch_35\">\n    <path d=\"M 521.411864 106.687703 \nL 592.344068 106.687703 \n\" style=\"fill:none;stroke:#000000;stroke-linecap:square;stroke-linejoin:miter;stroke-width:0.8;\"/>\n   </g>\n   <g id=\"patch_36\">\n    <path d=\"M 521.411864 35.7555 \nL 592.344068 35.7555 \n\" style=\"fill:none;stroke:#000000;stroke-linecap:square;stroke-linejoin:miter;stroke-width:0.8;\"/>\n   </g>\n   <g id=\"text_7\">\n    <!-- coat -->\n    <defs>\n     <path d=\"M 48.78125 52.59375 \nL 48.78125 44.1875 \nQ 44.96875 46.296875 41.140625 47.34375 \nQ 37.3125 48.390625 33.40625 48.390625 \nQ 24.65625 48.390625 19.8125 42.84375 \nQ 14.984375 37.3125 14.984375 27.296875 \nQ 14.984375 17.28125 19.8125 11.734375 \nQ 24.65625 6.203125 33.40625 6.203125 \nQ 37.3125 6.203125 41.140625 7.25 \nQ 44.96875 8.296875 48.78125 10.40625 \nL 48.78125 2.09375 \nQ 45.015625 0.34375 40.984375 -0.53125 \nQ 36.96875 -1.421875 32.421875 -1.421875 \nQ 20.0625 -1.421875 12.78125 6.34375 \nQ 5.515625 14.109375 5.515625 27.296875 \nQ 5.515625 40.671875 12.859375 48.328125 \nQ 20.21875 56 33.015625 56 \nQ 37.15625 56 41.109375 55.140625 \nQ 45.0625 54.296875 48.78125 52.59375 \nz\n\" id=\"DejaVuSans-99\"/>\n    </defs>\n    <g transform=\"translate(543.878591 16.318125)scale(0.12 -0.12)\">\n     <use xlink:href=\"#DejaVuSans-99\"/>\n     <use x=\"54.980469\" xlink:href=\"#DejaVuSans-111\"/>\n     <use x=\"116.162109\" xlink:href=\"#DejaVuSans-97\"/>\n     <use x=\"177.441406\" xlink:href=\"#DejaVuSans-116\"/>\n    </g>\n    <!-- coat -->\n    <g transform=\"translate(543.878591 29.7555)scale(0.12 -0.12)\">\n     <use xlink:href=\"#DejaVuSans-99\"/>\n     <use x=\"54.980469\" xlink:href=\"#DejaVuSans-111\"/>\n     <use x=\"116.162109\" xlink:href=\"#DejaVuSans-97\"/>\n     <use x=\"177.441406\" xlink:href=\"#DejaVuSans-116\"/>\n    </g>\n   </g>\n  </g>\n  <g id=\"axes_8\">\n   <g id=\"patch_37\">\n    <path d=\"M 606.530508 106.687703 \nL 677.462712 106.687703 \nL 677.462712 35.7555 \nL 606.530508 35.7555 \nz\n\" style=\"fill:#ffffff;\"/>\n   </g>\n   <g clip-path=\"url(#pd45ff429a4)\">\n    <image height=\"71\" id=\"imageb23137b67a\" transform=\"scale(1 -1)translate(0 -71)\" width=\"71\" x=\"606.530508\" xlink:href=\"data:image/png;base64,\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\" y=\"-35.687703\"/>\n   </g>\n   <g id=\"patch_38\">\n    <path d=\"M 606.530508 106.687703 \nL 606.530508 35.7555 \n\" style=\"fill:none;stroke:#000000;stroke-linecap:square;stroke-linejoin:miter;stroke-width:0.8;\"/>\n   </g>\n   <g id=\"patch_39\">\n    <path d=\"M 677.462712 106.687703 \nL 677.462712 35.7555 \n\" style=\"fill:none;stroke:#000000;stroke-linecap:square;stroke-linejoin:miter;stroke-width:0.8;\"/>\n   </g>\n   <g id=\"patch_40\">\n    <path d=\"M 606.530508 106.687703 \nL 677.462712 106.687703 \n\" style=\"fill:none;stroke:#000000;stroke-linecap:square;stroke-linejoin:miter;stroke-width:0.8;\"/>\n   </g>\n   <g id=\"patch_41\">\n    <path d=\"M 606.530508 35.7555 \nL 677.462712 35.7555 \n\" style=\"fill:none;stroke:#000000;stroke-linecap:square;stroke-linejoin:miter;stroke-width:0.8;\"/>\n   </g>\n   <g id=\"text_8\">\n    <!-- shirt -->\n    <g transform=\"translate(628.58286 16.318125)scale(0.12 -0.12)\">\n     <use xlink:href=\"#DejaVuSans-115\"/>\n     <use x=\"52.099609\" xlink:href=\"#DejaVuSans-104\"/>\n     <use x=\"115.478516\" xlink:href=\"#DejaVuSans-105\"/>\n     <use x=\"143.261719\" xlink:href=\"#DejaVuSans-114\"/>\n     <use x=\"184.375\" xlink:href=\"#DejaVuSans-116\"/>\n    </g>\n    <!-- shirt -->\n    <g transform=\"translate(628.58286 29.7555)scale(0.12 -0.12)\">\n     <use xlink:href=\"#DejaVuSans-115\"/>\n     <use x=\"52.099609\" xlink:href=\"#DejaVuSans-104\"/>\n     <use x=\"115.478516\" xlink:href=\"#DejaVuSans-105\"/>\n     <use x=\"143.261719\" xlink:href=\"#DejaVuSans-114\"/>\n     <use x=\"184.375\" xlink:href=\"#DejaVuSans-116\"/>\n    </g>\n   </g>\n  </g>\n  <g id=\"axes_9\">\n   <g id=\"patch_42\">\n    <path d=\"M 691.649153 106.687703 \nL 762.581356 106.687703 \nL 762.581356 35.7555 \nL 691.649153 35.7555 \nz\n\" style=\"fill:#ffffff;\"/>\n   </g>\n   <g clip-path=\"url(#p8490b97833)\">\n    <image height=\"71\" id=\"imagebd23c90500\" transform=\"scale(1 -1)translate(0 -71)\" width=\"71\" x=\"691.649153\" xlink:href=\"data:image/png;base64,\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\" y=\"-35.687703\"/>\n   </g>\n   <g id=\"patch_43\">\n    <path d=\"M 691.649153 106.687703 \nL 691.649153 35.7555 \n\" style=\"fill:none;stroke:#000000;stroke-linecap:square;stroke-linejoin:miter;stroke-width:0.8;\"/>\n   </g>\n   <g id=\"patch_44\">\n    <path d=\"M 762.581356 106.687703 \nL 762.581356 35.7555 \n\" style=\"fill:none;stroke:#000000;stroke-linecap:square;stroke-linejoin:miter;stroke-width:0.8;\"/>\n   </g>\n   <g id=\"patch_45\">\n    <path d=\"M 691.649153 106.687703 \nL 762.581356 106.687703 \n\" style=\"fill:none;stroke:#000000;stroke-linecap:square;stroke-linejoin:miter;stroke-width:0.8;\"/>\n   </g>\n   <g id=\"patch_46\">\n    <path d=\"M 691.649153 35.7555 \nL 762.581356 35.7555 \n\" style=\"fill:none;stroke:#000000;stroke-linecap:square;stroke-linejoin:miter;stroke-width:0.8;\"/>\n   </g>\n   <g id=\"text_9\">\n    <!-- sandal -->\n    <defs>\n     <path d=\"M 45.40625 46.390625 \nL 45.40625 75.984375 \nL 54.390625 75.984375 \nL 54.390625 0 \nL 45.40625 0 \nL 45.40625 8.203125 \nQ 42.578125 3.328125 38.25 0.953125 \nQ 33.9375 -1.421875 27.875 -1.421875 \nQ 17.96875 -1.421875 11.734375 6.484375 \nQ 5.515625 14.40625 5.515625 27.296875 \nQ 5.515625 40.1875 11.734375 48.09375 \nQ 17.96875 56 27.875 56 \nQ 33.9375 56 38.25 53.625 \nQ 42.578125 51.265625 45.40625 46.390625 \nz\nM 14.796875 27.296875 \nQ 14.796875 17.390625 18.875 11.75 \nQ 22.953125 6.109375 30.078125 6.109375 \nQ 37.203125 6.109375 41.296875 11.75 \nQ 45.40625 17.390625 45.40625 27.296875 \nQ 45.40625 37.203125 41.296875 42.84375 \nQ 37.203125 48.484375 30.078125 48.484375 \nQ 22.953125 48.484375 18.875 42.84375 \nQ 14.796875 37.203125 14.796875 27.296875 \nz\n\" id=\"DejaVuSans-100\"/>\n    </defs>\n    <g transform=\"translate(707.357442 16.318125)scale(0.12 -0.12)\">\n     <use xlink:href=\"#DejaVuSans-115\"/>\n     <use x=\"52.099609\" xlink:href=\"#DejaVuSans-97\"/>\n     <use x=\"113.378906\" xlink:href=\"#DejaVuSans-110\"/>\n     <use x=\"176.757812\" xlink:href=\"#DejaVuSans-100\"/>\n     <use x=\"240.234375\" xlink:href=\"#DejaVuSans-97\"/>\n     <use x=\"301.513672\" xlink:href=\"#DejaVuSans-108\"/>\n    </g>\n    <!-- sandal -->\n    <g transform=\"translate(707.357442 29.7555)scale(0.12 -0.12)\">\n     <use xlink:href=\"#DejaVuSans-115\"/>\n     <use x=\"52.099609\" xlink:href=\"#DejaVuSans-97\"/>\n     <use x=\"113.378906\" xlink:href=\"#DejaVuSans-110\"/>\n     <use x=\"176.757812\" xlink:href=\"#DejaVuSans-100\"/>\n     <use x=\"240.234375\" xlink:href=\"#DejaVuSans-97\"/>\n     <use x=\"301.513672\" xlink:href=\"#DejaVuSans-108\"/>\n    </g>\n   </g>\n  </g>\n  <g id=\"axes_10\">\n   <g id=\"patch_47\">\n    <path d=\"M 776.767797 106.687703 \nL 847.7 106.687703 \nL 847.7 35.7555 \nL 776.767797 35.7555 \nz\n\" style=\"fill:#ffffff;\"/>\n   </g>\n   <g clip-path=\"url(#pe2dc48c45e)\">\n    <image height=\"71\" id=\"image4e472f3c02\" transform=\"scale(1 -1)translate(0 -71)\" width=\"71\" x=\"776.767797\" xlink:href=\"data:image/png;base64,\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\" y=\"-35.687703\"/>\n   </g>\n   <g id=\"patch_48\">\n    <path d=\"M 776.767797 106.687703 \nL 776.767797 35.7555 \n\" style=\"fill:none;stroke:#000000;stroke-linecap:square;stroke-linejoin:miter;stroke-width:0.8;\"/>\n   </g>\n   <g id=\"patch_49\">\n    <path d=\"M 847.7 106.687703 \nL 847.7 35.7555 \n\" style=\"fill:none;stroke:#000000;stroke-linecap:square;stroke-linejoin:miter;stroke-width:0.8;\"/>\n   </g>\n   <g id=\"patch_50\">\n    <path d=\"M 776.767797 106.687703 \nL 847.7 106.687703 \n\" style=\"fill:none;stroke:#000000;stroke-linecap:square;stroke-linejoin:miter;stroke-width:0.8;\"/>\n   </g>\n   <g id=\"patch_51\">\n    <path d=\"M 776.767797 35.7555 \nL 847.7 35.7555 \n\" style=\"fill:none;stroke:#000000;stroke-linecap:square;stroke-linejoin:miter;stroke-width:0.8;\"/>\n   </g>\n   <g id=\"text_10\">\n    <!-- sneaker -->\n    <g transform=\"translate(788.521711 16.318125)scale(0.12 -0.12)\">\n     <use xlink:href=\"#DejaVuSans-115\"/>\n     <use x=\"52.099609\" xlink:href=\"#DejaVuSans-110\"/>\n     <use x=\"115.478516\" xlink:href=\"#DejaVuSans-101\"/>\n     <use x=\"177.001953\" xlink:href=\"#DejaVuSans-97\"/>\n     <use x=\"238.28125\" xlink:href=\"#DejaVuSans-107\"/>\n     <use x=\"292.566406\" xlink:href=\"#DejaVuSans-101\"/>\n     <use x=\"354.089844\" xlink:href=\"#DejaVuSans-114\"/>\n    </g>\n    <!-- sneaker -->\n    <g transform=\"translate(788.521711 29.7555)scale(0.12 -0.12)\">\n     <use xlink:href=\"#DejaVuSans-115\"/>\n     <use x=\"52.099609\" xlink:href=\"#DejaVuSans-110\"/>\n     <use x=\"115.478516\" xlink:href=\"#DejaVuSans-101\"/>\n     <use x=\"177.001953\" xlink:href=\"#DejaVuSans-97\"/>\n     <use x=\"238.28125\" xlink:href=\"#DejaVuSans-107\"/>\n     <use x=\"292.566406\" xlink:href=\"#DejaVuSans-101\"/>\n     <use x=\"354.089844\" xlink:href=\"#DejaVuSans-114\"/>\n    </g>\n   </g>\n  </g>\n </g>\n <defs>\n  <clipPath id=\"p42a643c4e6\">\n   <rect height=\"70.932203\" width=\"70.932203\" x=\"10.7\" y=\"35.7555\"/>\n  </clipPath>\n  <clipPath id=\"pb7d58f434b\">\n   <rect height=\"70.932203\" width=\"70.932203\" x=\"95.818644\" y=\"35.7555\"/>\n  </clipPath>\n  <clipPath id=\"p364d027e2f\">\n   <rect height=\"70.932203\" width=\"70.932203\" x=\"180.937288\" y=\"35.7555\"/>\n  </clipPath>\n  <clipPath id=\"pd830556bca\">\n   <rect height=\"70.932203\" width=\"70.932203\" x=\"266.055932\" y=\"35.7555\"/>\n  </clipPath>\n  <clipPath id=\"p53b3bbe709\">\n   <rect height=\"70.932203\" width=\"70.932203\" x=\"351.174576\" y=\"35.7555\"/>\n  </clipPath>\n  <clipPath id=\"p2324e37d4a\">\n   <rect height=\"70.932203\" width=\"70.932203\" x=\"436.29322\" y=\"35.7555\"/>\n  </clipPath>\n  <clipPath id=\"p2adb426ec8\">\n   <rect height=\"70.932203\" width=\"70.932203\" x=\"521.411864\" y=\"35.7555\"/>\n  </clipPath>\n  <clipPath id=\"pd45ff429a4\">\n   <rect height=\"70.932203\" width=\"70.932203\" x=\"606.530508\" y=\"35.7555\"/>\n  </clipPath>\n  <clipPath id=\"p8490b97833\">\n   <rect height=\"70.932203\" width=\"70.932203\" x=\"691.649153\" y=\"35.7555\"/>\n  </clipPath>\n  <clipPath id=\"pe2dc48c45e\">\n   <rect height=\"70.932203\" width=\"70.932203\" x=\"776.767797\" y=\"35.7555\"/>\n  </clipPath>\n </defs>\n</svg>\n"
          },
          "metadata": {
            "needs_background": "light"
          }
        }
      ]
    },
    {
      "cell_type": "markdown",
      "source": [
        "#使用深度学习框架的API实现"
      ],
      "metadata": {
        "id": "a8LtbRUI5qoJ"
      }
    },
    {
      "cell_type": "code",
      "source": [
        "from torch import nn\n",
        "\n",
        "bathch_size=256\n",
        "train_iter,test_iter=d2l.load_data_fashion_mnist(batch_size)"
      ],
      "metadata": {
        "id": "uond5_wViAye",
        "colab": {
          "base_uri": "https://localhost:8080/"
        },
        "outputId": "f50cee18-24dd-4521-dae4-abd38c113c5c"
      },
      "execution_count": 33,
      "outputs": [
        {
          "output_type": "stream",
          "name": "stderr",
          "text": [
            "/usr/local/lib/python3.7/dist-packages/torch/utils/data/dataloader.py:481: UserWarning: This DataLoader will create 4 worker processes in total. Our suggested max number of worker in current system is 2, which is smaller than what this DataLoader is going to create. Please be aware that excessive worker creation might get DataLoader running slow or even freeze, lower the worker number to avoid potential slowness/freeze if necessary.\n",
            "  cpuset_checked))\n"
          ]
        }
      ]
    },
    {
      "cell_type": "code",
      "source": [
        "net=nn.Sequential(nn.Flatten(),nn.Linear(784,10))\n",
        "\n",
        "def init_weights(m):\n",
        "  if type(m)==nn.Linear:\n",
        "    nn.init.normal_(m.weight,std=0.01)\n",
        "\n",
        "net.apply(init_weights)"
      ],
      "metadata": {
        "colab": {
          "base_uri": "https://localhost:8080/"
        },
        "id": "uDb8eNFr6AeV",
        "outputId": "de5d41b4-f3ce-43f3-e029-fc8fe63ca6f2"
      },
      "execution_count": 35,
      "outputs": [
        {
          "output_type": "execute_result",
          "data": {
            "text/plain": [
              "Sequential(\n",
              "  (0): Flatten(start_dim=1, end_dim=-1)\n",
              "  (1): Linear(in_features=784, out_features=10, bias=True)\n",
              ")"
            ]
          },
          "metadata": {},
          "execution_count": 35
        }
      ]
    },
    {
      "cell_type": "code",
      "source": [
        "loss=nn.CrossEntropyLoss(reduction='none')"
      ],
      "metadata": {
        "id": "XHiYHE7S7Kqf"
      },
      "execution_count": 36,
      "outputs": []
    },
    {
      "cell_type": "code",
      "source": [
        "trainer=torch.optim.SGD(net.parameters(),lr=0.1)"
      ],
      "metadata": {
        "id": "tQXx-K3w8QRf"
      },
      "execution_count": 38,
      "outputs": []
    },
    {
      "cell_type": "code",
      "source": [
        "num_epochs=10\n",
        "d2l.train_ch3(net,train_iter,test_iter,loss,num_epochs,trainer)"
      ],
      "metadata": {
        "colab": {
          "base_uri": "https://localhost:8080/",
          "height": 261
        },
        "id": "ZLFaBwyG8lNU",
        "outputId": "98633549-dcf2-4342-ac3b-af15d2753bd9"
      },
      "execution_count": 40,
      "outputs": [
        {
          "output_type": "display_data",
          "data": {
            "text/plain": [
              "<Figure size 252x180 with 1 Axes>"
            ],
            "image/svg+xml": "<?xml version=\"1.0\" encoding=\"utf-8\" standalone=\"no\"?>\n<!DOCTYPE svg PUBLIC \"-//W3C//DTD SVG 1.1//EN\"\n  \"http://www.w3.org/Graphics/SVG/1.1/DTD/svg11.dtd\">\n<!-- Created with matplotlib (https://matplotlib.org/) -->\n<svg height=\"180.65625pt\" version=\"1.1\" viewBox=\"0 0 238.965625 180.65625\" width=\"238.965625pt\" xmlns=\"http://www.w3.org/2000/svg\" xmlns:xlink=\"http://www.w3.org/1999/xlink\">\n <defs>\n  <style type=\"text/css\">\n*{stroke-linecap:butt;stroke-linejoin:round;}\n  </style>\n </defs>\n <g id=\"figure_1\">\n  <g id=\"patch_1\">\n   <path d=\"M 0 180.65625 \nL 238.965625 180.65625 \nL 238.965625 0 \nL 0 0 \nz\n\" style=\"fill:none;\"/>\n  </g>\n  <g id=\"axes_1\">\n   <g id=\"patch_2\">\n    <path d=\"M 30.103125 143.1 \nL 225.403125 143.1 \nL 225.403125 7.2 \nL 30.103125 7.2 \nz\n\" style=\"fill:#ffffff;\"/>\n   </g>\n   <g id=\"matplotlib.axis_1\">\n    <g id=\"xtick_1\">\n     <g id=\"line2d_1\">\n      <path clip-path=\"url(#pf404809652)\" d=\"M 51.803125 143.1 \nL 51.803125 7.2 \n\" style=\"fill:none;stroke:#b0b0b0;stroke-linecap:square;stroke-width:0.8;\"/>\n     </g>\n     <g id=\"line2d_2\">\n      <defs>\n       <path d=\"M 0 0 \nL 0 3.5 \n\" id=\"mb22300f3f7\" style=\"stroke:#000000;stroke-width:0.8;\"/>\n      </defs>\n      <g>\n       <use style=\"stroke:#000000;stroke-width:0.8;\" x=\"51.803125\" xlink:href=\"#mb22300f3f7\" y=\"143.1\"/>\n      </g>\n     </g>\n     <g id=\"text_1\">\n      <!-- 2 -->\n      <defs>\n       <path d=\"M 19.1875 8.296875 \nL 53.609375 8.296875 \nL 53.609375 0 \nL 7.328125 0 \nL 7.328125 8.296875 \nQ 12.9375 14.109375 22.625 23.890625 \nQ 32.328125 33.6875 34.8125 36.53125 \nQ 39.546875 41.84375 41.421875 45.53125 \nQ 43.3125 49.21875 43.3125 52.78125 \nQ 43.3125 58.59375 39.234375 62.25 \nQ 35.15625 65.921875 28.609375 65.921875 \nQ 23.96875 65.921875 18.8125 64.3125 \nQ 13.671875 62.703125 7.8125 59.421875 \nL 7.8125 69.390625 \nQ 13.765625 71.78125 18.9375 73 \nQ 24.125 74.21875 28.421875 74.21875 \nQ 39.75 74.21875 46.484375 68.546875 \nQ 53.21875 62.890625 53.21875 53.421875 \nQ 53.21875 48.921875 51.53125 44.890625 \nQ 49.859375 40.875 45.40625 35.40625 \nQ 44.1875 33.984375 37.640625 27.21875 \nQ 31.109375 20.453125 19.1875 8.296875 \nz\n\" id=\"DejaVuSans-50\"/>\n      </defs>\n      <g transform=\"translate(48.621875 157.698438)scale(0.1 -0.1)\">\n       <use xlink:href=\"#DejaVuSans-50\"/>\n      </g>\n     </g>\n    </g>\n    <g id=\"xtick_2\">\n     <g id=\"line2d_3\">\n      <path clip-path=\"url(#pf404809652)\" d=\"M 95.203125 143.1 \nL 95.203125 7.2 \n\" style=\"fill:none;stroke:#b0b0b0;stroke-linecap:square;stroke-width:0.8;\"/>\n     </g>\n     <g id=\"line2d_4\">\n      <g>\n       <use style=\"stroke:#000000;stroke-width:0.8;\" x=\"95.203125\" xlink:href=\"#mb22300f3f7\" y=\"143.1\"/>\n      </g>\n     </g>\n     <g id=\"text_2\">\n      <!-- 4 -->\n      <defs>\n       <path d=\"M 37.796875 64.3125 \nL 12.890625 25.390625 \nL 37.796875 25.390625 \nz\nM 35.203125 72.90625 \nL 47.609375 72.90625 \nL 47.609375 25.390625 \nL 58.015625 25.390625 \nL 58.015625 17.1875 \nL 47.609375 17.1875 \nL 47.609375 0 \nL 37.796875 0 \nL 37.796875 17.1875 \nL 4.890625 17.1875 \nL 4.890625 26.703125 \nz\n\" id=\"DejaVuSans-52\"/>\n      </defs>\n      <g transform=\"translate(92.021875 157.698438)scale(0.1 -0.1)\">\n       <use xlink:href=\"#DejaVuSans-52\"/>\n      </g>\n     </g>\n    </g>\n    <g id=\"xtick_3\">\n     <g id=\"line2d_5\">\n      <path clip-path=\"url(#pf404809652)\" d=\"M 138.603125 143.1 \nL 138.603125 7.2 \n\" style=\"fill:none;stroke:#b0b0b0;stroke-linecap:square;stroke-width:0.8;\"/>\n     </g>\n     <g id=\"line2d_6\">\n      <g>\n       <use style=\"stroke:#000000;stroke-width:0.8;\" x=\"138.603125\" xlink:href=\"#mb22300f3f7\" y=\"143.1\"/>\n      </g>\n     </g>\n     <g id=\"text_3\">\n      <!-- 6 -->\n      <defs>\n       <path d=\"M 33.015625 40.375 \nQ 26.375 40.375 22.484375 35.828125 \nQ 18.609375 31.296875 18.609375 23.390625 \nQ 18.609375 15.53125 22.484375 10.953125 \nQ 26.375 6.390625 33.015625 6.390625 \nQ 39.65625 6.390625 43.53125 10.953125 \nQ 47.40625 15.53125 47.40625 23.390625 \nQ 47.40625 31.296875 43.53125 35.828125 \nQ 39.65625 40.375 33.015625 40.375 \nz\nM 52.59375 71.296875 \nL 52.59375 62.3125 \nQ 48.875 64.0625 45.09375 64.984375 \nQ 41.3125 65.921875 37.59375 65.921875 \nQ 27.828125 65.921875 22.671875 59.328125 \nQ 17.53125 52.734375 16.796875 39.40625 \nQ 19.671875 43.65625 24.015625 45.921875 \nQ 28.375 48.1875 33.59375 48.1875 \nQ 44.578125 48.1875 50.953125 41.515625 \nQ 57.328125 34.859375 57.328125 23.390625 \nQ 57.328125 12.15625 50.6875 5.359375 \nQ 44.046875 -1.421875 33.015625 -1.421875 \nQ 20.359375 -1.421875 13.671875 8.265625 \nQ 6.984375 17.96875 6.984375 36.375 \nQ 6.984375 53.65625 15.1875 63.9375 \nQ 23.390625 74.21875 37.203125 74.21875 \nQ 40.921875 74.21875 44.703125 73.484375 \nQ 48.484375 72.75 52.59375 71.296875 \nz\n\" id=\"DejaVuSans-54\"/>\n      </defs>\n      <g transform=\"translate(135.421875 157.698438)scale(0.1 -0.1)\">\n       <use xlink:href=\"#DejaVuSans-54\"/>\n      </g>\n     </g>\n    </g>\n    <g id=\"xtick_4\">\n     <g id=\"line2d_7\">\n      <path clip-path=\"url(#pf404809652)\" d=\"M 182.003125 143.1 \nL 182.003125 7.2 \n\" style=\"fill:none;stroke:#b0b0b0;stroke-linecap:square;stroke-width:0.8;\"/>\n     </g>\n     <g id=\"line2d_8\">\n      <g>\n       <use style=\"stroke:#000000;stroke-width:0.8;\" x=\"182.003125\" xlink:href=\"#mb22300f3f7\" y=\"143.1\"/>\n      </g>\n     </g>\n     <g id=\"text_4\">\n      <!-- 8 -->\n      <defs>\n       <path d=\"M 31.78125 34.625 \nQ 24.75 34.625 20.71875 30.859375 \nQ 16.703125 27.09375 16.703125 20.515625 \nQ 16.703125 13.921875 20.71875 10.15625 \nQ 24.75 6.390625 31.78125 6.390625 \nQ 38.8125 6.390625 42.859375 10.171875 \nQ 46.921875 13.96875 46.921875 20.515625 \nQ 46.921875 27.09375 42.890625 30.859375 \nQ 38.875 34.625 31.78125 34.625 \nz\nM 21.921875 38.8125 \nQ 15.578125 40.375 12.03125 44.71875 \nQ 8.5 49.078125 8.5 55.328125 \nQ 8.5 64.0625 14.71875 69.140625 \nQ 20.953125 74.21875 31.78125 74.21875 \nQ 42.671875 74.21875 48.875 69.140625 \nQ 55.078125 64.0625 55.078125 55.328125 \nQ 55.078125 49.078125 51.53125 44.71875 \nQ 48 40.375 41.703125 38.8125 \nQ 48.828125 37.15625 52.796875 32.3125 \nQ 56.78125 27.484375 56.78125 20.515625 \nQ 56.78125 9.90625 50.3125 4.234375 \nQ 43.84375 -1.421875 31.78125 -1.421875 \nQ 19.734375 -1.421875 13.25 4.234375 \nQ 6.78125 9.90625 6.78125 20.515625 \nQ 6.78125 27.484375 10.78125 32.3125 \nQ 14.796875 37.15625 21.921875 38.8125 \nz\nM 18.3125 54.390625 \nQ 18.3125 48.734375 21.84375 45.5625 \nQ 25.390625 42.390625 31.78125 42.390625 \nQ 38.140625 42.390625 41.71875 45.5625 \nQ 45.3125 48.734375 45.3125 54.390625 \nQ 45.3125 60.0625 41.71875 63.234375 \nQ 38.140625 66.40625 31.78125 66.40625 \nQ 25.390625 66.40625 21.84375 63.234375 \nQ 18.3125 60.0625 18.3125 54.390625 \nz\n\" id=\"DejaVuSans-56\"/>\n      </defs>\n      <g transform=\"translate(178.821875 157.698438)scale(0.1 -0.1)\">\n       <use xlink:href=\"#DejaVuSans-56\"/>\n      </g>\n     </g>\n    </g>\n    <g id=\"xtick_5\">\n     <g id=\"line2d_9\">\n      <path clip-path=\"url(#pf404809652)\" d=\"M 225.403125 143.1 \nL 225.403125 7.2 \n\" style=\"fill:none;stroke:#b0b0b0;stroke-linecap:square;stroke-width:0.8;\"/>\n     </g>\n     <g id=\"line2d_10\">\n      <g>\n       <use style=\"stroke:#000000;stroke-width:0.8;\" x=\"225.403125\" xlink:href=\"#mb22300f3f7\" y=\"143.1\"/>\n      </g>\n     </g>\n     <g id=\"text_5\">\n      <!-- 10 -->\n      <defs>\n       <path d=\"M 12.40625 8.296875 \nL 28.515625 8.296875 \nL 28.515625 63.921875 \nL 10.984375 60.40625 \nL 10.984375 69.390625 \nL 28.421875 72.90625 \nL 38.28125 72.90625 \nL 38.28125 8.296875 \nL 54.390625 8.296875 \nL 54.390625 0 \nL 12.40625 0 \nz\n\" id=\"DejaVuSans-49\"/>\n       <path d=\"M 31.78125 66.40625 \nQ 24.171875 66.40625 20.328125 58.90625 \nQ 16.5 51.421875 16.5 36.375 \nQ 16.5 21.390625 20.328125 13.890625 \nQ 24.171875 6.390625 31.78125 6.390625 \nQ 39.453125 6.390625 43.28125 13.890625 \nQ 47.125 21.390625 47.125 36.375 \nQ 47.125 51.421875 43.28125 58.90625 \nQ 39.453125 66.40625 31.78125 66.40625 \nz\nM 31.78125 74.21875 \nQ 44.046875 74.21875 50.515625 64.515625 \nQ 56.984375 54.828125 56.984375 36.375 \nQ 56.984375 17.96875 50.515625 8.265625 \nQ 44.046875 -1.421875 31.78125 -1.421875 \nQ 19.53125 -1.421875 13.0625 8.265625 \nQ 6.59375 17.96875 6.59375 36.375 \nQ 6.59375 54.828125 13.0625 64.515625 \nQ 19.53125 74.21875 31.78125 74.21875 \nz\n\" id=\"DejaVuSans-48\"/>\n      </defs>\n      <g transform=\"translate(219.040625 157.698438)scale(0.1 -0.1)\">\n       <use xlink:href=\"#DejaVuSans-49\"/>\n       <use x=\"63.623047\" xlink:href=\"#DejaVuSans-48\"/>\n      </g>\n     </g>\n    </g>\n    <g id=\"text_6\">\n     <!-- epoch -->\n     <defs>\n      <path d=\"M 56.203125 29.59375 \nL 56.203125 25.203125 \nL 14.890625 25.203125 \nQ 15.484375 15.921875 20.484375 11.0625 \nQ 25.484375 6.203125 34.421875 6.203125 \nQ 39.59375 6.203125 44.453125 7.46875 \nQ 49.3125 8.734375 54.109375 11.28125 \nL 54.109375 2.78125 \nQ 49.265625 0.734375 44.1875 -0.34375 \nQ 39.109375 -1.421875 33.890625 -1.421875 \nQ 20.796875 -1.421875 13.15625 6.1875 \nQ 5.515625 13.8125 5.515625 26.8125 \nQ 5.515625 40.234375 12.765625 48.109375 \nQ 20.015625 56 32.328125 56 \nQ 43.359375 56 49.78125 48.890625 \nQ 56.203125 41.796875 56.203125 29.59375 \nz\nM 47.21875 32.234375 \nQ 47.125 39.59375 43.09375 43.984375 \nQ 39.0625 48.390625 32.421875 48.390625 \nQ 24.90625 48.390625 20.390625 44.140625 \nQ 15.875 39.890625 15.1875 32.171875 \nz\n\" id=\"DejaVuSans-101\"/>\n      <path d=\"M 18.109375 8.203125 \nL 18.109375 -20.796875 \nL 9.078125 -20.796875 \nL 9.078125 54.6875 \nL 18.109375 54.6875 \nL 18.109375 46.390625 \nQ 20.953125 51.265625 25.265625 53.625 \nQ 29.59375 56 35.59375 56 \nQ 45.5625 56 51.78125 48.09375 \nQ 58.015625 40.1875 58.015625 27.296875 \nQ 58.015625 14.40625 51.78125 6.484375 \nQ 45.5625 -1.421875 35.59375 -1.421875 \nQ 29.59375 -1.421875 25.265625 0.953125 \nQ 20.953125 3.328125 18.109375 8.203125 \nz\nM 48.6875 27.296875 \nQ 48.6875 37.203125 44.609375 42.84375 \nQ 40.53125 48.484375 33.40625 48.484375 \nQ 26.265625 48.484375 22.1875 42.84375 \nQ 18.109375 37.203125 18.109375 27.296875 \nQ 18.109375 17.390625 22.1875 11.75 \nQ 26.265625 6.109375 33.40625 6.109375 \nQ 40.53125 6.109375 44.609375 11.75 \nQ 48.6875 17.390625 48.6875 27.296875 \nz\n\" id=\"DejaVuSans-112\"/>\n      <path d=\"M 30.609375 48.390625 \nQ 23.390625 48.390625 19.1875 42.75 \nQ 14.984375 37.109375 14.984375 27.296875 \nQ 14.984375 17.484375 19.15625 11.84375 \nQ 23.34375 6.203125 30.609375 6.203125 \nQ 37.796875 6.203125 41.984375 11.859375 \nQ 46.1875 17.53125 46.1875 27.296875 \nQ 46.1875 37.015625 41.984375 42.703125 \nQ 37.796875 48.390625 30.609375 48.390625 \nz\nM 30.609375 56 \nQ 42.328125 56 49.015625 48.375 \nQ 55.71875 40.765625 55.71875 27.296875 \nQ 55.71875 13.875 49.015625 6.21875 \nQ 42.328125 -1.421875 30.609375 -1.421875 \nQ 18.84375 -1.421875 12.171875 6.21875 \nQ 5.515625 13.875 5.515625 27.296875 \nQ 5.515625 40.765625 12.171875 48.375 \nQ 18.84375 56 30.609375 56 \nz\n\" id=\"DejaVuSans-111\"/>\n      <path d=\"M 48.78125 52.59375 \nL 48.78125 44.1875 \nQ 44.96875 46.296875 41.140625 47.34375 \nQ 37.3125 48.390625 33.40625 48.390625 \nQ 24.65625 48.390625 19.8125 42.84375 \nQ 14.984375 37.3125 14.984375 27.296875 \nQ 14.984375 17.28125 19.8125 11.734375 \nQ 24.65625 6.203125 33.40625 6.203125 \nQ 37.3125 6.203125 41.140625 7.25 \nQ 44.96875 8.296875 48.78125 10.40625 \nL 48.78125 2.09375 \nQ 45.015625 0.34375 40.984375 -0.53125 \nQ 36.96875 -1.421875 32.421875 -1.421875 \nQ 20.0625 -1.421875 12.78125 6.34375 \nQ 5.515625 14.109375 5.515625 27.296875 \nQ 5.515625 40.671875 12.859375 48.328125 \nQ 20.21875 56 33.015625 56 \nQ 37.15625 56 41.109375 55.140625 \nQ 45.0625 54.296875 48.78125 52.59375 \nz\n\" id=\"DejaVuSans-99\"/>\n      <path d=\"M 54.890625 33.015625 \nL 54.890625 0 \nL 45.90625 0 \nL 45.90625 32.71875 \nQ 45.90625 40.484375 42.875 44.328125 \nQ 39.84375 48.1875 33.796875 48.1875 \nQ 26.515625 48.1875 22.3125 43.546875 \nQ 18.109375 38.921875 18.109375 30.90625 \nL 18.109375 0 \nL 9.078125 0 \nL 9.078125 75.984375 \nL 18.109375 75.984375 \nL 18.109375 46.1875 \nQ 21.34375 51.125 25.703125 53.5625 \nQ 30.078125 56 35.796875 56 \nQ 45.21875 56 50.046875 50.171875 \nQ 54.890625 44.34375 54.890625 33.015625 \nz\n\" id=\"DejaVuSans-104\"/>\n     </defs>\n     <g transform=\"translate(112.525 171.376563)scale(0.1 -0.1)\">\n      <use xlink:href=\"#DejaVuSans-101\"/>\n      <use x=\"61.523438\" xlink:href=\"#DejaVuSans-112\"/>\n      <use x=\"125\" xlink:href=\"#DejaVuSans-111\"/>\n      <use x=\"186.181641\" xlink:href=\"#DejaVuSans-99\"/>\n      <use x=\"241.162109\" xlink:href=\"#DejaVuSans-104\"/>\n     </g>\n    </g>\n   </g>\n   <g id=\"matplotlib.axis_2\">\n    <g id=\"ytick_1\">\n     <g id=\"line2d_11\">\n      <path clip-path=\"url(#pf404809652)\" d=\"M 30.103125 120.45 \nL 225.403125 120.45 \n\" style=\"fill:none;stroke:#b0b0b0;stroke-linecap:square;stroke-width:0.8;\"/>\n     </g>\n     <g id=\"line2d_12\">\n      <defs>\n       <path d=\"M 0 0 \nL -3.5 0 \n\" id=\"mc99fd0818d\" style=\"stroke:#000000;stroke-width:0.8;\"/>\n      </defs>\n      <g>\n       <use style=\"stroke:#000000;stroke-width:0.8;\" x=\"30.103125\" xlink:href=\"#mc99fd0818d\" y=\"120.45\"/>\n      </g>\n     </g>\n     <g id=\"text_7\">\n      <!-- 0.4 -->\n      <defs>\n       <path d=\"M 10.6875 12.40625 \nL 21 12.40625 \nL 21 0 \nL 10.6875 0 \nz\n\" id=\"DejaVuSans-46\"/>\n      </defs>\n      <g transform=\"translate(7.2 124.249219)scale(0.1 -0.1)\">\n       <use xlink:href=\"#DejaVuSans-48\"/>\n       <use x=\"63.623047\" xlink:href=\"#DejaVuSans-46\"/>\n       <use x=\"95.410156\" xlink:href=\"#DejaVuSans-52\"/>\n      </g>\n     </g>\n    </g>\n    <g id=\"ytick_2\">\n     <g id=\"line2d_13\">\n      <path clip-path=\"url(#pf404809652)\" d=\"M 30.103125 75.15 \nL 225.403125 75.15 \n\" style=\"fill:none;stroke:#b0b0b0;stroke-linecap:square;stroke-width:0.8;\"/>\n     </g>\n     <g id=\"line2d_14\">\n      <g>\n       <use style=\"stroke:#000000;stroke-width:0.8;\" x=\"30.103125\" xlink:href=\"#mc99fd0818d\" y=\"75.15\"/>\n      </g>\n     </g>\n     <g id=\"text_8\">\n      <!-- 0.6 -->\n      <g transform=\"translate(7.2 78.949219)scale(0.1 -0.1)\">\n       <use xlink:href=\"#DejaVuSans-48\"/>\n       <use x=\"63.623047\" xlink:href=\"#DejaVuSans-46\"/>\n       <use x=\"95.410156\" xlink:href=\"#DejaVuSans-54\"/>\n      </g>\n     </g>\n    </g>\n    <g id=\"ytick_3\">\n     <g id=\"line2d_15\">\n      <path clip-path=\"url(#pf404809652)\" d=\"M 30.103125 29.85 \nL 225.403125 29.85 \n\" style=\"fill:none;stroke:#b0b0b0;stroke-linecap:square;stroke-width:0.8;\"/>\n     </g>\n     <g id=\"line2d_16\">\n      <g>\n       <use style=\"stroke:#000000;stroke-width:0.8;\" x=\"30.103125\" xlink:href=\"#mc99fd0818d\" y=\"29.85\"/>\n      </g>\n     </g>\n     <g id=\"text_9\">\n      <!-- 0.8 -->\n      <g transform=\"translate(7.2 33.649219)scale(0.1 -0.1)\">\n       <use xlink:href=\"#DejaVuSans-48\"/>\n       <use x=\"63.623047\" xlink:href=\"#DejaVuSans-46\"/>\n       <use x=\"95.410156\" xlink:href=\"#DejaVuSans-56\"/>\n      </g>\n     </g>\n    </g>\n   </g>\n   <g id=\"line2d_17\">\n    <path clip-path=\"url(#pf404809652)\" d=\"M 30.103125 32.877061 \nL 51.803125 81.596783 \nL 73.503125 91.965067 \nL 95.203125 97.472185 \nL 116.903125 100.9037 \nL 138.603125 103.681661 \nL 160.303125 106.040695 \nL 182.003125 107.299194 \nL 203.703125 108.541542 \nL 225.403125 109.868607 \n\" style=\"fill:none;stroke:#1f77b4;stroke-linecap:square;stroke-width:1.5;\"/>\n   </g>\n   <g id=\"line2d_18\">\n    <path clip-path=\"url(#pf404809652)\" d=\"M 30.103125 41.2656 \nL 51.803125 27.2377 \nL 73.503125 24.05915 \nL 95.203125 22.39815 \nL 116.903125 21.3185 \nL 138.603125 20.90325 \nL 160.303125 20.20865 \nL 182.003125 19.834925 \nL 203.703125 19.39325 \nL 225.403125 19.0082 \n\" style=\"fill:none;stroke:#bf00bf;stroke-dasharray:5.55,2.4;stroke-dashoffset:0;stroke-width:1.5;\"/>\n   </g>\n   <g id=\"line2d_19\">\n    <path clip-path=\"url(#pf404809652)\" d=\"M 30.103125 31.7979 \nL 51.803125 27.8568 \nL 73.503125 26.4072 \nL 95.203125 28.2645 \nL 116.903125 24.5952 \nL 138.603125 24.30075 \nL 160.303125 24.5046 \nL 182.003125 23.89305 \nL 203.703125 22.44345 \nL 225.403125 23.1003 \n\" style=\"fill:none;stroke:#008000;stroke-dasharray:9.6,2.4,1.5,2.4;stroke-dashoffset:0;stroke-width:1.5;\"/>\n   </g>\n   <g id=\"patch_3\">\n    <path d=\"M 30.103125 143.1 \nL 30.103125 7.2 \n\" style=\"fill:none;stroke:#000000;stroke-linecap:square;stroke-linejoin:miter;stroke-width:0.8;\"/>\n   </g>\n   <g id=\"patch_4\">\n    <path d=\"M 225.403125 143.1 \nL 225.403125 7.2 \n\" style=\"fill:none;stroke:#000000;stroke-linecap:square;stroke-linejoin:miter;stroke-width:0.8;\"/>\n   </g>\n   <g id=\"patch_5\">\n    <path d=\"M 30.103125 143.1 \nL 225.403125 143.1 \n\" style=\"fill:none;stroke:#000000;stroke-linecap:square;stroke-linejoin:miter;stroke-width:0.8;\"/>\n   </g>\n   <g id=\"patch_6\">\n    <path d=\"M 30.103125 7.2 \nL 225.403125 7.2 \n\" style=\"fill:none;stroke:#000000;stroke-linecap:square;stroke-linejoin:miter;stroke-width:0.8;\"/>\n   </g>\n   <g id=\"legend_1\">\n    <g id=\"patch_7\">\n     <path d=\"M 140.634375 98.667187 \nL 218.403125 98.667187 \nQ 220.403125 98.667187 220.403125 96.667187 \nL 220.403125 53.632812 \nQ 220.403125 51.632812 218.403125 51.632812 \nL 140.634375 51.632812 \nQ 138.634375 51.632812 138.634375 53.632812 \nL 138.634375 96.667187 \nQ 138.634375 98.667187 140.634375 98.667187 \nz\n\" style=\"fill:#ffffff;opacity:0.8;stroke:#cccccc;stroke-linejoin:miter;\"/>\n    </g>\n    <g id=\"line2d_20\">\n     <path d=\"M 142.634375 59.73125 \nL 162.634375 59.73125 \n\" style=\"fill:none;stroke:#1f77b4;stroke-linecap:square;stroke-width:1.5;\"/>\n    </g>\n    <g id=\"line2d_21\"/>\n    <g id=\"text_10\">\n     <!-- train loss -->\n     <defs>\n      <path d=\"M 18.3125 70.21875 \nL 18.3125 54.6875 \nL 36.8125 54.6875 \nL 36.8125 47.703125 \nL 18.3125 47.703125 \nL 18.3125 18.015625 \nQ 18.3125 11.328125 20.140625 9.421875 \nQ 21.96875 7.515625 27.59375 7.515625 \nL 36.8125 7.515625 \nL 36.8125 0 \nL 27.59375 0 \nQ 17.1875 0 13.234375 3.875 \nQ 9.28125 7.765625 9.28125 18.015625 \nL 9.28125 47.703125 \nL 2.6875 47.703125 \nL 2.6875 54.6875 \nL 9.28125 54.6875 \nL 9.28125 70.21875 \nz\n\" id=\"DejaVuSans-116\"/>\n      <path d=\"M 41.109375 46.296875 \nQ 39.59375 47.171875 37.8125 47.578125 \nQ 36.03125 48 33.890625 48 \nQ 26.265625 48 22.1875 43.046875 \nQ 18.109375 38.09375 18.109375 28.8125 \nL 18.109375 0 \nL 9.078125 0 \nL 9.078125 54.6875 \nL 18.109375 54.6875 \nL 18.109375 46.1875 \nQ 20.953125 51.171875 25.484375 53.578125 \nQ 30.03125 56 36.53125 56 \nQ 37.453125 56 38.578125 55.875 \nQ 39.703125 55.765625 41.0625 55.515625 \nz\n\" id=\"DejaVuSans-114\"/>\n      <path d=\"M 34.28125 27.484375 \nQ 23.390625 27.484375 19.1875 25 \nQ 14.984375 22.515625 14.984375 16.5 \nQ 14.984375 11.71875 18.140625 8.90625 \nQ 21.296875 6.109375 26.703125 6.109375 \nQ 34.1875 6.109375 38.703125 11.40625 \nQ 43.21875 16.703125 43.21875 25.484375 \nL 43.21875 27.484375 \nz\nM 52.203125 31.203125 \nL 52.203125 0 \nL 43.21875 0 \nL 43.21875 8.296875 \nQ 40.140625 3.328125 35.546875 0.953125 \nQ 30.953125 -1.421875 24.3125 -1.421875 \nQ 15.921875 -1.421875 10.953125 3.296875 \nQ 6 8.015625 6 15.921875 \nQ 6 25.140625 12.171875 29.828125 \nQ 18.359375 34.515625 30.609375 34.515625 \nL 43.21875 34.515625 \nL 43.21875 35.40625 \nQ 43.21875 41.609375 39.140625 45 \nQ 35.0625 48.390625 27.6875 48.390625 \nQ 23 48.390625 18.546875 47.265625 \nQ 14.109375 46.140625 10.015625 43.890625 \nL 10.015625 52.203125 \nQ 14.9375 54.109375 19.578125 55.046875 \nQ 24.21875 56 28.609375 56 \nQ 40.484375 56 46.34375 49.84375 \nQ 52.203125 43.703125 52.203125 31.203125 \nz\n\" id=\"DejaVuSans-97\"/>\n      <path d=\"M 9.421875 54.6875 \nL 18.40625 54.6875 \nL 18.40625 0 \nL 9.421875 0 \nz\nM 9.421875 75.984375 \nL 18.40625 75.984375 \nL 18.40625 64.59375 \nL 9.421875 64.59375 \nz\n\" id=\"DejaVuSans-105\"/>\n      <path d=\"M 54.890625 33.015625 \nL 54.890625 0 \nL 45.90625 0 \nL 45.90625 32.71875 \nQ 45.90625 40.484375 42.875 44.328125 \nQ 39.84375 48.1875 33.796875 48.1875 \nQ 26.515625 48.1875 22.3125 43.546875 \nQ 18.109375 38.921875 18.109375 30.90625 \nL 18.109375 0 \nL 9.078125 0 \nL 9.078125 54.6875 \nL 18.109375 54.6875 \nL 18.109375 46.1875 \nQ 21.34375 51.125 25.703125 53.5625 \nQ 30.078125 56 35.796875 56 \nQ 45.21875 56 50.046875 50.171875 \nQ 54.890625 44.34375 54.890625 33.015625 \nz\n\" id=\"DejaVuSans-110\"/>\n      <path id=\"DejaVuSans-32\"/>\n      <path d=\"M 9.421875 75.984375 \nL 18.40625 75.984375 \nL 18.40625 0 \nL 9.421875 0 \nz\n\" id=\"DejaVuSans-108\"/>\n      <path d=\"M 44.28125 53.078125 \nL 44.28125 44.578125 \nQ 40.484375 46.53125 36.375 47.5 \nQ 32.28125 48.484375 27.875 48.484375 \nQ 21.1875 48.484375 17.84375 46.4375 \nQ 14.5 44.390625 14.5 40.28125 \nQ 14.5 37.15625 16.890625 35.375 \nQ 19.28125 33.59375 26.515625 31.984375 \nL 29.59375 31.296875 \nQ 39.15625 29.25 43.1875 25.515625 \nQ 47.21875 21.78125 47.21875 15.09375 \nQ 47.21875 7.46875 41.1875 3.015625 \nQ 35.15625 -1.421875 24.609375 -1.421875 \nQ 20.21875 -1.421875 15.453125 -0.5625 \nQ 10.6875 0.296875 5.421875 2 \nL 5.421875 11.28125 \nQ 10.40625 8.6875 15.234375 7.390625 \nQ 20.0625 6.109375 24.8125 6.109375 \nQ 31.15625 6.109375 34.5625 8.28125 \nQ 37.984375 10.453125 37.984375 14.40625 \nQ 37.984375 18.0625 35.515625 20.015625 \nQ 33.0625 21.96875 24.703125 23.78125 \nL 21.578125 24.515625 \nQ 13.234375 26.265625 9.515625 29.90625 \nQ 5.8125 33.546875 5.8125 39.890625 \nQ 5.8125 47.609375 11.28125 51.796875 \nQ 16.75 56 26.8125 56 \nQ 31.78125 56 36.171875 55.265625 \nQ 40.578125 54.546875 44.28125 53.078125 \nz\n\" id=\"DejaVuSans-115\"/>\n     </defs>\n     <g transform=\"translate(170.634375 63.23125)scale(0.1 -0.1)\">\n      <use xlink:href=\"#DejaVuSans-116\"/>\n      <use x=\"39.208984\" xlink:href=\"#DejaVuSans-114\"/>\n      <use x=\"80.322266\" xlink:href=\"#DejaVuSans-97\"/>\n      <use x=\"141.601562\" xlink:href=\"#DejaVuSans-105\"/>\n      <use x=\"169.384766\" xlink:href=\"#DejaVuSans-110\"/>\n      <use x=\"232.763672\" xlink:href=\"#DejaVuSans-32\"/>\n      <use x=\"264.550781\" xlink:href=\"#DejaVuSans-108\"/>\n      <use x=\"292.333984\" xlink:href=\"#DejaVuSans-111\"/>\n      <use x=\"353.515625\" xlink:href=\"#DejaVuSans-115\"/>\n      <use x=\"405.615234\" xlink:href=\"#DejaVuSans-115\"/>\n     </g>\n    </g>\n    <g id=\"line2d_22\">\n     <path d=\"M 142.634375 74.409375 \nL 162.634375 74.409375 \n\" style=\"fill:none;stroke:#bf00bf;stroke-dasharray:5.55,2.4;stroke-dashoffset:0;stroke-width:1.5;\"/>\n    </g>\n    <g id=\"line2d_23\"/>\n    <g id=\"text_11\">\n     <!-- train acc -->\n     <g transform=\"translate(170.634375 77.909375)scale(0.1 -0.1)\">\n      <use xlink:href=\"#DejaVuSans-116\"/>\n      <use x=\"39.208984\" xlink:href=\"#DejaVuSans-114\"/>\n      <use x=\"80.322266\" xlink:href=\"#DejaVuSans-97\"/>\n      <use x=\"141.601562\" xlink:href=\"#DejaVuSans-105\"/>\n      <use x=\"169.384766\" xlink:href=\"#DejaVuSans-110\"/>\n      <use x=\"232.763672\" xlink:href=\"#DejaVuSans-32\"/>\n      <use x=\"264.550781\" xlink:href=\"#DejaVuSans-97\"/>\n      <use x=\"325.830078\" xlink:href=\"#DejaVuSans-99\"/>\n      <use x=\"380.810547\" xlink:href=\"#DejaVuSans-99\"/>\n     </g>\n    </g>\n    <g id=\"line2d_24\">\n     <path d=\"M 142.634375 89.0875 \nL 162.634375 89.0875 \n\" style=\"fill:none;stroke:#008000;stroke-dasharray:9.6,2.4,1.5,2.4;stroke-dashoffset:0;stroke-width:1.5;\"/>\n    </g>\n    <g id=\"line2d_25\"/>\n    <g id=\"text_12\">\n     <!-- test acc -->\n     <g transform=\"translate(170.634375 92.5875)scale(0.1 -0.1)\">\n      <use xlink:href=\"#DejaVuSans-116\"/>\n      <use x=\"39.208984\" xlink:href=\"#DejaVuSans-101\"/>\n      <use x=\"100.732422\" xlink:href=\"#DejaVuSans-115\"/>\n      <use x=\"152.832031\" xlink:href=\"#DejaVuSans-116\"/>\n      <use x=\"192.041016\" xlink:href=\"#DejaVuSans-32\"/>\n      <use x=\"223.828125\" xlink:href=\"#DejaVuSans-97\"/>\n      <use x=\"285.107422\" xlink:href=\"#DejaVuSans-99\"/>\n      <use x=\"340.087891\" xlink:href=\"#DejaVuSans-99\"/>\n     </g>\n    </g>\n   </g>\n  </g>\n </g>\n <defs>\n  <clipPath id=\"pf404809652\">\n   <rect height=\"135.9\" width=\"195.3\" x=\"30.103125\" y=\"7.2\"/>\n  </clipPath>\n </defs>\n</svg>\n"
          },
          "metadata": {
            "needs_background": "light"
          }
        }
      ]
    },
    {
      "cell_type": "code",
      "source": [
        ""
      ],
      "metadata": {
        "id": "1929YA4Q9LzH"
      },
      "execution_count": null,
      "outputs": []
    }
  ]
}