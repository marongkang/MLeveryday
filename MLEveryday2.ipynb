{
  "nbformat": 4,
  "nbformat_minor": 0,
  "metadata": {
    "colab": {
      "name": "MLEveryday2.ipynb",
      "provenance": [],
      "collapsed_sections": [],
      "authorship_tag": "ABX9TyNnj0rQAUjOHi3AUVSPTi5i",
      "include_colab_link": true
    },
    "kernelspec": {
      "name": "python3",
      "display_name": "Python 3"
    },
    "language_info": {
      "name": "python"
    }
  },
  "cells": [
    {
      "cell_type": "markdown",
      "metadata": {
        "id": "view-in-github",
        "colab_type": "text"
      },
      "source": [
        "<a href=\"https://colab.research.google.com/github/marongkang/MLeveryday/blob/main/MLEveryday2.ipynb\" target=\"_parent\"><img src=\"https://colab.research.google.com/assets/colab-badge.svg\" alt=\"Open In Colab\"/></a>"
      ]
    },
    {
      "cell_type": "markdown",
      "metadata": {
        "id": "pKZ8WHy5-QZs"
      },
      "source": [
        "**ML** **day2** \n",
        ">今天的目标是 NumPy"
      ]
    },
    {
      "cell_type": "code",
      "metadata": {
        "colab": {
          "base_uri": "https://localhost:8080/"
        },
        "id": "m7qfazKlytGw",
        "outputId": "0fd68006-2230-4420-c7c0-4f86edddb730"
      },
      "source": [
        "import numpy as np\n",
        "\n",
        "np.random.seed(seed=1234)\n",
        "\n",
        "# 标量（scalars）\n",
        "x = np.array(6)\n",
        "print (\"x: \",x)        #输出x\n",
        "print(\"x ndim: \",x.ndim)    #x的维度\n",
        "print(\"x shape:\",x.shape)    #表示数组形状（shape）的元组，表示各维度大小的元组\n",
        "print(\"x size: \",x.size)    #\n",
        "print (\"x dtype: \",x.dtype)\n",
        "\n",
        "# 数组(array)\n",
        "x = np.array([1,2,3,4,5])\n",
        "print(\"x :\",x)\n",
        "print(\"x ndim\",x.ndim)"
      ],
      "execution_count": null,
      "outputs": [
        {
          "output_type": "stream",
          "name": "stdout",
          "text": [
            "x:  6\n",
            "x ndim:  0\n",
            "x shape: ()\n",
            "x size:  1\n",
            "x dtype:  int64\n"
          ]
        }
      ]
    },
    {
      "cell_type": "markdown",
      "metadata": {
        "id": "OhcaQF57SKFG"
      },
      "source": [
        "今日进度：\n",
        "  NumPy 0%\n",
        "  \n",
        "  亚人真好看，不写了\n"
      ]
    },
    {
      "cell_type": "code",
      "metadata": {
        "id": "w-VLouCmRLdx"
      },
      "source": [
        ""
      ],
      "execution_count": null,
      "outputs": []
    }
  ]
}