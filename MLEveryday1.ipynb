{
  "nbformat": 4,
  "nbformat_minor": 0,
  "metadata": {
    "colab": {
      "name": "MLEveryday1.ipynb",
      "provenance": [],
      "collapsed_sections": [],
      "authorship_tag": "ABX9TyM0v2AmTizRkW+BNf4hCLC6",
      "include_colab_link": true
    },
    "kernelspec": {
      "name": "python3",
      "display_name": "Python 3"
    },
    "language_info": {
      "name": "python"
    }
  },
  "cells": [
    {
      "cell_type": "markdown",
      "metadata": {
        "id": "view-in-github",
        "colab_type": "text"
      },
      "source": [
        "<a href=\"https://colab.research.google.com/github/marongkang/MLeveryday/blob/main/MLEveryday1.ipynb\" target=\"_parent\"><img src=\"https://colab.research.google.com/assets/colab-badge.svg\" alt=\"Open In Colab\"/></a>"
      ]
    },
    {
      "cell_type": "markdown",
      "metadata": {
        "id": "pKZ8WHy5-QZs"
      },
      "source": [
        "ML day1 \n",
        ">今天的目标是 NumPy!!!!"
      ]
    },
    {
      "cell_type": "code",
      "metadata": {
        "colab": {
          "base_uri": "https://localhost:8080/"
        },
        "id": "ol-W_IZq-f03",
        "outputId": "830eeb50-9def-4272-aa08-257593492b14"
      },
      "source": [
        "#######################python数据类型################\n",
        "#int 整型\n",
        "x=5\n",
        "\n",
        "#float 浮点型\n",
        "y=5.5\n",
        "\n",
        "#float 也是浮点型(试图通过加小数位数来获得double双精度浮点型，失败)无double\n",
        "z=5.5555555555555555555555555555555555555555555\n",
        "\n",
        "#bool 布尔型(True or False, 首字母需要大写)\n",
        "a=False\n",
        "\n",
        "#string 字符串 s1+s2表示将两者拼接为一个字符串\n",
        "s1=\"5\"\n",
        "s2=\"5\"\n",
        "\n",
        "#list 列表，内部的值可修改\n",
        "b=[1,2,3,4,5,\"hello\"]\n",
        "\n",
        "#tuple 内部的值不可修改\n",
        "c=(1,2,3,4,5,\"hello\")\n",
        "\n",
        "#dict 字典 类似c++的unordered_map \n",
        "dic={\"年龄\":\"24\",\n",
        "   \"特长\":\"昏睡红茶\"}\n",
        "\n",
        "#complex 复数\n",
        "cmp=1+2j\n",
        "\n",
        "\n",
        "#输出函数print()\n",
        "print(x,y,z,a,b,s1+s2,c,dic,cmp)\n",
        "\n",
        "#type()获取该变量的类型\n",
        "print(type(x),type(y),type(z),type(a),type(b),type(s1+s2),type(c),type(dic),type(cmp))"
      ],
      "execution_count": null,
      "outputs": [
        {
          "output_type": "stream",
          "name": "stdout",
          "text": [
            "5 5.5 5.555555555555555 False [1, 2, 3, 4, 5, 'hello'] 55 (1, 2, 3, 4, 5, 'hello') {'年龄': '24', '特长': '昏睡红茶'} (1+2j)\n",
            "<class 'int'> <class 'float'> <class 'float'> <class 'bool'> <class 'list'> <class 'str'> <class 'tuple'> <class 'dict'> <class 'complex'>\n"
          ]
        }
      ]
    },
    {
      "cell_type": "markdown",
      "metadata": {
        "id": "si8n-TxJDH3y"
      },
      "source": [
        "list,tuple与dict的相关操作"
      ]
    },
    {
      "cell_type": "code",
      "metadata": {
        "colab": {
          "base_uri": "https://localhost:8080/"
        },
        "id": "uZLkGQCNDTa2",
        "outputId": "1ea2fe22-25ee-4bb6-fed8-72fb7e18ebe6"
      },
      "source": [
        "####################列表######################\n",
        "list_x=[24,\"学生\",\"昏睡红茶\",170,70]\n",
        "\n",
        "#list脚标从0开始计数\n",
        "#list_x[i] i表示第i+1个元素\n",
        "print(list_x[0])\n",
        "print(list_x[1])\n",
        "print(list_x[2])\n",
        "\n",
        "#list_x[i] 当i<0时，表示倒数第i个元素\n",
        "print(list_x[-2])\n",
        "print(list_x[-1])\n",
        "\n",
        "#切片 list[i:j] 第i+1个元素到第j个元素 [i,j) 左闭右开\n",
        "print(list_x[:])\n",
        "print(list_x[1:4])\n",
        "\n",
        "#len() 获取list长度\n",
        "print(len(list_x))\n",
        "\n",
        "#修改list\n",
        "list_x[1]=\"圣人\"\n",
        "print(list_x)\n",
        "\n",
        "#组合list\n",
        "list_y=[114514]\n",
        "list_z=list_x+list_y\n",
        "print(list_z)"
      ],
      "execution_count": null,
      "outputs": [
        {
          "output_type": "stream",
          "name": "stdout",
          "text": [
            "24\n",
            "学生\n",
            "昏睡红茶\n",
            "170\n",
            "70\n",
            "[24, '学生', '昏睡红茶', 170, 70]\n",
            "['学生', '昏睡红茶', 170]\n",
            "5\n",
            "[24, '圣人', '昏睡红茶', 170, 70]\n",
            "[24, '圣人', '昏睡红茶', 170, 70, 114514]\n"
          ]
        }
      ]
    },
    {
      "cell_type": "code",
      "metadata": {
        "colab": {
          "base_uri": "https://localhost:8080/"
        },
        "id": "op1Er8BcFDjj",
        "outputId": "30f8df65-a5ee-42fd-b3c7-9e8cc612aed2"
      },
      "source": [
        "###############################元组##############################\n",
        "tuple_x=(24,\"学生\",\"昏睡红茶\")\n",
        "print(tuple_x)\n",
        "\n",
        "#此操作不可行，tuple值不可修改\n",
        "#tuple_x[1]=\"圣人\"  \n",
        "\n",
        "#tuple 可如此添加元素，逗号不能丢\n",
        "tuple_y=tuple_x+(114514,)\n",
        "\n",
        "#此写法似乎不合法，原理不太懂\n",
        "#tuple_z=tuple_x+tuple_y \n",
        "print(tuple_y)"
      ],
      "execution_count": null,
      "outputs": [
        {
          "output_type": "stream",
          "name": "stdout",
          "text": [
            "(24, '学生', '昏睡红茶')\n",
            "(24, '学生', '昏睡红茶', 114514)\n"
          ]
        }
      ]
    },
    {
      "cell_type": "code",
      "metadata": {
        "colab": {
          "base_uri": "https://localhost:8080/"
        },
        "id": "feheMuHzHuuk",
        "outputId": "6fbf781c-25aa-40c1-8224-60c9882ba83d"
      },
      "source": [
        "###############################字典##############################\n",
        "#创建\n",
        "dic={\"年龄\":\"24\",\n",
        "   \"特长\":\"昏睡红茶\"}\n",
        "print(dic)\n",
        "\n",
        "#查找\n",
        "print(dic[\"年龄\"],dic[\"特长\"])\n",
        "\n",
        "#修改\n",
        "dic[\"年龄\"]=25\n",
        "print(dic)\n",
        "\n",
        "#添加\n",
        "dic[\"身份\"]=\"学生\"\n",
        "print(dic)\n",
        "\n",
        "print(len(dic))"
      ],
      "execution_count": null,
      "outputs": [
        {
          "output_type": "stream",
          "name": "stdout",
          "text": [
            "{'年龄': '24', '特长': '昏睡红茶'}\n",
            "24 昏睡红茶\n",
            "{'年龄': 25, '特长': '昏睡红茶'}\n",
            "{'年龄': 25, '特长': '昏睡红茶', '身份': '学生'}\n",
            "3\n"
          ]
        }
      ]
    },
    {
      "cell_type": "markdown",
      "metadata": {
        "id": "tMu82AG6MbZE"
      },
      "source": [
        "面向对象oop"
      ]
    },
    {
      "cell_type": "code",
      "metadata": {
        "colab": {
          "base_uri": "https://localhost:8080/"
        },
        "id": "1qWGiai5Muga",
        "outputId": "186e3df5-a478-4fba-c9d3-47b37d987f4b"
      },
      "source": [
        "class cat(object):\n",
        "\n",
        "  #初始化(可能类似c++构造函数)\n",
        "  def __init__(self,species,color,name):\n",
        "    self.species=species\n",
        "    self.color=color\n",
        "    self.name=name\n",
        "\n",
        "  #用于打印输出\n",
        "  def __str__(self):\n",
        "    return \"品种：{0} 毛色：{1} 名字：{2}\".format(self.species,self.color,self.name)\n",
        "\n",
        "  #修改名字\n",
        "  def changeName(self,newName):\n",
        "    self.name=newName\n",
        "\n",
        "#创建对象\n",
        "my_cat=cat(species=\"中华田园猫\",color=\"242133000\",name=\"dog\")\n",
        "\n",
        "print(my_cat)\n",
        "\n",
        "#修改名字\n",
        "my_cat.changeName(newName=\"cheems\")\n",
        "\n",
        "print(my_cat)"
      ],
      "execution_count": null,
      "outputs": [
        {
          "output_type": "stream",
          "name": "stdout",
          "text": [
            "品种：中华田园猫 毛色：242133000 名字：dog\n",
            "品种：中华田园猫 毛色：242133000 名字：cheems\n"
          ]
        }
      ]
    },
    {
      "cell_type": "markdown",
      "metadata": {
        "id": "OhcaQF57SKFG"
      },
      "source": [
        "今日进度：\n",
        "  NumPy 0%\n"
      ]
    }
  ]
}