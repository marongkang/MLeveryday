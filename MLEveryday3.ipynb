{
  "nbformat": 4,
  "nbformat_minor": 0,
  "metadata": {
    "colab": {
      "name": "MLEveryday3.ipynb",
      "provenance": [],
      "collapsed_sections": [],
      "authorship_tag": "ABX9TyMTxplgkX2mRwYNRT/JiKLN",
      "include_colab_link": true
    },
    "kernelspec": {
      "name": "python3",
      "display_name": "Python 3"
    },
    "language_info": {
      "name": "python"
    }
  },
  "cells": [
    {
      "cell_type": "markdown",
      "metadata": {
        "id": "view-in-github",
        "colab_type": "text"
      },
      "source": [
        "<a href=\"https://colab.research.google.com/github/marongkang/MLeveryday/blob/main/MLEveryday3.ipynb\" target=\"_parent\"><img src=\"https://colab.research.google.com/assets/colab-badge.svg\" alt=\"Open In Colab\"/></a>"
      ]
    },
    {
      "cell_type": "markdown",
      "metadata": {
        "id": "pKZ8WHy5-QZs"
      },
      "source": [
        "**ML** **day3** \n",
        ">今天的目标是 NumPy"
      ]
    },
    {
      "cell_type": "code",
      "metadata": {
        "colab": {
          "base_uri": "https://localhost:8080/"
        },
        "id": "m7qfazKlytGw",
        "outputId": "70786f0e-66c5-48e7-d260-bd6a9ddb8378"
      },
      "source": [
        "import numpy as np\n",
        "\n",
        "np.random.seed(seed=1234)\n",
        "\n",
        "# 标量（scalars）\n",
        "x = np.array(6)\n",
        "print (\"x: \",x)        #输出x\n",
        "print(\"x ndim: \",x.ndim)    #x的维度\n",
        "print(\"x shape:\",x.shape)    #表示数组形状（shape）的元组，表示各维度大小的元组\n",
        "print(\"x size: \",x.size)    #表示数组总元素数量\n",
        "print (\"x dtype: \",x.dtype)  #表示数组内元素的数据类型\n",
        "\n",
        "# 一维数组(array) \n",
        "x = np.array([1,2,3,4,5])\n",
        "print(\"x :\",x)\n",
        "print(\"x ndim\",x.ndim)\n",
        "print(\"x shape:\",x.shape)\n",
        "print(\"x size:\" ,x.size)\n",
        "print(\"x dtype:\",x.dtype)\n",
        "\n",
        "# 二维数组\n",
        "\n",
        "x = np.array([[1,2,3],[4,5,6],[7,8,9]]) \n",
        "print(\"x :\",x)\n",
        "print(\"x ndim\",x.ndim)\n",
        "print(\"x shape:\",x.shape)\n",
        "print(\"x size:\" ,x.size)\n",
        "print(\"x dtype:\",x.dtype)\n",
        "\n",
        "# 三维数组(矩阵Matrix)\n",
        "x = np.array([[[1,2,3],[4,5,6],[7,8,9]],[[1,2,3],[4,5,6],[7,8,9]]])\n",
        "print(\"x :\",x)\n",
        "print(\"x ndim\",x.ndim)\n",
        "print(\"x shape:\",x.shape)\n",
        "print(\"x size:\" ,x.size)\n",
        "print(\"x dtype:\",x.dtype)\n",
        "\n",
        "#！！！！当n维数组内的元素无法完全填充数组时，会自动转变为list类型\n"
      ],
      "execution_count": null,
      "outputs": [
        {
          "output_type": "stream",
          "name": "stdout",
          "text": [
            "x:  6\n",
            "x ndim:  0\n",
            "x shape: ()\n",
            "x size:  1\n",
            "x dtype:  int64\n",
            "x : [1 2 3 4 5]\n",
            "x ndim 1\n",
            "x shape: (5,)\n",
            "x size: 5\n",
            "x dtype: int64\n",
            "x : [[1 2 3]\n",
            " [4 5 6]\n",
            " [7 8 9]]\n",
            "x ndim 2\n",
            "x shape: (3, 3)\n",
            "x size: 9\n",
            "x dtype: int64\n",
            "x : [[[1 2 3]\n",
            "  [4 5 6]\n",
            "  [7 8 9]]\n",
            "\n",
            " [[1 2 3]\n",
            "  [4 5 6]\n",
            "  [7 8 9]]]\n",
            "x ndim 3\n",
            "x shape: (2, 3, 3)\n",
            "x size: 18\n",
            "x dtype: int64\n"
          ]
        }
      ]
    },
    {
      "cell_type": "markdown",
      "metadata": {
        "id": "9xpkjerbBKZQ"
      },
      "source": [
        "常用函数"
      ]
    },
    {
      "cell_type": "code",
      "metadata": {
        "colab": {
          "base_uri": "https://localhost:8080/"
        },
        "id": "wco967IKBMQW",
        "outputId": "e1b6b904-52eb-45ec-8cff-90c6ee1abb00"
      },
      "source": [
        "###########################函数######################\n",
        "#np.zeros(shape, dtype=float, order='C') \n",
        "#返回形状为shape ，数据类型为dtype的由0填充的数组\n",
        "#order:可选参数，C代表与c语言类似，行优先；F代表列优先\n",
        "print(\"zeros: \",np.zeros((2,3,4), dtype=int))\n",
        "\n",
        "\n",
        "#np.ones()\n",
        "#用法同上，由 1 填充\n",
        "print(\"ones: \",np.ones((2,3,4), dtype=int))\n",
        "\n",
        "#np.eye(N,M=None, k=0, dtype=<type 'float'>)\n",
        "#生成对角矩阵，N：行数，M:列数（默认等于N)\n",
        "#k:对角线的下标，默认为0表示的是主对角线，负数表示的是低对角，正数表示的是高对角。\n",
        "print(\"eye: \",np.eye(3,k=0))\n",
        "\n",
        "#np.random.random(size=None) 随机获取[0，1.0)的浮点数\n",
        "np.random.seed(seed=2)\n",
        "print(\"random\",np.random.random((2,2)))\n",
        "#不改变seed的情况下，每次运行结果都是一样的\n",
        "\n",
        "\n"
      ],
      "execution_count": null,
      "outputs": [
        {
          "output_type": "stream",
          "name": "stdout",
          "text": [
            "zeros:  [[[0 0 0 0]\n",
            "  [0 0 0 0]\n",
            "  [0 0 0 0]]\n",
            "\n",
            " [[0 0 0 0]\n",
            "  [0 0 0 0]\n",
            "  [0 0 0 0]]]\n",
            "ones:  [[[1 1 1 1]\n",
            "  [1 1 1 1]\n",
            "  [1 1 1 1]]\n",
            "\n",
            " [[1 1 1 1]\n",
            "  [1 1 1 1]\n",
            "  [1 1 1 1]]]\n",
            "eye:  [[1. 0. 0.]\n",
            " [0. 1. 0.]\n",
            " [0. 0. 1.]]\n",
            "random [[0.4359949  0.02592623]\n",
            " [0.54966248 0.43532239]]\n"
          ]
        }
      ]
    },
    {
      "cell_type": "markdown",
      "metadata": {
        "id": "Kta8GHUkIXoU"
      },
      "source": [
        "索引(index)"
      ]
    },
    {
      "cell_type": "code",
      "metadata": {
        "colab": {
          "base_uri": "https://localhost:8080/"
        },
        "id": "61ZUP07rIcTM",
        "outputId": "d6c93582-7183-4d2c-8a0a-bb3c78186d51"
      },
      "source": [
        "#跟list的操作差不多\n",
        "x=np.array([1,2,3])\n",
        "print(x[0],x[1],x[2])\n",
        "\n",
        "\n",
        "#切片\n",
        "x=np.array([[1,2,3],[4,5,6]])\n",
        "print(x[:,:])\n",
        "print(x[:,1:2])\n",
        "print(x[0:1,:])\n",
        "\n",
        "#使用数组进行索引\n",
        "row=np.array()"
      ],
      "execution_count": null,
      "outputs": [
        {
          "output_type": "stream",
          "name": "stdout",
          "text": [
            "1 2 3\n",
            "[[1 2 3]\n",
            " [4 5 6]]\n",
            "[[2]\n",
            " [5]]\n",
            "[[1 2 3]]\n"
          ]
        }
      ]
    },
    {
      "cell_type": "code",
      "metadata": {
        "id": "y2cPiRMaIwuT"
      },
      "source": [
        ""
      ],
      "execution_count": null,
      "outputs": []
    }
  ]
}