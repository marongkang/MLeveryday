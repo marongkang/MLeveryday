{
  "nbformat": 4,
  "nbformat_minor": 0,
  "metadata": {
    "colab": {
      "name": "MLEveryday10.ipynb",
      "provenance": [],
      "collapsed_sections": [],
      "authorship_tag": "ABX9TyPIlS06IKFLjHB3yrLpTnIq",
      "include_colab_link": true
    },
    "kernelspec": {
      "name": "python3",
      "display_name": "Python 3"
    },
    "language_info": {
      "name": "python"
    }
  },
  "cells": [
    {
      "cell_type": "markdown",
      "metadata": {
        "id": "view-in-github",
        "colab_type": "text"
      },
      "source": [
        "<a href=\"https://colab.research.google.com/github/marongkang/MLeveryday/blob/main/MLEveryday10.ipynb\" target=\"_parent\"><img src=\"https://colab.research.google.com/assets/colab-badge.svg\" alt=\"Open In Colab\"/></a>"
      ]
    },
    {
      "cell_type": "markdown",
      "source": [
        "#PyTorch\n",
        ">基础知识  \n",
        ">张量Tensor\n",
        "\n",
        "\n"
      ],
      "metadata": {
        "id": "lzLBd2J3rOoR"
      }
    },
    {
      "cell_type": "code",
      "source": [
        "!pip3 install torch"
      ],
      "metadata": {
        "colab": {
          "base_uri": "https://localhost:8080/"
        },
        "id": "6JTp7xZQrSVr",
        "outputId": "b194d482-da6f-4ce7-dbe8-508a23569d21"
      },
      "execution_count": null,
      "outputs": [
        {
          "output_type": "stream",
          "name": "stdout",
          "text": [
            "Requirement already satisfied: torch in /usr/local/lib/python3.7/dist-packages (1.10.0+cu111)\n",
            "Requirement already satisfied: typing-extensions in /usr/local/lib/python3.7/dist-packages (from torch) (3.10.0.2)\n"
          ]
        }
      ]
    },
    {
      "cell_type": "code",
      "source": [
        "import torch\n",
        "import pandas as pd\n",
        "import numpy as np\n",
        "\n",
        "x=torch.Tensor(3,4)\n",
        "\n",
        "print(\"Type: {}\".format(x.type()))\n",
        "print(\"Size: {}\".format(x.shape))\n",
        "print(\"Values: {}\".format(x))"
      ],
      "metadata": {
        "colab": {
          "base_uri": "https://localhost:8080/"
        },
        "id": "28ElXM-mr0up",
        "outputId": "2b1f951c-65fc-4c9b-9bd1-b5c0e4e3d3c5"
      },
      "execution_count": null,
      "outputs": [
        {
          "output_type": "stream",
          "name": "stdout",
          "text": [
            "Type: torch.FloatTensor\n",
            "Size: torch.Size([3, 4])\n",
            "Values: tensor([[1.2683e-22, 3.0911e-41, 3.7835e-44, 0.0000e+00],\n",
            "        [       nan, 3.0911e-41, 1.3733e-14, 6.4069e+02],\n",
            "        [4.3066e+21, 1.1824e+22, 4.3066e+21, 6.3828e+28]])\n"
          ]
        }
      ]
    },
    {
      "cell_type": "code",
      "source": [
        "#随机张量\n",
        "x=torch.randn(3,4)\n",
        "#randn为正态分布,rand为均匀分布\n",
        "print(x)"
      ],
      "metadata": {
        "colab": {
          "base_uri": "https://localhost:8080/"
        },
        "id": "K2wqfaQ1sfYL",
        "outputId": "53f5bb93-76ed-4b96-dc2d-ec713db0d931"
      },
      "execution_count": null,
      "outputs": [
        {
          "output_type": "stream",
          "name": "stdout",
          "text": [
            "tensor([[ 1.0920, -0.4168,  0.0802,  0.1542],\n",
            "        [-1.1902,  1.0000, -0.3324, -0.2378],\n",
            "        [-1.5147,  0.2191,  0.2485, -1.4033]])\n"
          ]
        }
      ]
    },
    {
      "cell_type": "code",
      "source": [
        "#1张量和0张量\n",
        "x=torch.zeros(3,4)\n",
        "print(x)\n",
        "\n",
        "x=torch.ones(3,4)\n",
        "print(x)"
      ],
      "metadata": {
        "colab": {
          "base_uri": "https://localhost:8080/"
        },
        "id": "3yMAYgHJuhKL",
        "outputId": "81473a2f-d6b9-4624-89e0-893a116ea491"
      },
      "execution_count": null,
      "outputs": [
        {
          "output_type": "stream",
          "name": "stdout",
          "text": [
            "tensor([[0., 0., 0., 0.],\n",
            "        [0., 0., 0., 0.],\n",
            "        [0., 0., 0., 0.]])\n",
            "tensor([[1., 1., 1., 1.],\n",
            "        [1., 1., 1., 1.],\n",
            "        [1., 1., 1., 1.]])\n"
          ]
        }
      ]
    },
    {
      "cell_type": "code",
      "source": [
        "#List->Tensor\n",
        "list_x=[[1,2,3],[4,5,6]]\n",
        "x=torch.Tensor(list_x)\n",
        "print(\"Size: {}\".format(x.shape))\n",
        "print(\"Values: \\n{}\".format(x))"
      ],
      "metadata": {
        "colab": {
          "base_uri": "https://localhost:8080/"
        },
        "id": "R4cKuPoVvMTi",
        "outputId": "50d4eeed-6de8-453b-b181-980985d886b4"
      },
      "execution_count": null,
      "outputs": [
        {
          "output_type": "stream",
          "name": "stdout",
          "text": [
            "Size: torch.Size([2, 3])\n",
            "Values: \n",
            "tensor([[1., 2., 3.],\n",
            "        [4., 5., 6.]])\n"
          ]
        }
      ]
    },
    {
      "cell_type": "code",
      "source": [
        "#numpy array->Tensor\n",
        "np_array=np.random.randn(3,4)\n",
        "x=torch.from_numpy(np_array)\n",
        "print(\"Size: {}\".format(x.shape))\n",
        "print(\"Values: \\n{}\".format(x))"
      ],
      "metadata": {
        "colab": {
          "base_uri": "https://localhost:8080/"
        },
        "id": "nQQUYzXcxYxS",
        "outputId": "a816405c-d34a-4a23-b6c1-9d6746241cb6"
      },
      "execution_count": null,
      "outputs": [
        {
          "output_type": "stream",
          "name": "stdout",
          "text": [
            "Size: torch.Size([3, 4])\n",
            "Values: \n",
            "tensor([[-1.0440,  0.2810,  2.2952,  1.5398],\n",
            "        [-1.8866, -0.5835, -0.3785, -0.6561],\n",
            "        [ 0.1972, -0.0536, -0.1026, -1.0373]], dtype=torch.float64)\n"
          ]
        }
      ]
    },
    {
      "cell_type": "code",
      "source": [
        "#改变张量类型(默认为float)\n",
        "x=torch.Tensor(3,4)\n",
        "print(\"type: {}\".format(x.type()))\n",
        "x=x.int()\n",
        "print(\"type: {}\".format(x.type()))\n",
        "x=x.double()\n",
        "print(\"type: {}\".format(x.type()))"
      ],
      "metadata": {
        "colab": {
          "base_uri": "https://localhost:8080/"
        },
        "id": "188A6-hqykRT",
        "outputId": "09a3edc5-dd21-4501-deb4-553fc0f8f00d"
      },
      "execution_count": null,
      "outputs": [
        {
          "output_type": "stream",
          "name": "stdout",
          "text": [
            "type: torch.FloatTensor\n",
            "type: torch.IntTensor\n",
            "type: torch.DoubleTensor\n"
          ]
        }
      ]
    },
    {
      "cell_type": "code",
      "source": [
        "#张量计算\n",
        "x=torch.Tensor([[1,2],[3,4],[5,6]])\n",
        "print(\"x:\\n{0} \\n size:{1}\".format(x,x.shape))\n",
        "y=torch.tensor([[1,2,3],[4,5,6]])\n",
        "print(\"y:\\n{0} \\n size:{1}\".format(y,y.shape))\n",
        "#加法\n",
        "z=x+x\n",
        "print(\"z=x+y:\\n{0}\\n size: \\n{1}\".format(z,z.shape))\n",
        "\n",
        "y=y.float()\n",
        "print(x.type(),y.type())\n",
        "z=torch.mm(x,y)\n",
        "print(\"z=xy:\\n{0}\\n size: \\n{1}\".format(z,z.shape))"
      ],
      "metadata": {
        "colab": {
          "base_uri": "https://localhost:8080/"
        },
        "id": "xGV4Re_azgpX",
        "outputId": "138e71ad-b36d-47fd-a6de-90a2b5d71e30"
      },
      "execution_count": null,
      "outputs": [
        {
          "output_type": "stream",
          "name": "stdout",
          "text": [
            "x:\n",
            "tensor([[1., 2.],\n",
            "        [3., 4.],\n",
            "        [5., 6.]]) \n",
            " size:torch.Size([3, 2])\n",
            "y:\n",
            "tensor([[1, 2, 3],\n",
            "        [4, 5, 6]]) \n",
            " size:torch.Size([2, 3])\n",
            "z=x+y:\n",
            "tensor([[ 2.,  4.],\n",
            "        [ 6.,  8.],\n",
            "        [10., 12.]])\n",
            " size: \n",
            "torch.Size([3, 2])\n",
            "torch.FloatTensor torch.FloatTensor\n",
            "z=xy:\n",
            "tensor([[ 9., 12., 15.],\n",
            "        [19., 26., 33.],\n",
            "        [29., 40., 51.]])\n",
            " size: \n",
            "torch.Size([3, 3])\n"
          ]
        }
      ]
    },
    {
      "cell_type": "code",
      "source": [
        "#转置\n",
        "\n",
        "z=torch.t(z)\n",
        "print(\"z:\\n{}\".format(z))"
      ],
      "metadata": {
        "colab": {
          "base_uri": "https://localhost:8080/"
        },
        "id": "5kAEjaaC02rR",
        "outputId": "7154e377-bf44-4267-c1af-2fdf317bbf01"
      },
      "execution_count": null,
      "outputs": [
        {
          "output_type": "stream",
          "name": "stdout",
          "text": [
            "z:\n",
            "tensor([[ 9., 19., 29.],\n",
            "        [12., 26., 40.],\n",
            "        [15., 33., 51.]])\n"
          ]
        }
      ]
    },
    {
      "cell_type": "code",
      "source": [
        "print(z.shape)\n",
        "#z=torch.rand(3,3)\n",
        "#z=torch.t(z)\n",
        "\n",
        "#z=z.view(1,9)#view不可以接在t后面,不知道为什么\n",
        "#z\n",
        "z=z.reshape(1,9)#但是reshape可以\n",
        "z"
      ],
      "metadata": {
        "colab": {
          "base_uri": "https://localhost:8080/"
        },
        "id": "LadzyzcJ5rnf",
        "outputId": "3eb46365-8d78-4362-bfb6-c771eb4a0159"
      },
      "execution_count": null,
      "outputs": [
        {
          "output_type": "stream",
          "name": "stdout",
          "text": [
            "torch.Size([3, 3])\n"
          ]
        },
        {
          "output_type": "execute_result",
          "data": {
            "text/plain": [
              "tensor([[ 9., 19., 29., 12., 26., 40., 15., 33., 51.]])"
            ]
          },
          "metadata": {},
          "execution_count": 10
        }
      ]
    },
    {
      "cell_type": "markdown",
      "source": [
        "reshape和view的区别  \n",
        "  >view是浅拷贝,reshape是深拷贝,一般情况下用reshape,不容易出问题  \n",
        "  >如果是对内存有限制,用view"
      ],
      "metadata": {
        "id": "OUcrsTp99xg5"
      }
    },
    {
      "cell_type": "markdown",
      "source": [
        "#reshaping注意点"
      ],
      "metadata": {
        "id": "o3eWEVl8-RLk"
      }
    },
    {
      "cell_type": "code",
      "source": [
        "x = torch.tensor([\n",
        "    [[1,1,1,1], [2,2,2,2], [3,3,3,3]],\n",
        "    [[10,10,10,10], [20,20,20,20], [30,30,30,30]]\n",
        "])\n",
        "print(\"size:{}\".format(x.shape))\n",
        "print(\"value:{}\".format(x))\n",
        "\n",
        "#-1表示不确定的输入,如(2,-1),表示两行,列数不确定\n",
        "a=x.view(x.size(1),-1)\n",
        "print(\"size:{}\".format(a.shape))\n",
        "print(\"value:{}\".format(a))\n",
        "\n",
        "b=x.transpose(0,1).contiguous()\n",
        "#transpose()进行转置,contiguous指在内存中连续存储,此相当于强制拷贝一份tensor,布局与从头创建一样\n",
        "print(\"size:{}\".format(b.shape))\n",
        "print(\"value:{}\".format(b))\n",
        "\n",
        "c=b.view(b.size(0),-1)\n",
        "print(\"size:{}\".format(b.shape))\n",
        "print(\"value:{}\".format(b))"
      ],
      "metadata": {
        "id": "KpiUov7I6Pl_",
        "colab": {
          "base_uri": "https://localhost:8080/"
        },
        "outputId": "8178fdbe-3dfe-4a64-9a81-10f9bfcb8742"
      },
      "execution_count": null,
      "outputs": [
        {
          "output_type": "stream",
          "name": "stdout",
          "text": [
            "size:torch.Size([2, 3, 4])\n",
            "value:tensor([[[ 1,  1,  1,  1],\n",
            "         [ 2,  2,  2,  2],\n",
            "         [ 3,  3,  3,  3]],\n",
            "\n",
            "        [[10, 10, 10, 10],\n",
            "         [20, 20, 20, 20],\n",
            "         [30, 30, 30, 30]]])\n",
            "size:torch.Size([3, 8])\n",
            "value:tensor([[ 1,  1,  1,  1,  2,  2,  2,  2],\n",
            "        [ 3,  3,  3,  3, 10, 10, 10, 10],\n",
            "        [20, 20, 20, 20, 30, 30, 30, 30]])\n",
            "size:torch.Size([3, 2, 4])\n",
            "value:tensor([[[ 1,  1,  1,  1],\n",
            "         [10, 10, 10, 10]],\n",
            "\n",
            "        [[ 2,  2,  2,  2],\n",
            "         [20, 20, 20, 20]],\n",
            "\n",
            "        [[ 3,  3,  3,  3],\n",
            "         [30, 30, 30, 30]]])\n",
            "size:torch.Size([3, 2, 4])\n",
            "value:tensor([[[ 1,  1,  1,  1],\n",
            "         [10, 10, 10, 10]],\n",
            "\n",
            "        [[ 2,  2,  2,  2],\n",
            "         [20, 20, 20, 20]],\n",
            "\n",
            "        [[ 3,  3,  3,  3],\n",
            "         [30, 30, 30, 30]]])\n"
          ]
        }
      ]
    },
    {
      "cell_type": "code",
      "source": [
        "#维度操作\n",
        "x=torch.randn(2,3)\n",
        "print(\"values:{}\".format(x))\n",
        "\n",
        "#类似与压缩维度,把这个tensor拍扁了\n",
        "#按列求和\n",
        "y=torch.sum(x,dim=0)\n",
        "print(\"values:{}\".format(y))\n",
        "\n",
        "#按行求和\n",
        "z=torch.sum(x,dim=1)\n",
        "print(\"values:{}\".format(z))"
      ],
      "metadata": {
        "colab": {
          "base_uri": "https://localhost:8080/"
        },
        "id": "zggnSP_w-4T3",
        "outputId": "6cf6621f-7a19-4d4f-8664-17db3b5884a0"
      },
      "execution_count": null,
      "outputs": [
        {
          "output_type": "stream",
          "name": "stdout",
          "text": [
            "values:tensor([[ 0.7561,  0.7932, -0.9009],\n",
            "        [ 1.2318, -0.4245, -1.6101]])\n",
            "values:tensor([ 1.9879,  0.3687, -2.5110])\n",
            "values:tensor([ 0.6483, -0.8028])\n"
          ]
        }
      ]
    },
    {
      "cell_type": "markdown",
      "source": [
        "#索引,切片和级联"
      ],
      "metadata": {
        "id": "El8xfTMvC6Ub"
      }
    },
    {
      "cell_type": "code",
      "source": [
        "x=torch.randn(3,4)\n",
        "print(\"values:{}\".format(x))\n",
        "print(\"values:{}\".format(x[:2]))\n",
        "print(\"values:{}\".format(x[:1,1:3]))"
      ],
      "metadata": {
        "colab": {
          "base_uri": "https://localhost:8080/"
        },
        "id": "q-RrthL2B5Qg",
        "outputId": "9b28f9ee-d856-4118-ea77-b507eefbfac0"
      },
      "execution_count": null,
      "outputs": [
        {
          "output_type": "stream",
          "name": "stdout",
          "text": [
            "values:tensor([[ 0.4125, -0.5709, -1.0987, -0.2900],\n",
            "        [ 1.6627, -1.3074, -0.4679, -0.3407],\n",
            "        [ 0.1489,  0.2246,  1.0744,  0.0704]])\n",
            "values:tensor([[ 0.4125, -0.5709, -1.0987, -0.2900],\n",
            "        [ 1.6627, -1.3074, -0.4679, -0.3407]])\n",
            "values:tensor([[-0.5709, -1.0987]])\n"
          ]
        }
      ]
    },
    {
      "cell_type": "code",
      "source": [
        "#选择维度索引\n",
        "x=torch.randn(4,4)\n",
        "print(\"values:{}\".format(x))\n",
        "col_indices=torch.LongTensor([1,3])\n",
        "chosen=torch.index_select(x,dim=1,index=col_indices)#第一列和第三列\n",
        "print(\"values:{}\".format(chosen))\n",
        "row_indices=torch.LongTensor([0,2])\n",
        "chosen=x[row_indices,col_indices]\n",
        "print(\"values:{}\".format(chosen))#x[0,1]和x[2,3]\n"
      ],
      "metadata": {
        "colab": {
          "base_uri": "https://localhost:8080/"
        },
        "id": "Br0aUHUUDaZB",
        "outputId": "22c596cf-5b06-4b9f-dfb3-868ac130623d"
      },
      "execution_count": null,
      "outputs": [
        {
          "output_type": "stream",
          "name": "stdout",
          "text": [
            "values:tensor([[-0.4628,  0.0076, -1.3349,  0.0450],\n",
            "        [ 0.0848, -0.4872,  0.3861, -0.9295],\n",
            "        [-0.4373,  0.2518,  0.6980, -1.1888],\n",
            "        [ 0.4572, -0.6718, -0.0328, -0.9404]])\n",
            "values:tensor([[ 0.0076,  0.0450],\n",
            "        [-0.4872, -0.9295],\n",
            "        [ 0.2518, -1.1888],\n",
            "        [-0.6718, -0.9404]])\n",
            "values:tensor([ 0.0076, -1.1888])\n"
          ]
        }
      ]
    },
    {
      "cell_type": "code",
      "source": [
        "#级联concatenate\n",
        "x=torch.randn(2,3)\n",
        "print(\"values:{}\".format(x))\n",
        "y=torch.cat([x,x],dim=0)\n",
        "print(\"values:{}\".format(y))"
      ],
      "metadata": {
        "colab": {
          "base_uri": "https://localhost:8080/"
        },
        "id": "2Wrasjd5FTcj",
        "outputId": "e9b1cead-854f-4979-ca9d-46c19f5984a2"
      },
      "execution_count": null,
      "outputs": [
        {
          "output_type": "stream",
          "name": "stdout",
          "text": [
            "values:tensor([[-1.4428, -1.2781,  0.3531],\n",
            "        [-0.0763,  1.3093, -2.1142]])\n",
            "values:tensor([[-1.4428, -1.2781,  0.3531],\n",
            "        [-0.0763,  1.3093, -2.1142],\n",
            "        [-1.4428, -1.2781,  0.3531],\n",
            "        [-0.0763,  1.3093, -2.1142]])\n"
          ]
        }
      ]
    },
    {
      "cell_type": "markdown",
      "source": [
        "#梯度"
      ],
      "metadata": {
        "id": "hABuCXUzI_kQ"
      }
    },
    {
      "cell_type": "code",
      "source": [
        "#含gradient的张量\n",
        "x=torch.randn(2,3,requires_grad=True)\n",
        "print(\"value:{}\".format(x))\n",
        "y=3*x+1\n",
        "print(\"values:{}\".format(y))\n",
        "z=y.mean()\n",
        "print(\"z values:{}\".format(z))\n",
        "z.backward()\n",
        "print(\"z values:{}\".format(z))\n",
        "\n",
        "print(\"x values:\\n{}\".format(x))\n",
        "print(\"x grad:{}\\n\".format(x.grad))"
      ],
      "metadata": {
        "colab": {
          "base_uri": "https://localhost:8080/"
        },
        "id": "C9lgYZOcIuYu",
        "outputId": "e5edd6a3-aa0e-449f-faa2-d5335437af09"
      },
      "execution_count": null,
      "outputs": [
        {
          "output_type": "stream",
          "name": "stdout",
          "text": [
            "value:tensor([[-0.2775,  1.3935,  1.9759],\n",
            "        [-0.1881,  0.2878,  0.2088]], requires_grad=True)\n",
            "values:tensor([[0.1675, 5.1806, 6.9277],\n",
            "        [0.4358, 1.8633, 1.6263]], grad_fn=<AddBackward0>)\n",
            "z values:2.700218915939331\n",
            "z values:2.700218915939331\n",
            "x values:\n",
            "tensor([[-0.2775,  1.3935,  1.9759],\n",
            "        [-0.1881,  0.2878,  0.2088]], requires_grad=True)\n",
            "x grad:tensor([[0.5000, 0.5000, 0.5000],\n",
            "        [0.5000, 0.5000, 0.5000]])\n",
            "\n"
          ]
        }
      ]
    },
    {
      "cell_type": "markdown",
      "source": [
        "*  $y=3*x+1$\n",
        "*  $z=∑y/N$\n",
        "*  $\\frac{∂z}{∂x}=\\frac{∂z}{∂y}\\frac{∂y}{∂x}=\\frac{1}{N}*3=0.5$"
      ],
      "metadata": {
        "id": "oy6-vwV9K0J4"
      }
    },
    {
      "cell_type": "markdown",
      "source": [
        "#CUDA张量\n",
        "买不起显卡,暂时没有"
      ],
      "metadata": {
        "id": "gW25s32QMgEy"
      }
    },
    {
      "cell_type": "code",
      "source": [
        ""
      ],
      "metadata": {
        "id": "TICixxVFJpxd"
      },
      "execution_count": null,
      "outputs": []
    }
  ]
}