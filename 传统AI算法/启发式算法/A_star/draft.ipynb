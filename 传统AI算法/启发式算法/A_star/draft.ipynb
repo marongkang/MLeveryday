{
 "cells": [
  {
   "cell_type": "code",
   "execution_count": 3,
   "metadata": {
    "collapsed": true
   },
   "outputs": [],
   "source": [
    "import numpy as np\n",
    "import copy\n",
    "import queue"
   ]
  },
  {
   "cell_type": "code",
   "execution_count": 4,
   "outputs": [],
   "source": [
    "x = np.array([[1,1,1],[2,2,2],[3,3,3]])\n",
    "y = np.array([[1,2,3],\n",
    "              [4,5,6],\n",
    "              [7,0,8]])"
   ],
   "metadata": {
    "collapsed": false
   }
  },
  {
   "cell_type": "code",
   "execution_count": 32,
   "outputs": [],
   "source": [
    "target = np.array([[1,2,3],\n",
    "                   [4,5,6],\n",
    "                   [7,0,8]])\n",
    "\n",
    "class Matrix(object):\n",
    "    def __init__(self,init_state:np.array):\n",
    "        self.matrix_ = init_state\n",
    "        self.zero_x_ = np.argwhere(init_state == 0)[0][0]\n",
    "        self.zero_y_ = np.argwhere(init_state == 0)[0][1]\n",
    "        self.depth = 0\n",
    "\n",
    "    def __lt__(self, other): # 反转大小比较结果，用于实现小顶堆\n",
    "        return self.f_n() < other.f_n()\n",
    "\n",
    "    def move_up(self):\n",
    "        if self.zero_x_ == 0:\n",
    "            return False\n",
    "        tmp = self.matrix_[self.zero_x_ - 1][self.zero_y_]\n",
    "        self.matrix_[self.zero_x_ - 1][self.zero_y_] = 0\n",
    "        self.matrix_[self.zero_x_][self.zero_y_] = tmp\n",
    "        self.zero_x_ -= 1\n",
    "        return True\n",
    "    def move_down(self):\n",
    "        if self.zero_x_ == 2:\n",
    "            return False\n",
    "        tmp = self.matrix_[self.zero_x_ + 1][self.zero_y_]\n",
    "        self.matrix_[self.zero_x_ + 1][self.zero_y_] = 0\n",
    "        self.matrix_[self.zero_x_][self.zero_y_] = tmp\n",
    "        self.zero_x_ += 1\n",
    "        return True\n",
    "    def move_left(self):\n",
    "        if self.zero_y_ == 0:\n",
    "            return False\n",
    "        print(self.zero_x_,self.zero_y_)\n",
    "        self.matrix_[self.zero_x_][self.zero_y_ - 1], self.matrix_[self.zero_x_][self.zero_y_] \\\n",
    "            = self.matrix_[self.zero_x_][self.zero_y_], self.matrix_[self.zero_x_][self.zero_y_ - 1]\n",
    "        self.zero_y_ -= 1\n",
    "        print(self.zero_x_,self.zero_y_)\n",
    "        return True\n",
    "    def move_right(self):\n",
    "        if self.zero_y_ == 2:\n",
    "            return False\n",
    "        tmp = self.matrix_[self.zero_x_ - 1][self.zero_y_]\n",
    "        self.matrix_[self.zero_x_][self.zero_y_ + 1] = 0\n",
    "        self.matrix_[self.zero_x_][self.zero_y_] = tmp\n",
    "        self.zero_y_ += 1\n",
    "        return True\n",
    "    def w_n(self):\n",
    "        return 9 - np.sum(self.matrix_ == target)\n",
    "    def d_n(self):\n",
    "        return self.depth\n",
    "    def f_n(self):\n",
    "        return  self.w_n() + self.d_n()\n",
    "    def __repr__(self):\n",
    "        print(self.matrix_)\n",
    "        return \"depth: \" + str(self.depth) + \"\\n\""
   ],
   "metadata": {
    "collapsed": false
   }
  },
  {
   "cell_type": "code",
   "execution_count": 33,
   "outputs": [],
   "source": [
    "matrix = Matrix(np.array([[1, 2, 3],\n",
    "                 [4, 0, 6],\n",
    "                 [7, 8, 5]]))"
   ],
   "metadata": {
    "collapsed": false
   }
  },
  {
   "cell_type": "code",
   "execution_count": 34,
   "outputs": [
    {
     "name": "stdout",
     "output_type": "stream",
     "text": [
      "1 1\n",
      "1 0\n"
     ]
    },
    {
     "data": {
      "text/plain": "True"
     },
     "execution_count": 34,
     "metadata": {},
     "output_type": "execute_result"
    }
   ],
   "source": [
    "matrix_left = copy.deepcopy(matrix)\n",
    "matrix_left.move_left()"
   ],
   "metadata": {
    "collapsed": false
   }
  },
  {
   "cell_type": "code",
   "execution_count": 35,
   "outputs": [
    {
     "name": "stdout",
     "output_type": "stream",
     "text": [
      "[[1 2 3]\n",
      " [4 0 6]\n",
      " [7 8 5]]\n"
     ]
    },
    {
     "data": {
      "text/plain": "depth: 0"
     },
     "execution_count": 35,
     "metadata": {},
     "output_type": "execute_result"
    }
   ],
   "source": [
    "matrix"
   ],
   "metadata": {
    "collapsed": false
   }
  },
  {
   "cell_type": "code",
   "execution_count": 31,
   "outputs": [
    {
     "name": "stdout",
     "output_type": "stream",
     "text": [
      "[[1, 2, 3], [4, 0, 6], [8, 7, 5]]\n"
     ]
    },
    {
     "data": {
      "text/plain": "depth: 0"
     },
     "execution_count": 31,
     "metadata": {},
     "output_type": "execute_result"
    }
   ],
   "source": [
    "matrix_left"
   ],
   "metadata": {
    "collapsed": false
   }
  },
  {
   "cell_type": "code",
   "execution_count": null,
   "outputs": [],
   "source": [
    "[[1, 0, 3],\n",
    "[4, 2, 6],\n",
    "[7, 5, 8]]"
   ],
   "metadata": {
    "collapsed": false
   }
  }
 ],
 "metadata": {
  "kernelspec": {
   "display_name": "Python 3",
   "language": "python",
   "name": "python3"
  },
  "language_info": {
   "codemirror_mode": {
    "name": "ipython",
    "version": 2
   },
   "file_extension": ".py",
   "mimetype": "text/x-python",
   "name": "python",
   "nbconvert_exporter": "python",
   "pygments_lexer": "ipython2",
   "version": "2.7.6"
  }
 },
 "nbformat": 4,
 "nbformat_minor": 0
}
