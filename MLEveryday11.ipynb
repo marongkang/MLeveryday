{
  "nbformat": 4,
  "nbformat_minor": 0,
  "metadata": {
    "colab": {
      "name": "MLEveryday11.ipynb",
      "provenance": [],
      "collapsed_sections": [],
      "authorship_tag": "ABX9TyM2CWVK0bOEih5jCr1CJVd6",
      "include_colab_link": true
    },
    "kernelspec": {
      "name": "python3",
      "display_name": "Python 3"
    },
    "language_info": {
      "name": "python"
    }
  },
  "cells": [
    {
      "cell_type": "markdown",
      "metadata": {
        "id": "view-in-github",
        "colab_type": "text"
      },
      "source": [
        "<a href=\"https://colab.research.google.com/github/marongkang/MLeveryday/blob/main/MLEveryday11.ipynb\" target=\"_parent\"><img src=\"https://colab.research.google.com/assets/colab-badge.svg\" alt=\"Open In Colab\"/></a>"
      ]
    },
    {
      "cell_type": "markdown",
      "source": [
        "#Logistic Regression"
      ],
      "metadata": {
        "id": "binCeHHNp4Od"
      }
    },
    {
      "cell_type": "markdown",
      "source": [
        "逻辑回归\n",
        "> 适用于分类问题  \n",
        "> 输入为不同类别的概率\n"
      ],
      "metadata": {
        "id": "R4UU9M53qlz2"
      }
    },
    {
      "cell_type": "markdown",
      "source": [
        "**概述**  \n",
        "$\\hat{y}=\\frac{1}{1+e^{-XW}}$  \n",
        "where:  \n",
        "*  $\\hat{y}=预测值|\\in\\mathbb{R}^{NX1}$\n",
        "*  $X=输入|\\in\\mathbb{R}^{NXD}$\n",
        "*  $W=权重|\\in\\mathbb{R}^{DX1}$"
      ],
      "metadata": {
        "id": "QUvzdEzerJsk"
      }
    },
    {
      "cell_type": "markdown",
      "source": [
        "逻辑回归的主要思想是用线性回归的输出值(z=XW)经过一个sigmoid函数($\\frac{1}{1+e^{-Z}}$)来映射到(0,1)之间。\n",
        "\n",
        "当有多于两个分类类别，我们需要使用多项式逻辑回归（softmax分类器）。softmax分类器将会用线性方程（z=XW）并且归一化它，来产生对应的类别y的概率。"
      ],
      "metadata": {
        "id": "hyAKHyPAs_Ey"
      }
    },
    {
      "cell_type": "markdown",
      "source": [
        "$\\hat{y}=\\frac{e^{XW_y}}{\\sum e^{XW}}$\n",
        "where:\n",
        "* $\\hat{y}=预测值|\\in\\mathbb{R}^{NX1}(N是样本个数)$\n",
        "* $X=输入|\\in\\mathbb{R}^{NXD}(D是特征的个数) $\n",
        "* $W=权重|\\in\\mathbb{R}^{DXC}(C是类别的个数)$\n"
      ],
      "metadata": {
        "id": "PIBLMAB7uRP3"
      }
    },
    {
      "cell_type": "markdown",
      "source": [
        "* **目标**:通过输入值X来预测y的类别概率.softmax分类器将根据归一化线性输出来计算类别概率.\n",
        "* **优点**:\n",
        ">可以预测输入对应的类别概率;\n",
        "* **缺点**\n",
        ">因为使用的损失函数是要最小化交叉熵损失,所以对离群点很敏感.\n",
        "* **其他**:softmax分类器在神经网络中广泛的用于最后一层,因为可以算出类别概率。"
      ],
      "metadata": {
        "id": "sW2Hl022wLSP"
      }
    },
    {
      "cell_type": "markdown",
      "source": [
        "#训练\n",
        "步骤：  \n",
        "1. 随机初始化权重模型W.  \n",
        "2. 将输入值X传入模型并且得到logits(z=XW).在logits上使用softmax操作得到独热编码后的类别概率$\\hat{y}$.比如,如果有三个类别,预测出的类别概率可能为[0.3,0.3,0.4].\n",
        "3. 使用损失函数将预测值$\\hat{y}$和真实值做比较,并计算出损失值J.  \n",
        " 一个常用的逻辑回归损失函数是交叉熵函数:  \n",
        " * $J(θ)=-∑_iy_iln(\\hat{y_i})=-∑_iy_iln(\\frac{e^{X_iW_y}}{∑e^{X_iW}}) $\n",
        " * $y=[0,0,1]$\n",
        " * $\\hat{y}=[0.3,0.3,0.4]$\n",
        " * $J(θ)=-∑_iy_iln(\\hat{y_i})=-∑_iy_iln(\\frac{e^{X_iW_y}}{∑e^{X_iW}})=-∑_i[0*ln(0.3)+0*ln(0.3)+1*ln(0.4)]=-ln(0.4) $\n",
        " *  简化交叉熵函数:$J(θ)=-ln(\\hat{y_i})(负的极大似然)$\n",
        " *  $J(θ)=-ln(\\hat{y_i})=-ln(\\frac{e^{X_iW_y}}{∑_ie^{X_iW}})$\n",
        "4. 根据模型权重计算损失梯度$J(θ)$.假设类别分类是互斥的(一种输入只对应一种输出类别).\n",
        " * $\\frac{∂J}{∂W_j}=\\frac{∂J}{\\partial{y}}\\frac{∂y}{\\partial{W_j}}=-\\frac{1}{y}\\frac{∂y}{∂W_j}=-\\frac{1}{\\frac{e^{W_yX}}{\\sum{e^{XW}}}}\\frac{e^{XW_eW_yX_0}-e^{W_yX_eW_jX_0}}{(∑e^{XW})^2}=\\frac{X_eW_jX}{∑e^{XW}}=XP$\n",
        " * $\\frac{∂J}{∂W_y}=\\frac{∂J}{\\partial{y}}\\frac{∂y}{\\partial{W_y}}=-\\frac{1}{y}\\frac{∂y}{∂W_y}=-\\frac{1}{\\frac{e^{W_yX}}{\\sum{e^{XW}}}}\\frac{e^{XW_eW_yX_0}-e^{W_yX_eW_jX_X}}{(∑e^{XW})^2}=\\frac{1}{P}(XP-XP^2)=X(P-1)$\n",
        " 5. 使用梯度下降法来对权重做反向传播以更新模型权重.更新后的模型权重将会使不正确的类别(j)概率大大降低,从而升高正确类别的(y)概率.\n",
        " * $W_i=W_i-α\\frac{J}{W_i}$\n",
        "6. 重复2-4步,直到模型表现最好.\n"
      ],
      "metadata": {
        "id": "lZ222GjOxs7p"
      }
    },
    {
      "cell_type": "code",
      "source": [
        "from argparse import Namespace\n",
        "import matplotlib.pyplot as plt\n",
        "import numpy as np\n",
        "import pandas as pd\n",
        "import urllib.request"
      ],
      "metadata": {
        "id": "QiBsgsGruQ6R"
      },
      "execution_count": null,
      "outputs": []
    },
    {
      "cell_type": "code",
      "source": [
        "#参数\n",
        "args=Namespace(\n",
        "    seed=123,\n",
        "    data_file=\"titanic.csv\",\n",
        "    train_size=0.75,\n",
        "    test_size=0.25,\n",
        "    num_epochs=100,\n",
        ")\n",
        "\n",
        "np.random.seed(args.seed)"
      ],
      "metadata": {
        "id": "4g8H-R3tqB4O"
      },
      "execution_count": null,
      "outputs": []
    },
    {
      "cell_type": "code",
      "source": [
        "url=\"https://raw.githubusercontent.com/marongkang/datasets/main/titanic.csv\"\n",
        "response=urllib.request.urlopen(url)\n",
        "html=response.read()\n",
        "with open(args.data_file,'wb') as f:\n",
        "  f.write(html)"
      ],
      "metadata": {
        "id": "Orx4MMP2962z"
      },
      "execution_count": null,
      "outputs": []
    },
    {
      "cell_type": "code",
      "source": [
        "df=pd.read_csv(args.data_file,header=0)\n",
        "df.head()"
      ],
      "metadata": {
        "colab": {
          "base_uri": "https://localhost:8080/",
          "height": 548
        },
        "id": "lhftob3y_ukl",
        "outputId": "a7129b33-c675-4722-cc12-3455a4d13f5d"
      },
      "execution_count": null,
      "outputs": [
        {
          "output_type": "execute_result",
          "data": {
            "text/html": [
              "\n",
              "  <div id=\"df-4bee01ad-996a-48dc-ab68-623d20a66a51\">\n",
              "    <div class=\"colab-df-container\">\n",
              "      <div>\n",
              "<style scoped>\n",
              "    .dataframe tbody tr th:only-of-type {\n",
              "        vertical-align: middle;\n",
              "    }\n",
              "\n",
              "    .dataframe tbody tr th {\n",
              "        vertical-align: top;\n",
              "    }\n",
              "\n",
              "    .dataframe thead th {\n",
              "        text-align: right;\n",
              "    }\n",
              "</style>\n",
              "<table border=\"1\" class=\"dataframe\">\n",
              "  <thead>\n",
              "    <tr style=\"text-align: right;\">\n",
              "      <th></th>\n",
              "      <th>PassengerId</th>\n",
              "      <th>Survived</th>\n",
              "      <th>Pclass</th>\n",
              "      <th>Name</th>\n",
              "      <th>Sex</th>\n",
              "      <th>Age</th>\n",
              "      <th>SibSp</th>\n",
              "      <th>Parch</th>\n",
              "      <th>Ticket</th>\n",
              "      <th>Fare</th>\n",
              "      <th>Cabin</th>\n",
              "      <th>Embarked</th>\n",
              "    </tr>\n",
              "  </thead>\n",
              "  <tbody>\n",
              "    <tr>\n",
              "      <th>0</th>\n",
              "      <td>1</td>\n",
              "      <td>0</td>\n",
              "      <td>3</td>\n",
              "      <td>Braund, Mr. Owen Harris</td>\n",
              "      <td>male</td>\n",
              "      <td>22.0</td>\n",
              "      <td>1</td>\n",
              "      <td>0</td>\n",
              "      <td>A/5 21171</td>\n",
              "      <td>7.2500</td>\n",
              "      <td>NaN</td>\n",
              "      <td>S</td>\n",
              "    </tr>\n",
              "    <tr>\n",
              "      <th>1</th>\n",
              "      <td>2</td>\n",
              "      <td>1</td>\n",
              "      <td>1</td>\n",
              "      <td>Cumings, Mrs. John Bradley (Florence Briggs Th...</td>\n",
              "      <td>female</td>\n",
              "      <td>38.0</td>\n",
              "      <td>1</td>\n",
              "      <td>0</td>\n",
              "      <td>PC 17599</td>\n",
              "      <td>71.2833</td>\n",
              "      <td>C85</td>\n",
              "      <td>C</td>\n",
              "    </tr>\n",
              "    <tr>\n",
              "      <th>2</th>\n",
              "      <td>3</td>\n",
              "      <td>1</td>\n",
              "      <td>3</td>\n",
              "      <td>Heikkinen, Miss. Laina</td>\n",
              "      <td>female</td>\n",
              "      <td>26.0</td>\n",
              "      <td>0</td>\n",
              "      <td>0</td>\n",
              "      <td>STON/O2. 3101282</td>\n",
              "      <td>7.9250</td>\n",
              "      <td>NaN</td>\n",
              "      <td>S</td>\n",
              "    </tr>\n",
              "    <tr>\n",
              "      <th>3</th>\n",
              "      <td>4</td>\n",
              "      <td>1</td>\n",
              "      <td>1</td>\n",
              "      <td>Futrelle, Mrs. Jacques Heath (Lily May Peel)</td>\n",
              "      <td>female</td>\n",
              "      <td>35.0</td>\n",
              "      <td>1</td>\n",
              "      <td>0</td>\n",
              "      <td>113803</td>\n",
              "      <td>53.1000</td>\n",
              "      <td>C123</td>\n",
              "      <td>S</td>\n",
              "    </tr>\n",
              "    <tr>\n",
              "      <th>4</th>\n",
              "      <td>5</td>\n",
              "      <td>0</td>\n",
              "      <td>3</td>\n",
              "      <td>Allen, Mr. William Henry</td>\n",
              "      <td>male</td>\n",
              "      <td>35.0</td>\n",
              "      <td>0</td>\n",
              "      <td>0</td>\n",
              "      <td>373450</td>\n",
              "      <td>8.0500</td>\n",
              "      <td>NaN</td>\n",
              "      <td>S</td>\n",
              "    </tr>\n",
              "  </tbody>\n",
              "</table>\n",
              "</div>\n",
              "      <button class=\"colab-df-convert\" onclick=\"convertToInteractive('df-4bee01ad-996a-48dc-ab68-623d20a66a51')\"\n",
              "              title=\"Convert this dataframe to an interactive table.\"\n",
              "              style=\"display:none;\">\n",
              "        \n",
              "  <svg xmlns=\"http://www.w3.org/2000/svg\" height=\"24px\"viewBox=\"0 0 24 24\"\n",
              "       width=\"24px\">\n",
              "    <path d=\"M0 0h24v24H0V0z\" fill=\"none\"/>\n",
              "    <path d=\"M18.56 5.44l.94 2.06.94-2.06 2.06-.94-2.06-.94-.94-2.06-.94 2.06-2.06.94zm-11 1L8.5 8.5l.94-2.06 2.06-.94-2.06-.94L8.5 2.5l-.94 2.06-2.06.94zm10 10l.94 2.06.94-2.06 2.06-.94-2.06-.94-.94-2.06-.94 2.06-2.06.94z\"/><path d=\"M17.41 7.96l-1.37-1.37c-.4-.4-.92-.59-1.43-.59-.52 0-1.04.2-1.43.59L10.3 9.45l-7.72 7.72c-.78.78-.78 2.05 0 2.83L4 21.41c.39.39.9.59 1.41.59.51 0 1.02-.2 1.41-.59l7.78-7.78 2.81-2.81c.8-.78.8-2.07 0-2.86zM5.41 20L4 18.59l7.72-7.72 1.47 1.35L5.41 20z\"/>\n",
              "  </svg>\n",
              "      </button>\n",
              "      \n",
              "  <style>\n",
              "    .colab-df-container {\n",
              "      display:flex;\n",
              "      flex-wrap:wrap;\n",
              "      gap: 12px;\n",
              "    }\n",
              "\n",
              "    .colab-df-convert {\n",
              "      background-color: #E8F0FE;\n",
              "      border: none;\n",
              "      border-radius: 50%;\n",
              "      cursor: pointer;\n",
              "      display: none;\n",
              "      fill: #1967D2;\n",
              "      height: 32px;\n",
              "      padding: 0 0 0 0;\n",
              "      width: 32px;\n",
              "    }\n",
              "\n",
              "    .colab-df-convert:hover {\n",
              "      background-color: #E2EBFA;\n",
              "      box-shadow: 0px 1px 2px rgba(60, 64, 67, 0.3), 0px 1px 3px 1px rgba(60, 64, 67, 0.15);\n",
              "      fill: #174EA6;\n",
              "    }\n",
              "\n",
              "    [theme=dark] .colab-df-convert {\n",
              "      background-color: #3B4455;\n",
              "      fill: #D2E3FC;\n",
              "    }\n",
              "\n",
              "    [theme=dark] .colab-df-convert:hover {\n",
              "      background-color: #434B5C;\n",
              "      box-shadow: 0px 1px 3px 1px rgba(0, 0, 0, 0.15);\n",
              "      filter: drop-shadow(0px 1px 2px rgba(0, 0, 0, 0.3));\n",
              "      fill: #FFFFFF;\n",
              "    }\n",
              "  </style>\n",
              "\n",
              "      <script>\n",
              "        const buttonEl =\n",
              "          document.querySelector('#df-4bee01ad-996a-48dc-ab68-623d20a66a51 button.colab-df-convert');\n",
              "        buttonEl.style.display =\n",
              "          google.colab.kernel.accessAllowed ? 'block' : 'none';\n",
              "\n",
              "        async function convertToInteractive(key) {\n",
              "          const element = document.querySelector('#df-4bee01ad-996a-48dc-ab68-623d20a66a51');\n",
              "          const dataTable =\n",
              "            await google.colab.kernel.invokeFunction('convertToInteractive',\n",
              "                                                     [key], {});\n",
              "          if (!dataTable) return;\n",
              "\n",
              "          const docLinkHtml = 'Like what you see? Visit the ' +\n",
              "            '<a target=\"_blank\" href=https://colab.research.google.com/notebooks/data_table.ipynb>data table notebook</a>'\n",
              "            + ' to learn more about interactive tables.';\n",
              "          element.innerHTML = '';\n",
              "          dataTable['output_type'] = 'display_data';\n",
              "          await google.colab.output.renderOutput(dataTable, element);\n",
              "          const docLink = document.createElement('div');\n",
              "          docLink.innerHTML = docLinkHtml;\n",
              "          element.appendChild(docLink);\n",
              "        }\n",
              "      </script>\n",
              "    </div>\n",
              "  </div>\n",
              "  "
            ],
            "text/plain": [
              "   PassengerId  Survived  Pclass  ...     Fare Cabin  Embarked\n",
              "0            1         0       3  ...   7.2500   NaN         S\n",
              "1            2         1       1  ...  71.2833   C85         C\n",
              "2            3         1       3  ...   7.9250   NaN         S\n",
              "3            4         1       1  ...  53.1000  C123         S\n",
              "4            5         0       3  ...   8.0500   NaN         S\n",
              "\n",
              "[5 rows x 12 columns]"
            ]
          },
          "metadata": {},
          "execution_count": 40
        }
      ]
    },
    {
      "cell_type": "markdown",
      "source": [
        "# Scikit-learn实现\n",
        "使用SGDClassifier类来做随机梯度下降"
      ],
      "metadata": {
        "id": "nii7EgR0AU0c"
      }
    },
    {
      "cell_type": "code",
      "source": [
        "from sklearn.linear_model import SGDClassifier\n",
        "from sklearn.preprocessing import StandardScaler\n",
        "from sklearn.model_selection import train_test_split"
      ],
      "metadata": {
        "id": "EBQV8uY4AHZa"
      },
      "execution_count": null,
      "outputs": []
    },
    {
      "cell_type": "code",
      "source": [
        "def preprocess(df):\n",
        "  df=df.dropna();\n",
        "  features_to_drop=[\"Name\",\"Cabin\",\"Ticket\",\"PassengerId\"]\n",
        "  df=df.drop(features_to_drop,axis=1)\n",
        "  categorical_features=[\"Pclass\",\"Embarked\",\"Sex\"]\n",
        "  df=pd.get_dummies(df,columns=categorical_features)\n",
        "\n",
        "  return df"
      ],
      "metadata": {
        "id": "5zy-9AqgBE7X"
      },
      "execution_count": null,
      "outputs": []
    },
    {
      "cell_type": "code",
      "source": [
        "df=preprocess(df)\n",
        "df.head()"
      ],
      "metadata": {
        "colab": {
          "base_uri": "https://localhost:8080/",
          "height": 270
        },
        "id": "3INj_LSeCChe",
        "outputId": "7441b14b-1793-4b5a-a4e7-3b7baffde76d"
      },
      "execution_count": null,
      "outputs": [
        {
          "output_type": "execute_result",
          "data": {
            "text/html": [
              "\n",
              "  <div id=\"df-6712c803-9849-43c3-ae70-95c6ef242fbb\">\n",
              "    <div class=\"colab-df-container\">\n",
              "      <div>\n",
              "<style scoped>\n",
              "    .dataframe tbody tr th:only-of-type {\n",
              "        vertical-align: middle;\n",
              "    }\n",
              "\n",
              "    .dataframe tbody tr th {\n",
              "        vertical-align: top;\n",
              "    }\n",
              "\n",
              "    .dataframe thead th {\n",
              "        text-align: right;\n",
              "    }\n",
              "</style>\n",
              "<table border=\"1\" class=\"dataframe\">\n",
              "  <thead>\n",
              "    <tr style=\"text-align: right;\">\n",
              "      <th></th>\n",
              "      <th>Survived</th>\n",
              "      <th>Age</th>\n",
              "      <th>SibSp</th>\n",
              "      <th>Parch</th>\n",
              "      <th>Fare</th>\n",
              "      <th>Pclass_1</th>\n",
              "      <th>Pclass_2</th>\n",
              "      <th>Pclass_3</th>\n",
              "      <th>Embarked_C</th>\n",
              "      <th>Embarked_Q</th>\n",
              "      <th>Embarked_S</th>\n",
              "      <th>Sex_female</th>\n",
              "      <th>Sex_male</th>\n",
              "    </tr>\n",
              "  </thead>\n",
              "  <tbody>\n",
              "    <tr>\n",
              "      <th>1</th>\n",
              "      <td>1</td>\n",
              "      <td>38.0</td>\n",
              "      <td>1</td>\n",
              "      <td>0</td>\n",
              "      <td>71.2833</td>\n",
              "      <td>1</td>\n",
              "      <td>0</td>\n",
              "      <td>0</td>\n",
              "      <td>1</td>\n",
              "      <td>0</td>\n",
              "      <td>0</td>\n",
              "      <td>1</td>\n",
              "      <td>0</td>\n",
              "    </tr>\n",
              "    <tr>\n",
              "      <th>3</th>\n",
              "      <td>1</td>\n",
              "      <td>35.0</td>\n",
              "      <td>1</td>\n",
              "      <td>0</td>\n",
              "      <td>53.1000</td>\n",
              "      <td>1</td>\n",
              "      <td>0</td>\n",
              "      <td>0</td>\n",
              "      <td>0</td>\n",
              "      <td>0</td>\n",
              "      <td>1</td>\n",
              "      <td>1</td>\n",
              "      <td>0</td>\n",
              "    </tr>\n",
              "    <tr>\n",
              "      <th>6</th>\n",
              "      <td>0</td>\n",
              "      <td>54.0</td>\n",
              "      <td>0</td>\n",
              "      <td>0</td>\n",
              "      <td>51.8625</td>\n",
              "      <td>1</td>\n",
              "      <td>0</td>\n",
              "      <td>0</td>\n",
              "      <td>0</td>\n",
              "      <td>0</td>\n",
              "      <td>1</td>\n",
              "      <td>0</td>\n",
              "      <td>1</td>\n",
              "    </tr>\n",
              "    <tr>\n",
              "      <th>10</th>\n",
              "      <td>1</td>\n",
              "      <td>4.0</td>\n",
              "      <td>1</td>\n",
              "      <td>1</td>\n",
              "      <td>16.7000</td>\n",
              "      <td>0</td>\n",
              "      <td>0</td>\n",
              "      <td>1</td>\n",
              "      <td>0</td>\n",
              "      <td>0</td>\n",
              "      <td>1</td>\n",
              "      <td>1</td>\n",
              "      <td>0</td>\n",
              "    </tr>\n",
              "    <tr>\n",
              "      <th>11</th>\n",
              "      <td>1</td>\n",
              "      <td>58.0</td>\n",
              "      <td>0</td>\n",
              "      <td>0</td>\n",
              "      <td>26.5500</td>\n",
              "      <td>1</td>\n",
              "      <td>0</td>\n",
              "      <td>0</td>\n",
              "      <td>0</td>\n",
              "      <td>0</td>\n",
              "      <td>1</td>\n",
              "      <td>1</td>\n",
              "      <td>0</td>\n",
              "    </tr>\n",
              "  </tbody>\n",
              "</table>\n",
              "</div>\n",
              "      <button class=\"colab-df-convert\" onclick=\"convertToInteractive('df-6712c803-9849-43c3-ae70-95c6ef242fbb')\"\n",
              "              title=\"Convert this dataframe to an interactive table.\"\n",
              "              style=\"display:none;\">\n",
              "        \n",
              "  <svg xmlns=\"http://www.w3.org/2000/svg\" height=\"24px\"viewBox=\"0 0 24 24\"\n",
              "       width=\"24px\">\n",
              "    <path d=\"M0 0h24v24H0V0z\" fill=\"none\"/>\n",
              "    <path d=\"M18.56 5.44l.94 2.06.94-2.06 2.06-.94-2.06-.94-.94-2.06-.94 2.06-2.06.94zm-11 1L8.5 8.5l.94-2.06 2.06-.94-2.06-.94L8.5 2.5l-.94 2.06-2.06.94zm10 10l.94 2.06.94-2.06 2.06-.94-2.06-.94-.94-2.06-.94 2.06-2.06.94z\"/><path d=\"M17.41 7.96l-1.37-1.37c-.4-.4-.92-.59-1.43-.59-.52 0-1.04.2-1.43.59L10.3 9.45l-7.72 7.72c-.78.78-.78 2.05 0 2.83L4 21.41c.39.39.9.59 1.41.59.51 0 1.02-.2 1.41-.59l7.78-7.78 2.81-2.81c.8-.78.8-2.07 0-2.86zM5.41 20L4 18.59l7.72-7.72 1.47 1.35L5.41 20z\"/>\n",
              "  </svg>\n",
              "      </button>\n",
              "      \n",
              "  <style>\n",
              "    .colab-df-container {\n",
              "      display:flex;\n",
              "      flex-wrap:wrap;\n",
              "      gap: 12px;\n",
              "    }\n",
              "\n",
              "    .colab-df-convert {\n",
              "      background-color: #E8F0FE;\n",
              "      border: none;\n",
              "      border-radius: 50%;\n",
              "      cursor: pointer;\n",
              "      display: none;\n",
              "      fill: #1967D2;\n",
              "      height: 32px;\n",
              "      padding: 0 0 0 0;\n",
              "      width: 32px;\n",
              "    }\n",
              "\n",
              "    .colab-df-convert:hover {\n",
              "      background-color: #E2EBFA;\n",
              "      box-shadow: 0px 1px 2px rgba(60, 64, 67, 0.3), 0px 1px 3px 1px rgba(60, 64, 67, 0.15);\n",
              "      fill: #174EA6;\n",
              "    }\n",
              "\n",
              "    [theme=dark] .colab-df-convert {\n",
              "      background-color: #3B4455;\n",
              "      fill: #D2E3FC;\n",
              "    }\n",
              "\n",
              "    [theme=dark] .colab-df-convert:hover {\n",
              "      background-color: #434B5C;\n",
              "      box-shadow: 0px 1px 3px 1px rgba(0, 0, 0, 0.15);\n",
              "      filter: drop-shadow(0px 1px 2px rgba(0, 0, 0, 0.3));\n",
              "      fill: #FFFFFF;\n",
              "    }\n",
              "  </style>\n",
              "\n",
              "      <script>\n",
              "        const buttonEl =\n",
              "          document.querySelector('#df-6712c803-9849-43c3-ae70-95c6ef242fbb button.colab-df-convert');\n",
              "        buttonEl.style.display =\n",
              "          google.colab.kernel.accessAllowed ? 'block' : 'none';\n",
              "\n",
              "        async function convertToInteractive(key) {\n",
              "          const element = document.querySelector('#df-6712c803-9849-43c3-ae70-95c6ef242fbb');\n",
              "          const dataTable =\n",
              "            await google.colab.kernel.invokeFunction('convertToInteractive',\n",
              "                                                     [key], {});\n",
              "          if (!dataTable) return;\n",
              "\n",
              "          const docLinkHtml = 'Like what you see? Visit the ' +\n",
              "            '<a target=\"_blank\" href=https://colab.research.google.com/notebooks/data_table.ipynb>data table notebook</a>'\n",
              "            + ' to learn more about interactive tables.';\n",
              "          element.innerHTML = '';\n",
              "          dataTable['output_type'] = 'display_data';\n",
              "          await google.colab.output.renderOutput(dataTable, element);\n",
              "          const docLink = document.createElement('div');\n",
              "          docLink.innerHTML = docLinkHtml;\n",
              "          element.appendChild(docLink);\n",
              "        }\n",
              "      </script>\n",
              "    </div>\n",
              "  </div>\n",
              "  "
            ],
            "text/plain": [
              "    Survived   Age  SibSp  Parch  ...  Embarked_Q  Embarked_S  Sex_female  Sex_male\n",
              "1          1  38.0      1      0  ...           0           0           1         0\n",
              "3          1  35.0      1      0  ...           0           1           1         0\n",
              "6          0  54.0      0      0  ...           0           1           0         1\n",
              "10         1   4.0      1      1  ...           0           1           1         0\n",
              "11         1  58.0      0      0  ...           0           1           1         0\n",
              "\n",
              "[5 rows x 13 columns]"
            ]
          },
          "metadata": {},
          "execution_count": 43
        }
      ]
    },
    {
      "cell_type": "code",
      "source": [
        "mask=np.random.rand(len(df))<args.train_size\n",
        "train_df=df[mask]\n",
        "test_df=df[~mask]\n",
        "print(\"train size:{0},test size:{1}\".format(len(train_df),len(test_df)))"
      ],
      "metadata": {
        "colab": {
          "base_uri": "https://localhost:8080/"
        },
        "id": "gdYNGTrWCHZZ",
        "outputId": "33f0e244-a82c-4b16-d6f7-70c109be4c28"
      },
      "execution_count": null,
      "outputs": [
        {
          "output_type": "stream",
          "name": "stdout",
          "text": [
            "train size:145,test size:38\n"
          ]
        }
      ]
    },
    {
      "cell_type": "code",
      "source": [
        "#split X Y\n",
        "X_train=train_df.drop([\"Survived\"],axis=1)\n",
        "y_train=train_df[\"Survived\"]\n",
        "X_test=test_df.drop([\"Survived\"],axis=1)\n",
        "y_test=test_df[\"Survived\"]\n"
      ],
      "metadata": {
        "id": "HLPIPr9iDCjz"
      },
      "execution_count": null,
      "outputs": []
    },
    {
      "cell_type": "code",
      "source": [
        "#标准化\n",
        "X_scaler=StandardScaler().fit(X_train)\n",
        "\n",
        "standardized_X_train=X_scaler.transform(X_train)\n",
        "standardized_X_test=X_scaler.transform(X_test)\n",
        "\n",
        "print(\"mean:{}\".format(np.mean(standardize_X_train,axis=0)))\n",
        "print(\"std:{}\".format(np.std(standardize_X_train,axis=0)))"
      ],
      "metadata": {
        "colab": {
          "base_uri": "https://localhost:8080/"
        },
        "id": "0oDIX_mzDhE5",
        "outputId": "46827959-a71a-410a-f7b0-d2e1444fa147"
      },
      "execution_count": null,
      "outputs": [
        {
          "output_type": "stream",
          "name": "stdout",
          "text": [
            "mean:[ 1.10256631e-16 -5.51283157e-17 -6.73790525e-17 -7.35044209e-17\n",
            " -7.35044209e-17  1.22507368e-17 -2.45014736e-17  4.74716052e-17\n",
            " -2.45014736e-17  0.00000000e+00  3.67522105e-17  1.22507368e-17]\n",
            "std:[1. 1. 1. 1. 1. 1. 1. 1. 1. 1. 1. 1.]\n"
          ]
        }
      ]
    },
    {
      "cell_type": "code",
      "source": [
        "#init\n",
        "log_reg =SGDClassifier(loss=\"log\",penalty=\"none\",max_iter=args.num_epochs,random_state=args.seed)"
      ],
      "metadata": {
        "id": "c-VCTutkEOW6"
      },
      "execution_count": null,
      "outputs": []
    },
    {
      "cell_type": "code",
      "source": [
        "log_reg.fit(X=standardize_X_train,y=y_train)"
      ],
      "metadata": {
        "colab": {
          "base_uri": "https://localhost:8080/"
        },
        "id": "SfcfvXhHGoE2",
        "outputId": "dd84b9eb-236c-483b-ed78-99f7000e8fed"
      },
      "execution_count": null,
      "outputs": [
        {
          "output_type": "execute_result",
          "data": {
            "text/plain": [
              "SGDClassifier(loss='log', max_iter=100, penalty='none', random_state=123)"
            ]
          },
          "metadata": {},
          "execution_count": 62
        }
      ]
    },
    {
      "cell_type": "code",
      "source": [
        "pred_test=log_reg.predict_proba(standardize_X_test)\n",
        "print(pred_test[:5])"
      ],
      "metadata": {
        "colab": {
          "base_uri": "https://localhost:8080/"
        },
        "id": "5DrVXSNEGwR1",
        "outputId": "072fbe0b-ce7f-4e36-d258-8388a981d9be"
      },
      "execution_count": null,
      "outputs": [
        {
          "output_type": "stream",
          "name": "stdout",
          "text": [
            "[[1.48347734e-09 9.99999999e-01]\n",
            " [9.99848334e-01 1.51665698e-04]\n",
            " [0.00000000e+00 1.00000000e+00]\n",
            " [2.09900097e-10 1.00000000e+00]\n",
            " [0.00000000e+00 1.00000000e+00]]\n"
          ]
        }
      ]
    },
    {
      "cell_type": "code",
      "source": [
        "pred_train=log_reg.predict(standardize_X_train)\n",
        "pred_test=log_reg.predict(standardize_X_test)\n",
        "print(pred_test)"
      ],
      "metadata": {
        "colab": {
          "base_uri": "https://localhost:8080/"
        },
        "id": "Y-vTySDqG_BW",
        "outputId": "2a0714df-a330-44e8-8ac2-6d1b1a4c7cd2"
      },
      "execution_count": null,
      "outputs": [
        {
          "output_type": "stream",
          "name": "stdout",
          "text": [
            "[1 0 1 1 1 1 1 1 1 0 1 1 1 1 1 1 1 1 1 1 1 1 1 1 0 0 1 1 1 1 1 1 1 0 1 0 1\n",
            " 1]\n"
          ]
        }
      ]
    },
    {
      "cell_type": "markdown",
      "source": [
        "#评估指标"
      ],
      "metadata": {
        "id": "5ptjTSgkH-Zy"
      }
    },
    {
      "cell_type": "code",
      "source": [
        "from sklearn.metrics import accuracy_score"
      ],
      "metadata": {
        "id": "P8QKnwx-H6rp"
      },
      "execution_count": null,
      "outputs": []
    },
    {
      "cell_type": "code",
      "source": [
        "#正确率\n",
        "train_acc=accuracy_score(y_train,pred_train)\n",
        "test_acc=accuracy_score(y_test,pred_test)\n",
        "print(\"train acc: {0:.2f},test acc:{1:.2f}\".format(train_acc,test_acc))"
      ],
      "metadata": {
        "colab": {
          "base_uri": "https://localhost:8080/"
        },
        "id": "bjIE1_PdIGWX",
        "outputId": "7add2fec-6126-4f6c-fe6a-c8015e23a7a1"
      },
      "execution_count": null,
      "outputs": [
        {
          "output_type": "stream",
          "name": "stdout",
          "text": [
            "train acc: 0.68,test acc:0.76\n"
          ]
        }
      ]
    },
    {
      "cell_type": "markdown",
      "source": [
        "评价指标需要看具体应用情景.\n",
        "positive-true,1,tumor,issue,等等\n",
        "negative-false,0,not tumor,not issue等\n",
        "\n",
        "* $accuracy(正确率)=\\frac{TP+TN}{TP+TN+FP+FN}$\n",
        "* $recall(召回率)=\\frac{TP}{TP+TN}(有多少个正例被分为正例)$\n",
        "* $precision(准确率)=\\frac{TP}{TP+FP}(预测为正例的样本中,有多少是对的)$\n",
        "* $F_1=2*\\frac{precision*recall}{precision+recall}$\n",
        "where:  \n",
        " * TP:positive true 将正类预测为正类数\n",
        " * TN:nagetive true 将负类预测为负类数\n",
        " * FP:positive false 将负类预测为正类数\n",
        " * FN:nagetive false 将正类预测为负类数"
      ],
      "metadata": {
        "id": "P_NvCfZGJGNr"
      }
    },
    {
      "cell_type": "code",
      "source": [
        "import itertools\n",
        "from sklearn.metrics import classification_report,confusion_matrix"
      ],
      "metadata": {
        "id": "nYyy4oBAIofO"
      },
      "execution_count": null,
      "outputs": []
    },
    {
      "cell_type": "code",
      "source": [
        "def plot_confusion_matrix(cm,classes):\n",
        "  cmap=plt.cm.Blues\n",
        "  plt.imshow(cm,interpolation=\"nearest\",cmap=cmap)\n",
        "  plt.title(\"confusion matrix\")\n",
        "  plt.colorbar()\n",
        "  tick_marks=np.arange(len(classes))\n",
        "  plt.xticks(tick_marks,classes,rotation=45)\n",
        "  plt.yticks(tick_marks,classes)\n",
        "  plt.grid(False)\n",
        "\n",
        "  fmt='d'\n",
        "  thresh=cm.max()/2\n",
        "  for i, j in itertools.product(range(cm.shape[0]), range(cm.shape[1])):\n",
        "    plt.text(j, i, format(cm[i, j], 'd'),\n",
        "      horizontalalignment=\"center\",\n",
        "      color=\"white\" if cm[i, j] > thresh else \"black\")\n",
        "\n",
        "  plt.ylabel('True label')\n",
        "  plt.xlabel('Predicted label')\n",
        "  plt.tight_layout()"
      ],
      "metadata": {
        "id": "pM9TJV77MIAS"
      },
      "execution_count": null,
      "outputs": []
    },
    {
      "cell_type": "code",
      "source": [
        "cm=confusion_matrix(y_test,pred_test)\n",
        "plot_confusion_matrix(cm=cm,classes=[\"Died\",\"Survived\"])\n",
        "print(classification_report(y_test,pred_test))"
      ],
      "metadata": {
        "colab": {
          "base_uri": "https://localhost:8080/",
          "height": 457
        },
        "id": "MHx2uQBaNY9z",
        "outputId": "fcc4918b-a55a-49d7-afe5-b5e60e9a6e75"
      },
      "execution_count": null,
      "outputs": [
        {
          "output_type": "stream",
          "name": "stdout",
          "text": [
            "              precision    recall  f1-score   support\n",
            "\n",
            "           0       0.67      0.36      0.47        11\n",
            "           1       0.78      0.93      0.85        27\n",
            "\n",
            "    accuracy                           0.76        38\n",
            "   macro avg       0.72      0.64      0.66        38\n",
            "weighted avg       0.75      0.76      0.74        38\n",
            "\n"
          ]
        },
        {
          "output_type": "display_data",
          "data": {
            "image/png": "[encoded data removed]",
            "text/plain": [
              "<Figure size 432x288 with 2 Axes>"
            ]
          },
          "metadata": {
            "needs_background": "light"
          }
        }
      ]
    },
    {
      "cell_type": "code",
      "source": [
        ""
      ],
      "metadata": {
        "id": "92PAlkbzNw2t"
      },
      "execution_count": null,
      "outputs": []
    }
  ]
}