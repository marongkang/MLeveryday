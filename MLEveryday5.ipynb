{
  "nbformat": 4,
  "nbformat_minor": 0,
  "metadata": {
    "colab": {
      "name": "MLEveryday5.ipynb",
      "provenance": [],
      "collapsed_sections": [],
      "authorship_tag": "ABX9TyPgJhikVA0fz+OQjDSku7WT",
      "include_colab_link": true
    },
    "kernelspec": {
      "name": "python3",
      "display_name": "Python 3"
    },
    "language_info": {
      "name": "python"
    }
  },
  "cells": [
    {
      "cell_type": "markdown",
      "metadata": {
        "id": "view-in-github",
        "colab_type": "text"
      },
      "source": [
        "<a href=\"https://colab.research.google.com/github/marongkang/MLeveryday/blob/main/MLEveryday5.ipynb\" target=\"_parent\"><img src=\"https://colab.research.google.com/assets/colab-badge.svg\" alt=\"Open In Colab\"/></a>"
      ]
    },
    {
      "cell_type": "markdown",
      "metadata": {
        "id": "pKZ8WHy5-QZs"
      },
      "source": [
        "**ML** **day5** \n",
        ">今天的目标是 Pandas,Urllib.request"
      ]
    },
    {
      "cell_type": "code",
      "metadata": {
        "id": "vMGXBb9KQyID"
      },
      "source": [
        ""
      ],
      "execution_count": null,
      "outputs": []
    },
    {
      "cell_type": "code",
      "metadata": {
        "id": "A1TwE9cZTwjO",
        "colab": {
          "base_uri": "https://localhost:8080/"
        },
        "outputId": "389988aa-9887-4773-e6cd-975b65e8d09e"
      },
      "source": [
        "#使用urllib来获取在线数据集\n",
        "import urllib.request\n",
        "#原来Titanic.csv链接已经失效，现以我的github主页为例\n",
        "url=\"https://github.com/marongkang/\"\n",
        "response=urllib.request.urlopen(url)\n",
        "print(\"查看 response 的返回类型：\",type(response))"
      ],
      "execution_count": null,
      "outputs": [
        {
          "output_type": "stream",
          "name": "stdout",
          "text": [
            "查看 response 的返回类型： <class 'http.client.HTTPResponse'>\n"
          ]
        }
      ]
    },
    {
      "cell_type": "code",
      "metadata": {
        "colab": {
          "base_uri": "https://localhost:8080/"
        },
        "id": "cjOZwCQzh5Eh",
        "outputId": "48c3e533-9a00-480b-f380-eefca9be635b"
      },
      "source": [
        "print(\"查看反应地址信息: \",response)\n"
      ],
      "execution_count": null,
      "outputs": [
        {
          "output_type": "stream",
          "name": "stdout",
          "text": [
            "查看反应地址信息:  <http.client.HTTPResponse object at 0x7f689788d110>\n"
          ]
        }
      ]
    },
    {
      "cell_type": "code",
      "metadata": {
        "colab": {
          "base_uri": "https://localhost:8080/"
        },
        "id": "Cm5YK3ush8rF",
        "outputId": "16d6def4-726f-4ac2-dfb0-30648a1cbf27"
      },
      "source": [
        "print(\"查看头部信息1(http header)：\\n\",response.info())\n",
        "print(\"查看头部信息2(http header)：\\n\",response.getheaders())"
      ],
      "execution_count": null,
      "outputs": [
        {
          "output_type": "stream",
          "name": "stdout",
          "text": [
            "查看头部信息1(http header)：\n",
            " Server: GitHub.com\n",
            "Date: Fri, 03 Dec 2021 09:02:13 GMT\n",
            "Content-Type: text/html; charset=utf-8\n",
            "Vary: X-Requested-With, X-PJAX-Container, Accept-Encoding, Accept, X-Requested-With\n",
            "permissions-policy: interest-cohort=()\n",
            "ETag: W/\"c9bc275b39eb9a423b487c16bb1151cd\"\n",
            "Cache-Control: max-age=0, private, must-revalidate\n",
            "Strict-Transport-Security: max-age=31536000; includeSubdomains; preload\n",
            "X-Frame-Options: deny\n",
            "X-Content-Type-Options: nosniff\n",
            "X-XSS-Protection: 0\n",
            "Referrer-Policy: origin-when-cross-origin, strict-origin-when-cross-origin\n",
            "Expect-CT: max-age=2592000, report-uri=\"https://api.github.com/_private/browser/errors\"\n",
            "Content-Security-Policy: default-src 'none'; base-uri 'self'; block-all-mixed-content; child-src github.com/assets-cdn/worker/ gist.github.com/assets-cdn/worker/; connect-src 'self' uploads.github.com objects-origin.githubusercontent.com www.githubstatus.com collector.githubapp.com api.github.com github-cloud.s3.amazonaws.com github-production-repository-file-5c1aeb.s3.amazonaws.com github-production-upload-manifest-file-7fdce7.s3.amazonaws.com github-production-user-asset-6210df.s3.amazonaws.com cdn.optimizely.com logx.optimizely.com/v1/events translator.github.com wss://alive.github.com; font-src github.githubassets.com; form-action 'self' github.com gist.github.com objects-origin.githubusercontent.com; frame-ancestors 'none'; frame-src render.githubusercontent.com viewscreen.githubusercontent.com notebooks.githubusercontent.com; img-src 'self' data: github.githubassets.com identicons.github.com collector.githubapp.com github-cloud.s3.amazonaws.com secured-user-images.githubusercontent.com/ *.githubusercontent.com; manifest-src 'self'; media-src github.com user-images.githubusercontent.com/; script-src github.githubassets.com; style-src 'unsafe-inline' github.githubassets.com; worker-src github.com/assets-cdn/worker/ gist.github.com/assets-cdn/worker/\n",
            "Set-Cookie: _gh_sess=M%2FMkUCdlMP3OQ8iK7u50haJ%2BUSnTXXpn%2FZhi8fGBah77j%2FTUL3FrGmPil%2Fy2iGL1J7cvnc%2BW9Nb2V5SqtTa4vwWYg883TEvxLQFtokUkvbQnbkXZ1MN%2FmsiCueINorOQMZJl19T1SCr7%2BHGNZ%2FApkpcfRKZH85hhReCTDbQaMmuo%2FganDLPjzG7KUnWUYimPEYYIWpN6u8z0yfqtcHbZ4SReX3WRju22N5NuzOOBXCjoRFqakwPKSSnqB66pb5qDnaRggM8RGCTfK38LVArBZA%3D%3D--c3oxPjfmCr41dHtE--fd9TmQtioVSsMrr35zS88g%3D%3D; Path=/; HttpOnly; Secure; SameSite=Lax\n",
            "Set-Cookie: _octo=GH1.1.911990286.1638522132; Path=/; Domain=github.com; Expires=Sat, 03 Dec 2022 09:02:12 GMT; Secure; SameSite=Lax\n",
            "Set-Cookie: logged_in=no; Path=/; Domain=github.com; Expires=Sat, 03 Dec 2022 09:02:12 GMT; HttpOnly; Secure; SameSite=Lax\n",
            "Accept-Ranges: bytes\n",
            "Transfer-Encoding: chunked\n",
            "X-GitHub-Request-Id: C402:6740:4A7EFA:7B47C1:61A9DD14\n",
            "connection: close\n",
            "\n",
            "\n",
            "查看头部信息2(http header)：\n",
            " [('Server', 'GitHub.com'), ('Date', 'Fri, 03 Dec 2021 09:02:13 GMT'), ('Content-Type', 'text/html; charset=utf-8'), ('Vary', 'X-Requested-With, X-PJAX-Container, Accept-Encoding, Accept, X-Requested-With'), ('permissions-policy', 'interest-cohort=()'), ('ETag', 'W/\"c9bc275b39eb9a423b487c16bb1151cd\"'), ('Cache-Control', 'max-age=0, private, must-revalidate'), ('Strict-Transport-Security', 'max-age=31536000; includeSubdomains; preload'), ('X-Frame-Options', 'deny'), ('X-Content-Type-Options', 'nosniff'), ('X-XSS-Protection', '0'), ('Referrer-Policy', 'origin-when-cross-origin, strict-origin-when-cross-origin'), ('Expect-CT', 'max-age=2592000, report-uri=\"https://api.github.com/_private/browser/errors\"'), ('Content-Security-Policy', \"default-src 'none'; base-uri 'self'; block-all-mixed-content; child-src github.com/assets-cdn/worker/ gist.github.com/assets-cdn/worker/; connect-src 'self' uploads.github.com objects-origin.githubusercontent.com www.githubstatus.com collector.githubapp.com api.github.com github-cloud.s3.amazonaws.com github-production-repository-file-5c1aeb.s3.amazonaws.com github-production-upload-manifest-file-7fdce7.s3.amazonaws.com github-production-user-asset-6210df.s3.amazonaws.com cdn.optimizely.com logx.optimizely.com/v1/events translator.github.com wss://alive.github.com; font-src github.githubassets.com; form-action 'self' github.com gist.github.com objects-origin.githubusercontent.com; frame-ancestors 'none'; frame-src render.githubusercontent.com viewscreen.githubusercontent.com notebooks.githubusercontent.com; img-src 'self' data: github.githubassets.com identicons.github.com collector.githubapp.com github-cloud.s3.amazonaws.com secured-user-images.githubusercontent.com/ *.githubusercontent.com; manifest-src 'self'; media-src github.com user-images.githubusercontent.com/; script-src github.githubassets.com; style-src 'unsafe-inline' github.githubassets.com; worker-src github.com/assets-cdn/worker/ gist.github.com/assets-cdn/worker/\"), ('Set-Cookie', '_gh_sess=M%2FMkUCdlMP3OQ8iK7u50haJ%2BUSnTXXpn%2FZhi8fGBah77j%2FTUL3FrGmPil%2Fy2iGL1J7cvnc%2BW9Nb2V5SqtTa4vwWYg883TEvxLQFtokUkvbQnbkXZ1MN%2FmsiCueINorOQMZJl19T1SCr7%2BHGNZ%2FApkpcfRKZH85hhReCTDbQaMmuo%2FganDLPjzG7KUnWUYimPEYYIWpN6u8z0yfqtcHbZ4SReX3WRju22N5NuzOOBXCjoRFqakwPKSSnqB66pb5qDnaRggM8RGCTfK38LVArBZA%3D%3D--c3oxPjfmCr41dHtE--fd9TmQtioVSsMrr35zS88g%3D%3D; Path=/; HttpOnly; Secure; SameSite=Lax'), ('Set-Cookie', '_octo=GH1.1.911990286.1638522132; Path=/; Domain=github.com; Expires=Sat, 03 Dec 2022 09:02:12 GMT; Secure; SameSite=Lax'), ('Set-Cookie', 'logged_in=no; Path=/; Domain=github.com; Expires=Sat, 03 Dec 2022 09:02:12 GMT; HttpOnly; Secure; SameSite=Lax'), ('Accept-Ranges', 'bytes'), ('Transfer-Encoding', 'chunked'), ('X-GitHub-Request-Id', 'C402:6740:4A7EFA:7B47C1:61A9DD14'), ('connection', 'close')]\n"
          ]
        }
      ]
    },
    {
      "cell_type": "code",
      "metadata": {
        "colab": {
          "base_uri": "https://localhost:8080/"
        },
        "id": "oZF4qfXziAec",
        "outputId": "cd69390a-9f82-4d37-b6b5-b90d5bc21156"
      },
      "source": [
        "print(\"输出头部属性信息：\",response.getheader(\"Server\"))\n",
        "print(\"查看响应状态信息1(http status)：\\n\",response.status)\n",
        "print(\"查看响应状态信息2(http status)：\\n\",response.getcode())\n"
      ],
      "execution_count": null,
      "outputs": [
        {
          "output_type": "stream",
          "name": "stdout",
          "text": [
            "输出头部属性信息： GitHub.com\n",
            "查看响应状态信息1(http status)：\n",
            " 200\n",
            "查看响应状态信息2(http status)：\n",
            " 200\n"
          ]
        }
      ]
    },
    {
      "cell_type": "code",
      "metadata": {
        "colab": {
          "base_uri": "https://localhost:8080/"
        },
        "id": "Na7lRwdOiMUs",
        "outputId": "09c7007c-3e0f-4dba-886e-b1bc7b9856b5"
      },
      "source": [
        "print(\"查看响应 url 地址：\\n\",response.geturl())"
      ],
      "execution_count": null,
      "outputs": [
        {
          "output_type": "stream",
          "name": "stdout",
          "text": [
            "查看响应 url 地址：\n",
            " https://github.com/marongkang/\n"
          ]
        }
      ]
    },
    {
      "cell_type": "code",
      "metadata": {
        "colab": {
          "base_uri": "https://localhost:8080/"
        },
        "id": "gONITpFeiRVM",
        "outputId": "278651d3-2466-4517-de27-a0b8a538d8d3"
      },
      "source": [
        "page = response.read()\n",
        "#输出格式utf-8\n",
        "print(type(response))\n",
        "print(type(page))\n",
        "#print(\"输出网页源码:\",page.decode('utf-8'))"
      ],
      "execution_count": null,
      "outputs": [
        {
          "output_type": "stream",
          "name": "stdout",
          "text": [
            "<class 'http.client.HTTPResponse'>\n",
            "<class 'bytes'>\n"
          ]
        }
      ]
    },
    {
      "cell_type": "code",
      "metadata": {
        "colab": {
          "base_uri": "https://localhost:8080/"
        },
        "id": "JwHBv1t9iTAT",
        "outputId": "ba5c1647-71b0-47b5-a434-4ef49f031525"
      },
      "source": [
        "#titanc.csv\n",
        "url2=\"https://raw.githubusercontent.com/datasciencedojo/datasets/master/titanic.csv\"\n",
        "print(type(response))\n",
        "response2=urllib.request.urlopen(url2);\n",
        "page2=response2.read()\n",
        "print(page.decode('utf-8'))\n"
      ],
      "execution_count": null,
      "outputs": [
        {
          "output_type": "stream",
          "name": "stdout",
          "text": [
            "<class 'http.client.HTTPResponse'>\n",
            "\n"
          ]
        }
      ]
    },
    {
      "cell_type": "code",
      "metadata": {
        "colab": {
          "base_uri": "https://localhost:8080/"
        },
        "id": "ow08aKG-kMwD",
        "outputId": "668d9b62-5e09-4593-ed6d-c01da110b294"
      },
      "source": [
        "\n",
        "#打开titanic.csv文件\n",
        "\n",
        "#Jupyter内可这样写，但是colab和pycharm会报错，建议用下面那种写法\n",
        "#with open('titanic.csv', 'wb') as f:\n",
        "#    f.write(html)\n",
        "\n",
        "f=open('titanic.csv', 'wb')\n",
        "f.write(page2)\n",
        "#查询文件\n",
        "!ls -1\n"
      ],
      "execution_count": null,
      "outputs": [
        {
          "output_type": "stream",
          "name": "stdout",
          "text": [
            "sample_data\n",
            "titanic.csv\n"
          ]
        }
      ]
    },
    {
      "cell_type": "code",
      "metadata": {
        "colab": {
          "base_uri": "https://localhost:8080/",
          "height": 258
        },
        "id": "3vb5Gq6ylDPc",
        "outputId": "4eff9014-2a6f-49a8-a884-a4f6c1c04cc4"
      },
      "source": [
        "import pandas as pd\n",
        "\n",
        "#dataframe数据帧，pandas用于存储数据的对象\n",
        "dataframe=pd.read_csv('titanic.csv')\n",
        "\n",
        "#获取前n行,默认n=5\n",
        "dataframe.head()\n",
        "#dataframe.head(n=10)"
      ],
      "execution_count": null,
      "outputs": [
        {
          "output_type": "execute_result",
          "data": {
            "text/html": [
              "<div>\n",
              "<style scoped>\n",
              "    .dataframe tbody tr th:only-of-type {\n",
              "        vertical-align: middle;\n",
              "    }\n",
              "\n",
              "    .dataframe tbody tr th {\n",
              "        vertical-align: top;\n",
              "    }\n",
              "\n",
              "    .dataframe thead th {\n",
              "        text-align: right;\n",
              "    }\n",
              "</style>\n",
              "<table border=\"1\" class=\"dataframe\">\n",
              "  <thead>\n",
              "    <tr style=\"text-align: right;\">\n",
              "      <th></th>\n",
              "      <th>PassengerId</th>\n",
              "      <th>Survived</th>\n",
              "      <th>Pclass</th>\n",
              "      <th>Name</th>\n",
              "      <th>Sex</th>\n",
              "      <th>Age</th>\n",
              "      <th>SibSp</th>\n",
              "      <th>Parch</th>\n",
              "      <th>Ticket</th>\n",
              "      <th>Fare</th>\n",
              "      <th>Cabin</th>\n",
              "      <th>Embarked</th>\n",
              "    </tr>\n",
              "  </thead>\n",
              "  <tbody>\n",
              "    <tr>\n",
              "      <th>0</th>\n",
              "      <td>1</td>\n",
              "      <td>0</td>\n",
              "      <td>3</td>\n",
              "      <td>Braund, Mr. Owen Harris</td>\n",
              "      <td>male</td>\n",
              "      <td>22.0</td>\n",
              "      <td>1</td>\n",
              "      <td>0</td>\n",
              "      <td>A/5 21171</td>\n",
              "      <td>7.2500</td>\n",
              "      <td>NaN</td>\n",
              "      <td>S</td>\n",
              "    </tr>\n",
              "    <tr>\n",
              "      <th>1</th>\n",
              "      <td>2</td>\n",
              "      <td>1</td>\n",
              "      <td>1</td>\n",
              "      <td>Cumings, Mrs. John Bradley (Florence Briggs Th...</td>\n",
              "      <td>female</td>\n",
              "      <td>38.0</td>\n",
              "      <td>1</td>\n",
              "      <td>0</td>\n",
              "      <td>PC 17599</td>\n",
              "      <td>71.2833</td>\n",
              "      <td>C85</td>\n",
              "      <td>C</td>\n",
              "    </tr>\n",
              "    <tr>\n",
              "      <th>2</th>\n",
              "      <td>3</td>\n",
              "      <td>1</td>\n",
              "      <td>3</td>\n",
              "      <td>Heikkinen, Miss. Laina</td>\n",
              "      <td>female</td>\n",
              "      <td>26.0</td>\n",
              "      <td>0</td>\n",
              "      <td>0</td>\n",
              "      <td>STON/O2. 3101282</td>\n",
              "      <td>7.9250</td>\n",
              "      <td>NaN</td>\n",
              "      <td>S</td>\n",
              "    </tr>\n",
              "    <tr>\n",
              "      <th>3</th>\n",
              "      <td>4</td>\n",
              "      <td>1</td>\n",
              "      <td>1</td>\n",
              "      <td>Futrelle, Mrs. Jacques Heath (Lily May Peel)</td>\n",
              "      <td>female</td>\n",
              "      <td>35.0</td>\n",
              "      <td>1</td>\n",
              "      <td>0</td>\n",
              "      <td>113803</td>\n",
              "      <td>53.1000</td>\n",
              "      <td>C123</td>\n",
              "      <td>S</td>\n",
              "    </tr>\n",
              "    <tr>\n",
              "      <th>4</th>\n",
              "      <td>5</td>\n",
              "      <td>0</td>\n",
              "      <td>3</td>\n",
              "      <td>Allen, Mr. William Henry</td>\n",
              "      <td>male</td>\n",
              "      <td>35.0</td>\n",
              "      <td>0</td>\n",
              "      <td>0</td>\n",
              "      <td>373450</td>\n",
              "      <td>8.0500</td>\n",
              "      <td>NaN</td>\n",
              "      <td>S</td>\n",
              "    </tr>\n",
              "  </tbody>\n",
              "</table>\n",
              "</div>"
            ],
            "text/plain": [
              "   PassengerId  Survived  Pclass  ...     Fare Cabin  Embarked\n",
              "0            1         0       3  ...   7.2500   NaN         S\n",
              "1            2         1       1  ...  71.2833   C85         C\n",
              "2            3         1       3  ...   7.9250   NaN         S\n",
              "3            4         1       1  ...  53.1000  C123         S\n",
              "4            5         0       3  ...   8.0500   NaN         S\n",
              "\n",
              "[5 rows x 12 columns]"
            ]
          },
          "metadata": {},
          "execution_count": 26
        }
      ]
    },
    {
      "cell_type": "code",
      "metadata": {
        "id": "5oIbLjn6nwEy",
        "colab": {
          "base_uri": "https://localhost:8080/",
          "height": 70
        },
        "outputId": "4ead48e7-dab4-4b89-d3a5-8ad86e69a5f6"
      },
      "source": [
        "'''\n",
        "pclass: class of travel\n",
        "name: full name of the passenger\n",
        "sex: gender\n",
        "age: numerical age\n",
        "sibsp: # of siblings/spouse aboard\n",
        "parch: number of parents/child aboard\n",
        "ticket: ticket number\n",
        "fare: cost of the ticket\n",
        "cabin: location of room\n",
        "emarked: port that the passenger embarked at (C - Cherbourg, S - Southampton, Q = Queenstown)\n",
        "survived: survial metric (0 - died, 1 - survived)\n",
        "'''"
      ],
      "execution_count": null,
      "outputs": [
        {
          "output_type": "execute_result",
          "data": {
            "application/vnd.google.colaboratory.intrinsic+json": {
              "type": "string"
            },
            "text/plain": [
              "'\\npclass: class of travel\\nname: full name of the passenger\\nsex: gender\\nage: numerical age\\nsibsp: # of siblings/spouse aboard\\nparch: number of parents/child aboard\\nticket: ticket number\\nfare: cost of the ticket\\ncabin: location of room\\nemarked: port that the passenger embarked at (C - Cherbourg, S - Southampton, Q = Queenstown)\\nsurvived: survial metric (0 - died, 1 - survived)\\n'"
            ]
          },
          "metadata": {},
          "execution_count": 27
        }
      ]
    },
    {
      "cell_type": "code",
      "metadata": {
        "colab": {
          "base_uri": "https://localhost:8080/",
          "height": 300
        },
        "id": "uWWLNrqV09Zp",
        "outputId": "987dac43-a96b-447a-828d-cc4ae09a4671"
      },
      "source": [
        "dataframe.describe()"
      ],
      "execution_count": null,
      "outputs": [
        {
          "output_type": "execute_result",
          "data": {
            "text/html": [
              "<div>\n",
              "<style scoped>\n",
              "    .dataframe tbody tr th:only-of-type {\n",
              "        vertical-align: middle;\n",
              "    }\n",
              "\n",
              "    .dataframe tbody tr th {\n",
              "        vertical-align: top;\n",
              "    }\n",
              "\n",
              "    .dataframe thead th {\n",
              "        text-align: right;\n",
              "    }\n",
              "</style>\n",
              "<table border=\"1\" class=\"dataframe\">\n",
              "  <thead>\n",
              "    <tr style=\"text-align: right;\">\n",
              "      <th></th>\n",
              "      <th>PassengerId</th>\n",
              "      <th>Survived</th>\n",
              "      <th>Pclass</th>\n",
              "      <th>Age</th>\n",
              "      <th>SibSp</th>\n",
              "      <th>Parch</th>\n",
              "      <th>Fare</th>\n",
              "    </tr>\n",
              "  </thead>\n",
              "  <tbody>\n",
              "    <tr>\n",
              "      <th>count</th>\n",
              "      <td>891.000000</td>\n",
              "      <td>891.000000</td>\n",
              "      <td>891.000000</td>\n",
              "      <td>714.000000</td>\n",
              "      <td>891.000000</td>\n",
              "      <td>891.000000</td>\n",
              "      <td>891.000000</td>\n",
              "    </tr>\n",
              "    <tr>\n",
              "      <th>mean</th>\n",
              "      <td>446.000000</td>\n",
              "      <td>0.383838</td>\n",
              "      <td>2.308642</td>\n",
              "      <td>29.699118</td>\n",
              "      <td>0.523008</td>\n",
              "      <td>0.381594</td>\n",
              "      <td>32.204208</td>\n",
              "    </tr>\n",
              "    <tr>\n",
              "      <th>std</th>\n",
              "      <td>257.353842</td>\n",
              "      <td>0.486592</td>\n",
              "      <td>0.836071</td>\n",
              "      <td>14.526497</td>\n",
              "      <td>1.102743</td>\n",
              "      <td>0.806057</td>\n",
              "      <td>49.693429</td>\n",
              "    </tr>\n",
              "    <tr>\n",
              "      <th>min</th>\n",
              "      <td>1.000000</td>\n",
              "      <td>0.000000</td>\n",
              "      <td>1.000000</td>\n",
              "      <td>0.420000</td>\n",
              "      <td>0.000000</td>\n",
              "      <td>0.000000</td>\n",
              "      <td>0.000000</td>\n",
              "    </tr>\n",
              "    <tr>\n",
              "      <th>25%</th>\n",
              "      <td>223.500000</td>\n",
              "      <td>0.000000</td>\n",
              "      <td>2.000000</td>\n",
              "      <td>20.125000</td>\n",
              "      <td>0.000000</td>\n",
              "      <td>0.000000</td>\n",
              "      <td>7.910400</td>\n",
              "    </tr>\n",
              "    <tr>\n",
              "      <th>50%</th>\n",
              "      <td>446.000000</td>\n",
              "      <td>0.000000</td>\n",
              "      <td>3.000000</td>\n",
              "      <td>28.000000</td>\n",
              "      <td>0.000000</td>\n",
              "      <td>0.000000</td>\n",
              "      <td>14.454200</td>\n",
              "    </tr>\n",
              "    <tr>\n",
              "      <th>75%</th>\n",
              "      <td>668.500000</td>\n",
              "      <td>1.000000</td>\n",
              "      <td>3.000000</td>\n",
              "      <td>38.000000</td>\n",
              "      <td>1.000000</td>\n",
              "      <td>0.000000</td>\n",
              "      <td>31.000000</td>\n",
              "    </tr>\n",
              "    <tr>\n",
              "      <th>max</th>\n",
              "      <td>891.000000</td>\n",
              "      <td>1.000000</td>\n",
              "      <td>3.000000</td>\n",
              "      <td>80.000000</td>\n",
              "      <td>8.000000</td>\n",
              "      <td>6.000000</td>\n",
              "      <td>512.329200</td>\n",
              "    </tr>\n",
              "  </tbody>\n",
              "</table>\n",
              "</div>"
            ],
            "text/plain": [
              "       PassengerId    Survived      Pclass  ...       SibSp       Parch        Fare\n",
              "count   891.000000  891.000000  891.000000  ...  891.000000  891.000000  891.000000\n",
              "mean    446.000000    0.383838    2.308642  ...    0.523008    0.381594   32.204208\n",
              "std     257.353842    0.486592    0.836071  ...    1.102743    0.806057   49.693429\n",
              "min       1.000000    0.000000    1.000000  ...    0.000000    0.000000    0.000000\n",
              "25%     223.500000    0.000000    2.000000  ...    0.000000    0.000000    7.910400\n",
              "50%     446.000000    0.000000    3.000000  ...    0.000000    0.000000   14.454200\n",
              "75%     668.500000    1.000000    3.000000  ...    1.000000    0.000000   31.000000\n",
              "max     891.000000    1.000000    3.000000  ...    8.000000    6.000000  512.329200\n",
              "\n",
              "[8 rows x 7 columns]"
            ]
          },
          "metadata": {},
          "execution_count": 28
        }
      ]
    },
    {
      "cell_type": "code",
      "metadata": {
        "id": "FZRVZPwh1G5G"
      },
      "source": [
        ""
      ],
      "execution_count": null,
      "outputs": []
    }
  ]
}