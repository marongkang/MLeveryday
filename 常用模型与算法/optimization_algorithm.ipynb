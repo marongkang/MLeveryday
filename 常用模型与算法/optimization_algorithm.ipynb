{
  "nbformat": 4,
  "nbformat_minor": 0,
  "metadata": {
    "colab": {
      "name": "optimization algorithm.ipynb",
      "provenance": [],
      "collapsed_sections": [],
      "authorship_tag": "ABX9TyOTUQrdfv9KeQayUYi4bRKM",
      "include_colab_link": true
    },
    "kernelspec": {
      "name": "python3",
      "display_name": "Python 3"
    },
    "language_info": {
      "name": "python"
    }
  },
  "cells": [
    {
      "cell_type": "markdown",
      "metadata": {
        "id": "view-in-github",
        "colab_type": "text"
      },
      "source": [
        "<a href=\"https://colab.research.google.com/github/marongkang/MLeveryday/blob/main/optimization_algorithm.ipynb\" target=\"_parent\"><img src=\"https://colab.research.google.com/assets/colab-badge.svg\" alt=\"Open In Colab\"/></a>"
      ]
    },
    {
      "cell_type": "code",
      "execution_count": null,
      "metadata": {
        "id": "3SNAJwZsHuiy"
      },
      "outputs": [],
      "source": [
        ""
      ]
    },
    {
      "cell_type": "markdown",
      "source": [
        "#Mini-batch gradient descent"
      ],
      "metadata": {
        "id": "YyfvI3-iH-L7"
      }
    },
    {
      "cell_type": "markdown",
      "source": [
        "$θ_{t+1}=θ_t-αdθ$"
      ],
      "metadata": {
        "id": "USwTHBjBINAv"
      }
    },
    {
      "cell_type": "markdown",
      "source": [
        "#Momentum"
      ],
      "metadata": {
        "id": "MdX24-i2Ld14"
      }
    },
    {
      "cell_type": "markdown",
      "source": [
        "$v_{dW}=βv_{dW}+(1-β)dW$  \n",
        "$v_{db}=βv_{db}+(1-β)db$  \n",
        "$W=W-αv_{dw},b=b-αv_{db}$  \n",
        "where:  \n",
        "*  α: learning rate"
      ],
      "metadata": {
        "id": "icmtmJ5wLlPb"
      }
    },
    {
      "cell_type": "markdown",
      "source": [
        "#Adam"
      ],
      "metadata": {
        "id": "08YDX1VvNNJp"
      }
    },
    {
      "cell_type": "markdown",
      "source": [
        "**cross entropy**  \n",
        "$$ L=\\frac{1}{N}∑L_i=-\\frac{1}{N}\\sum_{i}\\sum_{c=1}^{M}y_{ic}log(p_{ic}) $$\n",
        "where:\n",
        "* $M:类别数量$\n",
        "* $y_{ic}:符号函数,如果样本i的真实值等于类别c取1,否则取0$\n",
        "* $p_{ic}:样本i属于类别c的概率$  \n"
      ],
      "metadata": {
        "id": "sPwu9OvzNio_"
      }
    },
    {
      "cell_type": "markdown",
      "source": [
        "**adam optimizer**"
      ],
      "metadata": {
        "id": "8euSMMg3SbGT"
      }
    },
    {
      "cell_type": "markdown",
      "source": [
        "$g_t=\\frac{\\partial L}{\\partial W}$  \n",
        "$V_{dW}=\\beta_1 V_{dW}+(1-\\beta_1)dW$  \n",
        "$S_{dW}=\\beta_2 S_{dW}+(1-\\beta_2)dW^2$  \n",
        "$V_{dW}^{corrected}=\\frac{V_{dW}}{1-\\beta_1^t}$  \n",
        "$S_{dW}^{corrected}=\\frac{S_{dW}}{1-\\beta_2^t}$\n",
        "\n",
        "$W=W-α\\frac{V_{dW}^{corrected}}{\\sqrt{S_{dW}^{corrected}}+ϵ}$"
      ],
      "metadata": {
        "id": "sbZmcLpTPVwS"
      }
    },
    {
      "cell_type": "markdown",
      "source": [
        "#激活函数ReLu\n",
        "\n",
        "$f(x)=max(0,x)$"
      ],
      "metadata": {
        "id": "dLo-S7wY5mUd"
      }
    },
    {
      "cell_type": "code",
      "source": [
        ""
      ],
      "metadata": {
        "id": "3KnlRjR7LkoO"
      },
      "execution_count": null,
      "outputs": []
    }
  ]
}