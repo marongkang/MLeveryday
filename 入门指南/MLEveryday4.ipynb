{
  "nbformat": 4,
  "nbformat_minor": 0,
  "metadata": {
    "colab": {
      "name": "MLEveryday4.ipynb",
      "provenance": [],
      "collapsed_sections": [],
      "authorship_tag": "ABX9TyOUfBRyc5fDUCh7i3Y5DffS",
      "include_colab_link": true
    },
    "kernelspec": {
      "name": "python3",
      "display_name": "Python 3"
    },
    "language_info": {
      "name": "python"
    }
  },
  "cells": [
    {
      "cell_type": "markdown",
      "metadata": {
        "id": "view-in-github",
        "colab_type": "text"
      },
      "source": [
        "<a href=\"https://colab.research.google.com/github/marongkang/MLeveryday/blob/main/MLEveryday4.ipynb\" target=\"_parent\"><img src=\"https://colab.research.google.com/assets/colab-badge.svg\" alt=\"Open In Colab\"/></a>"
      ]
    },
    {
      "cell_type": "markdown",
      "metadata": {
        "id": "pKZ8WHy5-QZs"
      },
      "source": [
        "**ML** **day4** \n",
        ">今天的目标是 Pandas"
      ]
    },
    {
      "cell_type": "code",
      "metadata": {
        "colab": {
          "base_uri": "https://localhost:8080/"
        },
        "id": "m7qfazKlytGw",
        "outputId": "1d8ea120-d5c9-4719-e583-23829176ef0b"
      },
      "source": [
        "import numpy as np\n",
        "\n",
        "np.random.seed(seed=1234)\n",
        "\n",
        "# 标量（scalars）\n",
        "x = np.array(6)\n",
        "print (\"x: \",x)        #输出x\n",
        "print(\"x ndim: \",x.ndim)    #x的维度\n",
        "print(\"x shape:\",x.shape)    #表示数组形状（shape）的元组，表示各维度大小的元组\n",
        "print(\"x size: \",x.size)    #表示数组总元素数量\n",
        "print (\"x dtype: \",x.dtype)  #表示数组内元素的数据类型\n",
        "\n",
        "# 一维数组(array) \n",
        "x = np.array([1,2,3,4,5])\n",
        "print(\"x :\",x)\n",
        "print(\"x ndim\",x.ndim)\n",
        "print(\"x shape:\",x.shape)\n",
        "print(\"x size:\" ,x.size)\n",
        "print(\"x dtype:\",x.dtype)\n",
        "\n",
        "# 二维数组\n",
        "\n",
        "x = np.array([[1,2,3],[4,5,6],[7,8,9]]) \n",
        "print(\"x :\",x)\n",
        "print(\"x ndim\",x.ndim)\n",
        "print(\"x shape:\",x.shape)\n",
        "print(\"x size:\" ,x.size)\n",
        "print(\"x dtype:\",x.dtype)\n",
        "\n",
        "# 三维数组(矩阵Matrix)\n",
        "x = np.array([[[1,2,3],[4,5,6],[7,8,9]],[[1,2,3],[4,5,6],[7,8,9]]])\n",
        "print(\"x :\",x)\n",
        "print(\"x ndim\",x.ndim)\n",
        "print(\"x shape:\",x.shape)\n",
        "print(\"x size:\" ,x.size)\n",
        "print(\"x dtype:\",x.dtype)\n",
        "\n",
        "#！！！！当n维数组内的元素无法完全填充数组时，会自动转变为list类型\n"
      ],
      "execution_count": null,
      "outputs": [
        {
          "output_type": "stream",
          "name": "stdout",
          "text": [
            "x:  6\n",
            "x ndim:  0\n",
            "x shape: ()\n",
            "x size:  1\n",
            "x dtype:  int64\n",
            "x : [1 2 3 4 5]\n",
            "x ndim 1\n",
            "x shape: (5,)\n",
            "x size: 5\n",
            "x dtype: int64\n",
            "x : [[1 2 3]\n",
            " [4 5 6]\n",
            " [7 8 9]]\n",
            "x ndim 2\n",
            "x shape: (3, 3)\n",
            "x size: 9\n",
            "x dtype: int64\n",
            "x : [[[1 2 3]\n",
            "  [4 5 6]\n",
            "  [7 8 9]]\n",
            "\n",
            " [[1 2 3]\n",
            "  [4 5 6]\n",
            "  [7 8 9]]]\n",
            "x ndim 3\n",
            "x shape: (2, 3, 3)\n",
            "x size: 18\n",
            "x dtype: int64\n"
          ]
        }
      ]
    },
    {
      "cell_type": "markdown",
      "metadata": {
        "id": "9xpkjerbBKZQ"
      },
      "source": [
        "常用函数"
      ]
    },
    {
      "cell_type": "code",
      "metadata": {
        "colab": {
          "base_uri": "https://localhost:8080/"
        },
        "id": "wco967IKBMQW",
        "outputId": "e1b6b904-52eb-45ec-8cff-90c6ee1abb00"
      },
      "source": [
        "###########################函数######################\n",
        "#np.zeros(shape, dtype=float, order='C') \n",
        "#返回形状为shape ，数据类型为dtype的由0填充的数组\n",
        "#order:可选参数，C代表与c语言类似，行优先；F代表列优先\n",
        "print(\"zeros: \",np.zeros((2,3,4), dtype=int))\n",
        "\n",
        "\n",
        "#np.ones()\n",
        "#用法同上，由 1 填充\n",
        "print(\"ones: \",np.ones((2,3,4), dtype=int))\n",
        "\n",
        "#np.eye(N,M=None, k=0, dtype=<type 'float'>)\n",
        "#生成对角矩阵，N：行数，M:列数（默认等于N)\n",
        "#k:对角线的下标，默认为0表示的是主对角线，负数表示的是低对角，正数表示的是高对角。\n",
        "print(\"eye: \",np.eye(3,k=0))\n",
        "\n",
        "#np.random.random(size=None) 随机获取[0，1.0)的浮点数\n",
        "np.random.seed(seed=2)\n",
        "print(\"random\",np.random.random((2,2)))\n",
        "#不改变seed的情况下，每次运行结果都是一样的\n",
        "\n",
        "\n"
      ],
      "execution_count": null,
      "outputs": [
        {
          "output_type": "stream",
          "name": "stdout",
          "text": [
            "zeros:  [[[0 0 0 0]\n",
            "  [0 0 0 0]\n",
            "  [0 0 0 0]]\n",
            "\n",
            " [[0 0 0 0]\n",
            "  [0 0 0 0]\n",
            "  [0 0 0 0]]]\n",
            "ones:  [[[1 1 1 1]\n",
            "  [1 1 1 1]\n",
            "  [1 1 1 1]]\n",
            "\n",
            " [[1 1 1 1]\n",
            "  [1 1 1 1]\n",
            "  [1 1 1 1]]]\n",
            "eye:  [[1. 0. 0.]\n",
            " [0. 1. 0.]\n",
            " [0. 0. 1.]]\n",
            "random [[0.4359949  0.02592623]\n",
            " [0.54966248 0.43532239]]\n"
          ]
        }
      ]
    },
    {
      "cell_type": "markdown",
      "metadata": {
        "id": "Kta8GHUkIXoU"
      },
      "source": [
        "索引(index)"
      ]
    },
    {
      "cell_type": "code",
      "metadata": {
        "colab": {
          "base_uri": "https://localhost:8080/"
        },
        "id": "61ZUP07rIcTM",
        "outputId": "f6551e88-2ba5-4a67-fc08-8eb66041d08b"
      },
      "source": [
        "#跟list的操作差不多\n",
        "x=np.array([1,2,3])\n",
        "print(x[0],x[1],x[2])\n",
        "\n",
        "\n",
        "#切片\n",
        "x=np.array([[1,2,3],[4,5,6]])\n",
        "print(x[:,:])\n",
        "print(x[:,1:2])\n",
        "print(x[0:1,:])\n",
        "\n",
        "#使用数组进行索引\n",
        "rows=np.array([1,0])\n",
        "cols=np.array([0,1])\n",
        "#x[1,0],x[0,1]\n",
        "print(x[rows,cols])\n",
        "\n",
        "#使用bool数组\n",
        "x=np.array([[1,2,3],[4,5,6],[7,8,9]])\n",
        "print(x)\n",
        "print(x>5)\n",
        "\n",
        "#x[x>5]返回值为array,不保留矩阵结构\n",
        "print(x[x>5])\n"
      ],
      "execution_count": null,
      "outputs": [
        {
          "output_type": "stream",
          "name": "stdout",
          "text": [
            "1 2 3\n",
            "[[1 2 3]\n",
            " [4 5 6]]\n",
            "[[2]\n",
            " [5]]\n",
            "[[1 2 3]]\n",
            "[4 2]\n",
            "[[1 2 3]\n",
            " [4 5 6]\n",
            " [7 8 9]]\n",
            "[[False False False]\n",
            " [False False  True]\n",
            " [ True  True  True]]\n",
            "[6 7 8 9]\n"
          ]
        }
      ]
    },
    {
      "cell_type": "markdown",
      "metadata": {
        "id": "zsyO6zABJXSA"
      },
      "source": [
        "矩阵运算"
      ]
    },
    {
      "cell_type": "code",
      "metadata": {
        "colab": {
          "base_uri": "https://localhost:8080/"
        },
        "id": "pRN5ldQ-JZx3",
        "outputId": "bd3ef13a-bf41-44f3-c4e8-a67b5aff7320"
      },
      "source": [
        "x=np.array([[1,2],[3,4]])\n",
        "y=np.array([[1,2],[3,4]])\n",
        "\n",
        "#+-*/\n",
        "#每个元素独立依次计算（与线性代数的矩阵运算并不相同）\n",
        "print(x+y)\n",
        "print(x-y)\n",
        "print(x*y)\n",
        "print(x/y)\n",
        "\n",
        "#dot 点积\n",
        "\n",
        "a=np.array([[1,2,3],[4,5,6]])\n",
        "b=np.array([[7,8],[9,10],[11,12]])\n",
        "print(a,b)\n",
        "#运算规则同线性代数\n",
        "#[1 2 3]    [7 8]    [1*7+2*9+3*11 1*8+2*10+3*12]  \n",
        "#      dot [9 10]   =\n",
        "#[4 5 6]    [11 12]]   [4*7+5*9+6*11 4*8+5*10+6*12]\n",
        "print(a.dot(b)) \n",
        "\n",
        "#跨纬度求和\n",
        "x=np.array([[1,2],[3,4]])\n",
        "\n",
        "#全加一起\n",
        "print(np.sum(x))\n",
        "#逐列求和\n",
        "print(np.sum(x,axis=0))\n",
        "#逐行求和\n",
        "print(np.sum(x,axis=1))\n",
        "\n",
        "\n",
        "#转置\n",
        "print(\"x:\",x)\n",
        "print(\"x.T:\",x.T)\n"
      ],
      "execution_count": null,
      "outputs": [
        {
          "output_type": "stream",
          "name": "stdout",
          "text": [
            "[[2 4]\n",
            " [6 8]]\n",
            "[[0 0]\n",
            " [0 0]]\n",
            "[[ 1  4]\n",
            " [ 9 16]]\n",
            "[[1. 1.]\n",
            " [1. 1.]]\n",
            "[[1 2 3]\n",
            " [4 5 6]] [[ 7  8]\n",
            " [ 9 10]\n",
            " [11 12]]\n",
            "[[ 58  64]\n",
            " [139 154]]\n",
            "10\n",
            "[4 6]\n",
            "[3 7]\n",
            "x: [[1 2]\n",
            " [3 4]]\n",
            "x.T: [[1 3]\n",
            " [2 4]]\n"
          ]
        }
      ]
    },
    {
      "cell_type": "code",
      "metadata": {
        "colab": {
          "base_uri": "https://localhost:8080/"
        },
        "id": "FRDGxYjwJ1Ep",
        "outputId": "90563cdd-862d-409d-f53b-1014a7850d2b"
      },
      "source": [
        "########数组进阶操作##########\n",
        "x=np.array([[1,2],[3,4]])\n",
        "y=np.array([5,6])\n",
        "\n",
        "#维度重复\n",
        "print(np.tile(y,2))\n",
        "print(np.tile(y,(2,1)))\n",
        "print(x+np.tile(y,(len(x),1)))\n",
        "\n",
        "#广播 (不同维度数组运算中进行的自动升维)\n",
        "\n",
        "print(x+y)\n",
        "\n",
        "#改变维度 reshape()\n",
        "x=np.array([[1,2],[3,4],[5,6]])\n",
        "print(x.shape)\n",
        "y=np.reshape(x,(2,3))\n",
        "print(y)\n",
        "print(y.shape)\n",
        "\n",
        "#删除维度 squeeze(a,axis)\n",
        "x=np.array([[[1,2,1]],[[2,2,3]]])\n",
        "z=np.squeeze(x,axis=1)\n",
        "print(z)\n",
        "\n",
        "#np.expand_dims()\n",
        "z=np.expand_dims(x,1)\n",
        "print(x)\n",
        "\n"
      ],
      "execution_count": null,
      "outputs": [
        {
          "output_type": "stream",
          "name": "stdout",
          "text": [
            "[5 6 5 6]\n",
            "[[5 6]\n",
            " [5 6]]\n",
            "[[ 6  8]\n",
            " [ 8 10]]\n",
            "[[ 6  8]\n",
            " [ 8 10]]\n",
            "(3, 2)\n",
            "[[1 2 3]\n",
            " [4 5 6]]\n",
            "(2, 3)\n",
            "[[1 2 1]\n",
            " [2 2 3]]\n",
            "[[[1 2 1]]\n",
            "\n",
            " [[2 2 3]]]\n"
          ]
        }
      ]
    },
    {
      "cell_type": "markdown",
      "metadata": {
        "id": "8Hc2bLFAP_H6"
      },
      "source": [
        "差不多够用了"
      ]
    },
    {
      "cell_type": "code",
      "metadata": {
        "id": "OBWN85SMQBnk"
      },
      "source": [
        ""
      ],
      "execution_count": null,
      "outputs": []
    }
  ]
}